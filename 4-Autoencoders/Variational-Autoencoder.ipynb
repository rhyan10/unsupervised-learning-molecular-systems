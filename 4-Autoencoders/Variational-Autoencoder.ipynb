{
 "cells": [
  {
   "cell_type": "markdown",
   "id": "66833e59",
   "metadata": {},
   "source": [
    "# Variational Autoencoder\n",
    "In this notebook, we demonstrate the use of a Variational Autoencoder (VAE) to model and analyze a dataset of small molecules. VAEs are a type of generative model that can learn a compressed representation of data and generate new samples that resemble the training data. This makes them particularly useful for working with molecules, where understanding the underlying distribution and generating new molecular structures can be valuable tasks in molecular design.\n",
    "\n",
    "We will use a dataset of ~7K small molecules [../data/small_mols.csv](../data/small_mols.csv) to train our variational autoencoder.\n",
    "\n",
    "To run this notebook, you will need to use a kernel with the following libraries installed:\n",
    "* RDKit\n",
    "* Pandas\n",
    "* ipykernel"
   ]
  },
  {
   "cell_type": "markdown",
   "id": "33d65d96",
   "metadata": {},
   "source": [
    "## Building a model\n",
    "We will begin by defining a new model class called `MolecularVAE`:"
   ]
  },
  {
   "cell_type": "code",
   "execution_count": 5,
   "id": "9302c2e7",
   "metadata": {},
   "outputs": [],
   "source": [
    "\n",
    "import torch\n",
    "import torch.nn as nn\n",
    "import torch.nn.functional as F\n",
    "import torch.utils.data\n",
    "\n",
    "class MolecularVAE(nn.Module):\n",
    "    def __init__(self):\n",
    "        super(MolecularVAE, self).__init__()\n",
    "\n",
    "        # Define the layers used in the encoder\n",
    "        self.conv_1 = nn.Conv1d(35, 20, kernel_size=5)\n",
    "        self.conv_2 = nn.Conv1d(20, 15, kernel_size=5)\n",
    "        self.conv_3 = nn.Conv1d(15, 9, kernel_size=5)\n",
    "        self.linear_0 = nn.Linear(81, 200)\n",
    "        self.linear_1 = nn.Linear(200, 200)\n",
    "        self.linear_2 = nn.Linear(200, 200)\n",
    "\n",
    "        # Define the layers used in the decoder\n",
    "        self.linear_3 = nn.Linear(200, 200)\n",
    "        self.gru = nn.GRU(200, 300, 3, batch_first=True)\n",
    "        self.linear_4 = nn.Linear(300, 21)\n",
    "\n",
    "        # Define activation functions\n",
    "        self.relu = nn.ReLU()\n",
    "        self.softmax = nn.Softmax()\n",
    "\n",
    "    # Encoder function\n",
    "    def encode(self, x):\n",
    "        x = self.relu(self.conv_1(x))\n",
    "        x = self.relu(self.conv_2(x))\n",
    "        x = self.relu(self.conv_3(x))\n",
    "        x = x.view(x.size(0), -1)\n",
    "        x = F.selu(self.linear_0(x))\n",
    "        return self.linear_1(x), self.linear_2(x)\n",
    "\n",
    "    # Decoder function\n",
    "    def decode(self, z):\n",
    "        z = F.selu(self.linear_3(z))\n",
    "        z = z.view(z.size(0), 1, z.size(-1)).repeat(1, 35, 1)\n",
    "        output, hn = self.gru(z)\n",
    "        out_reshape = output.contiguous().view(-1, output.size(-1))\n",
    "        y0 = F.softmax(self.linear_4(out_reshape), dim=1)\n",
    "        y = y0.contiguous().view(output.size(0), -1, y0.size(-1))\n",
    "        return y\n",
    "\n",
    "\t# Sampling function for the latent space\n",
    "    def sampling(self, z_mean, z_logvar):\n",
    "        epsilon = 1e-2 * torch.randn_like(z_logvar)\n",
    "        return torch.exp(0.5 * z_logvar) * epsilon + z_mean\n",
    "\n",
    "    # Forward pass of the model\n",
    "    def forward(self, x):\n",
    "        z_mean, z_logvar = self.encode(x)\n",
    "        z = self.sampling(z_mean, z_logvar)\n",
    "        return self.decode(z), z_mean, z_logvar"
   ]
  },
  {
   "cell_type": "markdown",
   "id": "50a031b0",
   "metadata": {},
   "source": [
    "We also need to define a function for encoding SMILES string as one-hot vectors, and a loss function. Here, we will use the binary cross-entropy (BCE) loss."
   ]
  },
  {
   "cell_type": "code",
   "execution_count": 6,
   "id": "3b0e75d2",
   "metadata": {},
   "outputs": [],
   "source": [
    "import numpy as np\n",
    "from tqdm import tqdm\n",
    "\n",
    "# Function to convert SMILES strings to one-hot encodings\n",
    "def smiles_to_hot(smiles, max_len, char_indices, nchars):\n",
    "    X = np.zeros((len(smiles), max_len, nchars), dtype=np.float32)\n",
    "    for i, smile in tqdm(enumerate(smiles)):\n",
    "        for t, char in enumerate(smile):\n",
    "            X[i, t, char_indices[char]] = 1\n",
    "    return X\n",
    "\n",
    "# Function to calculate the VAE loss using the BCE\n",
    "def vae_loss(x_decoded_mean, x, z_mean, z_logvar):\n",
    "    xent_loss = F.binary_cross_entropy(x_decoded_mean, x, size_average=False)\n",
    "    kl_loss = -0.5 * torch.sum(1 + z_logvar - z_mean.pow(2) - z_logvar.exp())\n",
    "    return xent_loss + kl_loss"
   ]
  },
  {
   "cell_type": "markdown",
   "id": "cc4b55de",
   "metadata": {},
   "source": [
    "## Preparing the data"
   ]
  },
  {
   "cell_type": "code",
   "execution_count": 3,
   "id": "6c2d3804",
   "metadata": {},
   "outputs": [
    {
     "name": "stderr",
     "output_type": "stream",
     "text": [
      "7165it [00:00, 349887.51it/s]"
     ]
    },
    {
     "name": "stdout",
     "output_type": "stream",
     "text": [
      "(7165, 35, 21)\n"
     ]
    },
    {
     "name": "stderr",
     "output_type": "stream",
     "text": [
      "\n"
     ]
    }
   ],
   "source": [
    "# Preprocess the SMILES strings\n",
    "all_chars = []\n",
    "max_len = 35\n",
    "\n",
    "file_path = '../data/smiles.txt'\n",
    "smiles_strings = []\n",
    "with open(file_path, \"r\") as file:\n",
    "    smiles_strings = file.readlines()\n",
    "\n",
    "for smi in smiles_strings:\n",
    "    characters = [char for char in smi[:-2]]\n",
    "    all_chars.append(characters)\n",
    "\n",
    "# Define the character indices for one-hot encoding\n",
    "char_indices = {'S':0, '2':1, 'O':2, '[':3, 'o':4, '\\\\':5, 'c':6, '3':7, 'C':8, ')':9, 's':10, 'N':11, '(':12, 'H':13, ']':14, '#':15, 'n':16, '1':17, '@':18, '/':19, '=':20}\n",
    "\n",
    "# Convert SMILES strings to one-hot encodings\n",
    "one_hot_embeddings = smiles_to_hot(all_chars, max_len, char_indices, 21)\n",
    "print(one_hot_embeddings.shape)\n",
    "\n",
    "# Split the data into train and test datasets\n",
    "data_train = one_hot_embeddings[:6000]\n",
    "smiles_train = smiles_strings[:6000]\n",
    "data_train = torch.utils.data.TensorDataset(torch.from_numpy(data_train))\n",
    "\n",
    "data_test = one_hot_embeddings[6000:]\n",
    "smiles_test = smiles_strings[6000:]\n",
    "data_test = torch.utils.data.TensorDataset(torch.from_numpy(data_test))"
   ]
  },
  {
   "cell_type": "markdown",
   "id": "4354c7e3",
   "metadata": {},
   "source": [
    "## Training the model\n",
    "Below we will train the VAE for 50 training epochs using a batch size of 100 and learning rate of 0.0001.\n",
    "\n",
    "Depending on your computer, this may take a few minutes. If you don't want to wait that long, feel free to reduce the number of training epochs and continue with the analysis; the model may not be as good in that case, but you should still be able to get some insights."
   ]
  },
  {
   "cell_type": "code",
   "execution_count": 7,
   "id": "5adc8030",
   "metadata": {},
   "outputs": [
    {
     "name": "stderr",
     "output_type": "stream",
     "text": [
      "/Users/rocom/opt/anaconda3/envs/nb1-env/lib/python3.9/site-packages/torch/nn/_reduction.py:42: UserWarning: size_average and reduce args will be deprecated, please use reduction='sum' instead.\n",
      "  warnings.warn(warning.format(ret))\n"
     ]
    },
    {
     "name": "stdout",
     "output_type": "stream",
     "text": [
      "Epoch 0 Loss: 73.52417610677084\n",
      "Epoch 1 Loss: 69.67305729166667\n",
      "Epoch 2 Loss: 67.13365234375\n",
      "Epoch 3 Loss: 65.71477962239584\n",
      "Epoch 4 Loss: 64.79448209635417\n",
      "Epoch 5 Loss: 64.00362630208333\n",
      "Epoch 6 Loss: 63.51410188802083\n",
      "Epoch 7 Loss: 63.11148763020833\n",
      "Epoch 8 Loss: 62.684031575520834\n",
      "Epoch 9 Loss: 62.197065755208335\n",
      "Epoch 10 Loss: 61.27237630208333\n",
      "Epoch 11 Loss: 59.95968082682292\n",
      "Epoch 12 Loss: 58.99160026041667\n",
      "Epoch 13 Loss: 58.1693740234375\n",
      "Epoch 14 Loss: 57.522361002604164\n",
      "Epoch 15 Loss: 57.052863606770835\n",
      "Epoch 16 Loss: 56.64333251953125\n",
      "Epoch 17 Loss: 56.292075032552084\n",
      "Epoch 18 Loss: 56.05722444661458\n",
      "Epoch 19 Loss: 55.77220166015625\n",
      "Epoch 20 Loss: 55.64265641276042\n",
      "Epoch 21 Loss: 55.4227626953125\n",
      "Epoch 22 Loss: 55.10630240885417\n",
      "Epoch 23 Loss: 54.89291845703125\n",
      "Epoch 24 Loss: 54.7227607421875\n",
      "Epoch 25 Loss: 54.567845703125\n",
      "Epoch 26 Loss: 54.48531184895833\n",
      "Epoch 27 Loss: 54.30251106770833\n",
      "Epoch 28 Loss: 54.17639583333333\n",
      "Epoch 29 Loss: 54.120670247395836\n",
      "Epoch 30 Loss: 53.94974837239583\n",
      "Epoch 31 Loss: 53.80083430989583\n",
      "Epoch 32 Loss: 53.753651041666664\n",
      "Epoch 33 Loss: 53.64635563151042\n",
      "Epoch 34 Loss: 53.586982584635415\n",
      "Epoch 35 Loss: 53.456485514322914\n",
      "Epoch 36 Loss: 53.350818684895835\n",
      "Epoch 37 Loss: 53.288239095052084\n",
      "Epoch 38 Loss: 53.19108479817708\n",
      "Epoch 39 Loss: 53.1134169921875\n",
      "Epoch 40 Loss: 53.077355631510414\n",
      "Epoch 41 Loss: 53.00612630208333\n",
      "Epoch 42 Loss: 52.970556640625\n",
      "Epoch 43 Loss: 53.03400927734375\n",
      "Epoch 44 Loss: 52.771641438802085\n",
      "Epoch 45 Loss: 52.62936800130208\n",
      "Epoch 46 Loss: 52.625610514322915\n",
      "Epoch 47 Loss: 52.533129069010414\n",
      "Epoch 48 Loss: 52.49646842447917\n",
      "Epoch 49 Loss: 52.345603515625\n"
     ]
    }
   ],
   "source": [
    "import torch.optim as optim\n",
    "\n",
    "# Define training parameters\n",
    "batch_size = 250\n",
    "num_epochs = 50\n",
    "learning_rate = 0.0001\n",
    "\n",
    "# Create a dataloader for the train split\n",
    "train_loader = torch.utils.data.DataLoader(data_train, batch_size=batch_size, shuffle=True)\n",
    "\n",
    "# Create an instance of the MolecularVAE model\n",
    "model = MolecularVAE()\n",
    "\n",
    "# Define the optimizer\n",
    "optimizer = optim.Adam(model.parameters(), lr=learning_rate)\n",
    "\n",
    "# Training loop\n",
    "losses = []  # For storing the training loss per epoch\n",
    "for epoch in range(num_epochs):\n",
    "    model.train()\n",
    "    train_loss = 0\n",
    "\n",
    "    for batch_idx, data in enumerate(train_loader):\n",
    "        data = data[0]\n",
    "\n",
    "        optimizer.zero_grad()   # Zero the gradients at the start of each mini-batch\n",
    "\n",
    "        output, mean, logvar = model(data)\n",
    "        loss = vae_loss(output, data, mean, logvar)\n",
    "\n",
    "        loss.backward()\n",
    "        optimizer.step()\n",
    "        train_loss += loss.item()\n",
    "\n",
    "    # Store the loss after each epoch\n",
    "    losses.append(train_loss)\n",
    "\n",
    "    # Save the model after each epoch\n",
    "    file_path = \"VAEmodel.pth\"\n",
    "    torch.save(model.state_dict(), file_path)\n",
    "    print(f'Epoch {epoch} Loss: {train_loss / len(train_loader.dataset)}')\n"
   ]
  },
  {
   "cell_type": "markdown",
   "id": "a949ef01",
   "metadata": {},
   "source": [
    "## Analysis and best practices\n",
    "Let's begin by visualizing the loss curve:"
   ]
  },
  {
   "cell_type": "code",
   "execution_count": 8,
   "id": "9c65b290",
   "metadata": {},
   "outputs": [
    {
     "data": {
      "image/png": "[encoded data removed]",
      "text/plain": [
       "<Figure size 500x300 with 1 Axes>"
      ]
     },
     "metadata": {},
     "output_type": "display_data"
    }
   ],
   "source": [
    "import matplotlib.pyplot as plt\n",
    "\n",
    "fig = plt.figure(figsize=(5, 3))\n",
    "\n",
    "ax = fig.add_subplot(1, 1, 1)\n",
    "\n",
    "# Plot the loss as a function of the number of training epochs\n",
    "ax.plot(losses, lw=2)\n",
    "ax.set_xlabel('Epoch', size=10)\n",
    "ax.set_title('Training Loss', size=10)\n",
    "ax.set_yscale('log')\n",
    "ax.tick_params(axis='both', which='major', labelsize=10)\n",
    "\n",
    "plt.tight_layout()\n",
    "\n",
    "plt.show()"
   ]
  },
  {
   "cell_type": "markdown",
   "id": "5ab5836c",
   "metadata": {},
   "source": [
    "### SMILES reconstruction\n",
    "Next, let's see how well our model can reconstruct SMILES from the test set. \n",
    "\n",
    "First, we will compute the reconstruction loss. "
   ]
  },
  {
   "cell_type": "code",
   "execution_count": 10,
   "id": "b2bcf6be",
   "metadata": {},
   "outputs": [
    {
     "name": "stdout",
     "output_type": "stream",
     "text": [
      "Train loss after 50 training epochs: 52.345603515625\n",
      "Test loss after 50 training epochs: 60.41658815048283\n"
     ]
    }
   ],
   "source": [
    "# Create a dataloader for the test split\n",
    "test_loader = torch.utils.data.DataLoader(data_test, batch_size=batch_size, shuffle=True)\n",
    "\n",
    "# Calculate reconstruction loss on test data and compare to train data\n",
    "model.eval()\n",
    "test_loss = 0\n",
    "for batch_idx, data in enumerate(test_loader):\n",
    "    data = data[0]\n",
    "\n",
    "    output, mean, logvar = model(data)\n",
    "    loss = vae_loss(output, data, mean, logvar)\n",
    "\n",
    "    test_loss += loss.item()\n",
    "\n",
    "print(f'Train loss after {epoch + 1} training epochs: {train_loss / len(train_loader.dataset)}')\n",
    "print(f'Test loss after {epoch + 1} training epochs: {test_loss / len(test_loader.dataset)}')"
   ]
  },
  {
   "cell_type": "markdown",
   "id": "2f29695c",
   "metadata": {},
   "source": [
    "The model appears to be a little overfit, but that should not be a huge issue here.\n",
    "\n",
    "\n",
    "Now, we will define a function for going from the VAE output embeddings to SMILES, and look at a few SMILES from the training and test sets in detail to see how good the model is at reconstructing them."
   ]
  },
  {
   "cell_type": "code",
   "execution_count": 17,
   "id": "6f91430b",
   "metadata": {},
   "outputs": [
    {
     "name": "stdout",
     "output_type": "stream",
     "text": [
      "{0: 'S', 1: '2', 2: 'O', 3: '[', 4: 'o', 5: '\\\\', 6: 'c', 7: '3', 8: 'C', 9: ')', 10: 's', 11: 'N', 12: '(', 13: 'H', 14: ']', 15: '#', 16: 'n', 17: '1', 18: '@', 19: '/', 20: '='}\n"
     ]
    }
   ],
   "source": [
    "# Define a function to convert VAE output embeddings 'back' to SMILES strings\n",
    "def emb_to_smiles(embedding, indices_char):\n",
    "    smiles = []\n",
    "    for one_hot in tqdm(embedding):\n",
    "        smiles_chars = []\n",
    "        for vector in one_hot:\n",
    "            if int(torch.sum(vector)) == 0:\n",
    "                continue  # Skip padding\n",
    "            char_index = int(torch.argmax(vector))\n",
    "            char = indices_char[char_index]\n",
    "            smiles_chars.append(char)\n",
    "        smiles.append(''.join(smiles_chars).strip())\n",
    "        break\n",
    "    return smiles\n",
    "\n",
    "# Define the character indices for one-hot encoding\n",
    "indices_char = {v: k for k, v in char_indices.items()}\n",
    "print(indices_char)"
   ]
  },
  {
   "cell_type": "code",
   "execution_count": 28,
   "id": "5e958573",
   "metadata": {},
   "outputs": [
    {
     "name": "stderr",
     "output_type": "stream",
     "text": [
      "  0%|          | 0/3 [00:00<?, ?it/s]\n"
     ]
    },
    {
     "name": "stdout",
     "output_type": "stream",
     "text": [
      "Training set SMILES reconstruction:\n",
      "True: C\n",
      ", Reconstructed: CC[C@H]]CCCC@H]1CHH]]HHHHHHHH\n"
     ]
    },
    {
     "name": "stderr",
     "output_type": "stream",
     "text": [
      "  0%|          | 0/3 [00:00<?, ?it/s]"
     ]
    },
    {
     "name": "stdout",
     "output_type": "stream",
     "text": [
      "testing set SMILES reconstruction:\n",
      "True: O[C@H]1C=CNC1=O\n",
      ", Reconstructed: @]1CCCCC@CCC1111CCCC\n"
     ]
    },
    {
     "name": "stderr",
     "output_type": "stream",
     "text": [
      "\n"
     ]
    }
   ],
   "source": [
    "# Let's visualize the reconstructions for the first three training set and the\n",
    "# first three test set SMILES\n",
    "train_embeddings, _, _ = model(data_train[:3][0])\n",
    "test_embeddings, _, _ = model(data_test[:3][0])\n",
    "\n",
    "# Decode the one-hot encoded SMILES to see how they are deconstructed\n",
    "decoded_train_smiles = emb_to_smiles(train_embeddings, indices_char)\n",
    "print('Training set SMILES reconstruction:')\n",
    "for i, smiles in enumerate(decoded_train_smiles):\n",
    "\tprint(f'True: {smiles_train[i]}, Reconstructed: {smiles}')\n",
    "\n",
    "decoded_test_smiles = emb_to_smiles(test_embeddings, indices_char)\n",
    "print('testing set SMILES reconstruction:')\n",
    "for i, smiles in enumerate(decoded_test_smiles):\n",
    "\tprint(f'True: {smiles_test[i]}, Reconstructed: {smiles}')"
   ]
  },
  {
   "cell_type": "markdown",
   "id": "4e5418d0",
   "metadata": {},
   "source": [
    "### Latent space interpolation\n",
    "We can also explore the latent space around a particular molecule.\n",
    "\n",
    "Let's start by visualizing the latent space using PCA, as in the [Dimensionality Reduction](../2-Dimensionality-Reduction/Dimensionality-Reduction.ipynb) notebook."
   ]
  },
  {
   "cell_type": "code",
   "execution_count": null,
   "id": "13c5bfc6",
   "metadata": {},
   "outputs": [],
   "source": [
    "import matplotlib.pyplot as plt\n",
    "from sklearn.decomposition import PCA\n",
    "\n",
    "_, latent_space, _ = model(data_train[:][0])\n",
    "\n",
    "# Apply PCA for visualization\n",
    "pca = PCA(n_components=2)\n",
    "pca_result = pca.fit_transform(latent_space)\n",
    "\n",
    "# Plot the latent space and color points according to SMILES length\n",
    "plt.figure(figsize=(5,3))\n",
    "\n",
    "plt.scatter(pca_result[:, 0], pca_result[:, 1], alpha=0.5, c=[len(smiles) for smiles in smiles_train])\n",
    "plt.colorbar(label='SMILES length')\n",
    "plt.title('Latent Space Visualization (PCA)', size=10)\n",
    "plt.xlabel('PC 1', size=10)\n",
    "plt.ylabel('PC 2', size=10)\n",
    "\n",
    "plt.show()"
   ]
  },
  {
   "cell_type": "markdown",
   "id": "7f191a11",
   "metadata": {},
   "source": [
    "Now, let's try interpolating points..."
   ]
  },
  {
   "cell_type": "code",
   "execution_count": null,
   "id": "6499c449",
   "metadata": {},
   "outputs": [],
   "source": [
    "def interpolate_points(p1, p2, n_steps=10):\n",
    "    ratios = np.linspace(0, 1, num=n_steps)\n",
    "    vectors = [(1.0 - ratio) * p1 + ratio * p2 for ratio in ratios]\n",
    "    return torch.stack(vectors)\n",
    "\n",
    "# Select two random points in the latent space\n",
    "point1 = latent_space[0]\n",
    "point2 = latent_space[1]\n",
    "\n",
    "# Generate interpolations\n",
    "interpolations = interpolate_points(point1, point2)\n",
    "\n",
    "# Decode the interpolations\n",
    "model.eval()\n",
    "with torch.no_grad():\n",
    "    decoded_interpolations = model.decode(interpolations)\n",
    "\n",
    "# Visualize or save the decoded interpolations\n",
    "# For example, print the first few decoded molecules\n",
    "for i, decoded in enumerate(decoded_interpolations):\n",
    "    print(f'Interpolation {i}: {decoded}')"
   ]
  },
  {
   "cell_type": "markdown",
   "id": "6172a276",
   "metadata": {},
   "source": [
    "### SMILES generation\n",
    "Finally, let's use our VAE to see if we can generate some new molecules:"
   ]
  },
  {
   "cell_type": "code",
   "execution_count": null,
   "id": "f2338b88",
   "metadata": {},
   "outputs": [],
   "source": [
    "# Generate new samples from the latent space\n",
    "num_samples = 10\n",
    "latent_samples = torch.randn(num_samples, 200)  # Assuming latent space has 200 dimensions\n",
    "\n",
    "model.eval()\n",
    "with torch.no_grad():\n",
    "    generated_samples = model.decode(latent_samples)\n",
    "\n",
    "# Visualize or save the generated samples\n",
    "# For example, print the first few generated molecules\n",
    "for i, sample in enumerate(generated_samples):\n",
    "    print(f'Generated Sample {i}: {sample}')"
   ]
  }
 ],
 "metadata": {
  "kernelspec": {
   "display_name": "Python 3 (ipykernel)",
   "language": "python",
   "name": "python3"
  },
  "language_info": {
   "codemirror_mode": {
    "name": "ipython",
    "version": 3
   },
   "file_extension": ".py",
   "mimetype": "text/x-python",
   "name": "python",
   "nbconvert_exporter": "python",
   "pygments_lexer": "ipython3",
   "version": "3.9.19"
  }
 },
 "nbformat": 4,
 "nbformat_minor": 5
}
