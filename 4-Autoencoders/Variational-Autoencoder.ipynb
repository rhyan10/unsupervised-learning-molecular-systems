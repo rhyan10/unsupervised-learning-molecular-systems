{
 "cells": [
  {
   "cell_type": "markdown",
   "id": "66833e59",
   "metadata": {},
   "source": [
    "# Variational Autoencoder\n",
    "In this notebook, we demonstrate the use of a Variational Autoencoder (VAE) to model and analyze a dataset of small molecules. VAEs are a type of generative model that can learn a compressed representation of data and generate new samples that resemble the training data. This makes them particularly useful for working with molecules, where understanding the underlying distribution and generating new molecular structures can be valuable tasks in molecular design.\n",
    "\n",
    "We will use a dataset of ~7K small molecules [../data/small_mols.csv](../data/small_mols.csv) to train our variational autoencoder.\n",
    "\n",
    "To run this notebook, you will need to use a kernel with the following libraries installed:\n",
    "* RDKit\n",
    "* Pandas\n",
    "* ipykernel"
   ]
  },
  {
   "cell_type": "markdown",
   "id": "33d65d96",
   "metadata": {},
   "source": [
    "## Building a model\n",
    "We will begin by defining a new model class called `MolecularVAE`:"
   ]
  },
  {
   "cell_type": "code",
   "execution_count": 99,
   "id": "9302c2e7",
   "metadata": {},
   "outputs": [],
   "source": [
    "\n",
    "import torch\n",
    "import torch.nn as nn\n",
    "import torch.nn.functional as F\n",
    "import torch.utils.data\n",
    "\n",
    "class MolecularVAE(nn.Module):\n",
    "    def __init__(self):\n",
    "        super(MolecularVAE, self).__init__()\n",
    "\n",
    "        # Define the layers used in the encoder\n",
    "        self.conv_1 = nn.Conv1d(35, 20, kernel_size=5)\n",
    "        self.conv_2 = nn.Conv1d(20, 15, kernel_size=5)\n",
    "        self.conv_3 = nn.Conv1d(15, 9, kernel_size=5)\n",
    "        self.linear_0 = nn.Linear(90, 200)\n",
    "        self.linear_1 = nn.Linear(200, 200)\n",
    "        self.linear_2 = nn.Linear(200, 200)\n",
    "\n",
    "        # Define the layers used in the decoder\n",
    "        self.linear_3 = nn.Linear(200, 200)\n",
    "        self.gru = nn.GRU(200, 300, 3, batch_first=True)\n",
    "        self.linear_4 = nn.Linear(300, 22)\n",
    "\n",
    "        # Define activation functions\n",
    "        self.relu = nn.ReLU()\n",
    "        self.softmax = nn.Softmax()\n",
    "\n",
    "    # Encoder function\n",
    "    def encode(self, x):\n",
    "        x = self.relu(self.conv_1(x))\n",
    "        x = self.relu(self.conv_2(x))\n",
    "        x = self.relu(self.conv_3(x))\n",
    "        x = x.view(x.size(0), -1)\n",
    "        x = F.selu(self.linear_0(x))\n",
    "        return self.linear_1(x), self.linear_2(x)\n",
    "\n",
    "    # Decoder function\n",
    "    def decode(self, z):\n",
    "        z = F.selu(self.linear_3(z))\n",
    "        z = z.view(z.size(0), 1, z.size(-1)).repeat(1, 35, 1)\n",
    "        output, hn = self.gru(z)\n",
    "        out_reshape = output.contiguous().view(-1, output.size(-1))\n",
    "        y0 = F.softmax(self.linear_4(out_reshape), dim=1)\n",
    "        y = y0.contiguous().view(output.size(0), -1, y0.size(-1))\n",
    "        return y\n",
    "\n",
    "\t# Sampling function for the latent space\n",
    "    def sampling(self, z_mean, z_logvar):\n",
    "        epsilon = 1e-2 * torch.randn_like(z_logvar)\n",
    "        return torch.exp(0.5 * z_logvar) * epsilon + z_mean\n",
    "\n",
    "    # Forward pass of the model\n",
    "    def forward(self, x):\n",
    "        z_mean, z_logvar = self.encode(x)\n",
    "        z = self.sampling(z_mean, z_logvar)\n",
    "        return self.decode(z), z_mean, z_logvar"
   ]
  },
  {
   "cell_type": "markdown",
   "id": "50a031b0",
   "metadata": {},
   "source": [
    "We also need to define a function for encoding SMILES string as one-hot vectors, and a loss function. Here, we will use the binary cross-entropy (BCE) loss."
   ]
  },
  {
   "cell_type": "code",
   "execution_count": 100,
   "id": "3b0e75d2",
   "metadata": {},
   "outputs": [],
   "source": [
    "import numpy as np\n",
    "from tqdm import tqdm\n",
    "\n",
    "# Function to convert SMILES strings to one-hot encodings\n",
    "def smiles_to_hot(smiles, max_len, char_indices, nchars):\n",
    "    X = np.zeros((len(smiles), max_len, nchars), dtype=np.float32)\n",
    "    for i, smile in tqdm(enumerate(smiles)):\n",
    "        for t, char in enumerate(smile):\n",
    "            X[i, t, char_indices[char]] = 1\n",
    "    return X\n",
    "\n",
    "# Function to calculate the VAE loss using the BCE\n",
    "def vae_loss(x_decoded_mean, x, z_mean, z_logvar):\n",
    "    xent_loss = F.binary_cross_entropy(x_decoded_mean, x, size_average=False)\n",
    "    kl_loss = -0.5 * torch.sum(1 + z_logvar - z_mean.pow(2) - z_logvar.exp())\n",
    "    return xent_loss + kl_loss"
   ]
  },
  {
   "cell_type": "markdown",
   "id": "cc4b55de",
   "metadata": {},
   "source": [
    "## Preparing the data"
   ]
  },
  {
   "cell_type": "code",
   "execution_count": 136,
   "id": "6c2d3804",
   "metadata": {},
   "outputs": [
    {
     "name": "stderr",
     "output_type": "stream",
     "text": [
      "7165it [00:00, 413349.86it/s]"
     ]
    },
    {
     "name": "stdout",
     "output_type": "stream",
     "text": [
      "(7165, 35, 22)\n"
     ]
    },
    {
     "name": "stderr",
     "output_type": "stream",
     "text": [
      "\n"
     ]
    }
   ],
   "source": [
    "# Preprocess the SMILES strings\n",
    "all_chars = []\n",
    "max_len = 35\n",
    "\n",
    "file_path = '../data/smiles.txt'\n",
    "smiles_strings = []\n",
    "with open(file_path, \"r\") as file:\n",
    "    smiles_strings = file.readlines()\n",
    "\n",
    "for smi in smiles_strings:\n",
    "    characters = [char for char in smi[:-1]]  # Remove newline\n",
    "    all_chars.append(characters)\n",
    "\n",
    "# Define the character indices for one-hot encoding\n",
    "char_indices = {'S':0, '2':1, 'O':2, '[':3, 'o':4, '\\\\':5, 'c':6, '3':7, 'C':8, ')':9, 's':10, 'N':11, '(':12, 'H':13, ']':14, '#':15, 'n':16, '1':17, '@':18, '/':19, '=':20, ' ':21}\n",
    "\n",
    "# Convert SMILES strings to one-hot encodings\n",
    "one_hot_embeddings = smiles_to_hot(all_chars, max_len, char_indices, 22)\n",
    "print(one_hot_embeddings.shape)\n",
    "\n",
    "# Split the data into train and test datasets\n",
    "data_train = one_hot_embeddings[:6000]\n",
    "smiles_train = smiles_strings[:6000]\n",
    "data_train = torch.utils.data.TensorDataset(torch.from_numpy(data_train))\n",
    "\n",
    "data_test = one_hot_embeddings[6000:]\n",
    "smiles_test = smiles_strings[6000:]\n",
    "data_test = torch.utils.data.TensorDataset(torch.from_numpy(data_test))"
   ]
  },
  {
   "cell_type": "markdown",
   "id": "4354c7e3",
   "metadata": {},
   "source": [
    "## Training the model\n",
    "Below we will train the VAE for 50 training epochs using a batch size of 100 and learning rate of 0.0001.\n",
    "\n",
    "Depending on your computer, this may take a few minutes. If you don't want to wait that long, feel free to reduce the number of training epochs and continue with the analysis; the model may not be as good in that case, but you should still be able to get some insights."
   ]
  },
  {
   "cell_type": "code",
   "execution_count": 139,
   "id": "5adc8030",
   "metadata": {},
   "outputs": [
    {
     "name": "stdout",
     "output_type": "stream",
     "text": [
      "Epoch 0 Loss: 73.50829703776041\n",
      "Epoch 1 Loss: 67.9278202311198\n",
      "Epoch 2 Loss: 66.21046484375\n",
      "Epoch 3 Loss: 65.47577579752604\n",
      "Epoch 4 Loss: 64.55492130533854\n",
      "Epoch 5 Loss: 62.86428173828125\n",
      "Epoch 6 Loss: 60.92763850911458\n",
      "Epoch 7 Loss: 59.65395450846354\n",
      "Epoch 8 Loss: 58.85088435872396\n",
      "Epoch 9 Loss: 58.19293269856771\n",
      "Epoch 10 Loss: 57.76678889973958\n",
      "Epoch 11 Loss: 57.35919327799479\n",
      "Epoch 12 Loss: 56.97161946614583\n",
      "Epoch 13 Loss: 56.8074267578125\n",
      "Epoch 14 Loss: 56.61781201171875\n",
      "Epoch 15 Loss: 56.19408984375\n",
      "Epoch 16 Loss: 55.83105924479167\n",
      "Epoch 17 Loss: 55.32456787109375\n",
      "Epoch 18 Loss: 54.953772054036456\n",
      "Epoch 19 Loss: 54.669305419921876\n",
      "Epoch 20 Loss: 54.457610188802086\n",
      "Epoch 21 Loss: 54.30621223958333\n",
      "Epoch 22 Loss: 53.80200895182292\n",
      "Epoch 23 Loss: 53.528379557291665\n",
      "Epoch 24 Loss: 53.33133154296875\n",
      "Epoch 25 Loss: 53.11048518880208\n",
      "Epoch 26 Loss: 52.9049287109375\n",
      "Epoch 27 Loss: 52.736590413411456\n",
      "Epoch 28 Loss: 52.64700480143229\n",
      "Epoch 29 Loss: 52.50185725911458\n",
      "Epoch 30 Loss: 52.24531795247396\n",
      "Epoch 31 Loss: 52.14188728841146\n",
      "Epoch 32 Loss: 51.88770792643229\n",
      "Epoch 33 Loss: 51.72995231119792\n",
      "Epoch 34 Loss: 51.815194091796876\n",
      "Epoch 35 Loss: 51.51209293619792\n",
      "Epoch 36 Loss: 51.20421744791667\n",
      "Epoch 37 Loss: 51.03425333658854\n"
     ]
    }
   ],
   "source": [
    "import torch.optim as optim\n",
    "\n",
    "# Define training parameters\n",
    "batch_size = 100\n",
    "num_epochs = 100\n",
    "learning_rate = 0.0001\n",
    "\n",
    "# Create a dataloader for the train split\n",
    "train_loader = torch.utils.data.DataLoader(data_train, batch_size=batch_size, shuffle=True)\n",
    "\n",
    "# Create an instance of the MolecularVAE model\n",
    "model = MolecularVAE()\n",
    "\n",
    "# Define the optimizer\n",
    "optimizer = optim.Adam(model.parameters(), lr=learning_rate)\n",
    "\n",
    "train_losses = []  # For storing the train loss per epoch\n",
    "test_losses = []  # For storing the test loss per epoch\n",
    "\n",
    "# Training loop\n",
    "for epoch in range(num_epochs):\n",
    "    model.train()\n",
    "    train_loss = 0\n",
    "\n",
    "    for batch_idx, data in enumerate(train_loader):\n",
    "        data = data[0]\n",
    "\n",
    "        optimizer.zero_grad()   # Zero the gradients at the start of each mini-batch\n",
    "\n",
    "        output, mean, logvar = model(data)\n",
    "        loss = vae_loss(output, data, mean, logvar)\n",
    "\n",
    "        loss.backward()\n",
    "        optimizer.step()\n",
    "        train_loss += loss.item()\n",
    "\n",
    "    # Store the training loss after each epoch\n",
    "    train_losses.append(train_loss / len(train_loader.dataset))\n",
    "\n",
    "    # Save the model after each epoch\n",
    "    file_path = \"VAEmodel.pth\"\n",
    "    torch.save(model.state_dict(), file_path)\n",
    "    print(f'Epoch {epoch} Loss: {train_loss / len(train_loader.dataset)}')\n",
    "\n",
    "    # Compute and store the test loss after each epoch\n",
    "    model.eval()\n",
    "    with torch.no_grad():\n",
    "        output_test, mean_test, logvar_test = model(data_test[:][0])\n",
    "        test_loss = vae_loss(output_test, data_test[:][0], mean_test, logvar_test)\n",
    "        test_losses.append(test_loss.item() / len(data_test))"
   ]
  },
  {
   "cell_type": "markdown",
   "id": "a949ef01",
   "metadata": {},
   "source": [
    "## Analysis and best practices\n",
    "Let's begin by visualizing the loss curves:"
   ]
  },
  {
   "cell_type": "code",
   "execution_count": 138,
   "id": "9c65b290",
   "metadata": {},
   "outputs": [
    {
     "data": {
      "image/png": "[encoded data removed]",
      "text/plain": [
       "<Figure size 500x300 with 1 Axes>"
      ]
     },
     "metadata": {},
     "output_type": "display_data"
    }
   ],
   "source": [
    "import matplotlib.pyplot as plt\n",
    "\n",
    "fig = plt.figure(figsize=(5, 3))\n",
    "\n",
    "ax = fig.add_subplot(1, 1, 1)\n",
    "\n",
    "# Plot the loss as a function of the number of training epochs\n",
    "ax.plot(train_losses, color='blue', lw=1, label='Train loss')\n",
    "ax.plot(test_losses, color='red', lw=1, label='Test loss')\n",
    "ax.set_xlabel('Epoch', size=10)\n",
    "ax.set_title('Loss Curves', size=10)\n",
    "ax.set_yscale('log')\n",
    "ax.legend(fontsize=10)\n",
    "ax.tick_params(axis='both', which='major', labelsize=10)\n",
    "\n",
    "plt.tight_layout()\n",
    "\n",
    "plt.show()"
   ]
  },
  {
   "cell_type": "markdown",
   "id": "5ab5836c",
   "metadata": {},
   "source": [
    "### SMILES reconstruction\n",
    "Next, let's analyze how well our model can reconstruct SMILES strings from the test set. \n",
    "\n",
    "First, we will compute the reconstruction loss for the test set and compare to the training set."
   ]
  },
  {
   "cell_type": "code",
   "execution_count": 104,
   "id": "b2bcf6be",
   "metadata": {},
   "outputs": [
    {
     "name": "stdout",
     "output_type": "stream",
     "text": [
      "Train loss after 13 training epochs: 44.23777669270833\n",
      "Test loss after 13 training epochs: 67.82155394983906\n"
     ]
    }
   ],
   "source": [
    "# Create a dataloader for the test split\n",
    "test_loader = torch.utils.data.DataLoader(data_test, batch_size=batch_size, shuffle=True)\n",
    "\n",
    "# Calculate reconstruction loss on test data and compare to train data\n",
    "model.eval()\n",
    "with torch.no_grad():\n",
    "    test_loss = 0\n",
    "    for batch_idx, data in enumerate(test_loader):\n",
    "        data = data[0]\n",
    "\n",
    "        output, mean, logvar = model(data)\n",
    "        loss = vae_loss(output, data, mean, logvar)\n",
    "\n",
    "        test_loss += loss.item()\n",
    "\n",
    "print(f'Train loss after {epoch + 1} training epochs: {train_loss / len(train_loader.dataset)}')\n",
    "print(f'Test loss after {epoch + 1} training epochs: {test_loss / len(test_loader.dataset)}')"
   ]
  },
  {
   "cell_type": "markdown",
   "id": "2f29695c",
   "metadata": {},
   "source": [
    "The model appears to be a little overfit, but that should not be a huge issue here.\n",
    "\n",
    "\n",
    "To see what the SMILES look like, we will define a function for 'decoding' the VAE output embeddings into SMILES, and look at a few SMILES from the training and test sets in detail to see how good the model is at reconstructing them."
   ]
  },
  {
   "cell_type": "code",
   "execution_count": 105,
   "id": "6f91430b",
   "metadata": {},
   "outputs": [
    {
     "name": "stdout",
     "output_type": "stream",
     "text": [
      "{0: 'S', 1: '2', 2: 'O', 3: '[', 4: 'o', 5: '\\\\', 6: 'c', 7: '3', 8: 'C', 9: ')', 10: 's', 11: 'N', 12: '(', 13: 'H', 14: ']', 15: '#', 16: 'n', 17: '1', 18: '@', 19: '/', 20: '=', 21: ' '}\n"
     ]
    }
   ],
   "source": [
    "# Define a function to convert VAE output embeddings 'back' to SMILES strings\n",
    "def emb_to_smiles(embedding, indices_char):\n",
    "    smiles = []\n",
    "    for one_hot in tqdm(embedding):\n",
    "        smiles_chars = []\n",
    "        for vector in one_hot:\n",
    "            if int(torch.sum(vector)) == 0:\n",
    "                continue  # Skip padding\n",
    "            char_index = int(torch.argmax(vector))\n",
    "            char = indices_char[char_index]\n",
    "            smiles_chars.append(char)\n",
    "        smiles.append(''.join(smiles_chars).strip())\n",
    "    return smiles\n",
    "\n",
    "# Define the character indices for one-hot encoding\n",
    "indices_char = {v: k for k, v in char_indices.items()}\n",
    "print(indices_char)"
   ]
  },
  {
   "cell_type": "code",
   "execution_count": 130,
   "id": "5e958573",
   "metadata": {},
   "outputs": [
    {
     "name": "stderr",
     "output_type": "stream",
     "text": [
      "100%|██████████| 5/5 [00:00<00:00, 1173.17it/s]\n"
     ]
    },
    {
     "name": "stdout",
     "output_type": "stream",
     "text": [
      "Training set SMILES reconstruction:\n",
      "True: C, Reconstructed: CCC@]C]CCCCCCCCCCCCCCCC\n",
      "True: CC, Reconstructed: CCC@HCCCCCCCCCCCCCCCCCCCCC\n",
      "True: C=C, Reconstructed: @]]CCCCCCCCCCCCCC1\n",
      "True: C#C, Reconstructed: CCC@HCCCCCCCCCCCCCCCCCC1\n",
      "True: CCO, Reconstructed: CC@@]CCCCC]CCCCCCCCCCCC\n",
      " \n"
     ]
    },
    {
     "name": "stderr",
     "output_type": "stream",
     "text": [
      "100%|██████████| 5/5 [00:00<00:00, 786.54it/s]"
     ]
    },
    {
     "name": "stdout",
     "output_type": "stream",
     "text": [
      "Testing set SMILES reconstruction:\n",
      "True: O[C@H]1C=CNC1=O, Reconstructed: CCC@@]CCCCCCCCCCCCCCCCCCCC\n",
      "True: O[C@H]1CCNC1=O, Reconstructed: CC@]]CCCCCCCCCCCCCCCCC\n",
      "True: OC1=CC=[N]=C[CH]1, Reconstructed: CCCCCCCCCCCCCC11111\n",
      "True: OC1CCNCC1, Reconstructed: CCCCCCCCCCCCCCC)111111\n",
      "True: C[C@H]1CCCN1C, Reconstructed: CCC@H]CCCCCCCCCCCCCCCCCCC\n"
     ]
    },
    {
     "name": "stderr",
     "output_type": "stream",
     "text": [
      "\n"
     ]
    }
   ],
   "source": [
    "# Let's visualize the reconstructions for the first five training and test set SMILES\n",
    "model.eval()\n",
    "with torch.no_grad():\n",
    "    train_embeddings, _, _ = model(data_train[:5][0])\n",
    "    test_embeddings, _, _ = model(data_test[:5][0])\n",
    "\n",
    "\n",
    "# Decode the one-hot encoded SMILES to see how they are deconstructed\n",
    "decoded_train_smiles = emb_to_smiles(train_embeddings, indices_char)\n",
    "print('Training set SMILES reconstruction:')\n",
    "for i, smiles in enumerate(decoded_train_smiles):\n",
    "\tprint(f'True: {smiles_train[i][:-1]}, Reconstructed: {smiles}')\n",
    "\n",
    "print(' ')\n",
    "\n",
    "decoded_test_smiles = emb_to_smiles(test_embeddings, indices_char)\n",
    "print('Testing set SMILES reconstruction:')\n",
    "for i, smiles in enumerate(decoded_test_smiles):\n",
    "\tprint(f'True: {smiles_test[i][:-1]}, Reconstructed: {smiles}')"
   ]
  },
  {
   "cell_type": "markdown",
   "id": "4e5418d0",
   "metadata": {},
   "source": [
    "### Latent space interpolation\n",
    "We can also explore the latent space around a particular molecule.\n",
    "\n",
    "Let's start by visualizing the latent space using PCA, as in the [Dimensionality Reduction](../2-Dimensionality-Reduction/Dimensionality-Reduction.ipynb) notebook."
   ]
  },
  {
   "cell_type": "code",
   "execution_count": null,
   "id": "13c5bfc6",
   "metadata": {},
   "outputs": [],
   "source": [
    "import matplotlib.pyplot as plt\n",
    "from sklearn.decomposition import PCA\n",
    "\n",
    "_, latent_space, _ = model(data_train[:][0])\n",
    "\n",
    "# Apply PCA for visualization\n",
    "pca = PCA(n_components=2)\n",
    "pca_result = pca.fit_transform(latent_space)\n",
    "\n",
    "# Plot the latent space and color points according to SMILES length\n",
    "plt.figure(figsize=(5,3))\n",
    "\n",
    "plt.scatter(pca_result[:, 0], pca_result[:, 1], alpha=0.5, c=[len(smiles) for smiles in smiles_train])\n",
    "plt.colorbar(label='SMILES length')\n",
    "plt.title('Latent Space Visualization (PCA)', size=10)\n",
    "plt.xlabel('PC 1', size=10)\n",
    "plt.ylabel('PC 2', size=10)\n",
    "\n",
    "plt.show()"
   ]
  },
  {
   "cell_type": "markdown",
   "id": "7f191a11",
   "metadata": {},
   "source": [
    "Now, let's try interpolating between two points in the latent space of our VAE."
   ]
  },
  {
   "cell_type": "code",
   "execution_count": null,
   "id": "6499c449",
   "metadata": {},
   "outputs": [],
   "source": [
    "# Define a function for interpolating values along a line between two points in Euclidean space\n",
    "def interpolate_points(point1, point2, n_inbetween_points=10):\n",
    "    ratios = np.linspace(0, 1, num=n_inbetween_points)\n",
    "    vectors = [(1.0 - ratio) * point1 + ratio * point2 for ratio in ratios]\n",
    "    return torch.stack(vectors)\n",
    "\n",
    "# Select two random points in the latent space\n",
    "idx1 = 54  # Can be between 0 and 5997 (i.e., 6000 minus 3)\n",
    "idx2 = 77  # Can be between 0 and 5997 (i.e., 6000 minus 3)\n",
    "\n",
    "smiles1 = smiles_train[idx1]\n",
    "smiles2 = smiles_train[idx2]\n",
    "\n",
    "point1 = latent_space[idx1]\n",
    "point2 = latent_space[idx2]\n",
    "\n",
    "# Generate interpolations\n",
    "interpolations = interpolate_points(point1, point2)\n",
    "\n",
    "# Decode the interpolations\n",
    "model.eval()\n",
    "with torch.no_grad():\n",
    "    decoded_interpolations = model.decode(interpolations)\n",
    "\n",
    "# Print the SMILES corresponding to the interpolated values after decoding\n",
    "print(f'Point 1: {smiles1}')\n",
    "for i, embedding in enumerate(decoded_interpolations):\n",
    "    decoded_smiles = emb_to_smiles(embedding, indices_char)\n",
    "    print(f'- Interpolation {i}: {decoded_smiles}')\n",
    "print(f'Point 2: {smiles2}')"
   ]
  },
  {
   "cell_type": "markdown",
   "id": "6172a276",
   "metadata": {},
   "source": [
    "### SMILES generation\n",
    "Finally, we will evaluate how well our VAE works in generating new molecules.\n",
    "\n",
    "This can be done a number of ways. Below we will try:\n",
    "* Generating random latent vectors and decoding\n",
    "* Adding 'noise' to latent space vectors and decoding"
   ]
  },
  {
   "cell_type": "markdown",
   "id": "50c20440",
   "metadata": {},
   "source": [
    "#### Decoding random points in the VAE latent space"
   ]
  },
  {
   "cell_type": "code",
   "execution_count": null,
   "id": "f2338b88",
   "metadata": {},
   "outputs": [],
   "source": [
    "num_samples = 10\n",
    "\n",
    "# Generate random latent vectors\n",
    "latent_samples = torch.randn(num_samples, len(latent_space[0]))\n",
    "\n",
    "model.eval()\n",
    "with torch.no_grad():\n",
    "    generated_samples = model.decode(latent_samples)\n",
    "\n",
    "# Print the SMILES corresponding to the random latent vectors after decoding\n",
    "print(f'Random latent vectors decode to:')\n",
    "for i, embedding in enumerate(generated_samples):\n",
    "    decoded_smiles = emb_to_smiles(embedding, indices_char)\n",
    "    print(f'- Sample {i}: {decoded_smiles}')\n",
    "\n",
    "# Let's evaluate how many SMILES are novel; `smiles_strings` contains all train and test SMILES\n",
    "novel_smiles = set(decoded_smiles) & set(smiles_strings)\n",
    "fraction_novel = len(novel_smiles)/len(decoded_smiles)\n",
    "print(f'Fraction novel SMILES out of {num_samples} samples: {fraction_novel}')\n",
    "if fraction_novel > 0:\n",
    "    print(f'Novel SMILES: {novel_smiles.join(', ')}')"
   ]
  }
 ],
 "metadata": {
  "kernelspec": {
   "display_name": "Python 3 (ipykernel)",
   "language": "python",
   "name": "python3"
  },
  "language_info": {
   "codemirror_mode": {
    "name": "ipython",
    "version": 3
   },
   "file_extension": ".py",
   "mimetype": "text/x-python",
   "name": "python",
   "nbconvert_exporter": "python",
   "pygments_lexer": "ipython3",
   "version": "3.9.19"
  }
 },
 "nbformat": 4,
 "nbformat_minor": 5
}
