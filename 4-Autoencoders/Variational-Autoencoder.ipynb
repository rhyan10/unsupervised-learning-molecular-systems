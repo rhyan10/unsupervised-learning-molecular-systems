{
 "cells": [
  {
   "cell_type": "markdown",
   "id": "66833e59",
   "metadata": {},
   "source": [
    "# Variational Autoencoder\n",
    "In this notebook, we demonstrate the use of a Variational Autoencoder (VAE) to model and analyze a dataset of small molecules. VAEs are a type of generative model that can learn a compressed representation of data and generate new samples that resemble the training data. This makes them particularly useful for working with molecules, where understanding the underlying distribution and generating new molecular structures can be valuable tasks in molecular design.\n",
    "\n",
    "We will use a dataset of ~7K small molecules [../data/small_mols.csv](../data/small_mols.csv) to train our variational autoencoder.\n",
    "\n",
    "To run this notebook, you will need to use a kernel with the following libraries installed:\n",
    "* RDKit\n",
    "* Pandas\n",
    "* ipykernel"
   ]
  },
  {
   "cell_type": "markdown",
   "id": "33d65d96",
   "metadata": {},
   "source": [
    "## Building a model\n",
    "We will begin by defining a new model class called `MolecularVAE`:"
   ]
  },
  {
   "cell_type": "code",
   "execution_count": 1,
   "id": "9302c2e7",
   "metadata": {},
   "outputs": [],
   "source": [
    "import torch\n",
    "import torch.nn as nn\n",
    "import torch.nn.functional as F\n",
    "import torch.utils.data\n",
    "\n",
    "class MolecularVAE(nn.Module):\n",
    "    def __init__(self):\n",
    "        super(MolecularVAE, self).__init__()\n",
    "\n",
    "        # Define the layers used in the encoder\n",
    "        self.conv_1 = nn.Conv1d(35, 20, kernel_size=5)\n",
    "        self.conv_2 = nn.Conv1d(20, 15, kernel_size=5)\n",
    "        self.conv_3 = nn.Conv1d(15, 9, kernel_size=5)\n",
    "        self.linear_0 = nn.Linear(90, 100)\n",
    "        self.linear_1 = nn.Linear(100, 100)\n",
    "        self.linear_2 = nn.Linear(100, 100)\n",
    "\n",
    "        # Define the layers used in the decoder\n",
    "        self.linear_3 = nn.Linear(100, 100)\n",
    "        self.gru = nn.GRU(100, 200, 3, batch_first=True)\n",
    "        self.linear_4 = nn.Linear(200, 22)\n",
    "\n",
    "        # Define activation functions\n",
    "        self.relu = nn.ReLU()\n",
    "        self.softmax = nn.Softmax()\n",
    "\n",
    "    # Encoder function\n",
    "    def encode(self, x):\n",
    "        x = self.relu(self.conv_1(x))\n",
    "        x = self.relu(self.conv_2(x))\n",
    "        x = self.relu(self.conv_3(x))\n",
    "        x = x.view(x.size(0), -1)\n",
    "        x = F.selu(self.linear_0(x))\n",
    "        return self.linear_1(x), self.linear_2(x)\n",
    "\n",
    "    # Decoder function\n",
    "    def decode(self, z):\n",
    "        z = F.selu(self.linear_3(z))\n",
    "        z = z.view(z.size(0), 1, z.size(-1)).repeat(1, 35, 1)\n",
    "        output, hn = self.gru(z)\n",
    "        out_reshape = output.contiguous().view(-1, output.size(-1))\n",
    "        y0 = F.softmax(self.linear_4(out_reshape), dim=1)\n",
    "        y = y0.contiguous().view(output.size(0), -1, y0.size(-1))\n",
    "        return y\n",
    "\n",
    "\t# Sampling function for the latent space\n",
    "    def sampling(self, z_mean, z_logvar):\n",
    "        epsilon = 1e-2 * torch.randn_like(z_logvar)\n",
    "        return torch.exp(0.5 * z_logvar) * epsilon + z_mean\n",
    "\n",
    "    # Forward pass of the model\n",
    "    def forward(self, x):\n",
    "        z_mean, z_logvar = self.encode(x)\n",
    "        z = self.sampling(z_mean, z_logvar)\n",
    "        return self.decode(z), z_mean, z_logvar"
   ]
  },
  {
   "cell_type": "markdown",
   "id": "50a031b0",
   "metadata": {},
   "source": [
    "We also need to define a function for encoding SMILES string as one-hot vectors, and a loss function. Here, we will use the binary cross-entropy (BCE) loss."
   ]
  },
  {
   "cell_type": "code",
   "execution_count": 46,
   "id": "3b0e75d2",
   "metadata": {},
   "outputs": [],
   "source": [
    "import numpy as np\n",
    "\n",
    "# Function to convert SMILES strings to one-hot encodings\n",
    "def smiles_to_hot(smiles, max_len, char_indices, nchars):\n",
    "    X = np.zeros((len(smiles), max_len, nchars), dtype=np.float32)\n",
    "    for i, smile in enumerate(smiles):\n",
    "        for t, char in enumerate(smile):\n",
    "            X[i, t, char_indices[char]] = 1\n",
    "    return X\n",
    "\n",
    "# Function to calculate the VAE loss using the BCE\n",
    "def vae_loss(x_decoded_mean, x, z_mean, z_logvar):\n",
    "    xent_loss = F.binary_cross_entropy(x_decoded_mean, x, size_average=False)\n",
    "    kl_loss = -0.5 * torch.sum(1 + z_logvar - z_mean.pow(2) - z_logvar.exp())\n",
    "    return xent_loss + kl_loss"
   ]
  },
  {
   "cell_type": "markdown",
   "id": "cc4b55de",
   "metadata": {},
   "source": [
    "## Preparing the data"
   ]
  },
  {
   "cell_type": "code",
   "execution_count": 86,
   "id": "6c2d3804",
   "metadata": {},
   "outputs": [
    {
     "name": "stdout",
     "output_type": "stream",
     "text": [
      "(7165, 35, 22)\n"
     ]
    }
   ],
   "source": [
    "# Preprocess the SMILES strings\n",
    "all_chars = []\n",
    "max_len = 35\n",
    "\n",
    "file_path = '../data/smiles.txt'\n",
    "smiles_strings = []\n",
    "with open(file_path, \"r\") as file:\n",
    "    smiles_strings_with_newlines = file.readlines()\n",
    "    smiles_strings = [smi[:-1] for smi in smiles_strings_with_newlines]\n",
    "\n",
    "for smi in smiles_strings:\n",
    "    characters = [char for char in smi]\n",
    "    all_chars.append(characters)\n",
    "\n",
    "# Define the character indices for one-hot encoding\n",
    "char_indices = {'S':0, '2':1, 'O':2, '[':3, 'o':4, '\\\\':5, 'c':6, '3':7, 'C':8, ')':9, 's':10, 'N':11, '(':12, 'H':13, ']':14, '#':15, 'n':16, '1':17, '@':18, '/':19, '=':20, ' ':21}\n",
    "\n",
    "# Convert SMILES strings to one-hot encodings\n",
    "one_hot_embeddings = smiles_to_hot(all_chars, max_len, char_indices, 22)\n",
    "print(one_hot_embeddings.shape)\n",
    "\n",
    "# Split the data into train and test datasets\n",
    "data_train = one_hot_embeddings[:6000]\n",
    "smiles_train = smiles_strings[:6000]\n",
    "data_train = torch.utils.data.TensorDataset(torch.from_numpy(data_train))\n",
    "\n",
    "data_test = one_hot_embeddings[6000:]\n",
    "smiles_test = smiles_strings[6000:]\n",
    "data_test = torch.utils.data.TensorDataset(torch.from_numpy(data_test))"
   ]
  },
  {
   "cell_type": "markdown",
   "id": "4354c7e3",
   "metadata": {},
   "source": [
    "## Training the model\n",
    "Below we will train the VAE for 100 training epochs using a batch size of 100 and learning rate of 0.0001.\n",
    "\n",
    "Depending on your computer, this may take about 10 minutes or so. If you don't want to wait that long, reduce the number of training epochs and continue with the analysis; the model may not be as good in that case, but you should still be able to get some insights."
   ]
  },
  {
   "cell_type": "code",
   "execution_count": null,
   "id": "5adc8030",
   "metadata": {},
   "outputs": [],
   "source": [
    "import torch.optim as optim\n",
    "\n",
    "# Define training parameters\n",
    "batch_size = 50\n",
    "num_epochs = 100\n",
    "learning_rate = 0.0001\n",
    "\n",
    "# Create a dataloader for the train split\n",
    "train_loader = torch.utils.data.DataLoader(data_train, batch_size=batch_size, shuffle=True)\n",
    "\n",
    "# Create an instance of the MolecularVAE model\n",
    "model = MolecularVAE()\n",
    "\n",
    "# Define the optimizer\n",
    "optimizer = optim.Adam(model.parameters(), lr=learning_rate)\n",
    "\n",
    "# Define the learning rate scheduler\n",
    "scheduler = torch.optim.lr_scheduler.CosineAnnealingLR(optimizer, T_max=10)\n",
    "\n",
    "train_losses = []  # For storing the train loss per epoch\n",
    "test_losses = []  # For storing the test loss per epoch\n",
    "\n",
    "# Training loop\n",
    "for epoch in range(num_epochs):\n",
    "    model.train()\n",
    "    train_loss = 0\n",
    "\n",
    "    for batch_idx, data in enumerate(train_loader):\n",
    "        data = data[0]\n",
    "\n",
    "        optimizer.zero_grad()   # Zero the gradients at the start of each mini-batch\n",
    "\n",
    "        output, mean, logvar = model(data)\n",
    "        loss = vae_loss(output, data, mean, logvar)\n",
    "\n",
    "        loss.backward()\n",
    "        optimizer.step()\n",
    "        train_loss += loss.item()\n",
    "\n",
    "    scheduler.step()\n",
    "\n",
    "    # Store the training loss after each epoch\n",
    "    train_losses.append(train_loss / len(train_loader.dataset))\n",
    "\n",
    "    # Save the model after each epoch\n",
    "    file_path = \"VAEmodel.pth\"\n",
    "    torch.save(model.state_dict(), file_path)\n",
    "\n",
    "    # Compute and store the test loss after each epoch\n",
    "    model.eval()\n",
    "    with torch.no_grad():\n",
    "        output_test, mean_test, logvar_test = model(data_test[:][0])\n",
    "        test_loss = vae_loss(output_test, data_test[:][0], mean_test, logvar_test)\n",
    "        test_losses.append(test_loss.item() / len(data_test))\n",
    "\n",
    "    # Print progress\n",
    "    lr = scheduler.get_lr()[0]\n",
    "    print(f'Epoch {epoch}  Learning Rate: {lr:3e}  Train Loss: {train_losses[-1]:3f}  Test Loss: {test_losses[-1]:3f}')"
   ]
  },
  {
   "cell_type": "markdown",
   "id": "a949ef01",
   "metadata": {},
   "source": [
    "## Analysis and best practices\n",
    "Let's begin by visualizing the loss curves:"
   ]
  },
  {
   "cell_type": "code",
   "execution_count": 6,
   "id": "9c65b290",
   "metadata": {},
   "outputs": [
    {
     "data": {
      "image/png": "[encoded data removed]",
      "text/plain": [
       "<Figure size 500x300 with 1 Axes>"
      ]
     },
     "metadata": {},
     "output_type": "display_data"
    }
   ],
   "source": [
    "import matplotlib.pyplot as plt\n",
    "\n",
    "fig = plt.figure(figsize=(5, 3))\n",
    "\n",
    "ax = fig.add_subplot(1, 1, 1)\n",
    "\n",
    "# Plot the loss as a function of the number of training epochs\n",
    "ax.plot(train_losses, color='blue', lw=1, label='Train loss')\n",
    "ax.plot(test_losses, color='red', lw=1, label='Test loss')\n",
    "ax.set_xlabel('Epoch', size=10)\n",
    "ax.set_title('Loss Curves', size=10)\n",
    "ax.legend(fontsize=10)\n",
    "ax.tick_params(axis='both', which='major', labelsize=10)\n",
    "\n",
    "plt.tight_layout()\n",
    "\n",
    "plt.show()"
   ]
  },
  {
   "cell_type": "markdown",
   "id": "5ab5836c",
   "metadata": {},
   "source": [
    "### SMILES reconstruction\n",
    "Next, let's analyze how well our model can reconstruct SMILES strings from the test set. \n",
    "\n",
    "First, we will compute the reconstruction loss for the test set and compare to the training set."
   ]
  },
  {
   "cell_type": "code",
   "execution_count": 8,
   "id": "b2bcf6be",
   "metadata": {},
   "outputs": [
    {
     "name": "stderr",
     "output_type": "stream",
     "text": [
      "/Users/rocom/opt/anaconda3/envs/nb1-env/lib/python3.9/site-packages/torch/nn/_reduction.py:42: UserWarning: size_average and reduce args will be deprecated, please use reduction='sum' instead.\n",
      "  warnings.warn(warning.format(ret))\n"
     ]
    },
    {
     "name": "stdout",
     "output_type": "stream",
     "text": [
      "Train loss after 100 training epochs: 51.866\n",
      "Test loss after 100 training epochs: 59.672\n"
     ]
    }
   ],
   "source": [
    "# Create a dataloader for the test split\n",
    "test_loader = torch.utils.data.DataLoader(data_test, batch_size=batch_size, shuffle=True)\n",
    "\n",
    "# Calculate reconstruction loss on test data and compare to train data\n",
    "model.eval()\n",
    "with torch.no_grad():\n",
    "    test_loss = 0\n",
    "    for batch_idx, data in enumerate(test_loader):\n",
    "        data = data[0]\n",
    "\n",
    "        output, mean, logvar = model(data)\n",
    "        loss = vae_loss(output, data, mean, logvar)\n",
    "\n",
    "        test_loss += loss.item()\n",
    "\n",
    "print(f'Train loss after {epoch + 1} training epochs: {train_loss / len(train_loader.dataset):.3f}')\n",
    "print(f'Test loss after {epoch + 1} training epochs: {test_loss / len(test_loader.dataset):.3f}')"
   ]
  },
  {
   "cell_type": "markdown",
   "id": "2f29695c",
   "metadata": {},
   "source": [
    "The model appears to be a little overfit, but that should not be a huge issue here.\n",
    "\n",
    "\n",
    "To see what the SMILES look like, we will define a function for 'decoding' the VAE output embeddings into SMILES, and look at a few SMILES from the training and test sets in detail to see how good the model is at reconstructing them."
   ]
  },
  {
   "cell_type": "code",
   "execution_count": 47,
   "id": "6f91430b",
   "metadata": {},
   "outputs": [
    {
     "name": "stdout",
     "output_type": "stream",
     "text": [
      "{0: 'S', 1: '2', 2: 'O', 3: '[', 4: 'o', 5: '\\\\', 6: 'c', 7: '3', 8: 'C', 9: ')', 10: 's', 11: 'N', 12: '(', 13: 'H', 14: ']', 15: '#', 16: 'n', 17: '1', 18: '@', 19: '/', 20: '=', 21: ' '}\n"
     ]
    }
   ],
   "source": [
    "# Define a function to convert VAE output embeddings 'back' to SMILES strings\n",
    "def emb_to_smiles(embedding, indices_char):\n",
    "    smiles = []\n",
    "    for one_hot in embedding:\n",
    "        smiles_chars = []\n",
    "        for vector in one_hot:\n",
    "            if int(torch.sum(vector)) == 0:\n",
    "                continue  # Skip padding\n",
    "            char_index = int(torch.argmax(vector))\n",
    "            char = indices_char[char_index]\n",
    "            smiles_chars.append(char)\n",
    "        smiles.append(''.join(smiles_chars).strip())\n",
    "    return smiles\n",
    "\n",
    "# Define the character indices for one-hot encoding\n",
    "indices_char = {v: k for k, v in char_indices.items()}\n",
    "print(indices_char)"
   ]
  },
  {
   "cell_type": "code",
   "execution_count": 87,
   "id": "5e958573",
   "metadata": {},
   "outputs": [
    {
     "name": "stdout",
     "output_type": "stream",
     "text": [
      "Training set SMILES reconstruction:\n",
      "True: C  Reconstructed: CC@H]1[CC@H1CCC22]][HHHH\n",
      "True: CC  Reconstructed: CCC[@H]C)CH]12]]]cccccc\n",
      "True: C=C  Reconstructed: CCH]1CC@]12]]]]cccccc\n",
      "True: C#C  Reconstructed: CCC[@@](C)CH12222]]]cccc\n",
      "True: CCO  Reconstructed: CCC[C@H]1CC]C22]]cccc\n",
      " \n",
      "Testing set SMILES reconstruction:\n",
      "True: O[C@H]1C=CNC1=O  Reconstructed: [@]CCCCCC]11OOc))\n",
      "True: O[C@H]1CCNC1=O  Reconstructed: C@H]1CCC1]122]]O)\n",
      "True: OC1=CC=[N]=C[CH]1  Reconstructed: CCCCCCC]COH]]]]]]]]]]]\n",
      "True: OC1CCNCC1  Reconstructed: CCCCCCC11]]]HHH]]]]]]]\n",
      "True: C[C@H]1CCCN1C  Reconstructed: [C@H]1CCCCCCC1122O])\n"
     ]
    }
   ],
   "source": [
    "# Let's visualize the reconstructions for the first five training and test set SMILES\n",
    "model.eval()\n",
    "with torch.no_grad():\n",
    "    train_embeddings, _, _ = model(data_train[:5][0])\n",
    "    test_embeddings, _, _ = model(data_test[:5][0])\n",
    "\n",
    "\n",
    "# Decode the one-hot encoded SMILES to see how they are deconstructed\n",
    "decoded_train_smiles = emb_to_smiles(train_embeddings, indices_char)\n",
    "print('Training set SMILES reconstruction:')\n",
    "for i, smiles in enumerate(decoded_train_smiles):\n",
    "\tprint(f'True: {smiles_train[i]}  Reconstructed: {smiles}')\n",
    "\n",
    "print(' ')\n",
    "\n",
    "decoded_test_smiles = emb_to_smiles(test_embeddings, indices_char)\n",
    "print('Testing set SMILES reconstruction:')\n",
    "for i, smiles in enumerate(decoded_test_smiles):\n",
    "\tprint(f'True: {smiles_test[i]}  Reconstructed: {smiles}')"
   ]
  },
  {
   "cell_type": "markdown",
   "id": "31236448",
   "metadata": {},
   "source": [
    "💡 Note that as the model is a VAE, the reconstructed SMILES may look different each time, especially if the model is not converged."
   ]
  },
  {
   "cell_type": "markdown",
   "id": "4e5418d0",
   "metadata": {},
   "source": [
    "### Latent space visualization\n",
    "We can also explore the latent space between two molecules by interpolating between their latent vectors.\n",
    "\n",
    "Let's start by visualizing the latent space using PCA, as in the [Dimensionality Reduction](../2-Dimensionality-Reduction/Dimensionality-Reduction.ipynb) notebook."
   ]
  },
  {
   "cell_type": "code",
   "execution_count": 88,
   "id": "13c5bfc6",
   "metadata": {},
   "outputs": [
    {
     "data": {
      "image/png": "[encoded data removed]",
      "text/plain": [
       "<Figure size 500x300 with 2 Axes>"
      ]
     },
     "metadata": {},
     "output_type": "display_data"
    }
   ],
   "source": [
    "import matplotlib.pyplot as plt\n",
    "from sklearn.decomposition import PCA\n",
    "\n",
    "_, z_mean, z_logvar = model(data_train[:][0])\n",
    "\n",
    "latent_space = z_mean.detach().numpy()\n",
    "\n",
    "# Apply PCA for visualization\n",
    "pca = PCA(n_components=2)\n",
    "pca_result = pca.fit_transform(latent_space)\n",
    "\n",
    "# Plot the latent space and color points according to SMILES length\n",
    "plt.figure(figsize=(5,3))\n",
    "\n",
    "plt.scatter(pca_result[:, 0], pca_result[:, 1], alpha=0.5, c=[len(smiles) for smiles in smiles_train])\n",
    "plt.colorbar(label='SMILES length')\n",
    "plt.title('Latent Space Visualization (PCA)', size=10)\n",
    "plt.xlabel('PC 1', size=10)\n",
    "plt.ylabel('PC 2', size=10)\n",
    "\n",
    "plt.show()"
   ]
  },
  {
   "cell_type": "markdown",
   "id": "7f191a11",
   "metadata": {},
   "source": [
    "### Latent space interpolation\n",
    "Now, let's try interpolating between two points in the latent space of our VAE.\n",
    "\n",
    "💡 Note that the latent space learned by a VAE is typically not linear, but rather a non-linear manifold embedded in a higher-dimensional space. This means that linear interpolation between two points in the latent space may traverse regions that do not necessarily correspond to valid data points. For more meaningful interpolations, try spherical linear interpolation (Slerp) instead of linear interpolations."
   ]
  },
  {
   "cell_type": "code",
   "execution_count": 89,
   "id": "6499c449",
   "metadata": {},
   "outputs": [],
   "source": [
    "# Define a spherical linear interpolation function; `midpoint` ranges from 0 (closer to `p1`) to 1 (closer to `p2`)\n",
    "def slerp(p1, p2, n_inbetween_points=10):\n",
    "    p1, p2 = torch.tensor(p1), torch.tensor(p2)\n",
    "    interpolations = []\n",
    "    for midpoint in np.linspace(0, 1, num=n_inbetween_points):\n",
    "        omega = torch.acos(torch.clamp(torch.dot(p1 / torch.norm(p1), p2 / torch.norm(p2)), -1, 1))\n",
    "        so = torch.sin(omega)\n",
    "        if so == 0:\n",
    "            interpolations.append((1.0 - midpoint) * p1 + midpoint * p2)  # L'Hopital's rule/LERP\n",
    "            continue  # Avoid appending twice in case of L'Hopital's rule\n",
    "        interpolations.append(torch.sin((1.0 - midpoint) * omega) / so * p1 + torch.sin(midpoint * omega) / so * p2)\n",
    "    return torch.stack(interpolations)\n",
    "\n",
    "# If you are curious about the differences between linear and Slerp interpolation, try\n",
    "# interpolating with the function below instead of the slerp function\n",
    "# def linear_interpolation(point1, point2, n_inbetween_points=10):\n",
    "#     ratios = np.linspace(0, 1, num=n_inbetween_points)\n",
    "#     vectors = [(1.0 - ratio) * point1 + ratio * point2 for ratio in ratios]\n",
    "#     return torch.stack(vectors)"
   ]
  },
  {
   "cell_type": "code",
   "execution_count": 90,
   "id": "70092cc2",
   "metadata": {},
   "outputs": [
    {
     "name": "stdout",
     "output_type": "stream",
     "text": [
      "Point 1: C=CC=C\n",
      "- Interpolation 0: CCCCCCCCCCC111\n",
      "- Interpolation 1: CCCCCCCCCC111]]]HHHH]]]]]]]\n",
      "- Interpolation 2: CCCCCCCCCC1]]]]]]HHH]]]]]]]\n",
      "- Interpolation 3: CCCCCC11]]]H]]]]]]]\n",
      "- Interpolation 4: CCCC111]]]]]]]]]]]]]]]]\n",
      "- Interpolation 5: CCCCC11]]]]]]]]]]\n",
      "- Interpolation 6: CCCCCC11]]]]]]]]]]]]]]\n",
      "- Interpolation 7: CCCCCC1CH]]]1]]]]]]]]]]]\n",
      "- Interpolation 8: CCCCCCCC]11]]]]]]]]]]]]]]\n",
      "- Interpolation 9: CCCCCC@H]C11HH]]]]]]]]]]]\n",
      "Point 2: OC1CCC1\n"
     ]
    }
   ],
   "source": [
    "# Select two random points in the latent space\n",
    "idx1 = 54  # Can be between 0 and 5997 (i.e., 6000 minus 3)\n",
    "idx2 = 77  # Can be between 0 and 5997 (i.e., 6000 minus 3)\n",
    "\n",
    "smiles1 = smiles_train[idx1]\n",
    "smiles2 = smiles_train[idx2]\n",
    "\n",
    "point1 = latent_space[idx1]\n",
    "point2 = latent_space[idx2]\n",
    "\n",
    "# Generate interpolations\n",
    "interpolations = slerp(point1, point2)\n",
    "\n",
    "# Decode the interpolations\n",
    "model.eval()\n",
    "with torch.no_grad():\n",
    "    decoded_interpolations = model.decode(interpolations)\n",
    "\n",
    "# Print the SMILES corresponding to the interpolated values after decoding\n",
    "print(f'Point 1: {smiles1}')\n",
    "decoded_smiles = emb_to_smiles(decoded_interpolations, indices_char)\n",
    "for i, smiles in enumerate(decoded_smiles):\n",
    "    print(f'- Interpolation {i}: {smiles}')\n",
    "print(f'Point 2: {smiles2}')"
   ]
  },
  {
   "cell_type": "markdown",
   "id": "6172a276",
   "metadata": {},
   "source": [
    "### SMILES generation\n",
    "Finally, we will evaluate how well our VAE works in generating new molecules.\n",
    "\n",
    "This can be done a number of ways. Below we will demonstrate two approaches, one worse and one better:\n",
    "* Generating random latent vectors and decoding\n",
    "* Sampling from the latent space and decoding"
   ]
  },
  {
   "cell_type": "markdown",
   "id": "50c20440",
   "metadata": {},
   "source": [
    "#### Decoding random points in the VAE latent space"
   ]
  },
  {
   "cell_type": "code",
   "execution_count": 125,
   "id": "f2338b88",
   "metadata": {},
   "outputs": [
    {
     "name": "stdout",
     "output_type": "stream",
     "text": [
      "Random latent vectors decode to:\n",
      "- Sample 0: [H]11@H]1CO33333333333\n",
      "- Sample 1: C[C@H]1CC@@H]C[CH112][[[\n",
      "- Sample 2: CCC[C]]CCCCCCCCC]]O\n",
      "- Sample 3: C[C@C)C@@H]CCC@]2[@@@@\n",
      "- Sample 4: C[[@@@H][@@@H[[@H]1[[C]C\n",
      "- Sample 5: C[C@H1(C)CCCC221111]]]]]]]]\n",
      "- Sample 6: CCC[CCH][CH]]CC@H]1C1]]]\n",
      "- Sample 7: CC[CH]CCCCCCC22]]]ccHccc\n",
      "- Sample 8: CCCCCCCCCCCCCCCCCCCC\n",
      "- Sample 9: CC@@H][C[CC@H]CC@@H]22]][[[\n",
      "- Sample 10: cccccccc11111111111111111\n",
      "- Sample 11: CCCCCCCCCCCCCCCCOOOOO\n",
      "- Sample 12: ccc111111222223333333333\n",
      "- Sample 13: C[H1()CC]1C22]]]]]]]]]\n",
      "- Sample 14: CCC[[C@@H][[[[H]][[1H]][\n",
      "- Sample 15: CCCCCCCCOC[[[[[[[[[[\n",
      "- Sample 16: CC[H]C@H]]C@]22][[\n",
      "- Sample 17: ccccccccccnnnnnnnnnnnnnn\n",
      "- Sample 18: CCCCCCC11]]]]]]]]]]]]\n",
      "- Sample 19: [C@@@@[[@@@@@@@@@@@@\n",
      "- Sample 20: CC@HCC@]CC@H]2233333\n",
      "- Sample 21: cccccc111111]]]]]]]]]]]]]\n",
      "- Sample 22: [[@@H]1C[H]1CC@]1C[C@H]]\n",
      "- Sample 23: ccccc1111111111]]]]]\n",
      "- Sample 24: ccccc1111111111111111111\n",
      "- Sample 25: CCCCCCCCOOO/SSSSSSSS\n",
      "- Sample 26: CC1111OOO)333333333333\n",
      "- Sample 27: C1112222222222233333333\n",
      "- Sample 28: [C]C[@]1CC@@]122]111]\n",
      "- Sample 29: CCCCCCCCCCCCCCCCCCCCCCC\n",
      "- Sample 30: 1C]22233333333333333\n",
      "- Sample 31: CCCCH]1C2]]]]]]]]]]]]\n",
      "- Sample 32: CCCCCCCCCCCCCCCCCCCCCCCCCCC\n",
      "- Sample 33: CC[C@@@H][[[[[[[[][[\n",
      "- Sample 34: C[CH]1CC@H]1CC2]1CC]]]]]\n",
      "- Sample 35: CC@H][@@H][@@]][CC@H]22[C@@@\n",
      "- Sample 36: C[@@H]1@HCC@[[H[[[\n",
      "- Sample 37: CCCCCCCCCCCOO SSSSSS\n",
      "- Sample 38: CC@]CCC@H]]221]]]]]]]]\n",
      "- Sample 39: CCCCCCCCCOO   SSSSS\n",
      "- Sample 40: CH]C[@]1CCC@H]22]]]]]]\n",
      "- Sample 41: CCCC[CCHH]][[H]][[]H]]]]H\n",
      "- Sample 42: CC111CCC))33333333333333333\n",
      "- Sample 43: C[CC@H][[@]][[[H]]C[1H]\n",
      "- Sample 44: ccccc11111111111111111\n",
      "- Sample 45: CCCCCCCCC\n",
      "- Sample 46: cccccc11111111111111111]]\n",
      "- Sample 47: CCC[CHCCCCCC2]]]]]]]]]]\n",
      "- Sample 48: CH]CC]CCC2O\n",
      "- Sample 49: CCCC[CCH]CCCH]CC2]]]]]]]]]]]\n",
      "- Sample 50: C[[C@@@@@@@@@@@@@@@@@@@\n",
      "- Sample 51: CCCCCCCCCCCOOCCCCCCCCC\n",
      "- Sample 52: C@@](C)CC]1CC2]]]]]]]]\n",
      "- Sample 53: cccccccccccnnnnnnnnnnnnnnnnn\n",
      "- Sample 54: CCH]11CCCC2222233333333333333\n",
      "- Sample 55: CCCCCCC111]]]]]]HHH]]]]]]]]]\n",
      "- Sample 56: cccccc111111111111111\n",
      "- Sample 57: CCCC@HCCCCC]C1]]]]]]]\n",
      "- Sample 58: [CH()C]C223\n",
      "- Sample 59: cccccccc1111111111111111111\n",
      "- Sample 60: cccccc111111111111]]]]]]]]\n",
      "- Sample 61: [C@HC[[C@1C[1C@]]][\n",
      "- Sample 62: Cc111222OOO333333333333\n",
      "- Sample 63: C[[C@@@@@@@@@@@@@@@@@@@\n",
      "- Sample 64: []CCNOOOOOOOO\n",
      "- Sample 65: ccccc1111)))))))\n",
      "- Sample 66: CCCCCCO CCCCCCCCCCC\n",
      "- Sample 67: C[]CCCC11222]]]]]]]]]]\n",
      "- Sample 68: ccccccnnnnnnnn))))))))\n",
      "- Sample 69: ccccccc1111111111111111\n",
      "- Sample 70: C[HC@@]CC22]211H]]]]]\n",
      "- Sample 71: cccccc11111111111111111\n",
      "- Sample 72: C[@]H1C[@[@11CCC@\n",
      "- Sample 73: cccccc1111111111]]]]]\n",
      "- Sample 74: [C@H1C[C@@H]1[H](CC@]2C\n",
      "- Sample 75: CCCCCCCCCOO\n",
      "- Sample 76: C[@@]C[@H][@]]C1@][\n",
      "- Sample 77: CCCCC@1C)CCH]]]OO]/////////\n",
      "- Sample 78: cccccccnnnnnnn\n",
      "- Sample 79: C\\\\///////O[[[[[[[[[[[[\n",
      "- Sample 80: ccccccccc11111111111111111\n",
      "- Sample 81: CCC[CHCC@1122]]]]]]]]\n",
      "- Sample 82: ccccccccc111111111111111\n",
      "- Sample 83: cccccccoooooooooooooo\n",
      "- Sample 84: CCCCCCCCC\n",
      "- Sample 85: C[C@@H(C@H]C@]]]][@@[\n",
      "- Sample 86: ccccc111111111111]]]]]]\n",
      "- Sample 87: CCH]1CCCCH]22]3CCHHHHHH\n",
      "- Sample 88: CC@H][@H]CH1211111\n",
      "- Sample 89: CCCCCCCCCCCCCC[[[[[[[[\n",
      "- Sample 90: ccccccccccccccnnnnnnnnnnn\n",
      "- Sample 91: cccccc1111111111111111\n",
      "- Sample 92: ccccccccc1111111111111111\n",
      "- Sample 93: CC[C@H]CCC11C2]\n",
      "- Sample 94: @@(C)CCCCCCCCCC]]]][[HHH]\n",
      "- Sample 95: ccccccccccccccnooooooo\n",
      "- Sample 96: CC[@H1C@]1CC@]]21HHHHH\n",
      "- Sample 97: C[@HCCCCCC12OO\n",
      "- Sample 98: CCCCCCCCCCCCCOOOOO//C\n",
      "- Sample 99: CC[C@@H]CC)H]22]\n"
     ]
    }
   ],
   "source": [
    "num_samples = 100\n",
    "\n",
    "# Generate random latent vectors\n",
    "random_vectors = torch.randn(num_samples, len(latent_space[0]))\n",
    "\n",
    "model.eval()\n",
    "with torch.no_grad():\n",
    "    generated_samples = model.decode(random_vectors)\n",
    "\n",
    "# Print the SMILES corresponding to the random latent vectors after decoding\n",
    "print(f'Random latent vectors decode to:')\n",
    "generated_smiles = emb_to_smiles(generated_samples, indices_char)\n",
    "for i, smiles in enumerate(generated_smiles):\n",
    "    print(f'- Sample {i}: {smiles}')"
   ]
  },
  {
   "cell_type": "code",
   "execution_count": 126,
   "id": "8d45e1de",
   "metadata": {},
   "outputs": [
    {
     "name": "stdout",
     "output_type": "stream",
     "text": [
      "Fraction valid SMILES out of 100 samples: 0.0\n"
     ]
    }
   ],
   "source": [
    "from rdkit import Chem\n",
    "from rdkit import RDLogger\n",
    "\n",
    "# Suppress RDKit warnings (if the model is not well-trained, there will be a lot)\n",
    "RDLogger.DisableLog('rdApp.warning')\n",
    "RDLogger.DisableLog('rdApp.error')\n",
    "RDLogger.DisableLog('rdApp.info')\n",
    "\n",
    "# Function to canonicalize SMILES; if a string cannot be canonicalized, it is not a valid SMILES\n",
    "def canonicalize(smiles):\n",
    "    mol = Chem.MolFromSmiles(smiles)\n",
    "    if mol is not None:\n",
    "        return Chem.MolToSmiles(mol, canonical=True)\n",
    "\n",
    "# Let's evaluate how many SMILES correspond to valid molecules\n",
    "valid_smiles = [canonicalize(smiles) for smiles in decoded_smiles if canonicalize(smiles) is not None]\n",
    "fraction_valid = len(valid_smiles) / len(decoded_smiles)\n",
    "print(f'Fraction valid SMILES out of {num_samples} samples: {fraction_valid}')\n",
    "\n",
    "# Let's evaluate how many SMILES correspond to novel molecules\n",
    "if fraction_valid > 0:  # Don't bother if there are no valid SMILES samples\n",
    "    reference_smiles = [canonicalize(smiles) for smiles in smiles_strings]  # `smiles_strings` contains all train and test SMILES\n",
    "    known_smiles = set(valid_smiles) & set(reference_smiles)\n",
    "    novel_smiles = set(valid_smiles) - set(known_smiles)\n",
    "    fraction_novel = len(novel_smiles) / len(valid_smiles)\n",
    "    print(f'Fraction novel molecules out of {len(valid_smiles)} valid samples: {fraction_novel}')\n",
    "    if fraction_novel > 0:\n",
    "        print(f\"Novel SMILES: {novel_smiles.join(', ')}\")"
   ]
  },
  {
   "cell_type": "markdown",
   "id": "9fe886f3",
   "metadata": {},
   "source": [
    "💡 When checking for novel molecules via SMILES list comparison, ensure that the SMILES strings in both lists are canonicalized before comparing pairs of strings."
   ]
  },
  {
   "cell_type": "markdown",
   "id": "733cd0dc",
   "metadata": {},
   "source": [
    "#### Sampling from the latent space"
   ]
  },
  {
   "cell_type": "code",
   "execution_count": 128,
   "id": "5b658405",
   "metadata": {},
   "outputs": [
    {
     "name": "stdout",
     "output_type": "stream",
     "text": [
      "Random latent vectors decode to:\n",
      "- Sample 0: cccccccccccccc11111)))))))))))\n",
      "- Sample 1: CCCCCCCCCCCCCOOOO\n",
      "- Sample 2: CCCC]1CCC@H1122]]@@@@\n",
      "- Sample 3: C[@H][[C@]]]C@H]]CC@@]2\n",
      "- Sample 4: [@H1CCCCH]CC2]]11]]]]]]\n",
      "- Sample 5: C[[C@]1CC@H]1C22]]]]]]]]]]\n",
      "- Sample 6: CCCCCCCCCCCCCCCCCCCCCCCCC\n",
      "- Sample 7: CCCCCCCCCCCCCCCCCCCCCCCC\n",
      "- Sample 8: CCCCCH]CCCC1C112]]]cc]cc\n",
      "- Sample 9: C[@H][C@H](CCC22]2211111\n",
      "- Sample 10: CCH]1[C@@H]1CC2]]]1]]]]]]\n",
      "- Sample 11: C@]CCCC@H]11CC]2211]]]\n",
      "- Sample 12: CCCCC@H][@]]]C@]1]]\n",
      "- Sample 13: CCCC[CH]C2OOO\n",
      "- Sample 14: [@)CCC))N))))))))))\n",
      "- Sample 15: C[[C@1(C)@H]C)CCH]O\n",
      "- Sample 16: cc()))C@H]3)OC@@H]333n@@\n",
      "- Sample 17: C[C@]C[@1C[@@][H]1C\n",
      "- Sample 18: C1111CH]22C@@H22nnnnn33n\n",
      "- Sample 19: CCCC[@H]1C)CCCH122]]\n",
      "- Sample 20: CCCCCCCCCCCCO\n",
      "- Sample 21: C@H]1CCCCCCCCCCCC]CCC\n",
      "- Sample 22: ccccc111111111111\n",
      "- Sample 23: cccccc1111111111111111\n",
      "- Sample 24: CCCCCCCCCCCCCCCCCCCCCCCCCCCC\n",
      "- Sample 25: C1111222222Cn2333333333\n",
      "- Sample 26: CCCCCCCCCCCCCCCCCOOOOO/\n",
      "- Sample 27: CC]@HCCCCCC222OOOOOOOOO\n",
      "- Sample 28: cccccc11111111111111111111\n",
      "- Sample 29: [C@1[C]1CCC22]]CCHHHHHH\n",
      "- Sample 30: CH1CC@]CCC@@H]221nnn3n3\n",
      "- Sample 31: CCCC1212]]]       //\n",
      "- Sample 32: CCCCCCCCCOO\n",
      "- Sample 33: cccccccc1111111111111111\n",
      "- Sample 34: CCCCCCCCCCCCCCCCCCCCCCC\n",
      "- Sample 35: C[[@@@@@@@@@@@@@@@@@@\n",
      "- Sample 36: ccccccccc1111111111111111\n",
      "- Sample 37: CCCCCCCCCCCCCCCCCCC\n",
      "- Sample 38: C11111CC)))))3333333333333\n",
      "- Sample 39: CCCCCCCCCCCCCCCCCCCCCC\n",
      "- Sample 40: CCCCCH]CCH122]]]]]]]]]]\n",
      "- Sample 41: cccccc1111111111111\n",
      "- Sample 42: CCCCCCCCCCCCCCCCCCCCCCC\n",
      "- Sample 43: C[@H1CC]CC221111]]]]]\n",
      "- Sample 44: C[C@@H][C@H]1[@HC[@]12C@@\n",
      "- Sample 45: \\\\////////////////////////\n",
      "- Sample 46: CCCCCCCCCCCCCOOOOOOO/\n",
      "- Sample 47: CCCCCCCCC111[[[[[HHHHHHHHHH\n",
      "- Sample 48: C[C@@@@[[@@@[[[[[[[[[[[[[[\n",
      "- Sample 49: CCCCCCCCCCCCCCCCCC\n",
      "- Sample 50: CCCCCCCCCCOOOOO//////SSSS\n",
      "- Sample 51: CCCC[[CC@[[[[]]][[[[][[[[H\n",
      "- Sample 52: [@H1C[C@@H]1C[@H]1C22H[\n",
      "- Sample 53: ccccccc111111111111111111\n",
      "- Sample 54: C@]C[C]CC@H][[[[[[\n",
      "- Sample 55: CC[[C@@@@@@@@@@@@\n",
      "- Sample 56: CC@@@@@@@@@@@@@@@@@@\n",
      "- Sample 57: CCCCCCCCCO\n",
      "- Sample 58: CCHH]11C)3333333333333333\n",
      "- Sample 59: CC[@@H]1C[CH]1C1]]]]]\n",
      "- Sample 60: [[@@H[[C@@@@@@@@@@@@@@@@@@\n",
      "- Sample 61: CCCCCC1CC ]]]]]]]]]\n",
      "- Sample 62: CCCCCCCCCCCCCCCCCCCCC\n",
      "- Sample 63: CCCCC@@@@@@@[[[[[[[[[[\n",
      "- Sample 64: CCCCCC]OCH]21]]]]]]]]]\n",
      "- Sample 65: CC[C@H]C)CCCCCC1]][HH[[\n",
      "- Sample 66: CCCCCCCCC111[[[[[[[[[[[[\n",
      "- Sample 67: CCCCCCCCCCCCCCCCCCCCCCC\n",
      "- Sample 68: CCC[C@HHCC@H]222]]]]\n",
      "- Sample 69: C[CH1CCCCCCC11122333]333\n",
      "- Sample 70: cccccccc1111111111111111\n",
      "- Sample 71: C[C@]][CH]CC@]1C22]]][[\n",
      "- Sample 72: CCCC[CC@][]CH]]]]HH]\n",
      "- Sample 73: CCCCCCCCCCCCCCCCOO///C\n",
      "- Sample 74: cccccccc11111111111111111\n",
      "- Sample 75: CCCCCCCCCCCCCCCCCCCCCCCOOO\n",
      "- Sample 76: cccccc111111111111111\n",
      "- Sample 77: C[[[H]CCCH]222[[\n",
      "- Sample 78: CCCCC[[[[[[[[[[[[[[\n",
      "- Sample 79: cccccccccnnnnnnnnnnnnnnn\n",
      "- Sample 80: C[C@]1C[@C[CHCC@][[\n",
      "- Sample 81: CCCCCCCCCCCCOOOOOOOO/\n",
      "- Sample 82: Cc11111122222CCC2233333\n",
      "- Sample 83: CCCC[H])@@H]]2]]]]]]]]]\n",
      "- Sample 84: CCCC1111]]]]]]]]]]]]]]]\n",
      "- Sample 85: CCCCCCCC1[[[[[[[[\n",
      "- Sample 86: CCCCCCCCCCCCCOOOOOOOOO////\n",
      "- Sample 87: CCC[[CC@@[[[[]][]][[[H\n",
      "- Sample 88: cccccc11111111111111111\n",
      "- Sample 89: CCCC[[C@HC[CC]122]]]]]]]]]\n",
      "- Sample 90: CCC1]]]]]]]]]]]]]]]]]\n",
      "- Sample 91: ccccccccccccccccccccn\n",
      "- Sample 92: ccccccccc11111111111\n",
      "- Sample 93: ccccccc11111111]]]]]]]\n",
      "- Sample 94: CCCCCCCCCC[[[[[[[[\n",
      "- Sample 95: C\\\\\\/////////[[[[[[[[[[[[\n",
      "- Sample 96: ccccc111111111111111]]]]]]]\n",
      "- Sample 97: CCCCCCCCCCCCCCOOOOOOO\n",
      "- Sample 98: CCCCCCCCCCCCOOO\n",
      "- Sample 99: CCCCCCCCCCCOOO   CC\n"
     ]
    }
   ],
   "source": [
    "num_samples = 100\n",
    "\n",
    "def sample_latent_space(z_mean, z_logvar, num_samples):\n",
    "    _, latent_dim = z_mean.size()\n",
    "    random_idc = torch.randperm(z_mean.size(0))[:num_samples]\n",
    "\n",
    "    # Randomly select `num_samples` random rows of `z_mean`\n",
    "    z_samples = z_mean[random_idc]\n",
    "\n",
    "    # Randomly select `num_samples` random rows of `std`\n",
    "    std = torch.exp(0.5 * z_logvar)\n",
    "    std_samples = std[random_idc]\n",
    "\n",
    "    eps = torch.randn(num_samples, latent_dim)\n",
    "\n",
    "    return z_samples + eps * std_samples\n",
    "\n",
    "# Generate random latent vectors\n",
    "latent_samples = sample_latent_space(z_mean, z_logvar, num_samples)\n",
    "\n",
    "model.eval()\n",
    "with torch.no_grad():\n",
    "    generated_samples = model.decode(latent_samples)\n",
    "\n",
    "# Print the SMILES corresponding to the random latent vectors after decoding\n",
    "print(f'Random latent vectors decode to:')\n",
    "generated_smiles = emb_to_smiles(generated_samples, indices_char)\n",
    "for i, smiles in enumerate(generated_smiles):\n",
    "    print(f'- Sample {i}: {smiles}')"
   ]
  },
  {
   "cell_type": "code",
   "execution_count": 129,
   "id": "3d8f286e",
   "metadata": {},
   "outputs": [
    {
     "name": "stdout",
     "output_type": "stream",
     "text": [
      "Fraction valid SMILES out of 100 samples: 0.18\n",
      "Fraction novel molecules out of 18 valid samples: 0.8888888888888888\n",
      "Novel SMILES: CCCCCCCCCCCCOOO, CCCCCCCCCCCCCCCCCCC, CCCCCCCCCCCCCCCCCCCCCCCOOO, CCCCCCCCCCCCCCCCCC, CCCCCCCCCCCCCCCCCCCCCCCCC, CCCCCCCCCCCCO, CCCCCCCCCCCCCOOOO, CCCCCCCCCCCCCCCCCCCCCCCCCCCC, CCCCCCCCCCCOOO, CCCCCCCCCCCCCCCCCCCCCC, CCCCCCCCCO, CCCCCCCCCOO, CCCCCCCCCCCCCCCCCCCCC, CCCCCCCCCCCCCCCCCCCCCCCC, CCCCCCCCCCCCCCCCCCCCCCC, CCCCCCCCCCCCCCOOOOOOO\n"
     ]
    }
   ],
   "source": [
    "# Let's evaluate how many SMILES correspond to valid molecules\n",
    "valid_smiles = [canonicalize(smiles) for smiles in generated_smiles if canonicalize(smiles) is not None]\n",
    "fraction_valid = len(valid_smiles) / len(generated_smiles)\n",
    "print(f'Fraction valid SMILES out of {num_samples} samples: {fraction_valid}')\n",
    "\n",
    "# Let's evaluate how many SMILES correspond to novel molecules\n",
    "if fraction_valid > 0:  # Don't bother if there are no valid SMILES samples\n",
    "    reference_smiles = [canonicalize(smiles) for smiles in smiles_strings]  # `smiles_strings` contains all train and test SMILES\n",
    "    known_smiles = set(valid_smiles) & set(reference_smiles)\n",
    "    novel_smiles = set(valid_smiles) - set(known_smiles)\n",
    "    fraction_novel = len(novel_smiles) / len(valid_smiles)\n",
    "    print(f'Fraction novel molecules out of {len(valid_smiles)} valid samples: {fraction_novel}')\n",
    "    if fraction_novel > 0:\n",
    "        print(f\"Novel SMILES: {', '.join(list(novel_smiles))}\")"
   ]
  },
  {
   "cell_type": "markdown",
   "id": "7fe21041",
   "metadata": {},
   "source": [
    "💡 Sample from the prior! For molecular generation, it should be clear that it is better to sample intelligently from the latent space of the model than to generate completely random latent vectors; you will sample more valid SMILES. Avoid arbitrary or uniform sampling unless specifically intended."
   ]
  }
 ],
 "metadata": {
  "kernelspec": {
   "display_name": "Python 3 (ipykernel)",
   "language": "python",
   "name": "python3"
  },
  "language_info": {
   "codemirror_mode": {
    "name": "ipython",
    "version": 3
   },
   "file_extension": ".py",
   "mimetype": "text/x-python",
   "name": "python",
   "nbconvert_exporter": "python",
   "pygments_lexer": "ipython3",
   "version": "3.9.19"
  }
 },
 "nbformat": 4,
 "nbformat_minor": 5
}
