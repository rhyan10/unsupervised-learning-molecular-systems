{
  "nbformat": 4,
  "nbformat_minor": 0,
  "metadata": {
    "colab": {
      "provenance": []
    },
    "kernelspec": {
      "name": "python3",
      "display_name": "Python 3"
    },
    "language_info": {
      "name": "python"
    }
  },
  "cells": [
    {
      "cell_type": "markdown",
      "source": [
        "# Load QM7 dataset"
      ],
      "metadata": {
        "id": "7J-y0Yz8MF3j"
      }
    },
    {
      "cell_type": "code",
      "source": [
        "! wget http://quantum-machine.org/data/qm7.mat"
      ],
      "metadata": {
        "colab": {
          "base_uri": "https://localhost:8080/"
        },
        "id": "-AuJrWxSNZ3a",
        "outputId": "835dd4ae-f571-49db-85e2-7c524e012de2"
      },
      "execution_count": 3,
      "outputs": [
        {
          "output_type": "stream",
          "name": "stdout",
          "text": [
            "--2023-07-06 07:58:39--  http://quantum-machine.org/data/qm7.mat\n",
            "Resolving quantum-machine.org (quantum-machine.org)... 130.149.80.145\n",
            "Connecting to quantum-machine.org (quantum-machine.org)|130.149.80.145|:80... connected.\n",
            "HTTP request sent, awaiting response... 200 OK\n",
            "Length: 17884280 (17M)\n",
            "Saving to: ‘qm7.mat’\n",
            "\n",
            "qm7.mat             100%[===================>]  17.06M  14.4MB/s    in 1.2s    \n",
            "\n",
            "2023-07-06 07:58:40 (14.4 MB/s) - ‘qm7.mat’ saved [17884280/17884280]\n",
            "\n"
          ]
        }
      ]
    },
    {
      "cell_type": "code",
      "execution_count": 4,
      "metadata": {
        "id": "7dBm1mFRL4ZP"
      },
      "outputs": [],
      "source": [
        "import scipy.io\n",
        "\n",
        "# The qm7 dataset will be load as a python dictionary\n",
        "qm7_data = scipy.io.loadmat('qm7.mat')"
      ]
    },
    {
      "cell_type": "code",
      "source": [
        "for k in qm7_data.keys():\n",
        "    if \"_\" not in k:\n",
        "        print(\"{} ---> {}\".format(k,qm7_data[k].shape))\n",
        "    else:\n",
        "        print(k, qm7_data[k])"
      ],
      "metadata": {
        "colab": {
          "base_uri": "https://localhost:8080/"
        },
        "id": "AzrMGi3lMCOi",
        "outputId": "0658eda4-e264-4bb5-fade-d5e7f8dabeba"
      },
      "execution_count": 8,
      "outputs": [
        {
          "output_type": "stream",
          "name": "stdout",
          "text": [
            "__header__ b'MATLAB 5.0 MAT-file Platform: posix, Created on: Mon Feb 18 17:12:08 2013'\n",
            "__version__ 1.0\n",
            "__globals__ []\n",
            "X ---> (7165, 23, 23)\n",
            "R ---> (7165, 23, 3)\n",
            "Z ---> (7165, 23)\n",
            "T ---> (1, 7165)\n",
            "P ---> (5, 1433)\n"
          ]
        }
      ]
    },
    {
      "cell_type": "code",
      "source": [],
      "metadata": {
        "id": "m3ZN1jMxNjKn"
      },
      "execution_count": 6,
      "outputs": []
    }
  ]
}