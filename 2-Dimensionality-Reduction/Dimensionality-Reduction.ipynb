{
  "cells": [
    {
      "cell_type": "markdown",
      "metadata": {
        "id": "rdZl6o7sAsmB"
      },
      "source": [
        "# Dimensionality Reduction\n",
        "In this best practices notebook, we will use the [QM7 dataset](http://quantum-machine.org/datasets/) as a toy example to discuss and demonstrate the benefits of dimensionality reduction techniques in exploring the chemical space. The dataset comprises 7165 organic molecules with diverse sizes (up to 13 heavy-atoms) and chemical compositions, featuring heavy elements such as C, N, O, and S. In addition to the three-dimensional molecular structures available either as standard Cartesian coordinates or in the Coulomb matrix representation, the QM7 dataset also provides atomization energies for each compound calculated using density functional theory (DFT).\n",
        "\n",
        "To run this notebook, you will need to use a kernel with the following libraries installed:\n",
        "* RDKit\n",
        "* Pandas\n",
        "* ipykernel"
      ]
    },
    {
      "cell_type": "markdown",
      "metadata": {},
      "source": [
        "## Setting up the environment\n",
        "Below we install additional Python libraries you will need to run this notebook, and define a function for visualizing molecules which you will need later on:"
      ]
    },
    {
      "cell_type": "code",
      "execution_count": null,
      "metadata": {
        "colab": {
          "base_uri": "https://localhost:8080/"
        },
        "id": "BAs04_vV_y67",
        "outputId": "fbf26a5e-170a-457d-9903-8fdf2f112d0b"
      },
      "outputs": [],
      "source": [
        "# Install and update required packages\n",
        "!pip install pacmap -U\n",
        "!pip install py3Dmol -U\n",
        "!pip install scikit-learn -U\n",
        "!pip install pandas -U\n",
        "!pip install seaborn -U"
      ]
    },
    {
      "cell_type": "code",
      "execution_count": 2,
      "metadata": {
        "id": "dZSZpvWyvG7v"
      },
      "outputs": [],
      "source": [
        "import numpy as np\n",
        "\n",
        "# Import libraries for data handling and visualization\n",
        "import pandas as pd\n",
        "import matplotlib.pyplot as plt\n",
        "import py3Dmol\n",
        "\n",
        "%matplotlib inline\n",
        "\n",
        "# Define function for visualization of molecules from file\n",
        "def view_molecule(data, index, style):\n",
        "\n",
        "    bohr2ang = 0.529177249\n",
        "    symbols = {1:'H', 6:'C', 7:'N', 8:'O', 16: 'S'}\n",
        "\n",
        "    idx_nonzero = data['Z'][index].nonzero()\n",
        "    Z = data['Z'][index][idx_nonzero]\n",
        "    n_atoms = Z.size\n",
        "    labels = np.vectorize(symbols.get)(Z)\n",
        "    labels = labels.reshape(-1,1)\n",
        "\n",
        "    coords = data['R'][index][0:n_atoms,:].reshape(-1,3) * bohr2ang\n",
        "\n",
        "    xyz = np.concatenate((labels, coords), axis=1)\n",
        "    n_atoms = xyz.shape[0]\n",
        "    xyz_str = [str(i).strip('[]') for i in xyz]\n",
        "    geom = str(n_atoms) + '\\n' + ' ' + '\\n'\n",
        "    geom += '\\n'.join(xyz_str)\n",
        "    geom = geom.replace(\"'\", \"\")\n",
        "\n",
        "    for k in style.keys():\n",
        "        assert k in ('line', 'stick', 'sphere', 'carton')\n",
        "\n",
        "    molview = py3Dmol.view(width=350,height=350)\n",
        "    molview.addModel(geom,'xyz')\n",
        "\n",
        "    molview.setStyle(style)\n",
        "    molview.setBackgroundColor('0xeeeeee')\n",
        "    molview.zoomTo()\n",
        "\n",
        "    return molview"
      ]
    },
    {
      "cell_type": "markdown",
      "metadata": {
        "id": "ZP_6ZYr5CzAw"
      },
      "source": [
        "## Loading the data"
      ]
    },
    {
      "cell_type": "code",
      "execution_count": 3,
      "metadata": {
        "colab": {
          "base_uri": "https://localhost:8080/"
        },
        "id": "7dBm1mFRL4ZP",
        "outputId": "5da094e2-a477-4f5e-c33d-676958a3a73a"
      },
      "outputs": [
        {
          "name": "stdout",
          "output_type": "stream",
          "text": [
            "Data type : <class 'dict'>\n"
          ]
        }
      ],
      "source": [
        "import scipy.io\n",
        "\n",
        "# Load the QM7 dataset as a Python dictionary\n",
        "qm7_data = scipy.io.loadmat('../data/qm7.mat')\n",
        "\n",
        "print(f\"Data type : {type(qm7_data)}\")"
      ]
    },
    {
      "cell_type": "markdown",
      "metadata": {
        "id": "osLCYFmfJza3"
      },
      "source": [
        "The data is loaded as a Python dictionary containing the following keys:\n",
        "\n",
        "*   **X**: coulomb matrices\n",
        "*   **R**: cartesian coordinate (unit: Bohr)\n",
        "*   **Z**: atomic numbers\n",
        "*   **T**: atomization energies (unit: kcal/mol)\n",
        "*   **P**: cross-validation splits as used in *Montavon et al., NIPS, 2012*.\n",
        "\n",
        "Below we print the shape of each of these arrays:"
      ]
    },
    {
      "cell_type": "code",
      "execution_count": 4,
      "metadata": {
        "colab": {
          "base_uri": "https://localhost:8080/"
        },
        "id": "AzrMGi3lMCOi",
        "outputId": "16024ef1-081f-41a5-cb3e-d95eaeeabcff"
      },
      "outputs": [
        {
          "name": "stdout",
          "output_type": "stream",
          "text": [
            "__header__ b'MATLAB 5.0 MAT-file Platform: posix, Created on: Mon Feb 18 17:12:08 2013'\n",
            "__version__ 1.0\n",
            "__globals__ []\n",
            "X ---> (7165, 23, 23)\n",
            "R ---> (7165, 23, 3)\n",
            "Z ---> (7165, 23)\n",
            "T ---> (1, 7165)\n",
            "P ---> (5, 1433)\n"
          ]
        }
      ],
      "source": [
        "for k in qm7_data.keys():\n",
        "    if \"_\" not in k:\n",
        "        print(\"{} ---> {}\".format(k,qm7_data[k].shape))\n",
        "    else:\n",
        "        print(k, qm7_data[k])"
      ]
    },
    {
      "cell_type": "markdown",
      "metadata": {
        "id": "CHioyHhiLnWF"
      },
      "source": [
        "First, let's make a quick sanity check for the first entry of the dataset, which corresponds to a molecule of methane:"
      ]
    },
    {
      "cell_type": "code",
      "execution_count": 8,
      "metadata": {
        "colab": {
          "base_uri": "https://localhost:8080/"
        },
        "id": "vVbjuweNTXJk",
        "outputId": "2d7bed72-e08c-4f50-c04c-b33cafa59532"
      },
      "outputs": [
        {
          "name": "stdout",
          "output_type": "stream",
          "text": [
            "Atomic numbers:\n",
            "[6. 1. 1. 1. 1. 0. 0. 0. 0. 0. 0. 0. 0. 0. 0. 0. 0. 0. 0. 0. 0. 0. 0.]\n",
            " \n",
            "Cartesian coordinates:\n",
            "[[ 1.886438   -0.00464873 -0.00823921]\n",
            " [ 3.9499245  -0.00459203  0.00782347]\n",
            " [ 1.1976895   1.9404842   0.00782347]\n",
            " [ 1.1849339  -0.99726516  1.6593875 ]\n",
            " [ 1.2119948  -0.9589793  -1.710958  ]\n",
            " [ 0.          0.          0.        ]\n",
            " [ 0.          0.          0.        ]\n",
            " [ 0.          0.          0.        ]\n",
            " [ 0.          0.          0.        ]\n",
            " [ 0.          0.          0.        ]\n",
            " [ 0.          0.          0.        ]\n",
            " [ 0.          0.          0.        ]\n",
            " [ 0.          0.          0.        ]\n",
            " [ 0.          0.          0.        ]\n",
            " [ 0.          0.          0.        ]\n",
            " [ 0.          0.          0.        ]\n",
            " [ 0.          0.          0.        ]\n",
            " [ 0.          0.          0.        ]\n",
            " [ 0.          0.          0.        ]\n",
            " [ 0.          0.          0.        ]\n",
            " [ 0.          0.          0.        ]\n",
            " [ 0.          0.          0.        ]\n",
            " [ 0.          0.          0.        ]]\n"
          ]
        }
      ],
      "source": [
        "print('Atomic numbers:')\n",
        "print(qm7_data['Z'][0])\n",
        "print(\" \")\n",
        "print('Cartesian coordinates:')\n",
        "print(qm7_data['R'][0])"
      ]
    },
    {
      "cell_type": "markdown",
      "metadata": {
        "id": "lLnzAwqzTBwW"
      },
      "source": [
        "Note that, in order to maintain consistent array sizes across the entire dataset, molecules with fewer than the maximum number of atoms (23) will be zero-padded in their corresponding arrays. While this step ensures uniformity, it is crucial to carefully consider the zero-padding feature before applying any dimension reduction (DR) analysis, since a DR algorithm might merely learn to distinguish molecules based on their sizes or unintentionally segment the dataset into subsets of molecules with equal sizes, thereby failing to capture meaningful chemical patterns underlying the data distribution. \n",
        "\n",
        "To avoid this issue, we will perform the DR analysis on the 15-atoms subset of the QM7 dataset.  "
      ]
    },
    {
      "cell_type": "code",
      "execution_count": 9,
      "metadata": {
        "id": "DqLg0oi9hWbE"
      },
      "outputs": [],
      "source": [
        "nonzeros = np.count_nonzero(qm7_data['Z'],axis=1)\n",
        "\n",
        "# Select molecules with *exactly* 15 atoms\n",
        "n_max_atoms = 15\n",
        "idx = np.where(nonzeros == n_max_atoms)\n",
        "qm7_data['X'] = qm7_data['X'][idx][:,:n_max_atoms,:n_max_atoms]\n",
        "qm7_data['R'] = qm7_data['R'][idx][:,:n_max_atoms]\n",
        "qm7_data['Z'] = qm7_data['Z'][idx][:,:n_max_atoms]\n",
        "qm7_data['T'] = qm7_data['T'].flatten()[idx]"
      ]
    },
    {
      "cell_type": "markdown",
      "metadata": {
        "id": "ixwx0VcLVKBW"
      },
      "source": [
        "## Building the Coulomb matrix dataset for the analysis"
      ]
    },
    {
      "cell_type": "code",
      "execution_count": 12,
      "metadata": {
        "colab": {
          "base_uri": "https://localhost:8080/"
        },
        "id": "MjVztIqaVQVz",
        "outputId": "393a3364-0a97-4e87-965f-5d1b956aaf54"
      },
      "outputs": [
        {
          "name": "stdout",
          "output_type": "stream",
          "text": [
            "Coulomb matrix:\n",
            "[[73.51669    17.79188    10.574583   10.609484    6.72828     4.352822\n",
            "   2.0783362   1.5839126   1.6360577   1.5685378   1.2611265   1.013529\n",
            "   1.6256311   1.0404118   0.9301662 ]\n",
            " [17.79188    36.858105   12.444374   12.511555    7.4616017   1.6210611\n",
            "   2.899028    1.4651774   1.4753506   1.4622504   1.4564468   1.1054873\n",
            "   1.4680866   1.1392418   0.90926206]\n",
            " [10.574583   12.444374   36.858105    7.4560533  12.53489     1.2365621\n",
            "   1.4679073   2.8932884   2.892906    1.1357094   1.1043904   1.4606544\n",
            "   0.9081943   1.4643822   1.4723637 ]\n",
            " [10.609484   12.511555    7.4560533  36.858105    6.0957327   1.2397863\n",
            "   1.4769639   1.133233    0.9116201   2.897561    2.9032035   1.1057171\n",
            "   2.8976808   0.9178894   0.76837534]\n",
            " [ 6.72828     7.4616017  12.53489     6.0957327  36.858105    0.7923406\n",
            "   1.13689     1.4751805   1.4800829   0.914806    1.1048201   2.9026\n",
            "   0.76742256  2.9010375   2.900114  ]\n",
            " [ 4.352822    1.6210611   1.2365621   1.2397863   0.7923406   0.5\n",
            "   0.18619639  0.21911353  0.18560249  0.21636832  0.14758001  0.123089\n",
            "   0.18476902  0.1169079   0.11308038]\n",
            " [ 2.0783362   2.899028    1.4679073   1.4769639   1.13689     0.18619639\n",
            "   0.5         0.1722883   0.2113788   0.1724449   0.21197397  0.16399914\n",
            "   0.21114197  0.20512931  0.14044192]\n",
            " [ 1.5839126   1.4651774   2.8932884   1.133233    1.4751805   0.21911353\n",
            "   0.1722883   0.5         0.30293542  0.20388336  0.16358486  0.21213824\n",
            "   0.1402037   0.17237149  0.2119239 ]\n",
            " [ 1.6360577   1.4753506   2.892906    0.9116201   1.4800829   0.18560249\n",
            "   0.2113788   0.30293542  0.5         0.14049272  0.13649252  0.17260379\n",
            "   0.12320656  0.20894326  0.21710788]\n",
            " [ 1.5685378   1.4622504   1.1357094   2.897561    0.914806    0.21636832\n",
            "   0.1724449   0.20388336  0.14049272  0.5         0.29747483  0.17102045\n",
            "   0.30114236  0.1297489   0.12251136]\n",
            " [ 1.2611265   1.4564468   1.1043904   2.9032035   1.1048201   0.14758001\n",
            "   0.21197397  0.16358486  0.13649252  0.29747483  0.5         0.22506836\n",
            "   0.29832253  0.17150974  0.13560091]\n",
            " [ 1.013529    1.1054873   1.4606544   1.1057171   2.9026      0.123089\n",
            "   0.16399914  0.21213824  0.17260379  0.17102045  0.22506836  0.5\n",
            "   0.13548537  0.29795465  0.29961467]\n",
            " [ 1.6256311   1.4680866   0.9081943   2.8976808   0.76742256  0.18476902\n",
            "   0.21114197  0.1402037   0.12320656  0.30114236  0.29832253  0.13548537\n",
            "   0.5         0.12261838  0.1022569 ]\n",
            " [ 1.0404118   1.1392418   1.4643822   0.9178894   2.9010375   0.1169079\n",
            "   0.20512931  0.17237149  0.20894326  0.1297489   0.17150974  0.29795465\n",
            "   0.12261838  0.5         0.29875877]\n",
            " [ 0.9301662   0.90926206  1.4723637   0.76837534  2.900114    0.11308038\n",
            "   0.14044192  0.2119239   0.21710788  0.12251136  0.13560091  0.29961467\n",
            "   0.1022569   0.29875877  0.5       ]]\n"
          ]
        }
      ],
      "source": [
        "# Print the Coulomb matrix (CM) for the first molecule\n",
        "print('Coulomb matrix:')\n",
        "print(qm7_data['X'][0])"
      ]
    },
    {
      "cell_type": "code",
      "execution_count": 13,
      "metadata": {
        "colab": {
          "base_uri": "https://localhost:8080/"
        },
        "id": "m3ZN1jMxNjKn",
        "outputId": "18a9cbb1-ac4a-4a18-f010-79b14ededac5"
      },
      "outputs": [
        {
          "data": {
            "text/plain": [
              "(1219, 225)"
            ]
          },
          "execution_count": 13,
          "metadata": {},
          "output_type": "execute_result"
        }
      ],
      "source": [
        "n_samples, cm_rows, cm_cols = qm7_data['X'].shape\n",
        "\n",
        "# Transform the original tensor shape of the CM descriptor, qm7['X'], into a 2D matrix by\n",
        "# flattening the CM descriptors (15, 15) --> (225)\n",
        "qm7_cm = qm7_data['X'].reshape(-1, cm_rows * cm_cols)\n",
        "qm7_cm.shape"
      ]
    },
    {
      "cell_type": "code",
      "execution_count": 16,
      "metadata": {
        "colab": {
          "base_uri": "https://localhost:8080/",
          "height": 300
        },
        "id": "sYvdiRpLiR1C",
        "outputId": "930f6a7f-0421-455a-e325-8d55f97e8120"
      },
      "outputs": [
        {
          "data": {
            "text/html": [
              "<div>\n",
              "<style scoped>\n",
              "    .dataframe tbody tr th:only-of-type {\n",
              "        vertical-align: middle;\n",
              "    }\n",
              "\n",
              "    .dataframe tbody tr th {\n",
              "        vertical-align: top;\n",
              "    }\n",
              "\n",
              "    .dataframe thead th {\n",
              "        text-align: right;\n",
              "    }\n",
              "</style>\n",
              "<table border=\"1\" class=\"dataframe\">\n",
              "  <thead>\n",
              "    <tr style=\"text-align: right;\">\n",
              "      <th></th>\n",
              "      <th>0</th>\n",
              "      <th>1</th>\n",
              "      <th>2</th>\n",
              "      <th>3</th>\n",
              "      <th>4</th>\n",
              "      <th>5</th>\n",
              "      <th>6</th>\n",
              "      <th>7</th>\n",
              "      <th>8</th>\n",
              "      <th>9</th>\n",
              "      <th>...</th>\n",
              "      <th>215</th>\n",
              "      <th>216</th>\n",
              "      <th>217</th>\n",
              "      <th>218</th>\n",
              "      <th>219</th>\n",
              "      <th>220</th>\n",
              "      <th>221</th>\n",
              "      <th>222</th>\n",
              "      <th>223</th>\n",
              "      <th>224</th>\n",
              "    </tr>\n",
              "  </thead>\n",
              "  <tbody>\n",
              "    <tr>\n",
              "      <th>679</th>\n",
              "      <td>73.516693</td>\n",
              "      <td>17.630550</td>\n",
              "      <td>9.951796</td>\n",
              "      <td>7.431107</td>\n",
              "      <td>10.034067</td>\n",
              "      <td>7.331177</td>\n",
              "      <td>5.712772</td>\n",
              "      <td>2.024815</td>\n",
              "      <td>1.571373</td>\n",
              "      <td>4.349768</td>\n",
              "      <td>...</td>\n",
              "      <td>1.401013</td>\n",
              "      <td>2.977602</td>\n",
              "      <td>0.119629</td>\n",
              "      <td>0.124601</td>\n",
              "      <td>0.107137</td>\n",
              "      <td>0.120014</td>\n",
              "      <td>0.083402</td>\n",
              "      <td>0.102655</td>\n",
              "      <td>0.084732</td>\n",
              "      <td>0.5</td>\n",
              "    </tr>\n",
              "    <tr>\n",
              "      <th>201</th>\n",
              "      <td>53.358707</td>\n",
              "      <td>4.539490</td>\n",
              "      <td>9.245365</td>\n",
              "      <td>15.245957</td>\n",
              "      <td>6.371473</td>\n",
              "      <td>4.765467</td>\n",
              "      <td>15.252076</td>\n",
              "      <td>3.632693</td>\n",
              "      <td>1.755797</td>\n",
              "      <td>1.358771</td>\n",
              "      <td>...</td>\n",
              "      <td>0.471850</td>\n",
              "      <td>2.901193</td>\n",
              "      <td>0.222974</td>\n",
              "      <td>0.144308</td>\n",
              "      <td>0.112002</td>\n",
              "      <td>0.144907</td>\n",
              "      <td>0.092666</td>\n",
              "      <td>0.298951</td>\n",
              "      <td>0.299724</td>\n",
              "      <td>0.5</td>\n",
              "    </tr>\n",
              "    <tr>\n",
              "      <th>1025</th>\n",
              "      <td>73.516693</td>\n",
              "      <td>10.652853</td>\n",
              "      <td>8.366193</td>\n",
              "      <td>10.513724</td>\n",
              "      <td>17.854649</td>\n",
              "      <td>10.561383</td>\n",
              "      <td>9.008855</td>\n",
              "      <td>1.710161</td>\n",
              "      <td>2.054312</td>\n",
              "      <td>4.349916</td>\n",
              "      <td>...</td>\n",
              "      <td>1.501262</td>\n",
              "      <td>2.927338</td>\n",
              "      <td>0.127764</td>\n",
              "      <td>0.127132</td>\n",
              "      <td>0.108826</td>\n",
              "      <td>0.218925</td>\n",
              "      <td>0.103066</td>\n",
              "      <td>0.089440</td>\n",
              "      <td>0.284874</td>\n",
              "      <td>0.5</td>\n",
              "    </tr>\n",
              "    <tr>\n",
              "      <th>1136</th>\n",
              "      <td>388.023438</td>\n",
              "      <td>22.730005</td>\n",
              "      <td>21.878376</td>\n",
              "      <td>30.371572</td>\n",
              "      <td>12.889520</td>\n",
              "      <td>15.922998</td>\n",
              "      <td>10.301764</td>\n",
              "      <td>3.258938</td>\n",
              "      <td>2.376167</td>\n",
              "      <td>1.923466</td>\n",
              "      <td>...</td>\n",
              "      <td>0.503165</td>\n",
              "      <td>2.924763</td>\n",
              "      <td>0.146046</td>\n",
              "      <td>0.121272</td>\n",
              "      <td>0.218085</td>\n",
              "      <td>0.077135</td>\n",
              "      <td>0.077557</td>\n",
              "      <td>0.080955</td>\n",
              "      <td>0.285624</td>\n",
              "      <td>0.5</td>\n",
              "    </tr>\n",
              "    <tr>\n",
              "      <th>264</th>\n",
              "      <td>73.516693</td>\n",
              "      <td>17.465914</td>\n",
              "      <td>10.477912</td>\n",
              "      <td>18.339025</td>\n",
              "      <td>10.991267</td>\n",
              "      <td>10.065047</td>\n",
              "      <td>10.048783</td>\n",
              "      <td>1.335070</td>\n",
              "      <td>1.339443</td>\n",
              "      <td>1.574118</td>\n",
              "      <td>...</td>\n",
              "      <td>0.677485</td>\n",
              "      <td>0.675360</td>\n",
              "      <td>0.197096</td>\n",
              "      <td>0.196809</td>\n",
              "      <td>0.099412</td>\n",
              "      <td>0.098989</td>\n",
              "      <td>0.106472</td>\n",
              "      <td>0.105953</td>\n",
              "      <td>0.200020</td>\n",
              "      <td>0.5</td>\n",
              "    </tr>\n",
              "  </tbody>\n",
              "</table>\n",
              "<p>5 rows × 225 columns</p>\n",
              "</div>"
            ],
            "text/plain": [
              "             0          1          2          3          4          5    \\\n",
              "679    73.516693  17.630550   9.951796   7.431107  10.034067   7.331177   \n",
              "201    53.358707   4.539490   9.245365  15.245957   6.371473   4.765467   \n",
              "1025   73.516693  10.652853   8.366193  10.513724  17.854649  10.561383   \n",
              "1136  388.023438  22.730005  21.878376  30.371572  12.889520  15.922998   \n",
              "264    73.516693  17.465914  10.477912  18.339025  10.991267  10.065047   \n",
              "\n",
              "            6         7         8         9    ...       215       216  \\\n",
              "679    5.712772  2.024815  1.571373  4.349768  ...  1.401013  2.977602   \n",
              "201   15.252076  3.632693  1.755797  1.358771  ...  0.471850  2.901193   \n",
              "1025   9.008855  1.710161  2.054312  4.349916  ...  1.501262  2.927338   \n",
              "1136  10.301764  3.258938  2.376167  1.923466  ...  0.503165  2.924763   \n",
              "264   10.048783  1.335070  1.339443  1.574118  ...  0.677485  0.675360   \n",
              "\n",
              "           217       218       219       220       221       222       223  \\\n",
              "679   0.119629  0.124601  0.107137  0.120014  0.083402  0.102655  0.084732   \n",
              "201   0.222974  0.144308  0.112002  0.144907  0.092666  0.298951  0.299724   \n",
              "1025  0.127764  0.127132  0.108826  0.218925  0.103066  0.089440  0.284874   \n",
              "1136  0.146046  0.121272  0.218085  0.077135  0.077557  0.080955  0.285624   \n",
              "264   0.197096  0.196809  0.099412  0.098989  0.106472  0.105953  0.200020   \n",
              "\n",
              "      224  \n",
              "679   0.5  \n",
              "201   0.5  \n",
              "1025  0.5  \n",
              "1136  0.5  \n",
              "264   0.5  \n",
              "\n",
              "[5 rows x 225 columns]"
            ]
          },
          "execution_count": 16,
          "metadata": {},
          "output_type": "execute_result"
        }
      ],
      "source": [
        "# Print the flattened CM matrices for 5 random molecules from our 15-atom subset\n",
        "df_qm7_cm = pd.DataFrame(qm7_cm)\n",
        "df_qm7_cm.sample(5)"
      ]
    },
    {
      "cell_type": "markdown",
      "metadata": {
        "id": "TqUBBZooSZsO"
      },
      "source": [
        "## Principal Component Analysis (PCA)\n",
        "Principal Component Analysis (PCA) is a dimensionality reduction technique that transforms a dataset into a set of orthogonal components that capture the maximum variance in the data. It is widely used in to make high-dimensional data more manageable while retaining the most significant features.\n",
        "\n",
        "### Should you rescale your data before applying PCA?\n",
        "In PCA, the scaling of data can significantly impact the results. The following sections compare PCA applied to data without standardization (no scaling) and PCA applied to standardized data (after scaling).\n",
        "\n",
        "#### Applying PCA without first standardizing (scaling) the data\n",
        "When PCA is performed without scaling the data, the components are influenced by the variance of the original features. This means that features with larger variances will dominate the principal components, potentially leading to biased results. This can obscure the true underlying patterns in the data and result in misleading interpretations. Below, we demonstrate this effect using the QM7 dataset:"
      ]
    },
    {
      "cell_type": "code",
      "execution_count": 58,
      "metadata": {
        "id": "FMqLA7CGSkV0"
      },
      "outputs": [],
      "source": [
        "from sklearn.decomposition import PCA\n",
        "\n",
        "# Apply PCA on the CM dataset prepared above\n",
        "pca = PCA(n_components=2)\n",
        "pca.fit(df_qm7_cm)\n",
        "X_reduced = pca.transform(df_qm7_cm)"
      ]
    },
    {
      "cell_type": "markdown",
      "metadata": {
        "id": "yIkmhbnGSAw_"
      },
      "source": [
        "To visualize the resulting principal components, the first principal component can be plotted against the second one. \n",
        "\n",
        "It is possible to extract information about what information the principal components contain by coloring the data points according a certain value. \n",
        "\n",
        "In the following example, the data points are colored according to the atomization energy, chemical diversity, and atomic number of the heaviest atom in the molecule."
      ]
    },
    {
      "cell_type": "code",
      "execution_count": 31,
      "metadata": {
        "colab": {
          "base_uri": "https://localhost:8080/",
          "height": 1000
        },
        "id": "lk18uJ66mlLr",
        "outputId": "593ce25b-03c5-4b3e-f396-ba06412a2f27"
      },
      "outputs": [
        {
          "data": {
            "image/png": "[encoded data removed]",
            "text/plain": [
              "<Figure size 1400x200 with 6 Axes>"
            ]
          },
          "metadata": {},
          "output_type": "display_data"
        }
      ],
      "source": [
        "# Initialize figure object\n",
        "plt.figure(figsize=(14, 2))\n",
        "\n",
        "# First plot: Atomic number\n",
        "plt.subplot(1, 3, 1)\n",
        "max_Z = qm7_data['Z'].max(axis=1)\n",
        "plt.scatter(X_reduced[:,0], X_reduced[:,1], c=max_Z)\n",
        "plt.colorbar(label='Atomic Number')\n",
        "plt.title(\"Coloring by Heaviest Atom in a Molecule\", size=10)\n",
        "\n",
        "# Second plot: Atomization energy\n",
        "plt.subplot(1, 3, 2)\n",
        "plt.scatter(X_reduced[:,0], X_reduced[:,1], c=qm7_data[\"T\"])\n",
        "plt.colorbar(label='Atomization Energy')\n",
        "plt.title(\"Coloring by Atomization Energy\", size=10)\n",
        "\n",
        "# Third plot: Chemical diversity\n",
        "plt.subplot(1, 3, 3)\n",
        "df_u = pd.DataFrame(qm7_data[\"Z\"])\n",
        "plt.scatter(X_reduced[:,0], X_reduced[:,1], c=df_u.nunique(axis=1))\n",
        "plt.colorbar(label='Chemical Diversity')\n",
        "plt.title(\"Coloring by Chemical Diversity\", size=10)\n",
        "\n",
        "plt.tight_layout()\n",
        "plt.show()"
      ]
    },
    {
      "cell_type": "markdown",
      "metadata": {
        "id": "1Z0FWkREU3qW"
      },
      "source": [
        "As you can see in the plots above, the first principal component (x-axis) seems to mainly encode information about the heaviest atom in the molecule.\n",
        "\n",
        "In order to further validate this observation and to show another way of analyzing the principal components, we will split the QM7 dataset into two parts according to the PC1 value (> 250 and < 50). Then, we will use Py3Dmol to visualize the structures of the molecule. By visualizing different structures from each of the two PC1 clusters, we will be able to observe that the main difference between them is the presence or absence of sulfur atoms."
      ]
    },
    {
      "cell_type": "code",
      "execution_count": 37,
      "metadata": {
        "colab": {
          "base_uri": "https://localhost:8080/",
          "height": 384
        },
        "id": "GTlXE6AJWcBR",
        "outputId": "ea8c2d9c-9267-4ad2-d32a-ec79b3611cdb"
      },
      "outputs": [
        {
          "data": {
            "application/3dmoljs_load.v0": "<div id=\"3dmolviewer_1719591538794825\"  style=\"position: relative; width: 350px; height: 350px;\">\n        <p id=\"3dmolwarning_1719591538794825\" style=\"background-color:#ffcccc;color:black\">3Dmol.js failed to load for some reason.  Please check your browser console for error messages.<br></p>\n        </div>\n<script>\n\nvar loadScriptAsync = function(uri){\n  return new Promise((resolve, reject) => {\n    //this is to ignore the existence of requirejs amd\n    var savedexports, savedmodule;\n    if (typeof exports !== 'undefined') savedexports = exports;\n    else exports = {}\n    if (typeof module !== 'undefined') savedmodule = module;\n    else module = {}\n\n    var tag = document.createElement('script');\n    tag.src = uri;\n    tag.async = true;\n    tag.onload = () => {\n        exports = savedexports;\n        module = savedmodule;\n        resolve();\n    };\n  var firstScriptTag = document.getElementsByTagName('script')[0];\n  firstScriptTag.parentNode.insertBefore(tag, firstScriptTag);\n});\n};\n\nif(typeof $3Dmolpromise === 'undefined') {\n$3Dmolpromise = null;\n  $3Dmolpromise = loadScriptAsync('https://cdnjs.cloudflare.com/ajax/libs/3Dmol/2.1.0/3Dmol-min.js');\n}\n\nvar viewer_1719591538794825 = null;\nvar warn = document.getElementById(\"3dmolwarning_1719591538794825\");\nif(warn) {\n    warn.parentNode.removeChild(warn);\n}\n$3Dmolpromise.then(function() {\nviewer_1719591538794825 = $3Dmol.createViewer(document.getElementById(\"3dmolviewer_1719591538794825\"),{backgroundColor:\"white\"});\nviewer_1719591538794825.zoomTo();\n\tviewer_1719591538794825.addModel(\"15\\n \\nC -0.7804401 -0.98864007 -0.18952\\nC -1.1739202 0.40654004 0.26332\\nC -0.0031600003 1.2547001 -0.20371002\\nC 1.22002 0.38628003 0.06685\\nC 0.72095007 -1.0585701 0.06871001\\nH -1.32992 -1.7713702 0.34189004\\nH -0.97850007 -1.1053401 -1.26158\\nH -1.2593302 0.44352 1.3553201\\nH -2.1235802 0.73278004 -0.16900001\\nH -0.08862001 1.4527401 -1.27952\\nH 0.0483 2.2178502 0.31310004\\nH 1.9984301 0.54834 -0.68501\\nH 1.6514801 0.63047004 1.0441802\\nH 1.2269601 -1.6661601 -0.68852\\nH 0.91950005 -1.5185901 1.0442401\",\"xyz\");\n\tviewer_1719591538794825.setStyle({\"stick\": {\"radius\": 0.15}, \"sphere\": {\"scale\": 0.2}});\n\tviewer_1719591538794825.setBackgroundColor(\"0xeeeeee\");\n\tviewer_1719591538794825.zoomTo();\nviewer_1719591538794825.render();\n});\n</script>",
            "text/html": [
              "<div id=\"3dmolviewer_1719591538794825\"  style=\"position: relative; width: 350px; height: 350px;\">\n",
              "        <p id=\"3dmolwarning_1719591538794825\" style=\"background-color:#ffcccc;color:black\">3Dmol.js failed to load for some reason.  Please check your browser console for error messages.<br></p>\n",
              "        </div>\n",
              "<script>\n",
              "\n",
              "var loadScriptAsync = function(uri){\n",
              "  return new Promise((resolve, reject) => {\n",
              "    //this is to ignore the existence of requirejs amd\n",
              "    var savedexports, savedmodule;\n",
              "    if (typeof exports !== 'undefined') savedexports = exports;\n",
              "    else exports = {}\n",
              "    if (typeof module !== 'undefined') savedmodule = module;\n",
              "    else module = {}\n",
              "\n",
              "    var tag = document.createElement('script');\n",
              "    tag.src = uri;\n",
              "    tag.async = true;\n",
              "    tag.onload = () => {\n",
              "        exports = savedexports;\n",
              "        module = savedmodule;\n",
              "        resolve();\n",
              "    };\n",
              "  var firstScriptTag = document.getElementsByTagName('script')[0];\n",
              "  firstScriptTag.parentNode.insertBefore(tag, firstScriptTag);\n",
              "});\n",
              "};\n",
              "\n",
              "if(typeof $3Dmolpromise === 'undefined') {\n",
              "$3Dmolpromise = null;\n",
              "  $3Dmolpromise = loadScriptAsync('https://cdnjs.cloudflare.com/ajax/libs/3Dmol/2.1.0/3Dmol-min.js');\n",
              "}\n",
              "\n",
              "var viewer_1719591538794825 = null;\n",
              "var warn = document.getElementById(\"3dmolwarning_1719591538794825\");\n",
              "if(warn) {\n",
              "    warn.parentNode.removeChild(warn);\n",
              "}\n",
              "$3Dmolpromise.then(function() {\n",
              "viewer_1719591538794825 = $3Dmol.createViewer(document.getElementById(\"3dmolviewer_1719591538794825\"),{backgroundColor:\"white\"});\n",
              "viewer_1719591538794825.zoomTo();\n",
              "\tviewer_1719591538794825.addModel(\"15\\n \\nC -0.7804401 -0.98864007 -0.18952\\nC -1.1739202 0.40654004 0.26332\\nC -0.0031600003 1.2547001 -0.20371002\\nC 1.22002 0.38628003 0.06685\\nC 0.72095007 -1.0585701 0.06871001\\nH -1.32992 -1.7713702 0.34189004\\nH -0.97850007 -1.1053401 -1.26158\\nH -1.2593302 0.44352 1.3553201\\nH -2.1235802 0.73278004 -0.16900001\\nH -0.08862001 1.4527401 -1.27952\\nH 0.0483 2.2178502 0.31310004\\nH 1.9984301 0.54834 -0.68501\\nH 1.6514801 0.63047004 1.0441802\\nH 1.2269601 -1.6661601 -0.68852\\nH 0.91950005 -1.5185901 1.0442401\",\"xyz\");\n",
              "\tviewer_1719591538794825.setStyle({\"stick\": {\"radius\": 0.15}, \"sphere\": {\"scale\": 0.2}});\n",
              "\tviewer_1719591538794825.setBackgroundColor(\"0xeeeeee\");\n",
              "\tviewer_1719591538794825.zoomTo();\n",
              "viewer_1719591538794825.render();\n",
              "});\n",
              "</script>"
            ]
          },
          "metadata": {},
          "output_type": "display_data"
        },
        {
          "data": {
            "text/plain": [
              "<py3Dmol.view at 0x7fd3782d0940>"
            ]
          },
          "execution_count": 37,
          "metadata": {},
          "output_type": "execute_result"
        }
      ],
      "source": [
        "# Separate molecules into two clusters\n",
        "df_pca_cm = pd.DataFrame(X_reduced)\n",
        "idx_largest_pc1 = df_pca_cm[df_pca_cm[0] > 250].index.tolist()  # Cluster 1\n",
        "idx_smallest_pc1 = df_pca_cm[df_pca_cm[0] < 50].index.tolist()  # Cluster 2\n",
        "\n",
        "# Change the number in the rectangular bracets below ([5]) to view different structures from each cluster\n",
        "s = {'stick': {'radius': .15}, 'sphere': {'scale': 0.20}}\n",
        "mol = view_molecule(qm7_data, idx_smallest_pc1[5], s)  # Change `idx_smallest_pc1` to `idx_largest_pc1` to view molecules from the other cluster\n",
        "mol"
      ]
    },
    {
      "cell_type": "markdown",
      "metadata": {
        "id": "D9dqnmvFnpv7"
      },
      "source": [
        "#### Applying PCA after standardizing the data\n",
        "After scaling the data properly, each feature should contribute equally to the PCA transformation, allowing the principal components to capture the 'true' underlying patterns in the dataset (in this case, the 'chemically meaningful' patterns) without being biased by the varying scales of the original features."
      ]
    },
    {
      "cell_type": "code",
      "execution_count": 39,
      "metadata": {
        "id": "Yx8L8HXimwtI"
      },
      "outputs": [
        {
          "data": {
            "text/html": [
              "<div>\n",
              "<style scoped>\n",
              "    .dataframe tbody tr th:only-of-type {\n",
              "        vertical-align: middle;\n",
              "    }\n",
              "\n",
              "    .dataframe tbody tr th {\n",
              "        vertical-align: top;\n",
              "    }\n",
              "\n",
              "    .dataframe thead th {\n",
              "        text-align: right;\n",
              "    }\n",
              "</style>\n",
              "<table border=\"1\" class=\"dataframe\">\n",
              "  <thead>\n",
              "    <tr style=\"text-align: right;\">\n",
              "      <th></th>\n",
              "      <th>0</th>\n",
              "      <th>1</th>\n",
              "      <th>2</th>\n",
              "      <th>3</th>\n",
              "      <th>4</th>\n",
              "      <th>5</th>\n",
              "      <th>6</th>\n",
              "      <th>7</th>\n",
              "      <th>8</th>\n",
              "      <th>9</th>\n",
              "      <th>...</th>\n",
              "      <th>215</th>\n",
              "      <th>216</th>\n",
              "      <th>217</th>\n",
              "      <th>218</th>\n",
              "      <th>219</th>\n",
              "      <th>220</th>\n",
              "      <th>221</th>\n",
              "      <th>222</th>\n",
              "      <th>223</th>\n",
              "      <th>224</th>\n",
              "    </tr>\n",
              "  </thead>\n",
              "  <tbody>\n",
              "    <tr>\n",
              "      <th>0</th>\n",
              "      <td>-0.044549</td>\n",
              "      <td>0.722757</td>\n",
              "      <td>-0.483804</td>\n",
              "      <td>-0.465096</td>\n",
              "      <td>-1.047523</td>\n",
              "      <td>-1.275253</td>\n",
              "      <td>-1.402952</td>\n",
              "      <td>-0.467348</td>\n",
              "      <td>-0.102323</td>\n",
              "      <td>-0.025052</td>\n",
              "      <td>...</td>\n",
              "      <td>-1.369330</td>\n",
              "      <td>-2.136465</td>\n",
              "      <td>1.770912</td>\n",
              "      <td>1.724548</td>\n",
              "      <td>-0.346133</td>\n",
              "      <td>-0.170830</td>\n",
              "      <td>1.859144</td>\n",
              "      <td>-0.852049</td>\n",
              "      <td>0.988651</td>\n",
              "      <td>0.0</td>\n",
              "    </tr>\n",
              "    <tr>\n",
              "      <th>1</th>\n",
              "      <td>-0.044549</td>\n",
              "      <td>0.725228</td>\n",
              "      <td>-0.476380</td>\n",
              "      <td>0.906262</td>\n",
              "      <td>-1.037807</td>\n",
              "      <td>-1.803589</td>\n",
              "      <td>-1.410930</td>\n",
              "      <td>-0.434049</td>\n",
              "      <td>-0.137355</td>\n",
              "      <td>0.747407</td>\n",
              "      <td>...</td>\n",
              "      <td>-1.334562</td>\n",
              "      <td>-2.136684</td>\n",
              "      <td>1.809340</td>\n",
              "      <td>1.639142</td>\n",
              "      <td>-0.993904</td>\n",
              "      <td>-0.878766</td>\n",
              "      <td>1.846415</td>\n",
              "      <td>1.199059</td>\n",
              "      <td>-1.290658</td>\n",
              "      <td>0.0</td>\n",
              "    </tr>\n",
              "    <tr>\n",
              "      <th>2</th>\n",
              "      <td>-0.044549</td>\n",
              "      <td>0.728975</td>\n",
              "      <td>0.744357</td>\n",
              "      <td>-0.458203</td>\n",
              "      <td>-0.183195</td>\n",
              "      <td>-1.803703</td>\n",
              "      <td>-1.411218</td>\n",
              "      <td>0.059881</td>\n",
              "      <td>0.532819</td>\n",
              "      <td>0.029254</td>\n",
              "      <td>...</td>\n",
              "      <td>-1.242912</td>\n",
              "      <td>-2.067548</td>\n",
              "      <td>-0.727372</td>\n",
              "      <td>-0.649023</td>\n",
              "      <td>-0.956618</td>\n",
              "      <td>2.237051</td>\n",
              "      <td>-0.773411</td>\n",
              "      <td>1.185188</td>\n",
              "      <td>-1.295472</td>\n",
              "      <td>0.0</td>\n",
              "    </tr>\n",
              "    <tr>\n",
              "      <th>3</th>\n",
              "      <td>-0.044549</td>\n",
              "      <td>0.718454</td>\n",
              "      <td>-0.508503</td>\n",
              "      <td>0.906193</td>\n",
              "      <td>-0.171030</td>\n",
              "      <td>-1.805138</td>\n",
              "      <td>-1.523623</td>\n",
              "      <td>-0.526795</td>\n",
              "      <td>0.517558</td>\n",
              "      <td>0.034193</td>\n",
              "      <td>...</td>\n",
              "      <td>-1.323124</td>\n",
              "      <td>-2.150048</td>\n",
              "      <td>-0.077073</td>\n",
              "      <td>3.578688</td>\n",
              "      <td>-0.494582</td>\n",
              "      <td>2.250263</td>\n",
              "      <td>-0.400732</td>\n",
              "      <td>-0.825875</td>\n",
              "      <td>-1.096336</td>\n",
              "      <td>0.0</td>\n",
              "    </tr>\n",
              "    <tr>\n",
              "      <th>4</th>\n",
              "      <td>-0.723964</td>\n",
              "      <td>0.098569</td>\n",
              "      <td>-0.128764</td>\n",
              "      <td>-0.079294</td>\n",
              "      <td>-0.871444</td>\n",
              "      <td>-1.926379</td>\n",
              "      <td>-1.556895</td>\n",
              "      <td>-0.584487</td>\n",
              "      <td>-0.342716</td>\n",
              "      <td>-0.789746</td>\n",
              "      <td>...</td>\n",
              "      <td>-1.223060</td>\n",
              "      <td>-2.135624</td>\n",
              "      <td>-0.818050</td>\n",
              "      <td>-0.728077</td>\n",
              "      <td>2.983373</td>\n",
              "      <td>2.272133</td>\n",
              "      <td>-0.452575</td>\n",
              "      <td>-0.873451</td>\n",
              "      <td>-1.081588</td>\n",
              "      <td>0.0</td>\n",
              "    </tr>\n",
              "    <tr>\n",
              "      <th>...</th>\n",
              "      <td>...</td>\n",
              "      <td>...</td>\n",
              "      <td>...</td>\n",
              "      <td>...</td>\n",
              "      <td>...</td>\n",
              "      <td>...</td>\n",
              "      <td>...</td>\n",
              "      <td>...</td>\n",
              "      <td>...</td>\n",
              "      <td>...</td>\n",
              "      <td>...</td>\n",
              "      <td>...</td>\n",
              "      <td>...</td>\n",
              "      <td>...</td>\n",
              "      <td>...</td>\n",
              "      <td>...</td>\n",
              "      <td>...</td>\n",
              "      <td>...</td>\n",
              "      <td>...</td>\n",
              "      <td>...</td>\n",
              "      <td>...</td>\n",
              "    </tr>\n",
              "    <tr>\n",
              "      <th>1214</th>\n",
              "      <td>-0.418149</td>\n",
              "      <td>0.950632</td>\n",
              "      <td>0.624795</td>\n",
              "      <td>-0.689563</td>\n",
              "      <td>-0.426326</td>\n",
              "      <td>-0.183215</td>\n",
              "      <td>-0.412029</td>\n",
              "      <td>-0.852373</td>\n",
              "      <td>-0.831957</td>\n",
              "      <td>0.463348</td>\n",
              "      <td>...</td>\n",
              "      <td>0.419067</td>\n",
              "      <td>0.556566</td>\n",
              "      <td>-0.442788</td>\n",
              "      <td>-0.179744</td>\n",
              "      <td>-1.095523</td>\n",
              "      <td>-0.843277</td>\n",
              "      <td>0.821287</td>\n",
              "      <td>-1.042932</td>\n",
              "      <td>0.856048</td>\n",
              "      <td>0.0</td>\n",
              "    </tr>\n",
              "    <tr>\n",
              "      <th>1215</th>\n",
              "      <td>-0.418149</td>\n",
              "      <td>0.785287</td>\n",
              "      <td>0.626409</td>\n",
              "      <td>-0.664681</td>\n",
              "      <td>-0.305158</td>\n",
              "      <td>-0.210053</td>\n",
              "      <td>-0.270636</td>\n",
              "      <td>-0.890492</td>\n",
              "      <td>-0.761952</td>\n",
              "      <td>-0.728877</td>\n",
              "      <td>...</td>\n",
              "      <td>0.369628</td>\n",
              "      <td>0.535037</td>\n",
              "      <td>-0.336154</td>\n",
              "      <td>-0.653435</td>\n",
              "      <td>1.322095</td>\n",
              "      <td>0.983624</td>\n",
              "      <td>1.844822</td>\n",
              "      <td>1.194901</td>\n",
              "      <td>-1.267976</td>\n",
              "      <td>0.0</td>\n",
              "    </tr>\n",
              "    <tr>\n",
              "      <th>1216</th>\n",
              "      <td>-0.723964</td>\n",
              "      <td>-0.125038</td>\n",
              "      <td>-0.934655</td>\n",
              "      <td>0.006048</td>\n",
              "      <td>-0.689139</td>\n",
              "      <td>-0.593179</td>\n",
              "      <td>1.620175</td>\n",
              "      <td>-0.630176</td>\n",
              "      <td>-0.899804</td>\n",
              "      <td>-1.011699</td>\n",
              "      <td>...</td>\n",
              "      <td>-0.623292</td>\n",
              "      <td>0.559996</td>\n",
              "      <td>-0.193912</td>\n",
              "      <td>-0.538604</td>\n",
              "      <td>-0.795345</td>\n",
              "      <td>0.766032</td>\n",
              "      <td>-0.541173</td>\n",
              "      <td>-0.910498</td>\n",
              "      <td>0.847176</td>\n",
              "      <td>0.0</td>\n",
              "    </tr>\n",
              "    <tr>\n",
              "      <th>1217</th>\n",
              "      <td>-0.723964</td>\n",
              "      <td>-0.086327</td>\n",
              "      <td>-0.047584</td>\n",
              "      <td>-0.942256</td>\n",
              "      <td>-0.678343</td>\n",
              "      <td>0.985074</td>\n",
              "      <td>-0.047409</td>\n",
              "      <td>-1.102956</td>\n",
              "      <td>-1.064490</td>\n",
              "      <td>-0.284456</td>\n",
              "      <td>...</td>\n",
              "      <td>-0.542386</td>\n",
              "      <td>0.559233</td>\n",
              "      <td>0.961996</td>\n",
              "      <td>0.978596</td>\n",
              "      <td>-0.849560</td>\n",
              "      <td>-0.206499</td>\n",
              "      <td>1.688425</td>\n",
              "      <td>-0.832395</td>\n",
              "      <td>-1.078552</td>\n",
              "      <td>0.0</td>\n",
              "    </tr>\n",
              "    <tr>\n",
              "      <th>1218</th>\n",
              "      <td>-0.723964</td>\n",
              "      <td>-0.085841</td>\n",
              "      <td>-0.839382</td>\n",
              "      <td>0.008797</td>\n",
              "      <td>-0.659080</td>\n",
              "      <td>0.993269</td>\n",
              "      <td>-0.112112</td>\n",
              "      <td>-1.180049</td>\n",
              "      <td>-0.463392</td>\n",
              "      <td>-0.137675</td>\n",
              "      <td>...</td>\n",
              "      <td>2.231842</td>\n",
              "      <td>-1.544041</td>\n",
              "      <td>-1.100294</td>\n",
              "      <td>1.246772</td>\n",
              "      <td>2.725571</td>\n",
              "      <td>-0.317853</td>\n",
              "      <td>-0.324928</td>\n",
              "      <td>-0.793374</td>\n",
              "      <td>-1.081046</td>\n",
              "      <td>0.0</td>\n",
              "    </tr>\n",
              "  </tbody>\n",
              "</table>\n",
              "<p>1219 rows × 225 columns</p>\n",
              "</div>"
            ],
            "text/plain": [
              "           0         1         2         3         4         5         6    \\\n",
              "0    -0.044549  0.722757 -0.483804 -0.465096 -1.047523 -1.275253 -1.402952   \n",
              "1    -0.044549  0.725228 -0.476380  0.906262 -1.037807 -1.803589 -1.410930   \n",
              "2    -0.044549  0.728975  0.744357 -0.458203 -0.183195 -1.803703 -1.411218   \n",
              "3    -0.044549  0.718454 -0.508503  0.906193 -0.171030 -1.805138 -1.523623   \n",
              "4    -0.723964  0.098569 -0.128764 -0.079294 -0.871444 -1.926379 -1.556895   \n",
              "...        ...       ...       ...       ...       ...       ...       ...   \n",
              "1214 -0.418149  0.950632  0.624795 -0.689563 -0.426326 -0.183215 -0.412029   \n",
              "1215 -0.418149  0.785287  0.626409 -0.664681 -0.305158 -0.210053 -0.270636   \n",
              "1216 -0.723964 -0.125038 -0.934655  0.006048 -0.689139 -0.593179  1.620175   \n",
              "1217 -0.723964 -0.086327 -0.047584 -0.942256 -0.678343  0.985074 -0.047409   \n",
              "1218 -0.723964 -0.085841 -0.839382  0.008797 -0.659080  0.993269 -0.112112   \n",
              "\n",
              "           7         8         9    ...       215       216       217  \\\n",
              "0    -0.467348 -0.102323 -0.025052  ... -1.369330 -2.136465  1.770912   \n",
              "1    -0.434049 -0.137355  0.747407  ... -1.334562 -2.136684  1.809340   \n",
              "2     0.059881  0.532819  0.029254  ... -1.242912 -2.067548 -0.727372   \n",
              "3    -0.526795  0.517558  0.034193  ... -1.323124 -2.150048 -0.077073   \n",
              "4    -0.584487 -0.342716 -0.789746  ... -1.223060 -2.135624 -0.818050   \n",
              "...        ...       ...       ...  ...       ...       ...       ...   \n",
              "1214 -0.852373 -0.831957  0.463348  ...  0.419067  0.556566 -0.442788   \n",
              "1215 -0.890492 -0.761952 -0.728877  ...  0.369628  0.535037 -0.336154   \n",
              "1216 -0.630176 -0.899804 -1.011699  ... -0.623292  0.559996 -0.193912   \n",
              "1217 -1.102956 -1.064490 -0.284456  ... -0.542386  0.559233  0.961996   \n",
              "1218 -1.180049 -0.463392 -0.137675  ...  2.231842 -1.544041 -1.100294   \n",
              "\n",
              "           218       219       220       221       222       223  224  \n",
              "0     1.724548 -0.346133 -0.170830  1.859144 -0.852049  0.988651  0.0  \n",
              "1     1.639142 -0.993904 -0.878766  1.846415  1.199059 -1.290658  0.0  \n",
              "2    -0.649023 -0.956618  2.237051 -0.773411  1.185188 -1.295472  0.0  \n",
              "3     3.578688 -0.494582  2.250263 -0.400732 -0.825875 -1.096336  0.0  \n",
              "4    -0.728077  2.983373  2.272133 -0.452575 -0.873451 -1.081588  0.0  \n",
              "...        ...       ...       ...       ...       ...       ...  ...  \n",
              "1214 -0.179744 -1.095523 -0.843277  0.821287 -1.042932  0.856048  0.0  \n",
              "1215 -0.653435  1.322095  0.983624  1.844822  1.194901 -1.267976  0.0  \n",
              "1216 -0.538604 -0.795345  0.766032 -0.541173 -0.910498  0.847176  0.0  \n",
              "1217  0.978596 -0.849560 -0.206499  1.688425 -0.832395 -1.078552  0.0  \n",
              "1218  1.246772  2.725571 -0.317853 -0.324928 -0.793374 -1.081046  0.0  \n",
              "\n",
              "[1219 rows x 225 columns]"
            ]
          },
          "execution_count": 39,
          "metadata": {},
          "output_type": "execute_result"
        }
      ],
      "source": [
        "from sklearn.preprocessing import StandardScaler\n",
        "\n",
        "# Apply standard scaling to the QM7 dataset we prepared above (qm7_cm); the scaled\n",
        "# data is transformed into a DataFrame for further analysis\n",
        "df_scaled = pd.DataFrame(StandardScaler().fit_transform(qm7_cm))\n",
        "df_scaled"
      ]
    },
    {
      "cell_type": "code",
      "execution_count": 41,
      "metadata": {
        "colab": {
          "base_uri": "https://localhost:8080/",
          "height": 75
        },
        "id": "6xQldrcToGfN",
        "outputId": "4ba81142-a810-45b2-f921-2682ee281919"
      },
      "outputs": [
        {
          "data": {
            "text/plain": [
              "array([[-11.536623  ,  -4.499148  ],\n",
              "       [-10.823383  ,  -4.3934393 ],\n",
              "       [-11.393054  ,  -3.8300138 ],\n",
              "       ...,\n",
              "       [  0.3270062 ,  -0.13452263],\n",
              "       [  0.14472926,  -3.0896878 ],\n",
              "       [  0.5772225 ,  -3.322507  ]], dtype=float32)"
            ]
          },
          "execution_count": 41,
          "metadata": {},
          "output_type": "execute_result"
        }
      ],
      "source": [
        "# Initialize the PCA model with the number of components to keep (in this case, 2)\n",
        "pca = PCA(n_components=2)\n",
        "\n",
        "# Fit the PCA model to the standardized data\n",
        "pca.fit(df_scaled)\n",
        "\n",
        "# Transform the standardized data to the new PCA space with reduced dimensions\n",
        "X_reduced_scaled = pca.transform(df_scaled)\n",
        "X_reduced_scaled"
      ]
    },
    {
      "cell_type": "code",
      "execution_count": 42,
      "metadata": {
        "colab": {
          "base_uri": "https://localhost:8080/",
          "height": 1000
        },
        "id": "QbUtvkE7oMwr",
        "outputId": "4dddd6ae-b9b2-4a62-e1b9-b3d2eab7972b"
      },
      "outputs": [
        {
          "data": {
            "image/png": "[encoded data removed]",
            "text/plain": [
              "<Figure size 1400x200 with 6 Axes>"
            ]
          },
          "metadata": {},
          "output_type": "display_data"
        }
      ],
      "source": [
        "# Initialize figure object\n",
        "plt.figure(figsize=(14, 2))\n",
        "\n",
        "# First plot: Atomic number\n",
        "plt.subplot(1, 3, 1)\n",
        "max_Z = qm7_data['Z'].max(axis=1)\n",
        "plt.scatter(X_reduced_scaled[:, 0], X_reduced_scaled[:, 1], c=max_Z)\n",
        "plt.colorbar(label='Atomic Number')\n",
        "plt.title(\"Coloring by Heaviest Atom in a Molecule\", size=10)\n",
        "\n",
        "# Second plot: Atomization energy\n",
        "plt.subplot(1, 3, 2)\n",
        "plt.scatter(X_reduced_scaled[:, 0], X_reduced_scaled[:, 1], c=qm7_data[\"T\"])\n",
        "plt.colorbar(label='Atomization Energy')\n",
        "plt.title(\"Coloring by Atomization Energy\", size=10)\n",
        "\n",
        "# Third plot: Chemical diversity\n",
        "plt.subplot(1, 3, 3)\n",
        "df_u = pd.DataFrame(qm7_data[\"Z\"])\n",
        "plt.scatter(X_reduced_scaled[:, 0], X_reduced_scaled[:, 1], c=df_u.nunique(axis=1))\n",
        "plt.colorbar(label='Chemical Diversity')\n",
        "plt.title(\"Coloring by Chemical Diversity\", size=10)\n",
        "\n",
        "plt.tight_layout()\n",
        "plt.show()"
      ]
    },
    {
      "cell_type": "markdown",
      "metadata": {
        "id": "U3TIGe2PvpS4"
      },
      "source": [
        "### Choosing the number of principal components\n",
        "Choosing the correct number of principal components (PC) is vital to successfully reducing the dimensionality of your data. If the number of PCs is set too low, then not all of the variance in the data may be accounted for, while too many PCs can be redundant. \n",
        "\n",
        "To evaluate how many PCs to choose, the explained variance ratio for each PC can be calculated and visualized. \n",
        "\n",
        "In the following section, PCA is performed using 8 PCs for both the standardized and unscaled data, then visualized."
      ]
    },
    {
      "cell_type": "code",
      "execution_count": 50,
      "metadata": {
        "colab": {
          "base_uri": "https://localhost:8080/",
          "height": 642
        },
        "id": "JSAT3nW4pz3c",
        "outputId": "6024a732-540d-4ff8-8c3d-17426e557ce8"
      },
      "outputs": [
        {
          "name": "stdout",
          "output_type": "stream",
          "text": [
            "[0.06134315 0.04071222 0.03209439 0.03092563 0.02384917 0.02284384\n",
            " 0.02063975 0.019553  ]\n"
          ]
        },
        {
          "data": {
            "image/png": "[encoded data removed]",
            "text/plain": [
              "<Figure size 1000x300 with 2 Axes>"
            ]
          },
          "metadata": {},
          "output_type": "display_data"
        }
      ],
      "source": [
        "plt.rcParams['figure.figsize'] = [10, 3]\n",
        "\n",
        "# Plot the explained variance ratio as a function of number of PCs for the standardized data\n",
        "plt.subplot(1, 2, 1)\n",
        "pca_scaled = PCA(n_components=8)\n",
        "pca_scaled.fit(df_scaled)\n",
        "X_new_scaled = pca_scaled.transform(df_scaled)\n",
        "pcs_scaled = np.arange(len(pca_scaled.explained_variance_ratio_))+1\n",
        "print (pca_scaled.explained_variance_ratio_)\n",
        "s = 0\n",
        "cumsum = [(s:=s+i) for i in pca_scaled.explained_variance_ratio_]\n",
        "plt.bar(pcs_scaled, pca_scaled.explained_variance_ratio_,label=\"Explained variance\")\n",
        "plt.bar(pcs_scaled+0.1, cumsum, color=\"gray\", alpha = 0.3,label=\"Accumulative explained variance\")\n",
        "plt.title(\"PCA With Standardized CMs\")\n",
        "plt.xlabel(\"PC\")\n",
        "plt.ylabel(\"Explained variance ratio\")\n",
        "plt.ylim(0,1)\n",
        "plt.axhline(y = 0.9, color = 'r', linestyle = ':',label=\"Threshold\")\n",
        "plt.legend(loc=\"center left\")\n",
        "\n",
        "# Plot the explained variance ratio as a function of number of PCs for the unscaled data\n",
        "plt.subplot(1, 2, 2)\n",
        "pca = PCA(n_components=8)\n",
        "pca.fit(df_qm7_cm)\n",
        "X_new = pca.transform(df_qm7_cm)\n",
        "pcs = np.arange(len(pca.explained_variance_ratio_))+1\n",
        "s = 0\n",
        "cumsum = [(s:=s+i) for i in pca.explained_variance_ratio_]\n",
        "plt.bar(pcs, pca.explained_variance_ratio_,label=\"Explained variance\")\n",
        "plt.bar(pcs+0.1, cumsum, color=\"gray\", alpha = 0.3,label=\"Accumulative explained variance\")\n",
        "plt.title(\"PCA With Unscaled CMs\")\n",
        "plt.xlabel(\"PC\")\n",
        "plt.ylabel(\"Explained variance ratio\")\n",
        "plt.ylim(0,1)\n",
        "plt.axhline(y = 0.9, color = 'r', linestyle = ':')\n",
        "\n",
        "plt.tight_layout()\n",
        "\n",
        "plt.show()\n"
      ]
    },
    {
      "cell_type": "markdown",
      "metadata": {},
      "source": [
        "#### Summary of applying PCA to scaled versus unscaled Coulomb matrices\n",
        "Take a closer look at the Coulomb matrices and consider why normalization might be necessary. Why do unnormalized Coulomb matrices lead to seemingly \"better\" PCA results?\n",
        "\n",
        "As seen above, the explained variance for the first eight PCs is lower when using the scaled Coulomb matrices compared to when using the unscaled ones. At first glance, the results from the PCA of the unscaled Coulomb matrices may seem more promising, as more variance is explained with fewer principal components. However, this is misleading because it doesn't encode any chemically meaningful variance, but rather only variance due to the atomic numbers, which is not particularly interesting in this case and doesn't provide any new insights.\n",
        "\n",
        "This example highlights the importance of inspecting the PCs (e.g., by plotting them according to different values or visualizing a few molecules from one PC range). Normalization ensures that each feature contributes equally to the analysis, preventing features with larger variances from dominating the PCs and skewing the results."
      ]
    },
    {
      "cell_type": "markdown",
      "metadata": {
        "id": "WyNQf0zobznk"
      },
      "source": [
        "### Interpretation of principal components (PCs)"
      ]
    },
    {
      "cell_type": "code",
      "execution_count": 52,
      "metadata": {
        "id": "GvfyAymjb5Zv"
      },
      "outputs": [
        {
          "data": {
            "text/html": [
              "<div>\n",
              "<style scoped>\n",
              "    .dataframe tbody tr th:only-of-type {\n",
              "        vertical-align: middle;\n",
              "    }\n",
              "\n",
              "    .dataframe tbody tr th {\n",
              "        vertical-align: top;\n",
              "    }\n",
              "\n",
              "    .dataframe thead th {\n",
              "        text-align: right;\n",
              "    }\n",
              "</style>\n",
              "<table border=\"1\" class=\"dataframe\">\n",
              "  <thead>\n",
              "    <tr style=\"text-align: right;\">\n",
              "      <th></th>\n",
              "      <th>PC1</th>\n",
              "      <th>PC2</th>\n",
              "      <th>PC3</th>\n",
              "      <th>PC4</th>\n",
              "      <th>PC5</th>\n",
              "      <th>PC6</th>\n",
              "      <th>PC7</th>\n",
              "      <th>PC8</th>\n",
              "    </tr>\n",
              "  </thead>\n",
              "  <tbody>\n",
              "    <tr>\n",
              "      <th>0</th>\n",
              "      <td>0.091022</td>\n",
              "      <td>0.010974</td>\n",
              "      <td>0.275038</td>\n",
              "      <td>0.106593</td>\n",
              "      <td>0.002441</td>\n",
              "      <td>0.019473</td>\n",
              "      <td>0.008945</td>\n",
              "      <td>0.089520</td>\n",
              "    </tr>\n",
              "    <tr>\n",
              "      <th>1</th>\n",
              "      <td>0.048403</td>\n",
              "      <td>0.003755</td>\n",
              "      <td>0.180603</td>\n",
              "      <td>0.146480</td>\n",
              "      <td>0.040991</td>\n",
              "      <td>0.018715</td>\n",
              "      <td>0.003924</td>\n",
              "      <td>0.004959</td>\n",
              "    </tr>\n",
              "    <tr>\n",
              "      <th>2</th>\n",
              "      <td>0.037316</td>\n",
              "      <td>0.022107</td>\n",
              "      <td>0.237694</td>\n",
              "      <td>0.141996</td>\n",
              "      <td>0.018058</td>\n",
              "      <td>0.057405</td>\n",
              "      <td>0.030992</td>\n",
              "      <td>0.002179</td>\n",
              "    </tr>\n",
              "    <tr>\n",
              "      <th>3</th>\n",
              "      <td>0.080984</td>\n",
              "      <td>0.013563</td>\n",
              "      <td>0.163499</td>\n",
              "      <td>0.044898</td>\n",
              "      <td>0.021530</td>\n",
              "      <td>0.102735</td>\n",
              "      <td>0.105740</td>\n",
              "      <td>0.076901</td>\n",
              "    </tr>\n",
              "    <tr>\n",
              "      <th>4</th>\n",
              "      <td>0.072895</td>\n",
              "      <td>0.003039</td>\n",
              "      <td>0.146948</td>\n",
              "      <td>0.003713</td>\n",
              "      <td>0.010502</td>\n",
              "      <td>0.097298</td>\n",
              "      <td>0.088154</td>\n",
              "      <td>0.063329</td>\n",
              "    </tr>\n",
              "  </tbody>\n",
              "</table>\n",
              "</div>"
            ],
            "text/plain": [
              "        PC1       PC2       PC3       PC4       PC5       PC6       PC7  \\\n",
              "0  0.091022  0.010974  0.275038  0.106593  0.002441  0.019473  0.008945   \n",
              "1  0.048403  0.003755  0.180603  0.146480  0.040991  0.018715  0.003924   \n",
              "2  0.037316  0.022107  0.237694  0.141996  0.018058  0.057405  0.030992   \n",
              "3  0.080984  0.013563  0.163499  0.044898  0.021530  0.102735  0.105740   \n",
              "4  0.072895  0.003039  0.146948  0.003713  0.010502  0.097298  0.088154   \n",
              "\n",
              "        PC8  \n",
              "0  0.089520  \n",
              "1  0.004959  \n",
              "2  0.002179  \n",
              "3  0.076901  \n",
              "4  0.063329  "
            ]
          },
          "execution_count": 52,
          "metadata": {},
          "output_type": "execute_result"
        }
      ],
      "source": [
        "# Initialize the PCA model to retain the first 8 principal components and fit to the scaled CMs\n",
        "pca = PCA(n_components=8)\n",
        "pca.fit(df_scaled)\n",
        "\n",
        "# Transform the standardized data to the new PCA space with reduced dimensions\n",
        "X_reduced_scaled = pca.transform(df_scaled)\n",
        "\n",
        "# Process and print the first 5 lines for the 8 PC eigenvectors\n",
        "df_importance = pd.DataFrame(pca.components_)\n",
        "df_importance = df_importance.apply(np.abs)\n",
        "df_importance = df_importance.transpose()\n",
        "df_importance.columns = [\"PC1\", \"PC2\", \"PC3\", \"PC4\", \"PC5\", \"PC6\", \"PC7\", \"PC8\"]\n",
        "df_importance.head(5)"
      ]
    },
    {
      "cell_type": "code",
      "execution_count": 53,
      "metadata": {
        "colab": {
          "base_uri": "https://localhost:8080/"
        },
        "id": "KH6V5v5_czkJ",
        "outputId": "1a54c44b-820d-465d-b981-b82d25b0bde4"
      },
      "outputs": [
        {
          "data": {
            "text/plain": [
              "96     0.213251\n",
              "97     0.198511\n",
              "111    0.198511\n",
              "126    0.182101\n",
              "98     0.182101\n",
              "         ...   \n",
              "160    0.000000\n",
              "144    0.000000\n",
              "128    0.000000\n",
              "64     0.000000\n",
              "224    0.000000\n",
              "Name: PC1, Length: 225, dtype: float32"
            ]
          },
          "execution_count": 53,
          "metadata": {},
          "output_type": "execute_result"
        }
      ],
      "source": [
        "# Sort the features of the eigenvectors by their importance (larger value == more important)\n",
        "df_importance[\"PC1\"].sort_values(ascending=False)"
      ]
    },
    {
      "cell_type": "markdown",
      "metadata": {},
      "source": [
        "By analyzing the importance of the original input features in the PCs, we can gain information about which feature (in this case, which term in the CM) influences the PC. This allows us to better 'interpret' the PCs."
      ]
    },
    {
      "cell_type": "markdown",
      "metadata": {
        "id": "M63pQvDOQfVQ"
      },
      "source": [
        "### Visualizing the molecular structures"
      ]
    },
    {
      "cell_type": "code",
      "execution_count": 59,
      "metadata": {
        "id": "pPL87Cs6Vfj3"
      },
      "outputs": [],
      "source": [
        "df_pca_cm = pd.DataFrame(X_reduced)\n",
        "idx_largest_pc1 = df_pca_cm[df_pca_cm[0] > 250].index.tolist()\n",
        "idx_smallest_pc1 = df_pca_cm[df_pca_cm[0] < 50].index.tolist()"
      ]
    },
    {
      "cell_type": "code",
      "execution_count": 60,
      "metadata": {},
      "outputs": [
        {
          "data": {
            "text/html": [
              "<div>\n",
              "<style scoped>\n",
              "    .dataframe tbody tr th:only-of-type {\n",
              "        vertical-align: middle;\n",
              "    }\n",
              "\n",
              "    .dataframe tbody tr th {\n",
              "        vertical-align: top;\n",
              "    }\n",
              "\n",
              "    .dataframe thead th {\n",
              "        text-align: right;\n",
              "    }\n",
              "</style>\n",
              "<table border=\"1\" class=\"dataframe\">\n",
              "  <thead>\n",
              "    <tr style=\"text-align: right;\">\n",
              "      <th></th>\n",
              "      <th>0</th>\n",
              "      <th>1</th>\n",
              "    </tr>\n",
              "  </thead>\n",
              "  <tbody>\n",
              "    <tr>\n",
              "      <th>0</th>\n",
              "      <td>-5.540398</td>\n",
              "      <td>-45.321301</td>\n",
              "    </tr>\n",
              "    <tr>\n",
              "      <th>1</th>\n",
              "      <td>-4.907585</td>\n",
              "      <td>-45.959274</td>\n",
              "    </tr>\n",
              "    <tr>\n",
              "      <th>2</th>\n",
              "      <td>-4.565697</td>\n",
              "      <td>-45.632000</td>\n",
              "    </tr>\n",
              "    <tr>\n",
              "      <th>3</th>\n",
              "      <td>-4.619194</td>\n",
              "      <td>-45.108738</td>\n",
              "    </tr>\n",
              "    <tr>\n",
              "      <th>4</th>\n",
              "      <td>-41.700222</td>\n",
              "      <td>-42.998959</td>\n",
              "    </tr>\n",
              "    <tr>\n",
              "      <th>...</th>\n",
              "      <td>...</td>\n",
              "      <td>...</td>\n",
              "    </tr>\n",
              "    <tr>\n",
              "      <th>1214</th>\n",
              "      <td>-21.878227</td>\n",
              "      <td>2.886360</td>\n",
              "    </tr>\n",
              "    <tr>\n",
              "      <th>1215</th>\n",
              "      <td>-21.924301</td>\n",
              "      <td>3.119583</td>\n",
              "    </tr>\n",
              "    <tr>\n",
              "      <th>1216</th>\n",
              "      <td>-40.219597</td>\n",
              "      <td>-7.565445</td>\n",
              "    </tr>\n",
              "    <tr>\n",
              "      <th>1217</th>\n",
              "      <td>-39.983810</td>\n",
              "      <td>-7.764687</td>\n",
              "    </tr>\n",
              "    <tr>\n",
              "      <th>1218</th>\n",
              "      <td>-40.004837</td>\n",
              "      <td>-8.081268</td>\n",
              "    </tr>\n",
              "  </tbody>\n",
              "</table>\n",
              "<p>1219 rows × 2 columns</p>\n",
              "</div>"
            ],
            "text/plain": [
              "              0          1\n",
              "0     -5.540398 -45.321301\n",
              "1     -4.907585 -45.959274\n",
              "2     -4.565697 -45.632000\n",
              "3     -4.619194 -45.108738\n",
              "4    -41.700222 -42.998959\n",
              "...         ...        ...\n",
              "1214 -21.878227   2.886360\n",
              "1215 -21.924301   3.119583\n",
              "1216 -40.219597  -7.565445\n",
              "1217 -39.983810  -7.764687\n",
              "1218 -40.004837  -8.081268\n",
              "\n",
              "[1219 rows x 2 columns]"
            ]
          },
          "execution_count": 60,
          "metadata": {},
          "output_type": "execute_result"
        }
      ],
      "source": [
        "df_pca_cm"
      ]
    },
    {
      "cell_type": "code",
      "execution_count": 61,
      "metadata": {},
      "outputs": [
        {
          "data": {
            "text/plain": [
              "[1108,\n",
              " 1109,\n",
              " 1110,\n",
              " 1111,\n",
              " 1112,\n",
              " 1113,\n",
              " 1114,\n",
              " 1115,\n",
              " 1118,\n",
              " 1119,\n",
              " 1121,\n",
              " 1122,\n",
              " 1123,\n",
              " 1124,\n",
              " 1125,\n",
              " 1126,\n",
              " 1127,\n",
              " 1128,\n",
              " 1129,\n",
              " 1130,\n",
              " 1131,\n",
              " 1133,\n",
              " 1134,\n",
              " 1135,\n",
              " 1136,\n",
              " 1137,\n",
              " 1138,\n",
              " 1139,\n",
              " 1140,\n",
              " 1143,\n",
              " 1144,\n",
              " 1145,\n",
              " 1149,\n",
              " 1150]"
            ]
          },
          "execution_count": 61,
          "metadata": {},
          "output_type": "execute_result"
        }
      ],
      "source": [
        "idx_largest_pc1"
      ]
    },
    {
      "cell_type": "code",
      "execution_count": 62,
      "metadata": {
        "colab": {
          "base_uri": "https://localhost:8080/",
          "height": 203
        },
        "id": "a3RX-srDaZ-X",
        "outputId": "021105f5-86e1-4fb3-fdd7-c568067ee30e"
      },
      "outputs": [
        {
          "data": {
            "application/3dmoljs_load.v0": "<div id=\"3dmolviewer_17195933940894709\"  style=\"position: relative; width: 350px; height: 350px;\">\n        <p id=\"3dmolwarning_17195933940894709\" style=\"background-color:#ffcccc;color:black\">3Dmol.js failed to load for some reason.  Please check your browser console for error messages.<br></p>\n        </div>\n<script>\n\nvar loadScriptAsync = function(uri){\n  return new Promise((resolve, reject) => {\n    //this is to ignore the existence of requirejs amd\n    var savedexports, savedmodule;\n    if (typeof exports !== 'undefined') savedexports = exports;\n    else exports = {}\n    if (typeof module !== 'undefined') savedmodule = module;\n    else module = {}\n\n    var tag = document.createElement('script');\n    tag.src = uri;\n    tag.async = true;\n    tag.onload = () => {\n        exports = savedexports;\n        module = savedmodule;\n        resolve();\n    };\n  var firstScriptTag = document.getElementsByTagName('script')[0];\n  firstScriptTag.parentNode.insertBefore(tag, firstScriptTag);\n});\n};\n\nif(typeof $3Dmolpromise === 'undefined') {\n$3Dmolpromise = null;\n  $3Dmolpromise = loadScriptAsync('https://cdnjs.cloudflare.com/ajax/libs/3Dmol/2.1.0/3Dmol-min.js');\n}\n\nvar viewer_17195933940894709 = null;\nvar warn = document.getElementById(\"3dmolwarning_17195933940894709\");\nif(warn) {\n    warn.parentNode.removeChild(warn);\n}\n$3Dmolpromise.then(function() {\nviewer_17195933940894709 = $3Dmol.createViewer(document.getElementById(\"3dmolviewer_17195933940894709\"),{backgroundColor:\"white\"});\nviewer_17195933940894709.zoomTo();\n\tviewer_17195933940894709.addModel(\"15\\n \\nC 0.9425201 0.046500005 -0.010600001\\nC 2.4371202 0.050720003 -0.0017000001\\nC 3.2029102 1.20237 0.00855\\nS 4.87883 0.8886201 0.016760001\\nC 4.6124005 -0.79542005 0.0066400007\\nC 3.2700002 -1.1311702 -0.00279\\nC 2.7810402 -2.5434203 -0.013200001\\nH 0.54012007 1.06437 -0.0051300004\\nH 0.55805004 -0.47285005 0.87267005\\nH 0.56878 -0.45931002 -0.9062501\\nH 2.85328 2.22566 0.011590001\\nH 5.45804 -1.46923 0.00803\\nH 1.6892701 -2.6010902 -0.007320001\\nH 3.15051 -3.07764 0.8677601\\nH 3.1405602 -3.0607004 -0.90824\",\"xyz\");\n\tviewer_17195933940894709.setStyle({\"stick\": {\"radius\": 0.15}, \"sphere\": {\"scale\": 0.2}});\n\tviewer_17195933940894709.setBackgroundColor(\"0xeeeeee\");\n\tviewer_17195933940894709.zoomTo();\nviewer_17195933940894709.render();\n});\n</script>",
            "text/html": [
              "<div id=\"3dmolviewer_17195933940894709\"  style=\"position: relative; width: 350px; height: 350px;\">\n",
              "        <p id=\"3dmolwarning_17195933940894709\" style=\"background-color:#ffcccc;color:black\">3Dmol.js failed to load for some reason.  Please check your browser console for error messages.<br></p>\n",
              "        </div>\n",
              "<script>\n",
              "\n",
              "var loadScriptAsync = function(uri){\n",
              "  return new Promise((resolve, reject) => {\n",
              "    //this is to ignore the existence of requirejs amd\n",
              "    var savedexports, savedmodule;\n",
              "    if (typeof exports !== 'undefined') savedexports = exports;\n",
              "    else exports = {}\n",
              "    if (typeof module !== 'undefined') savedmodule = module;\n",
              "    else module = {}\n",
              "\n",
              "    var tag = document.createElement('script');\n",
              "    tag.src = uri;\n",
              "    tag.async = true;\n",
              "    tag.onload = () => {\n",
              "        exports = savedexports;\n",
              "        module = savedmodule;\n",
              "        resolve();\n",
              "    };\n",
              "  var firstScriptTag = document.getElementsByTagName('script')[0];\n",
              "  firstScriptTag.parentNode.insertBefore(tag, firstScriptTag);\n",
              "});\n",
              "};\n",
              "\n",
              "if(typeof $3Dmolpromise === 'undefined') {\n",
              "$3Dmolpromise = null;\n",
              "  $3Dmolpromise = loadScriptAsync('https://cdnjs.cloudflare.com/ajax/libs/3Dmol/2.1.0/3Dmol-min.js');\n",
              "}\n",
              "\n",
              "var viewer_17195933940894709 = null;\n",
              "var warn = document.getElementById(\"3dmolwarning_17195933940894709\");\n",
              "if(warn) {\n",
              "    warn.parentNode.removeChild(warn);\n",
              "}\n",
              "$3Dmolpromise.then(function() {\n",
              "viewer_17195933940894709 = $3Dmol.createViewer(document.getElementById(\"3dmolviewer_17195933940894709\"),{backgroundColor:\"white\"});\n",
              "viewer_17195933940894709.zoomTo();\n",
              "\tviewer_17195933940894709.addModel(\"15\\n \\nC 0.9425201 0.046500005 -0.010600001\\nC 2.4371202 0.050720003 -0.0017000001\\nC 3.2029102 1.20237 0.00855\\nS 4.87883 0.8886201 0.016760001\\nC 4.6124005 -0.79542005 0.0066400007\\nC 3.2700002 -1.1311702 -0.00279\\nC 2.7810402 -2.5434203 -0.013200001\\nH 0.54012007 1.06437 -0.0051300004\\nH 0.55805004 -0.47285005 0.87267005\\nH 0.56878 -0.45931002 -0.9062501\\nH 2.85328 2.22566 0.011590001\\nH 5.45804 -1.46923 0.00803\\nH 1.6892701 -2.6010902 -0.007320001\\nH 3.15051 -3.07764 0.8677601\\nH 3.1405602 -3.0607004 -0.90824\",\"xyz\");\n",
              "\tviewer_17195933940894709.setStyle({\"stick\": {\"radius\": 0.15}, \"sphere\": {\"scale\": 0.2}});\n",
              "\tviewer_17195933940894709.setBackgroundColor(\"0xeeeeee\");\n",
              "\tviewer_17195933940894709.zoomTo();\n",
              "viewer_17195933940894709.render();\n",
              "});\n",
              "</script>"
            ]
          },
          "metadata": {},
          "output_type": "display_data"
        },
        {
          "data": {
            "text/plain": [
              "<py3Dmol.view at 0x7fd3d0684df0>"
            ]
          },
          "execution_count": 62,
          "metadata": {},
          "output_type": "execute_result"
        }
      ],
      "source": [
        "s = {'stick': {'radius': .15}, 'sphere': {'scale': 0.20}}\n",
        "mol = view_molecule(qm7_data, idx_largest_pc1[5], s)\n",
        "mol"
      ]
    },
    {
      "cell_type": "code",
      "execution_count": null,
      "metadata": {
        "colab": {
          "base_uri": "https://localhost:8080/",
          "height": 384
        },
        "id": "QwK_nFtFagp6",
        "outputId": "fb49bae1-7eec-444b-a3d0-27f4df899bdb"
      },
      "outputs": [],
      "source": [
        "mol = view_molecule(qm7_data, idx_smallest_pc1[22], s)\n",
        "mol\n"
      ]
    },
    {
      "cell_type": "code",
      "execution_count": null,
      "metadata": {
        "id": "cpMZr0QwpZg_"
      },
      "outputs": [],
      "source": [
        "fig_size = (8, 4)\n",
        "df_X_new = pd.DataFrame(X_new)\n",
        "plt.figure(figsize=fig_size)\n",
        "\n",
        "# First subplot: PC1 > 250\n",
        "plt.subplot(1, 2, 1)\n",
        "df_X_new_filtered = df_X_new.loc[df_X_new[0] > 250]\n",
        "test = pd.DataFrame(qm7_data['Z'][list(df_X_new_filtered.index.values)])\n",
        "plt.hist(test.stack())\n",
        "plt.xlabel(\"Z of atoms in molecules\")\n",
        "plt.ylabel(\"#\")\n",
        "plt.title(\"PC1 > 250\")\n",
        "\n",
        "# Second subplot: PC1 < 250\n",
        "plt.subplot(1, 2, 2)\n",
        "df_X_new_filtered = df_X_new.loc[df_X_new[0] < 250]\n",
        "test = pd.DataFrame(qm7_data['Z'][list(df_X_new_filtered.index.values)])\n",
        "plt.hist(test.stack())\n",
        "plt.xlabel(\"Z of atoms in molecules\")  # Added xlabel for consistency\n",
        "plt.ylabel(\"#\")\n",
        "plt.title(\"PC1 < 250\")\n",
        "plt.xlim(0, 17)\n",
        "\n",
        "# Display the plots\n",
        "plt.tight_layout()  # Adjusts subplot params to give specified padding\n",
        "plt.show()\n"
      ]
    },
    {
      "cell_type": "markdown",
      "metadata": {
        "id": "XomfyIWlpxg4"
      },
      "source": [
        "To evaluate the seperation of molecules by the first principle component for the unscaled dataset the number of atoms for molecules showing a PC 1 of over or under 250 is plotted above. Molecules with a PC1 over 250 are made of Sulfur atoms (Z=16), whilst molecules with a PC1 under 250 are not."
      ]
    },
    {
      "cell_type": "markdown",
      "metadata": {
        "id": "Li22IwvbpfaT"
      },
      "source": [
        "## t-SNE"
      ]
    },
    {
      "cell_type": "code",
      "execution_count": null,
      "metadata": {
        "id": "SkMfYM2Piune"
      },
      "outputs": [],
      "source": [
        "from sklearn.manifold import TSNE\n",
        "fig_size = (8, 4)\n",
        "X_embedded = TSNE(n_components=2, learning_rate='auto', init='random', perplexity=50).fit_transform(df_scaled)\n",
        "\n",
        "# First plot: t-SNE embedding without coloring\n",
        "plt.figure(figsize=fig_size)\n",
        "plt.scatter(X_embedded.T[0], X_embedded.T[1])\n",
        "plt.title(\"t-SNE Embedding\")\n",
        "plt.show()\n",
        "\n",
        "# Second plot: t-SNE embedding colored by atomization energy\n",
        "plt.figure(figsize=fig_size)\n",
        "plt.scatter(X_embedded.T[0], X_embedded.T[1], c=qm7_data[\"T\"])\n",
        "plt.title(\"c=Atomization energy\")\n",
        "plt.show()\n",
        "\n",
        "# Third plot: t-SNE embedding colored by chemical diversity\n",
        "plt.figure(figsize=fig_size)\n",
        "df_u = pd.DataFrame(qm7_data[\"Z\"])\n",
        "plt.scatter(X_embedded.T[0], X_embedded.T[1], c=df_u.nunique(axis=1))\n",
        "plt.title(\"c=Chem diversity\")\n",
        "plt.show()\n"
      ]
    }
  ],
  "metadata": {
    "colab": {
      "provenance": []
    },
    "kernelspec": {
      "display_name": "Python 3",
      "name": "python3"
    },
    "language_info": {
      "codemirror_mode": {
        "name": "ipython",
        "version": 3
      },
      "file_extension": ".py",
      "mimetype": "text/x-python",
      "name": "python",
      "nbconvert_exporter": "python",
      "pygments_lexer": "ipython3",
      "version": "3.9.19"
    }
  },
  "nbformat": 4,
  "nbformat_minor": 0
}
