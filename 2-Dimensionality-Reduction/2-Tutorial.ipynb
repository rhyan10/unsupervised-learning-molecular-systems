{
  "nbformat": 4,
  "nbformat_minor": 0,
  "metadata": {
    "colab": {
      "provenance": []
    },
    "kernelspec": {
      "name": "python3",
      "display_name": "Python 3"
    },
    "language_info": {
      "name": "python"
    }
  },
  "cells": [
    {
      "cell_type": "markdown",
      "source": [
        "# Load QM7 dataset"
      ],
      "metadata": {
        "id": "7J-y0Yz8MF3j"
      }
    },
    {
      "cell_type": "code",
      "source": [
        "! wget http://quantum-machine.org/data/qm7.mat"
      ],
      "metadata": {
        "colab": {
          "base_uri": "https://localhost:8080/"
        },
        "id": "-AuJrWxSNZ3a",
        "outputId": "8a3fb7d5-b0ba-4d14-9553-68e8b2849fa9"
      },
      "execution_count": null,
      "outputs": [
        {
          "output_type": "stream",
          "name": "stdout",
          "text": [
            "--2023-07-06 13:27:58--  http://quantum-machine.org/data/qm7.mat\n",
            "Resolving quantum-machine.org (quantum-machine.org)... 130.149.80.145\n",
            "Connecting to quantum-machine.org (quantum-machine.org)|130.149.80.145|:80... connected.\n",
            "HTTP request sent, awaiting response... 200 OK\n",
            "Length: 17884280 (17M)\n",
            "Saving to: ‘qm7.mat’\n",
            "\n",
            "qm7.mat             100%[===================>]  17.06M  12.9MB/s    in 1.3s    \n",
            "\n",
            "2023-07-06 13:28:00 (12.9 MB/s) - ‘qm7.mat’ saved [17884280/17884280]\n",
            "\n"
          ]
        }
      ]
    },
    {
      "cell_type": "code",
      "execution_count": null,
      "metadata": {
        "id": "7dBm1mFRL4ZP"
      },
      "outputs": [],
      "source": [
        "import scipy.io\n",
        "\n",
        "# The qm7 dataset will be load as a python dictionary\n",
        "qm7_data = scipy.io.loadmat('qm7.mat')"
      ]
    },
    {
      "cell_type": "code",
      "source": [
        "for k in qm7_data.keys():\n",
        "    if \"_\" not in k:\n",
        "        print(\"{} ---> {}\".format(k,qm7_data[k].shape))\n",
        "    else:\n",
        "        print(k, qm7_data[k])"
      ],
      "metadata": {
        "colab": {
          "base_uri": "https://localhost:8080/"
        },
        "id": "AzrMGi3lMCOi",
        "outputId": "1e2aaf40-50c4-48fc-f095-43e61a56be05"
      },
      "execution_count": null,
      "outputs": [
        {
          "output_type": "stream",
          "name": "stdout",
          "text": [
            "__header__ b'MATLAB 5.0 MAT-file Platform: posix, Created on: Mon Feb 18 17:12:08 2013'\n",
            "__version__ 1.0\n",
            "__globals__ []\n",
            "X ---> (7165, 23, 23)\n",
            "R ---> (7165, 23, 3)\n",
            "Z ---> (7165, 23)\n",
            "T ---> (1, 7165)\n",
            "P ---> (5, 1433)\n"
          ]
        }
      ]
    },
    {
      "cell_type": "markdown",
      "source": [
        "The R and Z keys of the dictionary correspond to the Cartesian coordinates (given in Bohr) and the atomic charge of each atom in the molecules."
      ],
      "metadata": {
        "id": "ZhlHCfNFhQrT"
      }
    },
    {
      "cell_type": "code",
      "source": [
        "print(\"Atomic charges:\")\n",
        "print(qm7_data['Z'][0])\n",
        "print(\" \")\n",
        "print(\"Cartesian coordinates:\")\n",
        "print(qm7_data['R'][0])"
      ],
      "metadata": {
        "colab": {
          "base_uri": "https://localhost:8080/"
        },
        "id": "vVbjuweNTXJk",
        "outputId": "6feb6899-ef9b-4607-cc32-434598ffc568"
      },
      "execution_count": null,
      "outputs": [
        {
          "output_type": "stream",
          "name": "stdout",
          "text": [
            "Atomic charges:\n",
            "[6. 1. 1. 1. 1. 0. 0. 0. 0. 0. 0. 0. 0. 0. 0. 0. 0. 0. 0. 0. 0. 0. 0.]\n",
            " \n",
            "Cartesian coordinates:\n",
            "[[ 1.886438   -0.00464873 -0.00823921]\n",
            " [ 3.9499245  -0.00459203  0.00782347]\n",
            " [ 1.1976895   1.9404842   0.00782347]\n",
            " [ 1.1849339  -0.99726516  1.6593875 ]\n",
            " [ 1.2119948  -0.9589793  -1.710958  ]\n",
            " [ 0.          0.          0.        ]\n",
            " [ 0.          0.          0.        ]\n",
            " [ 0.          0.          0.        ]\n",
            " [ 0.          0.          0.        ]\n",
            " [ 0.          0.          0.        ]\n",
            " [ 0.          0.          0.        ]\n",
            " [ 0.          0.          0.        ]\n",
            " [ 0.          0.          0.        ]\n",
            " [ 0.          0.          0.        ]\n",
            " [ 0.          0.          0.        ]\n",
            " [ 0.          0.          0.        ]\n",
            " [ 0.          0.          0.        ]\n",
            " [ 0.          0.          0.        ]\n",
            " [ 0.          0.          0.        ]\n",
            " [ 0.          0.          0.        ]\n",
            " [ 0.          0.          0.        ]\n",
            " [ 0.          0.          0.        ]\n",
            " [ 0.          0.          0.        ]]\n"
          ]
        }
      ]
    },
    {
      "cell_type": "markdown",
      "source": [
        "## Building the Coulomb matrix dataset for the analysis"
      ],
      "metadata": {
        "id": "ixwx0VcLVKBW"
      }
    },
    {
      "cell_type": "code",
      "source": [
        "# Math libraries\n",
        "import numpy as np\n",
        "\n",
        "# Data handling and visualization\n",
        "import pandas as pd\n",
        "import seaborn as sns\n",
        "import matplotlib.pyplot as plt\n",
        "from mpl_toolkits.mplot3d import Axes3D\n",
        "\n",
        "%matplotlib inline"
      ],
      "metadata": {
        "id": "B0TBsxhFiL4d"
      },
      "execution_count": null,
      "outputs": []
    },
    {
      "cell_type": "code",
      "source": [
        "print(\"Coulomb matrix:\")\n",
        "print(qm7_data['X'][0])"
      ],
      "metadata": {
        "colab": {
          "base_uri": "https://localhost:8080/"
        },
        "id": "MjVztIqaVQVz",
        "outputId": "20ce0d22-6dc2-453b-c47c-51e83ea59453"
      },
      "execution_count": null,
      "outputs": [
        {
          "output_type": "stream",
          "name": "stdout",
          "text": [
            "Coulomb matrix:\n",
            "[[36.858105    2.9076326   2.907612    2.9075644   2.9053485   0.\n",
            "   0.          0.          0.          0.          0.          0.\n",
            "   0.          0.          0.          0.          0.          0.\n",
            "   0.          0.          0.          0.          0.        ]\n",
            " [ 2.9076326   0.5         0.29672     0.29671896  0.2966784   0.\n",
            "   0.          0.          0.          0.          0.          0.\n",
            "   0.          0.          0.          0.          0.          0.\n",
            "   0.          0.          0.          0.          0.        ]\n",
            " [ 2.907612    0.29672     0.5         0.29671845  0.29667813  0.\n",
            "   0.          0.          0.          0.          0.          0.\n",
            "   0.          0.          0.          0.          0.          0.\n",
            "   0.          0.          0.          0.          0.        ]\n",
            " [ 2.9075644   0.29671896  0.29671845  0.5         0.29667678  0.\n",
            "   0.          0.          0.          0.          0.          0.\n",
            "   0.          0.          0.          0.          0.          0.\n",
            "   0.          0.          0.          0.          0.        ]\n",
            " [ 2.9053485   0.2966784   0.29667813  0.29667678  0.5         0.\n",
            "   0.          0.          0.          0.          0.          0.\n",
            "   0.          0.          0.          0.          0.          0.\n",
            "   0.          0.          0.          0.          0.        ]\n",
            " [ 0.          0.          0.          0.          0.          0.\n",
            "   0.          0.          0.          0.          0.          0.\n",
            "   0.          0.          0.          0.          0.          0.\n",
            "   0.          0.          0.          0.          0.        ]\n",
            " [ 0.          0.          0.          0.          0.          0.\n",
            "   0.          0.          0.          0.          0.          0.\n",
            "   0.          0.          0.          0.          0.          0.\n",
            "   0.          0.          0.          0.          0.        ]\n",
            " [ 0.          0.          0.          0.          0.          0.\n",
            "   0.          0.          0.          0.          0.          0.\n",
            "   0.          0.          0.          0.          0.          0.\n",
            "   0.          0.          0.          0.          0.        ]\n",
            " [ 0.          0.          0.          0.          0.          0.\n",
            "   0.          0.          0.          0.          0.          0.\n",
            "   0.          0.          0.          0.          0.          0.\n",
            "   0.          0.          0.          0.          0.        ]\n",
            " [ 0.          0.          0.          0.          0.          0.\n",
            "   0.          0.          0.          0.          0.          0.\n",
            "   0.          0.          0.          0.          0.          0.\n",
            "   0.          0.          0.          0.          0.        ]\n",
            " [ 0.          0.          0.          0.          0.          0.\n",
            "   0.          0.          0.          0.          0.          0.\n",
            "   0.          0.          0.          0.          0.          0.\n",
            "   0.          0.          0.          0.          0.        ]\n",
            " [ 0.          0.          0.          0.          0.          0.\n",
            "   0.          0.          0.          0.          0.          0.\n",
            "   0.          0.          0.          0.          0.          0.\n",
            "   0.          0.          0.          0.          0.        ]\n",
            " [ 0.          0.          0.          0.          0.          0.\n",
            "   0.          0.          0.          0.          0.          0.\n",
            "   0.          0.          0.          0.          0.          0.\n",
            "   0.          0.          0.          0.          0.        ]\n",
            " [ 0.          0.          0.          0.          0.          0.\n",
            "   0.          0.          0.          0.          0.          0.\n",
            "   0.          0.          0.          0.          0.          0.\n",
            "   0.          0.          0.          0.          0.        ]\n",
            " [ 0.          0.          0.          0.          0.          0.\n",
            "   0.          0.          0.          0.          0.          0.\n",
            "   0.          0.          0.          0.          0.          0.\n",
            "   0.          0.          0.          0.          0.        ]\n",
            " [ 0.          0.          0.          0.          0.          0.\n",
            "   0.          0.          0.          0.          0.          0.\n",
            "   0.          0.          0.          0.          0.          0.\n",
            "   0.          0.          0.          0.          0.        ]\n",
            " [ 0.          0.          0.          0.          0.          0.\n",
            "   0.          0.          0.          0.          0.          0.\n",
            "   0.          0.          0.          0.          0.          0.\n",
            "   0.          0.          0.          0.          0.        ]\n",
            " [ 0.          0.          0.          0.          0.          0.\n",
            "   0.          0.          0.          0.          0.          0.\n",
            "   0.          0.          0.          0.          0.          0.\n",
            "   0.          0.          0.          0.          0.        ]\n",
            " [ 0.          0.          0.          0.          0.          0.\n",
            "   0.          0.          0.          0.          0.          0.\n",
            "   0.          0.          0.          0.          0.          0.\n",
            "   0.          0.          0.          0.          0.        ]\n",
            " [ 0.          0.          0.          0.          0.          0.\n",
            "   0.          0.          0.          0.          0.          0.\n",
            "   0.          0.          0.          0.          0.          0.\n",
            "   0.          0.          0.          0.          0.        ]\n",
            " [ 0.          0.          0.          0.          0.          0.\n",
            "   0.          0.          0.          0.          0.          0.\n",
            "   0.          0.          0.          0.          0.          0.\n",
            "   0.          0.          0.          0.          0.        ]\n",
            " [ 0.          0.          0.          0.          0.          0.\n",
            "   0.          0.          0.          0.          0.          0.\n",
            "   0.          0.          0.          0.          0.          0.\n",
            "   0.          0.          0.          0.          0.        ]\n",
            " [ 0.          0.          0.          0.          0.          0.\n",
            "   0.          0.          0.          0.          0.          0.\n",
            "   0.          0.          0.          0.          0.          0.\n",
            "   0.          0.          0.          0.          0.        ]]\n"
          ]
        }
      ]
    },
    {
      "cell_type": "code",
      "source": [
        "n_samples, cm_rows, cm_cols = qm7_data['X'].shape\n",
        "# Transform the original tensor shape of the CM descriptor, qm7['X'], into a 2D matrix\n",
        "qm7_cm = qm7_data['X'].reshape(-1, cm_rows * cm_cols)\n",
        "qm7_cm.shape"
      ],
      "metadata": {
        "id": "m3ZN1jMxNjKn",
        "colab": {
          "base_uri": "https://localhost:8080/"
        },
        "outputId": "64d1d6be-793f-4213-c63a-29423cf02fcd"
      },
      "execution_count": null,
      "outputs": [
        {
          "output_type": "execute_result",
          "data": {
            "text/plain": [
              "(7165, 529)"
            ]
          },
          "metadata": {},
          "execution_count": 8
        }
      ]
    },
    {
      "cell_type": "code",
      "source": [
        "df_qm7_cm = pd.DataFrame(qm7_cm)\n",
        "df_qm7_cm.sample(5)"
      ],
      "metadata": {
        "colab": {
          "base_uri": "https://localhost:8080/",
          "height": 236
        },
        "id": "sYvdiRpLiR1C",
        "outputId": "9dccfd36-8c82-41ff-d7d1-de2057b9c584"
      },
      "execution_count": null,
      "outputs": [
        {
          "output_type": "execute_result",
          "data": {
            "text/plain": [
              "            0          1          2          3          4          5    \\\n",
              "2443  36.858105  12.551666  14.122251   7.595272  12.641221   7.454958   \n",
              "6197  73.516693   4.454554   7.139323  10.785052  20.751101   5.222798   \n",
              "7132  53.358707  15.084137   8.995046   9.162872   9.157602   7.433100   \n",
              "6280  53.358707  12.913440  19.095430  16.107353  15.865170  10.445183   \n",
              "5755  73.516693   7.717980  10.585442   7.445312  17.863689   7.562196   \n",
              "\n",
              "            6         7         8         9    ...  519  520  521  522  523  \\\n",
              "2443   5.326245  1.482810  1.466274  1.476503  ...  0.0  0.0  0.0  0.0  0.0   \n",
              "6197   4.392393  1.089637  1.640069  0.862260  ...  0.0  0.0  0.0  0.0  0.0   \n",
              "7132   5.758193  1.384369  3.633771  3.633838  ...  0.0  0.0  0.0  0.0  0.0   \n",
              "6280  10.046725  1.739582  1.723673  1.174613  ...  0.0  0.0  0.0  0.0  0.0   \n",
              "5755   8.162135  4.354440  2.070169  2.066211  ...  0.0  0.0  0.0  0.0  0.0   \n",
              "\n",
              "      524  525  526  527  528  \n",
              "2443  0.0  0.0  0.0  0.0  0.0  \n",
              "6197  0.0  0.0  0.0  0.0  0.0  \n",
              "7132  0.0  0.0  0.0  0.0  0.0  \n",
              "6280  0.0  0.0  0.0  0.0  0.0  \n",
              "5755  0.0  0.0  0.0  0.0  0.0  \n",
              "\n",
              "[5 rows x 529 columns]"
            ],
            "text/html": [
              "\n",
              "  <div id=\"df-2f7b1676-e340-4be5-a9fb-cfe4e1b83c27\">\n",
              "    <div class=\"colab-df-container\">\n",
              "      <div>\n",
              "<style scoped>\n",
              "    .dataframe tbody tr th:only-of-type {\n",
              "        vertical-align: middle;\n",
              "    }\n",
              "\n",
              "    .dataframe tbody tr th {\n",
              "        vertical-align: top;\n",
              "    }\n",
              "\n",
              "    .dataframe thead th {\n",
              "        text-align: right;\n",
              "    }\n",
              "</style>\n",
              "<table border=\"1\" class=\"dataframe\">\n",
              "  <thead>\n",
              "    <tr style=\"text-align: right;\">\n",
              "      <th></th>\n",
              "      <th>0</th>\n",
              "      <th>1</th>\n",
              "      <th>2</th>\n",
              "      <th>3</th>\n",
              "      <th>4</th>\n",
              "      <th>5</th>\n",
              "      <th>6</th>\n",
              "      <th>7</th>\n",
              "      <th>8</th>\n",
              "      <th>9</th>\n",
              "      <th>...</th>\n",
              "      <th>519</th>\n",
              "      <th>520</th>\n",
              "      <th>521</th>\n",
              "      <th>522</th>\n",
              "      <th>523</th>\n",
              "      <th>524</th>\n",
              "      <th>525</th>\n",
              "      <th>526</th>\n",
              "      <th>527</th>\n",
              "      <th>528</th>\n",
              "    </tr>\n",
              "  </thead>\n",
              "  <tbody>\n",
              "    <tr>\n",
              "      <th>2443</th>\n",
              "      <td>36.858105</td>\n",
              "      <td>12.551666</td>\n",
              "      <td>14.122251</td>\n",
              "      <td>7.595272</td>\n",
              "      <td>12.641221</td>\n",
              "      <td>7.454958</td>\n",
              "      <td>5.326245</td>\n",
              "      <td>1.482810</td>\n",
              "      <td>1.466274</td>\n",
              "      <td>1.476503</td>\n",
              "      <td>...</td>\n",
              "      <td>0.0</td>\n",
              "      <td>0.0</td>\n",
              "      <td>0.0</td>\n",
              "      <td>0.0</td>\n",
              "      <td>0.0</td>\n",
              "      <td>0.0</td>\n",
              "      <td>0.0</td>\n",
              "      <td>0.0</td>\n",
              "      <td>0.0</td>\n",
              "      <td>0.0</td>\n",
              "    </tr>\n",
              "    <tr>\n",
              "      <th>6197</th>\n",
              "      <td>73.516693</td>\n",
              "      <td>4.454554</td>\n",
              "      <td>7.139323</td>\n",
              "      <td>10.785052</td>\n",
              "      <td>20.751101</td>\n",
              "      <td>5.222798</td>\n",
              "      <td>4.392393</td>\n",
              "      <td>1.089637</td>\n",
              "      <td>1.640069</td>\n",
              "      <td>0.862260</td>\n",
              "      <td>...</td>\n",
              "      <td>0.0</td>\n",
              "      <td>0.0</td>\n",
              "      <td>0.0</td>\n",
              "      <td>0.0</td>\n",
              "      <td>0.0</td>\n",
              "      <td>0.0</td>\n",
              "      <td>0.0</td>\n",
              "      <td>0.0</td>\n",
              "      <td>0.0</td>\n",
              "      <td>0.0</td>\n",
              "    </tr>\n",
              "    <tr>\n",
              "      <th>7132</th>\n",
              "      <td>53.358707</td>\n",
              "      <td>15.084137</td>\n",
              "      <td>8.995046</td>\n",
              "      <td>9.162872</td>\n",
              "      <td>9.157602</td>\n",
              "      <td>7.433100</td>\n",
              "      <td>5.758193</td>\n",
              "      <td>1.384369</td>\n",
              "      <td>3.633771</td>\n",
              "      <td>3.633838</td>\n",
              "      <td>...</td>\n",
              "      <td>0.0</td>\n",
              "      <td>0.0</td>\n",
              "      <td>0.0</td>\n",
              "      <td>0.0</td>\n",
              "      <td>0.0</td>\n",
              "      <td>0.0</td>\n",
              "      <td>0.0</td>\n",
              "      <td>0.0</td>\n",
              "      <td>0.0</td>\n",
              "      <td>0.0</td>\n",
              "    </tr>\n",
              "    <tr>\n",
              "      <th>6280</th>\n",
              "      <td>53.358707</td>\n",
              "      <td>12.913440</td>\n",
              "      <td>19.095430</td>\n",
              "      <td>16.107353</td>\n",
              "      <td>15.865170</td>\n",
              "      <td>10.445183</td>\n",
              "      <td>10.046725</td>\n",
              "      <td>1.739582</td>\n",
              "      <td>1.723673</td>\n",
              "      <td>1.174613</td>\n",
              "      <td>...</td>\n",
              "      <td>0.0</td>\n",
              "      <td>0.0</td>\n",
              "      <td>0.0</td>\n",
              "      <td>0.0</td>\n",
              "      <td>0.0</td>\n",
              "      <td>0.0</td>\n",
              "      <td>0.0</td>\n",
              "      <td>0.0</td>\n",
              "      <td>0.0</td>\n",
              "      <td>0.0</td>\n",
              "    </tr>\n",
              "    <tr>\n",
              "      <th>5755</th>\n",
              "      <td>73.516693</td>\n",
              "      <td>7.717980</td>\n",
              "      <td>10.585442</td>\n",
              "      <td>7.445312</td>\n",
              "      <td>17.863689</td>\n",
              "      <td>7.562196</td>\n",
              "      <td>8.162135</td>\n",
              "      <td>4.354440</td>\n",
              "      <td>2.070169</td>\n",
              "      <td>2.066211</td>\n",
              "      <td>...</td>\n",
              "      <td>0.0</td>\n",
              "      <td>0.0</td>\n",
              "      <td>0.0</td>\n",
              "      <td>0.0</td>\n",
              "      <td>0.0</td>\n",
              "      <td>0.0</td>\n",
              "      <td>0.0</td>\n",
              "      <td>0.0</td>\n",
              "      <td>0.0</td>\n",
              "      <td>0.0</td>\n",
              "    </tr>\n",
              "  </tbody>\n",
              "</table>\n",
              "<p>5 rows × 529 columns</p>\n",
              "</div>\n",
              "      <button class=\"colab-df-convert\" onclick=\"convertToInteractive('df-2f7b1676-e340-4be5-a9fb-cfe4e1b83c27')\"\n",
              "              title=\"Convert this dataframe to an interactive table.\"\n",
              "              style=\"display:none;\">\n",
              "        \n",
              "  <svg xmlns=\"http://www.w3.org/2000/svg\" height=\"24px\"viewBox=\"0 0 24 24\"\n",
              "       width=\"24px\">\n",
              "    <path d=\"M0 0h24v24H0V0z\" fill=\"none\"/>\n",
              "    <path d=\"M18.56 5.44l.94 2.06.94-2.06 2.06-.94-2.06-.94-.94-2.06-.94 2.06-2.06.94zm-11 1L8.5 8.5l.94-2.06 2.06-.94-2.06-.94L8.5 2.5l-.94 2.06-2.06.94zm10 10l.94 2.06.94-2.06 2.06-.94-2.06-.94-.94-2.06-.94 2.06-2.06.94z\"/><path d=\"M17.41 7.96l-1.37-1.37c-.4-.4-.92-.59-1.43-.59-.52 0-1.04.2-1.43.59L10.3 9.45l-7.72 7.72c-.78.78-.78 2.05 0 2.83L4 21.41c.39.39.9.59 1.41.59.51 0 1.02-.2 1.41-.59l7.78-7.78 2.81-2.81c.8-.78.8-2.07 0-2.86zM5.41 20L4 18.59l7.72-7.72 1.47 1.35L5.41 20z\"/>\n",
              "  </svg>\n",
              "      </button>\n",
              "      \n",
              "  <style>\n",
              "    .colab-df-container {\n",
              "      display:flex;\n",
              "      flex-wrap:wrap;\n",
              "      gap: 12px;\n",
              "    }\n",
              "\n",
              "    .colab-df-convert {\n",
              "      background-color: #E8F0FE;\n",
              "      border: none;\n",
              "      border-radius: 50%;\n",
              "      cursor: pointer;\n",
              "      display: none;\n",
              "      fill: #1967D2;\n",
              "      height: 32px;\n",
              "      padding: 0 0 0 0;\n",
              "      width: 32px;\n",
              "    }\n",
              "\n",
              "    .colab-df-convert:hover {\n",
              "      background-color: #E2EBFA;\n",
              "      box-shadow: 0px 1px 2px rgba(60, 64, 67, 0.3), 0px 1px 3px 1px rgba(60, 64, 67, 0.15);\n",
              "      fill: #174EA6;\n",
              "    }\n",
              "\n",
              "    [theme=dark] .colab-df-convert {\n",
              "      background-color: #3B4455;\n",
              "      fill: #D2E3FC;\n",
              "    }\n",
              "\n",
              "    [theme=dark] .colab-df-convert:hover {\n",
              "      background-color: #434B5C;\n",
              "      box-shadow: 0px 1px 3px 1px rgba(0, 0, 0, 0.15);\n",
              "      filter: drop-shadow(0px 1px 2px rgba(0, 0, 0, 0.3));\n",
              "      fill: #FFFFFF;\n",
              "    }\n",
              "  </style>\n",
              "\n",
              "      <script>\n",
              "        const buttonEl =\n",
              "          document.querySelector('#df-2f7b1676-e340-4be5-a9fb-cfe4e1b83c27 button.colab-df-convert');\n",
              "        buttonEl.style.display =\n",
              "          google.colab.kernel.accessAllowed ? 'block' : 'none';\n",
              "\n",
              "        async function convertToInteractive(key) {\n",
              "          const element = document.querySelector('#df-2f7b1676-e340-4be5-a9fb-cfe4e1b83c27');\n",
              "          const dataTable =\n",
              "            await google.colab.kernel.invokeFunction('convertToInteractive',\n",
              "                                                     [key], {});\n",
              "          if (!dataTable) return;\n",
              "\n",
              "          const docLinkHtml = 'Like what you see? Visit the ' +\n",
              "            '<a target=\"_blank\" href=https://colab.research.google.com/notebooks/data_table.ipynb>data table notebook</a>'\n",
              "            + ' to learn more about interactive tables.';\n",
              "          element.innerHTML = '';\n",
              "          dataTable['output_type'] = 'display_data';\n",
              "          await google.colab.output.renderOutput(dataTable, element);\n",
              "          const docLink = document.createElement('div');\n",
              "          docLink.innerHTML = docLinkHtml;\n",
              "          element.appendChild(docLink);\n",
              "        }\n",
              "      </script>\n",
              "    </div>\n",
              "  </div>\n",
              "  "
            ]
          },
          "metadata": {},
          "execution_count": 9
        }
      ]
    },
    {
      "cell_type": "markdown",
      "source": [
        "# Principal Component Analysis (PCA)"
      ],
      "metadata": {
        "id": "TqUBBZooSZsO"
      }
    },
    {
      "cell_type": "code",
      "source": [
        "from sklearn.decomposition import PCA"
      ],
      "metadata": {
        "id": "EENdtwUKlaFb"
      },
      "execution_count": null,
      "outputs": []
    },
    {
      "cell_type": "markdown",
      "source": [
        "## Without data standardization"
      ],
      "metadata": {
        "id": "eJ1eYYdjlHIO"
      }
    },
    {
      "cell_type": "code",
      "source": [
        "pca = PCA(n_components=2)\n",
        "pca.fit(df_qm7_cm)"
      ],
      "metadata": {
        "id": "FMqLA7CGSkV0",
        "colab": {
          "base_uri": "https://localhost:8080/",
          "height": 75
        },
        "outputId": "27f1769f-8d1e-4e68-9992-d44a5f01c12c"
      },
      "execution_count": null,
      "outputs": [
        {
          "output_type": "execute_result",
          "data": {
            "text/plain": [
              "PCA(n_components=2)"
            ],
            "text/html": [
              "<style>#sk-container-id-1 {color: black;background-color: white;}#sk-container-id-1 pre{padding: 0;}#sk-container-id-1 div.sk-toggleable {background-color: white;}#sk-container-id-1 label.sk-toggleable__label {cursor: pointer;display: block;width: 100%;margin-bottom: 0;padding: 0.3em;box-sizing: border-box;text-align: center;}#sk-container-id-1 label.sk-toggleable__label-arrow:before {content: \"▸\";float: left;margin-right: 0.25em;color: #696969;}#sk-container-id-1 label.sk-toggleable__label-arrow:hover:before {color: black;}#sk-container-id-1 div.sk-estimator:hover label.sk-toggleable__label-arrow:before {color: black;}#sk-container-id-1 div.sk-toggleable__content {max-height: 0;max-width: 0;overflow: hidden;text-align: left;background-color: #f0f8ff;}#sk-container-id-1 div.sk-toggleable__content pre {margin: 0.2em;color: black;border-radius: 0.25em;background-color: #f0f8ff;}#sk-container-id-1 input.sk-toggleable__control:checked~div.sk-toggleable__content {max-height: 200px;max-width: 100%;overflow: auto;}#sk-container-id-1 input.sk-toggleable__control:checked~label.sk-toggleable__label-arrow:before {content: \"▾\";}#sk-container-id-1 div.sk-estimator input.sk-toggleable__control:checked~label.sk-toggleable__label {background-color: #d4ebff;}#sk-container-id-1 div.sk-label input.sk-toggleable__control:checked~label.sk-toggleable__label {background-color: #d4ebff;}#sk-container-id-1 input.sk-hidden--visually {border: 0;clip: rect(1px 1px 1px 1px);clip: rect(1px, 1px, 1px, 1px);height: 1px;margin: -1px;overflow: hidden;padding: 0;position: absolute;width: 1px;}#sk-container-id-1 div.sk-estimator {font-family: monospace;background-color: #f0f8ff;border: 1px dotted black;border-radius: 0.25em;box-sizing: border-box;margin-bottom: 0.5em;}#sk-container-id-1 div.sk-estimator:hover {background-color: #d4ebff;}#sk-container-id-1 div.sk-parallel-item::after {content: \"\";width: 100%;border-bottom: 1px solid gray;flex-grow: 1;}#sk-container-id-1 div.sk-label:hover label.sk-toggleable__label {background-color: #d4ebff;}#sk-container-id-1 div.sk-serial::before {content: \"\";position: absolute;border-left: 1px solid gray;box-sizing: border-box;top: 0;bottom: 0;left: 50%;z-index: 0;}#sk-container-id-1 div.sk-serial {display: flex;flex-direction: column;align-items: center;background-color: white;padding-right: 0.2em;padding-left: 0.2em;position: relative;}#sk-container-id-1 div.sk-item {position: relative;z-index: 1;}#sk-container-id-1 div.sk-parallel {display: flex;align-items: stretch;justify-content: center;background-color: white;position: relative;}#sk-container-id-1 div.sk-item::before, #sk-container-id-1 div.sk-parallel-item::before {content: \"\";position: absolute;border-left: 1px solid gray;box-sizing: border-box;top: 0;bottom: 0;left: 50%;z-index: -1;}#sk-container-id-1 div.sk-parallel-item {display: flex;flex-direction: column;z-index: 1;position: relative;background-color: white;}#sk-container-id-1 div.sk-parallel-item:first-child::after {align-self: flex-end;width: 50%;}#sk-container-id-1 div.sk-parallel-item:last-child::after {align-self: flex-start;width: 50%;}#sk-container-id-1 div.sk-parallel-item:only-child::after {width: 0;}#sk-container-id-1 div.sk-dashed-wrapped {border: 1px dashed gray;margin: 0 0.4em 0.5em 0.4em;box-sizing: border-box;padding-bottom: 0.4em;background-color: white;}#sk-container-id-1 div.sk-label label {font-family: monospace;font-weight: bold;display: inline-block;line-height: 1.2em;}#sk-container-id-1 div.sk-label-container {text-align: center;}#sk-container-id-1 div.sk-container {/* jupyter's `normalize.less` sets `[hidden] { display: none; }` but bootstrap.min.css set `[hidden] { display: none !important; }` so we also need the `!important` here to be able to override the default hidden behavior on the sphinx rendered scikit-learn.org. See: https://github.com/scikit-learn/scikit-learn/issues/21755 */display: inline-block !important;position: relative;}#sk-container-id-1 div.sk-text-repr-fallback {display: none;}</style><div id=\"sk-container-id-1\" class=\"sk-top-container\"><div class=\"sk-text-repr-fallback\"><pre>PCA(n_components=2)</pre><b>In a Jupyter environment, please rerun this cell to show the HTML representation or trust the notebook. <br />On GitHub, the HTML representation is unable to render, please try loading this page with nbviewer.org.</b></div><div class=\"sk-container\" hidden><div class=\"sk-item\"><div class=\"sk-estimator sk-toggleable\"><input class=\"sk-toggleable__control sk-hidden--visually\" id=\"sk-estimator-id-1\" type=\"checkbox\" checked><label for=\"sk-estimator-id-1\" class=\"sk-toggleable__label sk-toggleable__label-arrow\">PCA</label><div class=\"sk-toggleable__content\"><pre>PCA(n_components=2)</pre></div></div></div></div></div>"
            ]
          },
          "metadata": {},
          "execution_count": 11
        }
      ]
    },
    {
      "cell_type": "code",
      "source": [
        "X_reduced = pca.transform(df_qm7_cm)\n",
        "X_reduced"
      ],
      "metadata": {
        "colab": {
          "base_uri": "https://localhost:8080/"
        },
        "id": "lYbZ5Qkgl1sL",
        "outputId": "770f0d80-427c-4734-c19a-72dd9d7ca13c"
      },
      "execution_count": null,
      "outputs": [
        {
          "output_type": "execute_result",
          "data": {
            "text/plain": [
              "array([[-53.42937  ,  76.08991  ],\n",
              "       [-50.186085 ,  60.14104  ],\n",
              "       [-50.189663 ,  62.121075 ],\n",
              "       ...,\n",
              "       [-41.52565  ,  -6.2788916],\n",
              "       [-42.75526  ,  -1.655486 ],\n",
              "       [-42.38155  ,  -2.5123367]], dtype=float32)"
            ]
          },
          "metadata": {},
          "execution_count": 12
        }
      ]
    },
    {
      "cell_type": "code",
      "source": [
        "plt.scatter(X_reduced[:,0], X_reduced[:,1])\n",
        "plt.show()"
      ],
      "metadata": {
        "colab": {
          "base_uri": "https://localhost:8080/",
          "height": 431
        },
        "id": "lk18uJ66mlLr",
        "outputId": "597cee5d-90b0-433c-db81-7715227aaf60"
      },
      "execution_count": null,
      "outputs": [
        {
          "output_type": "display_data",
          "data": {
            "text/plain": [
              "<Figure size 640x480 with 1 Axes>"
            ],
            "image/png": "[encoded data removed]"
          },
          "metadata": {}
        }
      ]
    },
    {
      "cell_type": "markdown",
      "source": [
        "## With data standardization"
      ],
      "metadata": {
        "id": "D9dqnmvFnpv7"
      }
    },
    {
      "cell_type": "code",
      "source": [
        "# https://scikit-learn.org/stable/modules/generated/sklearn.preprocessing.StandardScaler.html\n",
        "from sklearn.preprocessing import StandardScaler"
      ],
      "metadata": {
        "id": "Yx8L8HXimwtI"
      },
      "execution_count": null,
      "outputs": []
    },
    {
      "cell_type": "code",
      "source": [
        "df_scaled = pd.DataFrame(StandardScaler().fit_transform(qm7_cm))\n",
        "df_scaled"
      ],
      "metadata": {
        "colab": {
          "base_uri": "https://localhost:8080/",
          "height": 424
        },
        "id": "RRsnPDAun2s4",
        "outputId": "c5e0b186-c126-4e5a-8707-6fce93df9a88"
      },
      "execution_count": null,
      "outputs": [
        {
          "output_type": "execute_result",
          "data": {
            "text/plain": [
              "           0         1         2         3         4         5         6    \\\n",
              "0    -0.635498 -1.685647 -1.741854 -1.822671 -1.686877 -2.035504 -1.707809   \n",
              "1    -0.635498 -0.105551 -1.742764 -2.087996 -1.974229 -1.429115 -1.035756   \n",
              "2    -0.635498  0.165379 -1.969469 -1.819447 -1.682989 -1.721299 -1.707809   \n",
              "3    -0.635498  0.427859 -1.730210 -2.101294 -2.269776 -2.035504 -1.707809   \n",
              "4    -0.075344  0.756101 -0.500937 -1.554932 -1.855972 -1.603043 -1.341432   \n",
              "...        ...       ...       ...       ...       ...       ...       ...   \n",
              "7160 -0.383364 -0.669385  0.247151 -1.016619 -0.984185 -0.131209 -0.445740   \n",
              "7161 -0.383364 -1.125692 -0.844902 -1.298342  1.568743 -1.006268 -0.589560   \n",
              "7162 -0.635498 -0.762537 -0.057949 -0.027729  0.560473 -0.452999  0.020164   \n",
              "7163 -0.635498 -0.115274 -0.911993 -0.026606 -0.656128 -0.478848  1.585057   \n",
              "7164 -0.635498 -0.100764 -0.168814 -0.883865 -0.676040  0.597827  1.212213   \n",
              "\n",
              "           7         8         9    ...       519       520       521  \\\n",
              "0    -2.184844 -2.367655 -2.284180  ... -0.032551 -0.031391 -0.033441   \n",
              "1    -0.569690 -2.367655 -2.284180  ... -0.032551 -0.031391 -0.033441   \n",
              "2    -2.184844 -2.367655 -2.284180  ... -0.032551 -0.031391 -0.033441   \n",
              "3    -2.184844 -2.367655 -2.284180  ... -0.032551 -0.031391 -0.033441   \n",
              "4    -0.440664 -0.620062 -2.284180  ... -0.032551 -0.031391 -0.033441   \n",
              "...        ...       ...       ...  ...       ...       ...       ...   \n",
              "7160 -0.234304 -0.446908  2.916758  ... -0.032551 -0.031391 -0.033441   \n",
              "7161 -0.942298 -0.750492 -0.607098  ... -0.032551 -0.031391 -0.033441   \n",
              "7162 -0.574732 -0.316117 -0.124067  ... -0.032551 -0.031391 -0.033441   \n",
              "7163 -0.565346 -0.335193 -0.178868  ... -0.032551 -0.031391 -0.033441   \n",
              "7164 -0.562000 -0.322732 -0.205302  ... -0.032551 -0.031391 -0.033441   \n",
              "\n",
              "           522       523       524       525       526       527       528  \n",
              "0    -0.029931 -0.029897 -0.030633 -0.029352 -0.032895 -0.029566 -0.035464  \n",
              "1    -0.029931 -0.029897 -0.030633 -0.029352 -0.032895 -0.029566 -0.035464  \n",
              "2    -0.029931 -0.029897 -0.030633 -0.029352 -0.032895 -0.029566 -0.035464  \n",
              "3    -0.029931 -0.029897 -0.030633 -0.029352 -0.032895 -0.029566 -0.035464  \n",
              "4    -0.029931 -0.029897 -0.030633 -0.029352 -0.032895 -0.029566 -0.035464  \n",
              "...        ...       ...       ...       ...       ...       ...       ...  \n",
              "7160 -0.029931 -0.029897 -0.030633 -0.029352 -0.032895 -0.029566 -0.035464  \n",
              "7161 -0.029931 -0.029897 -0.030633 -0.029352 -0.032895 -0.029566 -0.035464  \n",
              "7162 -0.029931 -0.029897 -0.030633 -0.029352 -0.032895 -0.029566 -0.035464  \n",
              "7163 -0.029931 -0.029897 -0.030633 -0.029352 -0.032895 -0.029566 -0.035464  \n",
              "7164 -0.029931 -0.029897 -0.030633 -0.029352 -0.032895 -0.029566 -0.035464  \n",
              "\n",
              "[7165 rows x 529 columns]"
            ],
            "text/html": [
              "\n",
              "  <div id=\"df-47e44b5b-aa0d-44b9-baa0-885e16fb9179\">\n",
              "    <div class=\"colab-df-container\">\n",
              "      <div>\n",
              "<style scoped>\n",
              "    .dataframe tbody tr th:only-of-type {\n",
              "        vertical-align: middle;\n",
              "    }\n",
              "\n",
              "    .dataframe tbody tr th {\n",
              "        vertical-align: top;\n",
              "    }\n",
              "\n",
              "    .dataframe thead th {\n",
              "        text-align: right;\n",
              "    }\n",
              "</style>\n",
              "<table border=\"1\" class=\"dataframe\">\n",
              "  <thead>\n",
              "    <tr style=\"text-align: right;\">\n",
              "      <th></th>\n",
              "      <th>0</th>\n",
              "      <th>1</th>\n",
              "      <th>2</th>\n",
              "      <th>3</th>\n",
              "      <th>4</th>\n",
              "      <th>5</th>\n",
              "      <th>6</th>\n",
              "      <th>7</th>\n",
              "      <th>8</th>\n",
              "      <th>9</th>\n",
              "      <th>...</th>\n",
              "      <th>519</th>\n",
              "      <th>520</th>\n",
              "      <th>521</th>\n",
              "      <th>522</th>\n",
              "      <th>523</th>\n",
              "      <th>524</th>\n",
              "      <th>525</th>\n",
              "      <th>526</th>\n",
              "      <th>527</th>\n",
              "      <th>528</th>\n",
              "    </tr>\n",
              "  </thead>\n",
              "  <tbody>\n",
              "    <tr>\n",
              "      <th>0</th>\n",
              "      <td>-0.635498</td>\n",
              "      <td>-1.685647</td>\n",
              "      <td>-1.741854</td>\n",
              "      <td>-1.822671</td>\n",
              "      <td>-1.686877</td>\n",
              "      <td>-2.035504</td>\n",
              "      <td>-1.707809</td>\n",
              "      <td>-2.184844</td>\n",
              "      <td>-2.367655</td>\n",
              "      <td>-2.284180</td>\n",
              "      <td>...</td>\n",
              "      <td>-0.032551</td>\n",
              "      <td>-0.031391</td>\n",
              "      <td>-0.033441</td>\n",
              "      <td>-0.029931</td>\n",
              "      <td>-0.029897</td>\n",
              "      <td>-0.030633</td>\n",
              "      <td>-0.029352</td>\n",
              "      <td>-0.032895</td>\n",
              "      <td>-0.029566</td>\n",
              "      <td>-0.035464</td>\n",
              "    </tr>\n",
              "    <tr>\n",
              "      <th>1</th>\n",
              "      <td>-0.635498</td>\n",
              "      <td>-0.105551</td>\n",
              "      <td>-1.742764</td>\n",
              "      <td>-2.087996</td>\n",
              "      <td>-1.974229</td>\n",
              "      <td>-1.429115</td>\n",
              "      <td>-1.035756</td>\n",
              "      <td>-0.569690</td>\n",
              "      <td>-2.367655</td>\n",
              "      <td>-2.284180</td>\n",
              "      <td>...</td>\n",
              "      <td>-0.032551</td>\n",
              "      <td>-0.031391</td>\n",
              "      <td>-0.033441</td>\n",
              "      <td>-0.029931</td>\n",
              "      <td>-0.029897</td>\n",
              "      <td>-0.030633</td>\n",
              "      <td>-0.029352</td>\n",
              "      <td>-0.032895</td>\n",
              "      <td>-0.029566</td>\n",
              "      <td>-0.035464</td>\n",
              "    </tr>\n",
              "    <tr>\n",
              "      <th>2</th>\n",
              "      <td>-0.635498</td>\n",
              "      <td>0.165379</td>\n",
              "      <td>-1.969469</td>\n",
              "      <td>-1.819447</td>\n",
              "      <td>-1.682989</td>\n",
              "      <td>-1.721299</td>\n",
              "      <td>-1.707809</td>\n",
              "      <td>-2.184844</td>\n",
              "      <td>-2.367655</td>\n",
              "      <td>-2.284180</td>\n",
              "      <td>...</td>\n",
              "      <td>-0.032551</td>\n",
              "      <td>-0.031391</td>\n",
              "      <td>-0.033441</td>\n",
              "      <td>-0.029931</td>\n",
              "      <td>-0.029897</td>\n",
              "      <td>-0.030633</td>\n",
              "      <td>-0.029352</td>\n",
              "      <td>-0.032895</td>\n",
              "      <td>-0.029566</td>\n",
              "      <td>-0.035464</td>\n",
              "    </tr>\n",
              "    <tr>\n",
              "      <th>3</th>\n",
              "      <td>-0.635498</td>\n",
              "      <td>0.427859</td>\n",
              "      <td>-1.730210</td>\n",
              "      <td>-2.101294</td>\n",
              "      <td>-2.269776</td>\n",
              "      <td>-2.035504</td>\n",
              "      <td>-1.707809</td>\n",
              "      <td>-2.184844</td>\n",
              "      <td>-2.367655</td>\n",
              "      <td>-2.284180</td>\n",
              "      <td>...</td>\n",
              "      <td>-0.032551</td>\n",
              "      <td>-0.031391</td>\n",
              "      <td>-0.033441</td>\n",
              "      <td>-0.029931</td>\n",
              "      <td>-0.029897</td>\n",
              "      <td>-0.030633</td>\n",
              "      <td>-0.029352</td>\n",
              "      <td>-0.032895</td>\n",
              "      <td>-0.029566</td>\n",
              "      <td>-0.035464</td>\n",
              "    </tr>\n",
              "    <tr>\n",
              "      <th>4</th>\n",
              "      <td>-0.075344</td>\n",
              "      <td>0.756101</td>\n",
              "      <td>-0.500937</td>\n",
              "      <td>-1.554932</td>\n",
              "      <td>-1.855972</td>\n",
              "      <td>-1.603043</td>\n",
              "      <td>-1.341432</td>\n",
              "      <td>-0.440664</td>\n",
              "      <td>-0.620062</td>\n",
              "      <td>-2.284180</td>\n",
              "      <td>...</td>\n",
              "      <td>-0.032551</td>\n",
              "      <td>-0.031391</td>\n",
              "      <td>-0.033441</td>\n",
              "      <td>-0.029931</td>\n",
              "      <td>-0.029897</td>\n",
              "      <td>-0.030633</td>\n",
              "      <td>-0.029352</td>\n",
              "      <td>-0.032895</td>\n",
              "      <td>-0.029566</td>\n",
              "      <td>-0.035464</td>\n",
              "    </tr>\n",
              "    <tr>\n",
              "      <th>...</th>\n",
              "      <td>...</td>\n",
              "      <td>...</td>\n",
              "      <td>...</td>\n",
              "      <td>...</td>\n",
              "      <td>...</td>\n",
              "      <td>...</td>\n",
              "      <td>...</td>\n",
              "      <td>...</td>\n",
              "      <td>...</td>\n",
              "      <td>...</td>\n",
              "      <td>...</td>\n",
              "      <td>...</td>\n",
              "      <td>...</td>\n",
              "      <td>...</td>\n",
              "      <td>...</td>\n",
              "      <td>...</td>\n",
              "      <td>...</td>\n",
              "      <td>...</td>\n",
              "      <td>...</td>\n",
              "      <td>...</td>\n",
              "      <td>...</td>\n",
              "    </tr>\n",
              "    <tr>\n",
              "      <th>7160</th>\n",
              "      <td>-0.383364</td>\n",
              "      <td>-0.669385</td>\n",
              "      <td>0.247151</td>\n",
              "      <td>-1.016619</td>\n",
              "      <td>-0.984185</td>\n",
              "      <td>-0.131209</td>\n",
              "      <td>-0.445740</td>\n",
              "      <td>-0.234304</td>\n",
              "      <td>-0.446908</td>\n",
              "      <td>2.916758</td>\n",
              "      <td>...</td>\n",
              "      <td>-0.032551</td>\n",
              "      <td>-0.031391</td>\n",
              "      <td>-0.033441</td>\n",
              "      <td>-0.029931</td>\n",
              "      <td>-0.029897</td>\n",
              "      <td>-0.030633</td>\n",
              "      <td>-0.029352</td>\n",
              "      <td>-0.032895</td>\n",
              "      <td>-0.029566</td>\n",
              "      <td>-0.035464</td>\n",
              "    </tr>\n",
              "    <tr>\n",
              "      <th>7161</th>\n",
              "      <td>-0.383364</td>\n",
              "      <td>-1.125692</td>\n",
              "      <td>-0.844902</td>\n",
              "      <td>-1.298342</td>\n",
              "      <td>1.568743</td>\n",
              "      <td>-1.006268</td>\n",
              "      <td>-0.589560</td>\n",
              "      <td>-0.942298</td>\n",
              "      <td>-0.750492</td>\n",
              "      <td>-0.607098</td>\n",
              "      <td>...</td>\n",
              "      <td>-0.032551</td>\n",
              "      <td>-0.031391</td>\n",
              "      <td>-0.033441</td>\n",
              "      <td>-0.029931</td>\n",
              "      <td>-0.029897</td>\n",
              "      <td>-0.030633</td>\n",
              "      <td>-0.029352</td>\n",
              "      <td>-0.032895</td>\n",
              "      <td>-0.029566</td>\n",
              "      <td>-0.035464</td>\n",
              "    </tr>\n",
              "    <tr>\n",
              "      <th>7162</th>\n",
              "      <td>-0.635498</td>\n",
              "      <td>-0.762537</td>\n",
              "      <td>-0.057949</td>\n",
              "      <td>-0.027729</td>\n",
              "      <td>0.560473</td>\n",
              "      <td>-0.452999</td>\n",
              "      <td>0.020164</td>\n",
              "      <td>-0.574732</td>\n",
              "      <td>-0.316117</td>\n",
              "      <td>-0.124067</td>\n",
              "      <td>...</td>\n",
              "      <td>-0.032551</td>\n",
              "      <td>-0.031391</td>\n",
              "      <td>-0.033441</td>\n",
              "      <td>-0.029931</td>\n",
              "      <td>-0.029897</td>\n",
              "      <td>-0.030633</td>\n",
              "      <td>-0.029352</td>\n",
              "      <td>-0.032895</td>\n",
              "      <td>-0.029566</td>\n",
              "      <td>-0.035464</td>\n",
              "    </tr>\n",
              "    <tr>\n",
              "      <th>7163</th>\n",
              "      <td>-0.635498</td>\n",
              "      <td>-0.115274</td>\n",
              "      <td>-0.911993</td>\n",
              "      <td>-0.026606</td>\n",
              "      <td>-0.656128</td>\n",
              "      <td>-0.478848</td>\n",
              "      <td>1.585057</td>\n",
              "      <td>-0.565346</td>\n",
              "      <td>-0.335193</td>\n",
              "      <td>-0.178868</td>\n",
              "      <td>...</td>\n",
              "      <td>-0.032551</td>\n",
              "      <td>-0.031391</td>\n",
              "      <td>-0.033441</td>\n",
              "      <td>-0.029931</td>\n",
              "      <td>-0.029897</td>\n",
              "      <td>-0.030633</td>\n",
              "      <td>-0.029352</td>\n",
              "      <td>-0.032895</td>\n",
              "      <td>-0.029566</td>\n",
              "      <td>-0.035464</td>\n",
              "    </tr>\n",
              "    <tr>\n",
              "      <th>7164</th>\n",
              "      <td>-0.635498</td>\n",
              "      <td>-0.100764</td>\n",
              "      <td>-0.168814</td>\n",
              "      <td>-0.883865</td>\n",
              "      <td>-0.676040</td>\n",
              "      <td>0.597827</td>\n",
              "      <td>1.212213</td>\n",
              "      <td>-0.562000</td>\n",
              "      <td>-0.322732</td>\n",
              "      <td>-0.205302</td>\n",
              "      <td>...</td>\n",
              "      <td>-0.032551</td>\n",
              "      <td>-0.031391</td>\n",
              "      <td>-0.033441</td>\n",
              "      <td>-0.029931</td>\n",
              "      <td>-0.029897</td>\n",
              "      <td>-0.030633</td>\n",
              "      <td>-0.029352</td>\n",
              "      <td>-0.032895</td>\n",
              "      <td>-0.029566</td>\n",
              "      <td>-0.035464</td>\n",
              "    </tr>\n",
              "  </tbody>\n",
              "</table>\n",
              "<p>7165 rows × 529 columns</p>\n",
              "</div>\n",
              "      <button class=\"colab-df-convert\" onclick=\"convertToInteractive('df-47e44b5b-aa0d-44b9-baa0-885e16fb9179')\"\n",
              "              title=\"Convert this dataframe to an interactive table.\"\n",
              "              style=\"display:none;\">\n",
              "        \n",
              "  <svg xmlns=\"http://www.w3.org/2000/svg\" height=\"24px\"viewBox=\"0 0 24 24\"\n",
              "       width=\"24px\">\n",
              "    <path d=\"M0 0h24v24H0V0z\" fill=\"none\"/>\n",
              "    <path d=\"M18.56 5.44l.94 2.06.94-2.06 2.06-.94-2.06-.94-.94-2.06-.94 2.06-2.06.94zm-11 1L8.5 8.5l.94-2.06 2.06-.94-2.06-.94L8.5 2.5l-.94 2.06-2.06.94zm10 10l.94 2.06.94-2.06 2.06-.94-2.06-.94-.94-2.06-.94 2.06-2.06.94z\"/><path d=\"M17.41 7.96l-1.37-1.37c-.4-.4-.92-.59-1.43-.59-.52 0-1.04.2-1.43.59L10.3 9.45l-7.72 7.72c-.78.78-.78 2.05 0 2.83L4 21.41c.39.39.9.59 1.41.59.51 0 1.02-.2 1.41-.59l7.78-7.78 2.81-2.81c.8-.78.8-2.07 0-2.86zM5.41 20L4 18.59l7.72-7.72 1.47 1.35L5.41 20z\"/>\n",
              "  </svg>\n",
              "      </button>\n",
              "      \n",
              "  <style>\n",
              "    .colab-df-container {\n",
              "      display:flex;\n",
              "      flex-wrap:wrap;\n",
              "      gap: 12px;\n",
              "    }\n",
              "\n",
              "    .colab-df-convert {\n",
              "      background-color: #E8F0FE;\n",
              "      border: none;\n",
              "      border-radius: 50%;\n",
              "      cursor: pointer;\n",
              "      display: none;\n",
              "      fill: #1967D2;\n",
              "      height: 32px;\n",
              "      padding: 0 0 0 0;\n",
              "      width: 32px;\n",
              "    }\n",
              "\n",
              "    .colab-df-convert:hover {\n",
              "      background-color: #E2EBFA;\n",
              "      box-shadow: 0px 1px 2px rgba(60, 64, 67, 0.3), 0px 1px 3px 1px rgba(60, 64, 67, 0.15);\n",
              "      fill: #174EA6;\n",
              "    }\n",
              "\n",
              "    [theme=dark] .colab-df-convert {\n",
              "      background-color: #3B4455;\n",
              "      fill: #D2E3FC;\n",
              "    }\n",
              "\n",
              "    [theme=dark] .colab-df-convert:hover {\n",
              "      background-color: #434B5C;\n",
              "      box-shadow: 0px 1px 3px 1px rgba(0, 0, 0, 0.15);\n",
              "      filter: drop-shadow(0px 1px 2px rgba(0, 0, 0, 0.3));\n",
              "      fill: #FFFFFF;\n",
              "    }\n",
              "  </style>\n",
              "\n",
              "      <script>\n",
              "        const buttonEl =\n",
              "          document.querySelector('#df-47e44b5b-aa0d-44b9-baa0-885e16fb9179 button.colab-df-convert');\n",
              "        buttonEl.style.display =\n",
              "          google.colab.kernel.accessAllowed ? 'block' : 'none';\n",
              "\n",
              "        async function convertToInteractive(key) {\n",
              "          const element = document.querySelector('#df-47e44b5b-aa0d-44b9-baa0-885e16fb9179');\n",
              "          const dataTable =\n",
              "            await google.colab.kernel.invokeFunction('convertToInteractive',\n",
              "                                                     [key], {});\n",
              "          if (!dataTable) return;\n",
              "\n",
              "          const docLinkHtml = 'Like what you see? Visit the ' +\n",
              "            '<a target=\"_blank\" href=https://colab.research.google.com/notebooks/data_table.ipynb>data table notebook</a>'\n",
              "            + ' to learn more about interactive tables.';\n",
              "          element.innerHTML = '';\n",
              "          dataTable['output_type'] = 'display_data';\n",
              "          await google.colab.output.renderOutput(dataTable, element);\n",
              "          const docLink = document.createElement('div');\n",
              "          docLink.innerHTML = docLinkHtml;\n",
              "          element.appendChild(docLink);\n",
              "        }\n",
              "      </script>\n",
              "    </div>\n",
              "  </div>\n",
              "  "
            ]
          },
          "metadata": {},
          "execution_count": 15
        }
      ]
    },
    {
      "cell_type": "code",
      "source": [
        "pca = PCA(n_components=2)\n",
        "pca.fit(df_scaled)"
      ],
      "metadata": {
        "colab": {
          "base_uri": "https://localhost:8080/",
          "height": 75
        },
        "id": "6xQldrcToGfN",
        "outputId": "e6a95dcd-ac08-416f-9ef2-b98ec6621487"
      },
      "execution_count": null,
      "outputs": [
        {
          "output_type": "execute_result",
          "data": {
            "text/plain": [
              "PCA(n_components=2)"
            ],
            "text/html": [
              "<style>#sk-container-id-2 {color: black;background-color: white;}#sk-container-id-2 pre{padding: 0;}#sk-container-id-2 div.sk-toggleable {background-color: white;}#sk-container-id-2 label.sk-toggleable__label {cursor: pointer;display: block;width: 100%;margin-bottom: 0;padding: 0.3em;box-sizing: border-box;text-align: center;}#sk-container-id-2 label.sk-toggleable__label-arrow:before {content: \"▸\";float: left;margin-right: 0.25em;color: #696969;}#sk-container-id-2 label.sk-toggleable__label-arrow:hover:before {color: black;}#sk-container-id-2 div.sk-estimator:hover label.sk-toggleable__label-arrow:before {color: black;}#sk-container-id-2 div.sk-toggleable__content {max-height: 0;max-width: 0;overflow: hidden;text-align: left;background-color: #f0f8ff;}#sk-container-id-2 div.sk-toggleable__content pre {margin: 0.2em;color: black;border-radius: 0.25em;background-color: #f0f8ff;}#sk-container-id-2 input.sk-toggleable__control:checked~div.sk-toggleable__content {max-height: 200px;max-width: 100%;overflow: auto;}#sk-container-id-2 input.sk-toggleable__control:checked~label.sk-toggleable__label-arrow:before {content: \"▾\";}#sk-container-id-2 div.sk-estimator input.sk-toggleable__control:checked~label.sk-toggleable__label {background-color: #d4ebff;}#sk-container-id-2 div.sk-label input.sk-toggleable__control:checked~label.sk-toggleable__label {background-color: #d4ebff;}#sk-container-id-2 input.sk-hidden--visually {border: 0;clip: rect(1px 1px 1px 1px);clip: rect(1px, 1px, 1px, 1px);height: 1px;margin: -1px;overflow: hidden;padding: 0;position: absolute;width: 1px;}#sk-container-id-2 div.sk-estimator {font-family: monospace;background-color: #f0f8ff;border: 1px dotted black;border-radius: 0.25em;box-sizing: border-box;margin-bottom: 0.5em;}#sk-container-id-2 div.sk-estimator:hover {background-color: #d4ebff;}#sk-container-id-2 div.sk-parallel-item::after {content: \"\";width: 100%;border-bottom: 1px solid gray;flex-grow: 1;}#sk-container-id-2 div.sk-label:hover label.sk-toggleable__label {background-color: #d4ebff;}#sk-container-id-2 div.sk-serial::before {content: \"\";position: absolute;border-left: 1px solid gray;box-sizing: border-box;top: 0;bottom: 0;left: 50%;z-index: 0;}#sk-container-id-2 div.sk-serial {display: flex;flex-direction: column;align-items: center;background-color: white;padding-right: 0.2em;padding-left: 0.2em;position: relative;}#sk-container-id-2 div.sk-item {position: relative;z-index: 1;}#sk-container-id-2 div.sk-parallel {display: flex;align-items: stretch;justify-content: center;background-color: white;position: relative;}#sk-container-id-2 div.sk-item::before, #sk-container-id-2 div.sk-parallel-item::before {content: \"\";position: absolute;border-left: 1px solid gray;box-sizing: border-box;top: 0;bottom: 0;left: 50%;z-index: -1;}#sk-container-id-2 div.sk-parallel-item {display: flex;flex-direction: column;z-index: 1;position: relative;background-color: white;}#sk-container-id-2 div.sk-parallel-item:first-child::after {align-self: flex-end;width: 50%;}#sk-container-id-2 div.sk-parallel-item:last-child::after {align-self: flex-start;width: 50%;}#sk-container-id-2 div.sk-parallel-item:only-child::after {width: 0;}#sk-container-id-2 div.sk-dashed-wrapped {border: 1px dashed gray;margin: 0 0.4em 0.5em 0.4em;box-sizing: border-box;padding-bottom: 0.4em;background-color: white;}#sk-container-id-2 div.sk-label label {font-family: monospace;font-weight: bold;display: inline-block;line-height: 1.2em;}#sk-container-id-2 div.sk-label-container {text-align: center;}#sk-container-id-2 div.sk-container {/* jupyter's `normalize.less` sets `[hidden] { display: none; }` but bootstrap.min.css set `[hidden] { display: none !important; }` so we also need the `!important` here to be able to override the default hidden behavior on the sphinx rendered scikit-learn.org. See: https://github.com/scikit-learn/scikit-learn/issues/21755 */display: inline-block !important;position: relative;}#sk-container-id-2 div.sk-text-repr-fallback {display: none;}</style><div id=\"sk-container-id-2\" class=\"sk-top-container\"><div class=\"sk-text-repr-fallback\"><pre>PCA(n_components=2)</pre><b>In a Jupyter environment, please rerun this cell to show the HTML representation or trust the notebook. <br />On GitHub, the HTML representation is unable to render, please try loading this page with nbviewer.org.</b></div><div class=\"sk-container\" hidden><div class=\"sk-item\"><div class=\"sk-estimator sk-toggleable\"><input class=\"sk-toggleable__control sk-hidden--visually\" id=\"sk-estimator-id-2\" type=\"checkbox\" checked><label for=\"sk-estimator-id-2\" class=\"sk-toggleable__label sk-toggleable__label-arrow\">PCA</label><div class=\"sk-toggleable__content\"><pre>PCA(n_components=2)</pre></div></div></div></div></div>"
            ]
          },
          "metadata": {},
          "execution_count": 16
        }
      ]
    },
    {
      "cell_type": "code",
      "source": [
        "X_reduced = pca.transform(df_scaled)\n",
        "X_reduced"
      ],
      "metadata": {
        "id": "9L9QY1NRoKEb",
        "outputId": "f1595606-57ed-42db-bd04-be3ef510b7ca",
        "colab": {
          "base_uri": "https://localhost:8080/"
        }
      },
      "execution_count": null,
      "outputs": [
        {
          "output_type": "execute_result",
          "data": {
            "text/plain": [
              "array([[-11.125095 ,   9.122028 ],\n",
              "       [-11.10064  ,   8.954609 ],\n",
              "       [-11.274879 ,   9.192015 ],\n",
              "       ...,\n",
              "       [ -1.4636457,  -2.4177592],\n",
              "       [  2.414485 ,  -5.197161 ],\n",
              "       [ 15.681156 ,  -7.7035046]], dtype=float32)"
            ]
          },
          "metadata": {},
          "execution_count": 17
        }
      ]
    },
    {
      "cell_type": "code",
      "source": [
        "plt.scatter(X_reduced[:,0], X_reduced[:,1])\n",
        "plt.show()"
      ],
      "metadata": {
        "id": "QbUtvkE7oMwr",
        "colab": {
          "base_uri": "https://localhost:8080/",
          "height": 430
        },
        "outputId": "179d4a54-e3c8-4e41-cfd5-80bd399b3fa0"
      },
      "execution_count": null,
      "outputs": [
        {
          "output_type": "display_data",
          "data": {
            "text/plain": [
              "<Figure size 640x480 with 1 Axes>"
            ],
            "image/png": "[encoded data removed]"
          },
          "metadata": {}
        }
      ]
    },
    {
      "cell_type": "markdown",
      "source": [
        "# Selecting number of principal components"
      ],
      "metadata": {
        "id": "U3TIGe2PvpS4"
      }
    },
    {
      "cell_type": "markdown",
      "source": [
        "Choosing the correct number of PC is vital to successfully reducing the dimensionality of your data. If the number of principle components is set to low not all of the variance in the data is accounted for, while too many principle components can be redundant. In order to evaluate how many PCs to choose the explained variance ratio for each principle component can be calculated and visualized. In the following section, PCA is performed for 5 PCs and visualized.\n",
        "\n"
      ],
      "metadata": {
        "id": "oG0uuteyor9S"
      }
    },
    {
      "cell_type": "code",
      "source": [
        "plt.rcParams['figure.figsize'] = [12, 6]\n",
        "plt.subplot(1, 2, 1)\n",
        "pca_scaled = PCA(n_components=8)\n",
        "pca_scaled.fit(df_scaled)\n",
        "X_new_scaled = pca_scaled.transform(df_scaled)\n",
        "pcs_scaled = np.arange(len(pca_scaled.explained_variance_ratio_))+1\n",
        "print (pca_scaled.explained_variance_ratio_)\n",
        "s = 0\n",
        "cumsum = [(s:=s+i) for i in pca_scaled.explained_variance_ratio_]\n",
        "plt.bar(pcs_scaled, pca_scaled.explained_variance_ratio_,label=\"explained variance\")\n",
        "plt.bar(pcs_scaled+0.1, cumsum, color=\"gray\", alpha = 0.3,label=\"accumulative explained variance\")\n",
        "plt.title(\"PCA of CM scaled\")\n",
        "plt.xlabel(\"PC\")\n",
        "plt.ylabel(\"Explained variance ratio\")\n",
        "plt.ylim(0,1)\n",
        "plt.axhline(y = 0.9, color = 'r', linestyle = ':',label=\"Threshold\")\n",
        "plt.legend(loc=\"center left\")\n",
        "\n",
        "plt.subplot(1, 2, 2)\n",
        "pca = PCA(n_components=8)\n",
        "pca.fit(df_qm7_cm)\n",
        "X_new = pca.transform(df_qm7_cm)\n",
        "pcs = np.arange(len(pca.explained_variance_ratio_))+1\n",
        "s = 0\n",
        "cumsum = [(s:=s+i) for i in pca.explained_variance_ratio_]\n",
        "plt.bar(pcs, pca.explained_variance_ratio_,label=\"explained variance\")\n",
        "plt.bar(pcs+0.1, cumsum, color=\"gray\", alpha = 0.3,label=\"accumulative explained variance\")\n",
        "plt.title(\"PCA of CM unscaled\")\n",
        "plt.xlabel(\"PC\")\n",
        "plt.ylabel(\"Explained variance ratio\")\n",
        "plt.ylim(0,1)\n",
        "#plt.legend(loc=\"center left\")\n",
        "plt.axhline(y = 0.9, color = 'r', linestyle = ':')\n",
        "\n",
        "\n",
        "plt.tight_layout()\n"
      ],
      "metadata": {
        "colab": {
          "base_uri": "https://localhost:8080/",
          "height": 642
        },
        "id": "JSAT3nW4pz3c",
        "outputId": "c2450a24-d403-4cd5-a010-49e383148146"
      },
      "execution_count": null,
      "outputs": [
        {
          "output_type": "stream",
          "name": "stdout",
          "text": [
            "[0.22783619 0.11741507 0.07115303 0.04735954 0.03394542 0.02796844\n",
            " 0.02378496 0.01818497]\n"
          ]
        },
        {
          "output_type": "display_data",
          "data": {
            "text/plain": [
              "<Figure size 1200x600 with 2 Axes>"
            ],
            "image/png": "[encoded data removed]"
          },
          "metadata": {}
        }
      ]
    },
    {
      "cell_type": "markdown",
      "source": [],
      "metadata": {
        "id": "nluEncvwZMws"
      }
    },
    {
      "cell_type": "code",
      "source": [
        "# Comparison of scaled vs. unscaled Coulomb matrix for PCA\n",
        "As can be seen above the explained variance for the 8 first principle components is lower for the scaled Coulomb matrix than for the unscaled one. Althogh on the first glance the results from the PCA of the unscaled Coulomb matrix look more promising i.e. more variance explained with fewer principle components. Sadly this is missleading in the example.\n",
        "    -> Take a closer look at the coulomb matrix and think about why normalization might be needed an why an unormalized Coulomb matrix leads to a seemingly \"better PCA\".\n",
        "\n"
      ],
      "metadata": {
        "id": "Ewo2WsxVZJyy"
      },
      "execution_count": null,
      "outputs": []
    },
    {
      "cell_type": "code",
      "source": [],
      "metadata": {
        "id": "qHeyD2g4ZOkz"
      },
      "execution_count": null,
      "outputs": []
    }
  ]
}