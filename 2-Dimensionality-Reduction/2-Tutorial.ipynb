{
  "nbformat": 4,
  "nbformat_minor": 0,
  "metadata": {
    "colab": {
      "provenance": []
    },
    "kernelspec": {
      "name": "python3",
      "display_name": "Python 3"
    },
    "language_info": {
      "name": "python"
    }
  },
  "cells": [
    {
      "cell_type": "markdown",
      "source": [
        "# Load QM7 dataset"
      ],
      "metadata": {
        "id": "7J-y0Yz8MF3j"
      }
    },
    {
      "cell_type": "code",
      "source": [
        "! wget http://quantum-machine.org/data/qm7.mat"
      ],
      "metadata": {
        "colab": {
          "base_uri": "https://localhost:8080/"
        },
        "id": "-AuJrWxSNZ3a",
        "outputId": "8c5128c5-23ac-4f3f-9a87-e8aa44d73751"
      },
      "execution_count": null,
      "outputs": [
        {
          "output_type": "stream",
          "name": "stdout",
          "text": [
            "--2023-07-07 07:28:35--  http://quantum-machine.org/data/qm7.mat\n",
            "Resolving quantum-machine.org (quantum-machine.org)... 130.149.80.145\n",
            "Connecting to quantum-machine.org (quantum-machine.org)|130.149.80.145|:80... connected.\n",
            "HTTP request sent, awaiting response... 200 OK\n",
            "Length: 17884280 (17M)\n",
            "Saving to: ‘qm7.mat’\n",
            "\n",
            "qm7.mat             100%[===================>]  17.06M  13.0MB/s    in 1.3s    \n",
            "\n",
            "2023-07-07 07:28:37 (13.0 MB/s) - ‘qm7.mat’ saved [17884280/17884280]\n",
            "\n"
          ]
        }
      ]
    },
    {
      "cell_type": "code",
      "source": [
        "! pip install py3Dmol"
      ],
      "metadata": {
        "colab": {
          "base_uri": "https://localhost:8080/"
        },
        "id": "dZSZpvWyvG7v",
        "outputId": "63b79769-17fd-458f-f8a7-433700395103"
      },
      "execution_count": null,
      "outputs": [
        {
          "output_type": "stream",
          "name": "stdout",
          "text": [
            "Collecting py3Dmol\n",
            "  Downloading py3Dmol-2.0.3-py2.py3-none-any.whl (12 kB)\n",
            "Installing collected packages: py3Dmol\n",
            "Successfully installed py3Dmol-2.0.3\n"
          ]
        }
      ]
    },
    {
      "cell_type": "code",
      "source": [
        "import py3Dmol\n",
        "\n",
        "def view_molecule(data, index, style):\n",
        "\n",
        "    bohr2ang = 0.529177249\n",
        "    symbols = {1:'H', 6:'C', 7:'N', 8:'O', 16: 'S'}\n",
        "\n",
        "    idx_nonzero = data['Z'][index].nonzero()\n",
        "    Z = data['Z'][index][idx_nonzero]\n",
        "    n_atoms = Z.size\n",
        "    labels = np.vectorize(symbols.get)(Z)\n",
        "    labels = labels.reshape(-1,1)\n",
        "\n",
        "    coords = data['R'][index][0:n_atoms,:].reshape(-1,3) * bohr2ang\n",
        "\n",
        "    xyz = np.concatenate((labels, coords), axis=1)\n",
        "    n_atoms = xyz.shape[0]\n",
        "    xyz_str = [str(i).strip('[]') for i in xyz]\n",
        "    geom = str(n_atoms) + '\\n' + ' ' + '\\n'\n",
        "    geom += '\\n'.join(xyz_str)\n",
        "    geom = geom.replace(\"'\", \"\")\n",
        "\n",
        "    for k in style.keys():\n",
        "        assert k in ('line', 'stick', 'sphere', 'carton')\n",
        "\n",
        "    molview = py3Dmol.view(width=350,height=350)\n",
        "    molview.addModel(geom,'xyz')\n",
        "\n",
        "    molview.setStyle(style)\n",
        "    molview.setBackgroundColor('0xeeeeee')\n",
        "    molview.zoomTo()\n",
        "\n",
        "    return molview"
      ],
      "metadata": {
        "id": "LcHKwp5lvKeA"
      },
      "execution_count": null,
      "outputs": []
    },
    {
      "cell_type": "code",
      "source": [
        "# Math libraries\n",
        "import numpy as np\n",
        "\n",
        "# Data handling and visualization\n",
        "import pandas as pd\n",
        "import seaborn as sns\n",
        "import matplotlib.pyplot as plt\n",
        "from mpl_toolkits.mplot3d import Axes3D\n",
        "\n",
        "%matplotlib inline"
      ],
      "metadata": {
        "id": "blvsf7pqhOc5"
      },
      "execution_count": null,
      "outputs": []
    },
    {
      "cell_type": "code",
      "execution_count": null,
      "metadata": {
        "id": "7dBm1mFRL4ZP"
      },
      "outputs": [],
      "source": [
        "import scipy.io\n",
        "\n",
        "# The qm7 dataset will be load as a python dictionary\n",
        "qm7_data = scipy.io.loadmat('qm7.mat')"
      ]
    },
    {
      "cell_type": "code",
      "source": [
        "for k in qm7_data.keys():\n",
        "    if \"_\" not in k:\n",
        "        print(\"{} ---> {}\".format(k,qm7_data[k].shape))\n",
        "    else:\n",
        "        print(k, qm7_data[k])"
      ],
      "metadata": {
        "colab": {
          "base_uri": "https://localhost:8080/"
        },
        "id": "AzrMGi3lMCOi",
        "outputId": "8921f520-4013-44d5-9212-7c4eab2cf14a"
      },
      "execution_count": null,
      "outputs": [
        {
          "output_type": "stream",
          "name": "stdout",
          "text": [
            "__header__ b'MATLAB 5.0 MAT-file Platform: posix, Created on: Mon Feb 18 17:12:08 2013'\n",
            "__version__ 1.0\n",
            "__globals__ []\n",
            "X ---> (7165, 23, 23)\n",
            "R ---> (7165, 23, 3)\n",
            "Z ---> (7165, 23)\n",
            "T ---> (1, 7165)\n",
            "P ---> (5, 1433)\n"
          ]
        }
      ]
    },
    {
      "cell_type": "markdown",
      "source": [
        "The R and Z keys of the dictionary correspond to the Cartesian coordinates (given in Bohr) and the atomic charge of each atom in the molecules."
      ],
      "metadata": {
        "id": "ZhlHCfNFhQrT"
      }
    },
    {
      "cell_type": "code",
      "source": [
        "print(\"Atomic charges:\")\n",
        "print(qm7_data['Z'][0])\n",
        "print(\" \")\n",
        "print(\"Cartesian coordinates:\")\n",
        "print(qm7_data['R'][0])"
      ],
      "metadata": {
        "colab": {
          "base_uri": "https://localhost:8080/"
        },
        "id": "vVbjuweNTXJk",
        "outputId": "4086c46d-4a5e-44ec-9a23-5ef5d8c288c7"
      },
      "execution_count": null,
      "outputs": [
        {
          "output_type": "stream",
          "name": "stdout",
          "text": [
            "Atomic charges:\n",
            "[6. 1. 1. 1. 1. 0. 0. 0. 0. 0. 0. 0. 0. 0. 0. 0. 0. 0. 0. 0. 0. 0. 0.]\n",
            " \n",
            "Cartesian coordinates:\n",
            "[[ 1.886438   -0.00464873 -0.00823921]\n",
            " [ 3.9499245  -0.00459203  0.00782347]\n",
            " [ 1.1976895   1.9404842   0.00782347]\n",
            " [ 1.1849339  -0.99726516  1.6593875 ]\n",
            " [ 1.2119948  -0.9589793  -1.710958  ]\n",
            " [ 0.          0.          0.        ]\n",
            " [ 0.          0.          0.        ]\n",
            " [ 0.          0.          0.        ]\n",
            " [ 0.          0.          0.        ]\n",
            " [ 0.          0.          0.        ]\n",
            " [ 0.          0.          0.        ]\n",
            " [ 0.          0.          0.        ]\n",
            " [ 0.          0.          0.        ]\n",
            " [ 0.          0.          0.        ]\n",
            " [ 0.          0.          0.        ]\n",
            " [ 0.          0.          0.        ]\n",
            " [ 0.          0.          0.        ]\n",
            " [ 0.          0.          0.        ]\n",
            " [ 0.          0.          0.        ]\n",
            " [ 0.          0.          0.        ]\n",
            " [ 0.          0.          0.        ]\n",
            " [ 0.          0.          0.        ]\n",
            " [ 0.          0.          0.        ]]\n"
          ]
        }
      ]
    },
    {
      "cell_type": "code",
      "source": [
        "nonzeros = np.count_nonzero(qm7_data['Z'],axis=1)\n",
        "# Selec molecules with only 15 atoms\n",
        "n_max_atoms = 15\n",
        "idx = np.where(nonzeros == n_max_atoms)\n",
        "qm7_data['X'] = qm7_data['X'][idx][:,:n_max_atoms,:n_max_atoms]\n",
        "qm7_data['R'] = qm7_data['R'][idx][:,:n_max_atoms]\n",
        "qm7_data['Z'] = qm7_data['Z'][idx][:,:n_max_atoms]\n",
        "qm7_data['T'] = qm7_data['T'].flatten()[idx]"
      ],
      "metadata": {
        "id": "DqLg0oi9hWbE"
      },
      "execution_count": null,
      "outputs": []
    },
    {
      "cell_type": "markdown",
      "source": [
        "## Building the Coulomb matrix dataset for the analysis"
      ],
      "metadata": {
        "id": "ixwx0VcLVKBW"
      }
    },
    {
      "cell_type": "code",
      "source": [
        "print(\"Coulomb matrix:\")\n",
        "print(qm7_data['X'][0])"
      ],
      "metadata": {
        "colab": {
          "base_uri": "https://localhost:8080/"
        },
        "id": "MjVztIqaVQVz",
        "outputId": "55c047e5-ac58-4fe5-fdf1-dbf735fb076a"
      },
      "execution_count": null,
      "outputs": [
        {
          "output_type": "stream",
          "name": "stdout",
          "text": [
            "Coulomb matrix:\n",
            "[[73.51669    17.79188    10.574583   10.609484    6.72828     4.352822\n",
            "   2.0783362   1.5839126   1.6360577   1.5685378   1.2611265   1.013529\n",
            "   1.6256311   1.0404118   0.9301662 ]\n",
            " [17.79188    36.858105   12.444374   12.511555    7.4616017   1.6210611\n",
            "   2.899028    1.4651774   1.4753506   1.4622504   1.4564468   1.1054873\n",
            "   1.4680866   1.1392418   0.90926206]\n",
            " [10.574583   12.444374   36.858105    7.4560533  12.53489     1.2365621\n",
            "   1.4679073   2.8932884   2.892906    1.1357094   1.1043904   1.4606544\n",
            "   0.9081943   1.4643822   1.4723637 ]\n",
            " [10.609484   12.511555    7.4560533  36.858105    6.0957327   1.2397863\n",
            "   1.4769639   1.133233    0.9116201   2.897561    2.9032035   1.1057171\n",
            "   2.8976808   0.9178894   0.76837534]\n",
            " [ 6.72828     7.4616017  12.53489     6.0957327  36.858105    0.7923406\n",
            "   1.13689     1.4751805   1.4800829   0.914806    1.1048201   2.9026\n",
            "   0.76742256  2.9010375   2.900114  ]\n",
            " [ 4.352822    1.6210611   1.2365621   1.2397863   0.7923406   0.5\n",
            "   0.18619639  0.21911353  0.18560249  0.21636832  0.14758001  0.123089\n",
            "   0.18476902  0.1169079   0.11308038]\n",
            " [ 2.0783362   2.899028    1.4679073   1.4769639   1.13689     0.18619639\n",
            "   0.5         0.1722883   0.2113788   0.1724449   0.21197397  0.16399914\n",
            "   0.21114197  0.20512931  0.14044192]\n",
            " [ 1.5839126   1.4651774   2.8932884   1.133233    1.4751805   0.21911353\n",
            "   0.1722883   0.5         0.30293542  0.20388336  0.16358486  0.21213824\n",
            "   0.1402037   0.17237149  0.2119239 ]\n",
            " [ 1.6360577   1.4753506   2.892906    0.9116201   1.4800829   0.18560249\n",
            "   0.2113788   0.30293542  0.5         0.14049272  0.13649252  0.17260379\n",
            "   0.12320656  0.20894326  0.21710788]\n",
            " [ 1.5685378   1.4622504   1.1357094   2.897561    0.914806    0.21636832\n",
            "   0.1724449   0.20388336  0.14049272  0.5         0.29747483  0.17102045\n",
            "   0.30114236  0.1297489   0.12251136]\n",
            " [ 1.2611265   1.4564468   1.1043904   2.9032035   1.1048201   0.14758001\n",
            "   0.21197397  0.16358486  0.13649252  0.29747483  0.5         0.22506836\n",
            "   0.29832253  0.17150974  0.13560091]\n",
            " [ 1.013529    1.1054873   1.4606544   1.1057171   2.9026      0.123089\n",
            "   0.16399914  0.21213824  0.17260379  0.17102045  0.22506836  0.5\n",
            "   0.13548537  0.29795465  0.29961467]\n",
            " [ 1.6256311   1.4680866   0.9081943   2.8976808   0.76742256  0.18476902\n",
            "   0.21114197  0.1402037   0.12320656  0.30114236  0.29832253  0.13548537\n",
            "   0.5         0.12261838  0.1022569 ]\n",
            " [ 1.0404118   1.1392418   1.4643822   0.9178894   2.9010375   0.1169079\n",
            "   0.20512931  0.17237149  0.20894326  0.1297489   0.17150974  0.29795465\n",
            "   0.12261838  0.5         0.29875877]\n",
            " [ 0.9301662   0.90926206  1.4723637   0.76837534  2.900114    0.11308038\n",
            "   0.14044192  0.2119239   0.21710788  0.12251136  0.13560091  0.29961467\n",
            "   0.1022569   0.29875877  0.5       ]]\n"
          ]
        }
      ]
    },
    {
      "cell_type": "code",
      "source": [
        "n_samples, cm_rows, cm_cols = qm7_data['X'].shape\n",
        "# Transform the original tensor shape of the CM descriptor, qm7['X'], into a 2D matrix\n",
        "qm7_cm = qm7_data['X'].reshape(-1, cm_rows * cm_cols)\n",
        "qm7_cm.shape"
      ],
      "metadata": {
        "id": "m3ZN1jMxNjKn",
        "colab": {
          "base_uri": "https://localhost:8080/"
        },
        "outputId": "3780cf3a-d868-433e-f807-01e4440967dd"
      },
      "execution_count": null,
      "outputs": [
        {
          "output_type": "execute_result",
          "data": {
            "text/plain": [
              "(1219, 225)"
            ]
          },
          "metadata": {},
          "execution_count": 10
        }
      ]
    },
    {
      "cell_type": "code",
      "source": [
        "df_qm7_cm = pd.DataFrame(qm7_cm)\n",
        "df_qm7_cm.sample(5)"
      ],
      "metadata": {
        "colab": {
          "base_uri": "https://localhost:8080/",
          "height": 300
        },
        "id": "sYvdiRpLiR1C",
        "outputId": "adfdd9a6-dbec-46fe-af20-2842a7f0ce99"
      },
      "execution_count": null,
      "outputs": [
        {
          "output_type": "execute_result",
          "data": {
            "text/plain": [
              "            0          1          2          3          4          5    \\\n",
              "1008  73.516693  13.128277   6.898043  20.752920  10.661843   8.928872   \n",
              "111   73.516693  10.570868  10.612719  17.843496   7.552197   6.712225   \n",
              "17    53.358707  15.155648   8.676389  15.301150   6.049547   5.608386   \n",
              "282   73.516693  14.253613  17.760670  17.737139  10.870183  10.125866   \n",
              "197   53.358707   5.429434   9.029895  16.156294   6.015698   7.246587   \n",
              "\n",
              "            6         7         8         9    ...       215       216  \\\n",
              "1008   7.211328  1.471083  1.552068  1.337539  ...  1.564040  0.806622   \n",
              "111    4.324624  2.060807  2.065679  1.139416  ...  2.929591  0.119086   \n",
              "17     1.718589  1.344897  1.716885  0.961988  ...  2.928110  0.142680   \n",
              "282   10.115960  2.062721  1.513806  1.572131  ...  0.725168  0.709412   \n",
              "197   15.343001  3.643919  1.810319  1.367942  ...  0.632423  2.902313   \n",
              "\n",
              "           217       218       219       220       221       222       223  \\\n",
              "1008  0.230708  0.221972  0.093108  0.105429  0.326204  0.082709  0.145719   \n",
              "111   0.136440  0.140887  0.205491  0.180530  0.170483  0.209901  0.291684   \n",
              "17    0.214249  0.107565  0.170560  0.098162  0.290691  0.095627  0.209945   \n",
              "282   0.217867  0.296037  0.104507  0.116219  0.112345  0.101677  0.193241   \n",
              "197   0.227708  0.145475  0.120302  0.093204  0.091723  0.298651  0.298117   \n",
              "\n",
              "      224  \n",
              "1008  0.5  \n",
              "111   0.5  \n",
              "17    0.5  \n",
              "282   0.5  \n",
              "197   0.5  \n",
              "\n",
              "[5 rows x 225 columns]"
            ],
            "text/html": [
              "\n",
              "  <div id=\"df-cd658423-e470-4815-9e2d-73e7a4deacbe\">\n",
              "    <div class=\"colab-df-container\">\n",
              "      <div>\n",
              "<style scoped>\n",
              "    .dataframe tbody tr th:only-of-type {\n",
              "        vertical-align: middle;\n",
              "    }\n",
              "\n",
              "    .dataframe tbody tr th {\n",
              "        vertical-align: top;\n",
              "    }\n",
              "\n",
              "    .dataframe thead th {\n",
              "        text-align: right;\n",
              "    }\n",
              "</style>\n",
              "<table border=\"1\" class=\"dataframe\">\n",
              "  <thead>\n",
              "    <tr style=\"text-align: right;\">\n",
              "      <th></th>\n",
              "      <th>0</th>\n",
              "      <th>1</th>\n",
              "      <th>2</th>\n",
              "      <th>3</th>\n",
              "      <th>4</th>\n",
              "      <th>5</th>\n",
              "      <th>6</th>\n",
              "      <th>7</th>\n",
              "      <th>8</th>\n",
              "      <th>9</th>\n",
              "      <th>...</th>\n",
              "      <th>215</th>\n",
              "      <th>216</th>\n",
              "      <th>217</th>\n",
              "      <th>218</th>\n",
              "      <th>219</th>\n",
              "      <th>220</th>\n",
              "      <th>221</th>\n",
              "      <th>222</th>\n",
              "      <th>223</th>\n",
              "      <th>224</th>\n",
              "    </tr>\n",
              "  </thead>\n",
              "  <tbody>\n",
              "    <tr>\n",
              "      <th>1008</th>\n",
              "      <td>73.516693</td>\n",
              "      <td>13.128277</td>\n",
              "      <td>6.898043</td>\n",
              "      <td>20.752920</td>\n",
              "      <td>10.661843</td>\n",
              "      <td>8.928872</td>\n",
              "      <td>7.211328</td>\n",
              "      <td>1.471083</td>\n",
              "      <td>1.552068</td>\n",
              "      <td>1.337539</td>\n",
              "      <td>...</td>\n",
              "      <td>1.564040</td>\n",
              "      <td>0.806622</td>\n",
              "      <td>0.230708</td>\n",
              "      <td>0.221972</td>\n",
              "      <td>0.093108</td>\n",
              "      <td>0.105429</td>\n",
              "      <td>0.326204</td>\n",
              "      <td>0.082709</td>\n",
              "      <td>0.145719</td>\n",
              "      <td>0.5</td>\n",
              "    </tr>\n",
              "    <tr>\n",
              "      <th>111</th>\n",
              "      <td>73.516693</td>\n",
              "      <td>10.570868</td>\n",
              "      <td>10.612719</td>\n",
              "      <td>17.843496</td>\n",
              "      <td>7.552197</td>\n",
              "      <td>6.712225</td>\n",
              "      <td>4.324624</td>\n",
              "      <td>2.060807</td>\n",
              "      <td>2.065679</td>\n",
              "      <td>1.139416</td>\n",
              "      <td>...</td>\n",
              "      <td>2.929591</td>\n",
              "      <td>0.119086</td>\n",
              "      <td>0.136440</td>\n",
              "      <td>0.140887</td>\n",
              "      <td>0.205491</td>\n",
              "      <td>0.180530</td>\n",
              "      <td>0.170483</td>\n",
              "      <td>0.209901</td>\n",
              "      <td>0.291684</td>\n",
              "      <td>0.5</td>\n",
              "    </tr>\n",
              "    <tr>\n",
              "      <th>17</th>\n",
              "      <td>53.358707</td>\n",
              "      <td>15.155648</td>\n",
              "      <td>8.676389</td>\n",
              "      <td>15.301150</td>\n",
              "      <td>6.049547</td>\n",
              "      <td>5.608386</td>\n",
              "      <td>1.718589</td>\n",
              "      <td>1.344897</td>\n",
              "      <td>1.716885</td>\n",
              "      <td>0.961988</td>\n",
              "      <td>...</td>\n",
              "      <td>2.928110</td>\n",
              "      <td>0.142680</td>\n",
              "      <td>0.214249</td>\n",
              "      <td>0.107565</td>\n",
              "      <td>0.170560</td>\n",
              "      <td>0.098162</td>\n",
              "      <td>0.290691</td>\n",
              "      <td>0.095627</td>\n",
              "      <td>0.209945</td>\n",
              "      <td>0.5</td>\n",
              "    </tr>\n",
              "    <tr>\n",
              "      <th>282</th>\n",
              "      <td>73.516693</td>\n",
              "      <td>14.253613</td>\n",
              "      <td>17.760670</td>\n",
              "      <td>17.737139</td>\n",
              "      <td>10.870183</td>\n",
              "      <td>10.125866</td>\n",
              "      <td>10.115960</td>\n",
              "      <td>2.062721</td>\n",
              "      <td>1.513806</td>\n",
              "      <td>1.572131</td>\n",
              "      <td>...</td>\n",
              "      <td>0.725168</td>\n",
              "      <td>0.709412</td>\n",
              "      <td>0.217867</td>\n",
              "      <td>0.296037</td>\n",
              "      <td>0.104507</td>\n",
              "      <td>0.116219</td>\n",
              "      <td>0.112345</td>\n",
              "      <td>0.101677</td>\n",
              "      <td>0.193241</td>\n",
              "      <td>0.5</td>\n",
              "    </tr>\n",
              "    <tr>\n",
              "      <th>197</th>\n",
              "      <td>53.358707</td>\n",
              "      <td>5.429434</td>\n",
              "      <td>9.029895</td>\n",
              "      <td>16.156294</td>\n",
              "      <td>6.015698</td>\n",
              "      <td>7.246587</td>\n",
              "      <td>15.343001</td>\n",
              "      <td>3.643919</td>\n",
              "      <td>1.810319</td>\n",
              "      <td>1.367942</td>\n",
              "      <td>...</td>\n",
              "      <td>0.632423</td>\n",
              "      <td>2.902313</td>\n",
              "      <td>0.227708</td>\n",
              "      <td>0.145475</td>\n",
              "      <td>0.120302</td>\n",
              "      <td>0.093204</td>\n",
              "      <td>0.091723</td>\n",
              "      <td>0.298651</td>\n",
              "      <td>0.298117</td>\n",
              "      <td>0.5</td>\n",
              "    </tr>\n",
              "  </tbody>\n",
              "</table>\n",
              "<p>5 rows × 225 columns</p>\n",
              "</div>\n",
              "      <button class=\"colab-df-convert\" onclick=\"convertToInteractive('df-cd658423-e470-4815-9e2d-73e7a4deacbe')\"\n",
              "              title=\"Convert this dataframe to an interactive table.\"\n",
              "              style=\"display:none;\">\n",
              "        \n",
              "  <svg xmlns=\"http://www.w3.org/2000/svg\" height=\"24px\"viewBox=\"0 0 24 24\"\n",
              "       width=\"24px\">\n",
              "    <path d=\"M0 0h24v24H0V0z\" fill=\"none\"/>\n",
              "    <path d=\"M18.56 5.44l.94 2.06.94-2.06 2.06-.94-2.06-.94-.94-2.06-.94 2.06-2.06.94zm-11 1L8.5 8.5l.94-2.06 2.06-.94-2.06-.94L8.5 2.5l-.94 2.06-2.06.94zm10 10l.94 2.06.94-2.06 2.06-.94-2.06-.94-.94-2.06-.94 2.06-2.06.94z\"/><path d=\"M17.41 7.96l-1.37-1.37c-.4-.4-.92-.59-1.43-.59-.52 0-1.04.2-1.43.59L10.3 9.45l-7.72 7.72c-.78.78-.78 2.05 0 2.83L4 21.41c.39.39.9.59 1.41.59.51 0 1.02-.2 1.41-.59l7.78-7.78 2.81-2.81c.8-.78.8-2.07 0-2.86zM5.41 20L4 18.59l7.72-7.72 1.47 1.35L5.41 20z\"/>\n",
              "  </svg>\n",
              "      </button>\n",
              "      \n",
              "  <style>\n",
              "    .colab-df-container {\n",
              "      display:flex;\n",
              "      flex-wrap:wrap;\n",
              "      gap: 12px;\n",
              "    }\n",
              "\n",
              "    .colab-df-convert {\n",
              "      background-color: #E8F0FE;\n",
              "      border: none;\n",
              "      border-radius: 50%;\n",
              "      cursor: pointer;\n",
              "      display: none;\n",
              "      fill: #1967D2;\n",
              "      height: 32px;\n",
              "      padding: 0 0 0 0;\n",
              "      width: 32px;\n",
              "    }\n",
              "\n",
              "    .colab-df-convert:hover {\n",
              "      background-color: #E2EBFA;\n",
              "      box-shadow: 0px 1px 2px rgba(60, 64, 67, 0.3), 0px 1px 3px 1px rgba(60, 64, 67, 0.15);\n",
              "      fill: #174EA6;\n",
              "    }\n",
              "\n",
              "    [theme=dark] .colab-df-convert {\n",
              "      background-color: #3B4455;\n",
              "      fill: #D2E3FC;\n",
              "    }\n",
              "\n",
              "    [theme=dark] .colab-df-convert:hover {\n",
              "      background-color: #434B5C;\n",
              "      box-shadow: 0px 1px 3px 1px rgba(0, 0, 0, 0.15);\n",
              "      filter: drop-shadow(0px 1px 2px rgba(0, 0, 0, 0.3));\n",
              "      fill: #FFFFFF;\n",
              "    }\n",
              "  </style>\n",
              "\n",
              "      <script>\n",
              "        const buttonEl =\n",
              "          document.querySelector('#df-cd658423-e470-4815-9e2d-73e7a4deacbe button.colab-df-convert');\n",
              "        buttonEl.style.display =\n",
              "          google.colab.kernel.accessAllowed ? 'block' : 'none';\n",
              "\n",
              "        async function convertToInteractive(key) {\n",
              "          const element = document.querySelector('#df-cd658423-e470-4815-9e2d-73e7a4deacbe');\n",
              "          const dataTable =\n",
              "            await google.colab.kernel.invokeFunction('convertToInteractive',\n",
              "                                                     [key], {});\n",
              "          if (!dataTable) return;\n",
              "\n",
              "          const docLinkHtml = 'Like what you see? Visit the ' +\n",
              "            '<a target=\"_blank\" href=https://colab.research.google.com/notebooks/data_table.ipynb>data table notebook</a>'\n",
              "            + ' to learn more about interactive tables.';\n",
              "          element.innerHTML = '';\n",
              "          dataTable['output_type'] = 'display_data';\n",
              "          await google.colab.output.renderOutput(dataTable, element);\n",
              "          const docLink = document.createElement('div');\n",
              "          docLink.innerHTML = docLinkHtml;\n",
              "          element.appendChild(docLink);\n",
              "        }\n",
              "      </script>\n",
              "    </div>\n",
              "  </div>\n",
              "  "
            ]
          },
          "metadata": {},
          "execution_count": 11
        }
      ]
    },
    {
      "cell_type": "markdown",
      "source": [
        "# Principal Component Analysis (PCA)"
      ],
      "metadata": {
        "id": "TqUBBZooSZsO"
      }
    },
    {
      "cell_type": "code",
      "source": [
        "from sklearn.decomposition import PCA"
      ],
      "metadata": {
        "id": "EENdtwUKlaFb"
      },
      "execution_count": null,
      "outputs": []
    },
    {
      "cell_type": "markdown",
      "source": [
        "## Without data standardization"
      ],
      "metadata": {
        "id": "eJ1eYYdjlHIO"
      }
    },
    {
      "cell_type": "code",
      "source": [
        "pca = PCA(n_components=2)\n",
        "pca.fit(df_qm7_cm)"
      ],
      "metadata": {
        "id": "FMqLA7CGSkV0",
        "colab": {
          "base_uri": "https://localhost:8080/",
          "height": 75
        },
        "outputId": "4bc2fcac-b688-47e1-8b26-aaf6a8d7d4ec"
      },
      "execution_count": null,
      "outputs": [
        {
          "output_type": "execute_result",
          "data": {
            "text/plain": [
              "PCA(n_components=2)"
            ],
            "text/html": [
              "<style>#sk-container-id-1 {color: black;background-color: white;}#sk-container-id-1 pre{padding: 0;}#sk-container-id-1 div.sk-toggleable {background-color: white;}#sk-container-id-1 label.sk-toggleable__label {cursor: pointer;display: block;width: 100%;margin-bottom: 0;padding: 0.3em;box-sizing: border-box;text-align: center;}#sk-container-id-1 label.sk-toggleable__label-arrow:before {content: \"▸\";float: left;margin-right: 0.25em;color: #696969;}#sk-container-id-1 label.sk-toggleable__label-arrow:hover:before {color: black;}#sk-container-id-1 div.sk-estimator:hover label.sk-toggleable__label-arrow:before {color: black;}#sk-container-id-1 div.sk-toggleable__content {max-height: 0;max-width: 0;overflow: hidden;text-align: left;background-color: #f0f8ff;}#sk-container-id-1 div.sk-toggleable__content pre {margin: 0.2em;color: black;border-radius: 0.25em;background-color: #f0f8ff;}#sk-container-id-1 input.sk-toggleable__control:checked~div.sk-toggleable__content {max-height: 200px;max-width: 100%;overflow: auto;}#sk-container-id-1 input.sk-toggleable__control:checked~label.sk-toggleable__label-arrow:before {content: \"▾\";}#sk-container-id-1 div.sk-estimator input.sk-toggleable__control:checked~label.sk-toggleable__label {background-color: #d4ebff;}#sk-container-id-1 div.sk-label input.sk-toggleable__control:checked~label.sk-toggleable__label {background-color: #d4ebff;}#sk-container-id-1 input.sk-hidden--visually {border: 0;clip: rect(1px 1px 1px 1px);clip: rect(1px, 1px, 1px, 1px);height: 1px;margin: -1px;overflow: hidden;padding: 0;position: absolute;width: 1px;}#sk-container-id-1 div.sk-estimator {font-family: monospace;background-color: #f0f8ff;border: 1px dotted black;border-radius: 0.25em;box-sizing: border-box;margin-bottom: 0.5em;}#sk-container-id-1 div.sk-estimator:hover {background-color: #d4ebff;}#sk-container-id-1 div.sk-parallel-item::after {content: \"\";width: 100%;border-bottom: 1px solid gray;flex-grow: 1;}#sk-container-id-1 div.sk-label:hover label.sk-toggleable__label {background-color: #d4ebff;}#sk-container-id-1 div.sk-serial::before {content: \"\";position: absolute;border-left: 1px solid gray;box-sizing: border-box;top: 0;bottom: 0;left: 50%;z-index: 0;}#sk-container-id-1 div.sk-serial {display: flex;flex-direction: column;align-items: center;background-color: white;padding-right: 0.2em;padding-left: 0.2em;position: relative;}#sk-container-id-1 div.sk-item {position: relative;z-index: 1;}#sk-container-id-1 div.sk-parallel {display: flex;align-items: stretch;justify-content: center;background-color: white;position: relative;}#sk-container-id-1 div.sk-item::before, #sk-container-id-1 div.sk-parallel-item::before {content: \"\";position: absolute;border-left: 1px solid gray;box-sizing: border-box;top: 0;bottom: 0;left: 50%;z-index: -1;}#sk-container-id-1 div.sk-parallel-item {display: flex;flex-direction: column;z-index: 1;position: relative;background-color: white;}#sk-container-id-1 div.sk-parallel-item:first-child::after {align-self: flex-end;width: 50%;}#sk-container-id-1 div.sk-parallel-item:last-child::after {align-self: flex-start;width: 50%;}#sk-container-id-1 div.sk-parallel-item:only-child::after {width: 0;}#sk-container-id-1 div.sk-dashed-wrapped {border: 1px dashed gray;margin: 0 0.4em 0.5em 0.4em;box-sizing: border-box;padding-bottom: 0.4em;background-color: white;}#sk-container-id-1 div.sk-label label {font-family: monospace;font-weight: bold;display: inline-block;line-height: 1.2em;}#sk-container-id-1 div.sk-label-container {text-align: center;}#sk-container-id-1 div.sk-container {/* jupyter's `normalize.less` sets `[hidden] { display: none; }` but bootstrap.min.css set `[hidden] { display: none !important; }` so we also need the `!important` here to be able to override the default hidden behavior on the sphinx rendered scikit-learn.org. See: https://github.com/scikit-learn/scikit-learn/issues/21755 */display: inline-block !important;position: relative;}#sk-container-id-1 div.sk-text-repr-fallback {display: none;}</style><div id=\"sk-container-id-1\" class=\"sk-top-container\"><div class=\"sk-text-repr-fallback\"><pre>PCA(n_components=2)</pre><b>In a Jupyter environment, please rerun this cell to show the HTML representation or trust the notebook. <br />On GitHub, the HTML representation is unable to render, please try loading this page with nbviewer.org.</b></div><div class=\"sk-container\" hidden><div class=\"sk-item\"><div class=\"sk-estimator sk-toggleable\"><input class=\"sk-toggleable__control sk-hidden--visually\" id=\"sk-estimator-id-1\" type=\"checkbox\" checked><label for=\"sk-estimator-id-1\" class=\"sk-toggleable__label sk-toggleable__label-arrow\">PCA</label><div class=\"sk-toggleable__content\"><pre>PCA(n_components=2)</pre></div></div></div></div></div>"
            ]
          },
          "metadata": {},
          "execution_count": 13
        }
      ]
    },
    {
      "cell_type": "code",
      "source": [
        "X_reduced = pca.transform(df_qm7_cm)\n",
        "X_reduced"
      ],
      "metadata": {
        "colab": {
          "base_uri": "https://localhost:8080/"
        },
        "id": "lYbZ5Qkgl1sL",
        "outputId": "e62ce874-bcb8-4eca-d4e4-3168cf225792"
      },
      "execution_count": null,
      "outputs": [
        {
          "output_type": "execute_result",
          "data": {
            "text/plain": [
              "array([[ -5.5403666,  45.32131  ],\n",
              "       [ -4.9075527,  45.959316 ],\n",
              "       [ -4.5656095,  45.632    ],\n",
              "       ...,\n",
              "       [-40.219536 ,   7.565469 ],\n",
              "       [-39.983734 ,   7.7647185],\n",
              "       [-40.00479  ,   8.081244 ]], dtype=float32)"
            ]
          },
          "metadata": {},
          "execution_count": 14
        }
      ]
    },
    {
      "cell_type": "code",
      "source": [
        "plt.scatter(X_reduced[:,0], X_reduced[:,1])\n",
        "plt.show()"
      ],
      "metadata": {
        "colab": {
          "base_uri": "https://localhost:8080/",
          "height": 430
        },
        "id": "lk18uJ66mlLr",
        "outputId": "7e81d356-f7b2-4cc4-c239-08a97ac7ae3b"
      },
      "execution_count": null,
      "outputs": [
        {
          "output_type": "display_data",
          "data": {
            "text/plain": [
              "<Figure size 640x480 with 1 Axes>"
            ],
            "image/png": "[encoded data removed]"
          },
          "metadata": {}
        }
      ]
    },
    {
      "cell_type": "markdown",
      "source": [
        "## With data standardization"
      ],
      "metadata": {
        "id": "D9dqnmvFnpv7"
      }
    },
    {
      "cell_type": "code",
      "source": [
        "# https://scikit-learn.org/stable/modules/generated/sklearn.preprocessing.StandardScaler.html\n",
        "from sklearn.preprocessing import StandardScaler"
      ],
      "metadata": {
        "id": "Yx8L8HXimwtI"
      },
      "execution_count": null,
      "outputs": []
    },
    {
      "cell_type": "code",
      "source": [
        "df_scaled = pd.DataFrame(StandardScaler().fit_transform(qm7_cm))\n",
        "df_scaled"
      ],
      "metadata": {
        "colab": {
          "base_uri": "https://localhost:8080/",
          "height": 424
        },
        "id": "RRsnPDAun2s4",
        "outputId": "a361a347-b2e9-42c3-c726-954db2221b9e"
      },
      "execution_count": null,
      "outputs": [
        {
          "output_type": "execute_result",
          "data": {
            "text/plain": [
              "           0         1         2         3         4         5         6    \\\n",
              "0    -0.044549  0.722757 -0.483804 -0.465096 -1.047523 -1.275253 -1.402952   \n",
              "1    -0.044549  0.725228 -0.476380  0.906262 -1.037807 -1.803589 -1.410930   \n",
              "2    -0.044549  0.728975  0.744357 -0.458203 -0.183195 -1.803703 -1.411218   \n",
              "3    -0.044549  0.718454 -0.508503  0.906193 -0.171030 -1.805138 -1.523623   \n",
              "4    -0.723964  0.098569 -0.128764 -0.079294 -0.871444 -1.926379 -1.556895   \n",
              "...        ...       ...       ...       ...       ...       ...       ...   \n",
              "1214 -0.418149  0.950632  0.624795 -0.689563 -0.426326 -0.183215 -0.412029   \n",
              "1215 -0.418149  0.785287  0.626409 -0.664681 -0.305158 -0.210053 -0.270636   \n",
              "1216 -0.723964 -0.125038 -0.934655  0.006048 -0.689139 -0.593179  1.620175   \n",
              "1217 -0.723964 -0.086327 -0.047584 -0.942256 -0.678343  0.985074 -0.047409   \n",
              "1218 -0.723964 -0.085841 -0.839382  0.008797 -0.659080  0.993269 -0.112112   \n",
              "\n",
              "           7         8         9    ...       215       216       217  \\\n",
              "0    -0.467348 -0.102323 -0.025052  ... -1.369330 -2.136465  1.770912   \n",
              "1    -0.434049 -0.137355  0.747407  ... -1.334562 -2.136684  1.809340   \n",
              "2     0.059881  0.532819  0.029254  ... -1.242912 -2.067548 -0.727372   \n",
              "3    -0.526795  0.517558  0.034193  ... -1.323124 -2.150048 -0.077073   \n",
              "4    -0.584487 -0.342716 -0.789746  ... -1.223060 -2.135624 -0.818050   \n",
              "...        ...       ...       ...  ...       ...       ...       ...   \n",
              "1214 -0.852373 -0.831957  0.463348  ...  0.419067  0.556566 -0.442788   \n",
              "1215 -0.890492 -0.761952 -0.728877  ...  0.369628  0.535037 -0.336154   \n",
              "1216 -0.630176 -0.899804 -1.011699  ... -0.623292  0.559996 -0.193912   \n",
              "1217 -1.102956 -1.064490 -0.284456  ... -0.542386  0.559233  0.961996   \n",
              "1218 -1.180049 -0.463392 -0.137675  ...  2.231842 -1.544041 -1.100294   \n",
              "\n",
              "           218       219       220       221       222       223  224  \n",
              "0     1.724548 -0.346133 -0.170830  1.859144 -0.852049  0.988651  0.0  \n",
              "1     1.639142 -0.993904 -0.878766  1.846415  1.199059 -1.290658  0.0  \n",
              "2    -0.649023 -0.956618  2.237051 -0.773411  1.185188 -1.295472  0.0  \n",
              "3     3.578688 -0.494582  2.250263 -0.400732 -0.825875 -1.096336  0.0  \n",
              "4    -0.728077  2.983373  2.272133 -0.452575 -0.873451 -1.081588  0.0  \n",
              "...        ...       ...       ...       ...       ...       ...  ...  \n",
              "1214 -0.179744 -1.095523 -0.843277  0.821287 -1.042932  0.856048  0.0  \n",
              "1215 -0.653435  1.322095  0.983624  1.844822  1.194901 -1.267976  0.0  \n",
              "1216 -0.538604 -0.795345  0.766032 -0.541173 -0.910498  0.847176  0.0  \n",
              "1217  0.978596 -0.849560 -0.206499  1.688425 -0.832395 -1.078552  0.0  \n",
              "1218  1.246772  2.725571 -0.317853 -0.324928 -0.793374 -1.081046  0.0  \n",
              "\n",
              "[1219 rows x 225 columns]"
            ],
            "text/html": [
              "\n",
              "  <div id=\"df-43c6420f-2db5-43dc-97ed-ed09dc93c451\">\n",
              "    <div class=\"colab-df-container\">\n",
              "      <div>\n",
              "<style scoped>\n",
              "    .dataframe tbody tr th:only-of-type {\n",
              "        vertical-align: middle;\n",
              "    }\n",
              "\n",
              "    .dataframe tbody tr th {\n",
              "        vertical-align: top;\n",
              "    }\n",
              "\n",
              "    .dataframe thead th {\n",
              "        text-align: right;\n",
              "    }\n",
              "</style>\n",
              "<table border=\"1\" class=\"dataframe\">\n",
              "  <thead>\n",
              "    <tr style=\"text-align: right;\">\n",
              "      <th></th>\n",
              "      <th>0</th>\n",
              "      <th>1</th>\n",
              "      <th>2</th>\n",
              "      <th>3</th>\n",
              "      <th>4</th>\n",
              "      <th>5</th>\n",
              "      <th>6</th>\n",
              "      <th>7</th>\n",
              "      <th>8</th>\n",
              "      <th>9</th>\n",
              "      <th>...</th>\n",
              "      <th>215</th>\n",
              "      <th>216</th>\n",
              "      <th>217</th>\n",
              "      <th>218</th>\n",
              "      <th>219</th>\n",
              "      <th>220</th>\n",
              "      <th>221</th>\n",
              "      <th>222</th>\n",
              "      <th>223</th>\n",
              "      <th>224</th>\n",
              "    </tr>\n",
              "  </thead>\n",
              "  <tbody>\n",
              "    <tr>\n",
              "      <th>0</th>\n",
              "      <td>-0.044549</td>\n",
              "      <td>0.722757</td>\n",
              "      <td>-0.483804</td>\n",
              "      <td>-0.465096</td>\n",
              "      <td>-1.047523</td>\n",
              "      <td>-1.275253</td>\n",
              "      <td>-1.402952</td>\n",
              "      <td>-0.467348</td>\n",
              "      <td>-0.102323</td>\n",
              "      <td>-0.025052</td>\n",
              "      <td>...</td>\n",
              "      <td>-1.369330</td>\n",
              "      <td>-2.136465</td>\n",
              "      <td>1.770912</td>\n",
              "      <td>1.724548</td>\n",
              "      <td>-0.346133</td>\n",
              "      <td>-0.170830</td>\n",
              "      <td>1.859144</td>\n",
              "      <td>-0.852049</td>\n",
              "      <td>0.988651</td>\n",
              "      <td>0.0</td>\n",
              "    </tr>\n",
              "    <tr>\n",
              "      <th>1</th>\n",
              "      <td>-0.044549</td>\n",
              "      <td>0.725228</td>\n",
              "      <td>-0.476380</td>\n",
              "      <td>0.906262</td>\n",
              "      <td>-1.037807</td>\n",
              "      <td>-1.803589</td>\n",
              "      <td>-1.410930</td>\n",
              "      <td>-0.434049</td>\n",
              "      <td>-0.137355</td>\n",
              "      <td>0.747407</td>\n",
              "      <td>...</td>\n",
              "      <td>-1.334562</td>\n",
              "      <td>-2.136684</td>\n",
              "      <td>1.809340</td>\n",
              "      <td>1.639142</td>\n",
              "      <td>-0.993904</td>\n",
              "      <td>-0.878766</td>\n",
              "      <td>1.846415</td>\n",
              "      <td>1.199059</td>\n",
              "      <td>-1.290658</td>\n",
              "      <td>0.0</td>\n",
              "    </tr>\n",
              "    <tr>\n",
              "      <th>2</th>\n",
              "      <td>-0.044549</td>\n",
              "      <td>0.728975</td>\n",
              "      <td>0.744357</td>\n",
              "      <td>-0.458203</td>\n",
              "      <td>-0.183195</td>\n",
              "      <td>-1.803703</td>\n",
              "      <td>-1.411218</td>\n",
              "      <td>0.059881</td>\n",
              "      <td>0.532819</td>\n",
              "      <td>0.029254</td>\n",
              "      <td>...</td>\n",
              "      <td>-1.242912</td>\n",
              "      <td>-2.067548</td>\n",
              "      <td>-0.727372</td>\n",
              "      <td>-0.649023</td>\n",
              "      <td>-0.956618</td>\n",
              "      <td>2.237051</td>\n",
              "      <td>-0.773411</td>\n",
              "      <td>1.185188</td>\n",
              "      <td>-1.295472</td>\n",
              "      <td>0.0</td>\n",
              "    </tr>\n",
              "    <tr>\n",
              "      <th>3</th>\n",
              "      <td>-0.044549</td>\n",
              "      <td>0.718454</td>\n",
              "      <td>-0.508503</td>\n",
              "      <td>0.906193</td>\n",
              "      <td>-0.171030</td>\n",
              "      <td>-1.805138</td>\n",
              "      <td>-1.523623</td>\n",
              "      <td>-0.526795</td>\n",
              "      <td>0.517558</td>\n",
              "      <td>0.034193</td>\n",
              "      <td>...</td>\n",
              "      <td>-1.323124</td>\n",
              "      <td>-2.150048</td>\n",
              "      <td>-0.077073</td>\n",
              "      <td>3.578688</td>\n",
              "      <td>-0.494582</td>\n",
              "      <td>2.250263</td>\n",
              "      <td>-0.400732</td>\n",
              "      <td>-0.825875</td>\n",
              "      <td>-1.096336</td>\n",
              "      <td>0.0</td>\n",
              "    </tr>\n",
              "    <tr>\n",
              "      <th>4</th>\n",
              "      <td>-0.723964</td>\n",
              "      <td>0.098569</td>\n",
              "      <td>-0.128764</td>\n",
              "      <td>-0.079294</td>\n",
              "      <td>-0.871444</td>\n",
              "      <td>-1.926379</td>\n",
              "      <td>-1.556895</td>\n",
              "      <td>-0.584487</td>\n",
              "      <td>-0.342716</td>\n",
              "      <td>-0.789746</td>\n",
              "      <td>...</td>\n",
              "      <td>-1.223060</td>\n",
              "      <td>-2.135624</td>\n",
              "      <td>-0.818050</td>\n",
              "      <td>-0.728077</td>\n",
              "      <td>2.983373</td>\n",
              "      <td>2.272133</td>\n",
              "      <td>-0.452575</td>\n",
              "      <td>-0.873451</td>\n",
              "      <td>-1.081588</td>\n",
              "      <td>0.0</td>\n",
              "    </tr>\n",
              "    <tr>\n",
              "      <th>...</th>\n",
              "      <td>...</td>\n",
              "      <td>...</td>\n",
              "      <td>...</td>\n",
              "      <td>...</td>\n",
              "      <td>...</td>\n",
              "      <td>...</td>\n",
              "      <td>...</td>\n",
              "      <td>...</td>\n",
              "      <td>...</td>\n",
              "      <td>...</td>\n",
              "      <td>...</td>\n",
              "      <td>...</td>\n",
              "      <td>...</td>\n",
              "      <td>...</td>\n",
              "      <td>...</td>\n",
              "      <td>...</td>\n",
              "      <td>...</td>\n",
              "      <td>...</td>\n",
              "      <td>...</td>\n",
              "      <td>...</td>\n",
              "      <td>...</td>\n",
              "    </tr>\n",
              "    <tr>\n",
              "      <th>1214</th>\n",
              "      <td>-0.418149</td>\n",
              "      <td>0.950632</td>\n",
              "      <td>0.624795</td>\n",
              "      <td>-0.689563</td>\n",
              "      <td>-0.426326</td>\n",
              "      <td>-0.183215</td>\n",
              "      <td>-0.412029</td>\n",
              "      <td>-0.852373</td>\n",
              "      <td>-0.831957</td>\n",
              "      <td>0.463348</td>\n",
              "      <td>...</td>\n",
              "      <td>0.419067</td>\n",
              "      <td>0.556566</td>\n",
              "      <td>-0.442788</td>\n",
              "      <td>-0.179744</td>\n",
              "      <td>-1.095523</td>\n",
              "      <td>-0.843277</td>\n",
              "      <td>0.821287</td>\n",
              "      <td>-1.042932</td>\n",
              "      <td>0.856048</td>\n",
              "      <td>0.0</td>\n",
              "    </tr>\n",
              "    <tr>\n",
              "      <th>1215</th>\n",
              "      <td>-0.418149</td>\n",
              "      <td>0.785287</td>\n",
              "      <td>0.626409</td>\n",
              "      <td>-0.664681</td>\n",
              "      <td>-0.305158</td>\n",
              "      <td>-0.210053</td>\n",
              "      <td>-0.270636</td>\n",
              "      <td>-0.890492</td>\n",
              "      <td>-0.761952</td>\n",
              "      <td>-0.728877</td>\n",
              "      <td>...</td>\n",
              "      <td>0.369628</td>\n",
              "      <td>0.535037</td>\n",
              "      <td>-0.336154</td>\n",
              "      <td>-0.653435</td>\n",
              "      <td>1.322095</td>\n",
              "      <td>0.983624</td>\n",
              "      <td>1.844822</td>\n",
              "      <td>1.194901</td>\n",
              "      <td>-1.267976</td>\n",
              "      <td>0.0</td>\n",
              "    </tr>\n",
              "    <tr>\n",
              "      <th>1216</th>\n",
              "      <td>-0.723964</td>\n",
              "      <td>-0.125038</td>\n",
              "      <td>-0.934655</td>\n",
              "      <td>0.006048</td>\n",
              "      <td>-0.689139</td>\n",
              "      <td>-0.593179</td>\n",
              "      <td>1.620175</td>\n",
              "      <td>-0.630176</td>\n",
              "      <td>-0.899804</td>\n",
              "      <td>-1.011699</td>\n",
              "      <td>...</td>\n",
              "      <td>-0.623292</td>\n",
              "      <td>0.559996</td>\n",
              "      <td>-0.193912</td>\n",
              "      <td>-0.538604</td>\n",
              "      <td>-0.795345</td>\n",
              "      <td>0.766032</td>\n",
              "      <td>-0.541173</td>\n",
              "      <td>-0.910498</td>\n",
              "      <td>0.847176</td>\n",
              "      <td>0.0</td>\n",
              "    </tr>\n",
              "    <tr>\n",
              "      <th>1217</th>\n",
              "      <td>-0.723964</td>\n",
              "      <td>-0.086327</td>\n",
              "      <td>-0.047584</td>\n",
              "      <td>-0.942256</td>\n",
              "      <td>-0.678343</td>\n",
              "      <td>0.985074</td>\n",
              "      <td>-0.047409</td>\n",
              "      <td>-1.102956</td>\n",
              "      <td>-1.064490</td>\n",
              "      <td>-0.284456</td>\n",
              "      <td>...</td>\n",
              "      <td>-0.542386</td>\n",
              "      <td>0.559233</td>\n",
              "      <td>0.961996</td>\n",
              "      <td>0.978596</td>\n",
              "      <td>-0.849560</td>\n",
              "      <td>-0.206499</td>\n",
              "      <td>1.688425</td>\n",
              "      <td>-0.832395</td>\n",
              "      <td>-1.078552</td>\n",
              "      <td>0.0</td>\n",
              "    </tr>\n",
              "    <tr>\n",
              "      <th>1218</th>\n",
              "      <td>-0.723964</td>\n",
              "      <td>-0.085841</td>\n",
              "      <td>-0.839382</td>\n",
              "      <td>0.008797</td>\n",
              "      <td>-0.659080</td>\n",
              "      <td>0.993269</td>\n",
              "      <td>-0.112112</td>\n",
              "      <td>-1.180049</td>\n",
              "      <td>-0.463392</td>\n",
              "      <td>-0.137675</td>\n",
              "      <td>...</td>\n",
              "      <td>2.231842</td>\n",
              "      <td>-1.544041</td>\n",
              "      <td>-1.100294</td>\n",
              "      <td>1.246772</td>\n",
              "      <td>2.725571</td>\n",
              "      <td>-0.317853</td>\n",
              "      <td>-0.324928</td>\n",
              "      <td>-0.793374</td>\n",
              "      <td>-1.081046</td>\n",
              "      <td>0.0</td>\n",
              "    </tr>\n",
              "  </tbody>\n",
              "</table>\n",
              "<p>1219 rows × 225 columns</p>\n",
              "</div>\n",
              "      <button class=\"colab-df-convert\" onclick=\"convertToInteractive('df-43c6420f-2db5-43dc-97ed-ed09dc93c451')\"\n",
              "              title=\"Convert this dataframe to an interactive table.\"\n",
              "              style=\"display:none;\">\n",
              "        \n",
              "  <svg xmlns=\"http://www.w3.org/2000/svg\" height=\"24px\"viewBox=\"0 0 24 24\"\n",
              "       width=\"24px\">\n",
              "    <path d=\"M0 0h24v24H0V0z\" fill=\"none\"/>\n",
              "    <path d=\"M18.56 5.44l.94 2.06.94-2.06 2.06-.94-2.06-.94-.94-2.06-.94 2.06-2.06.94zm-11 1L8.5 8.5l.94-2.06 2.06-.94-2.06-.94L8.5 2.5l-.94 2.06-2.06.94zm10 10l.94 2.06.94-2.06 2.06-.94-2.06-.94-.94-2.06-.94 2.06-2.06.94z\"/><path d=\"M17.41 7.96l-1.37-1.37c-.4-.4-.92-.59-1.43-.59-.52 0-1.04.2-1.43.59L10.3 9.45l-7.72 7.72c-.78.78-.78 2.05 0 2.83L4 21.41c.39.39.9.59 1.41.59.51 0 1.02-.2 1.41-.59l7.78-7.78 2.81-2.81c.8-.78.8-2.07 0-2.86zM5.41 20L4 18.59l7.72-7.72 1.47 1.35L5.41 20z\"/>\n",
              "  </svg>\n",
              "      </button>\n",
              "      \n",
              "  <style>\n",
              "    .colab-df-container {\n",
              "      display:flex;\n",
              "      flex-wrap:wrap;\n",
              "      gap: 12px;\n",
              "    }\n",
              "\n",
              "    .colab-df-convert {\n",
              "      background-color: #E8F0FE;\n",
              "      border: none;\n",
              "      border-radius: 50%;\n",
              "      cursor: pointer;\n",
              "      display: none;\n",
              "      fill: #1967D2;\n",
              "      height: 32px;\n",
              "      padding: 0 0 0 0;\n",
              "      width: 32px;\n",
              "    }\n",
              "\n",
              "    .colab-df-convert:hover {\n",
              "      background-color: #E2EBFA;\n",
              "      box-shadow: 0px 1px 2px rgba(60, 64, 67, 0.3), 0px 1px 3px 1px rgba(60, 64, 67, 0.15);\n",
              "      fill: #174EA6;\n",
              "    }\n",
              "\n",
              "    [theme=dark] .colab-df-convert {\n",
              "      background-color: #3B4455;\n",
              "      fill: #D2E3FC;\n",
              "    }\n",
              "\n",
              "    [theme=dark] .colab-df-convert:hover {\n",
              "      background-color: #434B5C;\n",
              "      box-shadow: 0px 1px 3px 1px rgba(0, 0, 0, 0.15);\n",
              "      filter: drop-shadow(0px 1px 2px rgba(0, 0, 0, 0.3));\n",
              "      fill: #FFFFFF;\n",
              "    }\n",
              "  </style>\n",
              "\n",
              "      <script>\n",
              "        const buttonEl =\n",
              "          document.querySelector('#df-43c6420f-2db5-43dc-97ed-ed09dc93c451 button.colab-df-convert');\n",
              "        buttonEl.style.display =\n",
              "          google.colab.kernel.accessAllowed ? 'block' : 'none';\n",
              "\n",
              "        async function convertToInteractive(key) {\n",
              "          const element = document.querySelector('#df-43c6420f-2db5-43dc-97ed-ed09dc93c451');\n",
              "          const dataTable =\n",
              "            await google.colab.kernel.invokeFunction('convertToInteractive',\n",
              "                                                     [key], {});\n",
              "          if (!dataTable) return;\n",
              "\n",
              "          const docLinkHtml = 'Like what you see? Visit the ' +\n",
              "            '<a target=\"_blank\" href=https://colab.research.google.com/notebooks/data_table.ipynb>data table notebook</a>'\n",
              "            + ' to learn more about interactive tables.';\n",
              "          element.innerHTML = '';\n",
              "          dataTable['output_type'] = 'display_data';\n",
              "          await google.colab.output.renderOutput(dataTable, element);\n",
              "          const docLink = document.createElement('div');\n",
              "          docLink.innerHTML = docLinkHtml;\n",
              "          element.appendChild(docLink);\n",
              "        }\n",
              "      </script>\n",
              "    </div>\n",
              "  </div>\n",
              "  "
            ]
          },
          "metadata": {},
          "execution_count": 93
        }
      ]
    },
    {
      "cell_type": "code",
      "source": [
        "pca = PCA(n_components=2)\n",
        "pca.fit(df_scaled)"
      ],
      "metadata": {
        "colab": {
          "base_uri": "https://localhost:8080/",
          "height": 75
        },
        "id": "6xQldrcToGfN",
        "outputId": "e10dd3e6-cb13-4c28-f016-f459458e491d"
      },
      "execution_count": null,
      "outputs": [
        {
          "output_type": "execute_result",
          "data": {
            "text/plain": [
              "PCA(n_components=2)"
            ],
            "text/html": [
              "<style>#sk-container-id-7 {color: black;background-color: white;}#sk-container-id-7 pre{padding: 0;}#sk-container-id-7 div.sk-toggleable {background-color: white;}#sk-container-id-7 label.sk-toggleable__label {cursor: pointer;display: block;width: 100%;margin-bottom: 0;padding: 0.3em;box-sizing: border-box;text-align: center;}#sk-container-id-7 label.sk-toggleable__label-arrow:before {content: \"▸\";float: left;margin-right: 0.25em;color: #696969;}#sk-container-id-7 label.sk-toggleable__label-arrow:hover:before {color: black;}#sk-container-id-7 div.sk-estimator:hover label.sk-toggleable__label-arrow:before {color: black;}#sk-container-id-7 div.sk-toggleable__content {max-height: 0;max-width: 0;overflow: hidden;text-align: left;background-color: #f0f8ff;}#sk-container-id-7 div.sk-toggleable__content pre {margin: 0.2em;color: black;border-radius: 0.25em;background-color: #f0f8ff;}#sk-container-id-7 input.sk-toggleable__control:checked~div.sk-toggleable__content {max-height: 200px;max-width: 100%;overflow: auto;}#sk-container-id-7 input.sk-toggleable__control:checked~label.sk-toggleable__label-arrow:before {content: \"▾\";}#sk-container-id-7 div.sk-estimator input.sk-toggleable__control:checked~label.sk-toggleable__label {background-color: #d4ebff;}#sk-container-id-7 div.sk-label input.sk-toggleable__control:checked~label.sk-toggleable__label {background-color: #d4ebff;}#sk-container-id-7 input.sk-hidden--visually {border: 0;clip: rect(1px 1px 1px 1px);clip: rect(1px, 1px, 1px, 1px);height: 1px;margin: -1px;overflow: hidden;padding: 0;position: absolute;width: 1px;}#sk-container-id-7 div.sk-estimator {font-family: monospace;background-color: #f0f8ff;border: 1px dotted black;border-radius: 0.25em;box-sizing: border-box;margin-bottom: 0.5em;}#sk-container-id-7 div.sk-estimator:hover {background-color: #d4ebff;}#sk-container-id-7 div.sk-parallel-item::after {content: \"\";width: 100%;border-bottom: 1px solid gray;flex-grow: 1;}#sk-container-id-7 div.sk-label:hover label.sk-toggleable__label {background-color: #d4ebff;}#sk-container-id-7 div.sk-serial::before {content: \"\";position: absolute;border-left: 1px solid gray;box-sizing: border-box;top: 0;bottom: 0;left: 50%;z-index: 0;}#sk-container-id-7 div.sk-serial {display: flex;flex-direction: column;align-items: center;background-color: white;padding-right: 0.2em;padding-left: 0.2em;position: relative;}#sk-container-id-7 div.sk-item {position: relative;z-index: 1;}#sk-container-id-7 div.sk-parallel {display: flex;align-items: stretch;justify-content: center;background-color: white;position: relative;}#sk-container-id-7 div.sk-item::before, #sk-container-id-7 div.sk-parallel-item::before {content: \"\";position: absolute;border-left: 1px solid gray;box-sizing: border-box;top: 0;bottom: 0;left: 50%;z-index: -1;}#sk-container-id-7 div.sk-parallel-item {display: flex;flex-direction: column;z-index: 1;position: relative;background-color: white;}#sk-container-id-7 div.sk-parallel-item:first-child::after {align-self: flex-end;width: 50%;}#sk-container-id-7 div.sk-parallel-item:last-child::after {align-self: flex-start;width: 50%;}#sk-container-id-7 div.sk-parallel-item:only-child::after {width: 0;}#sk-container-id-7 div.sk-dashed-wrapped {border: 1px dashed gray;margin: 0 0.4em 0.5em 0.4em;box-sizing: border-box;padding-bottom: 0.4em;background-color: white;}#sk-container-id-7 div.sk-label label {font-family: monospace;font-weight: bold;display: inline-block;line-height: 1.2em;}#sk-container-id-7 div.sk-label-container {text-align: center;}#sk-container-id-7 div.sk-container {/* jupyter's `normalize.less` sets `[hidden] { display: none; }` but bootstrap.min.css set `[hidden] { display: none !important; }` so we also need the `!important` here to be able to override the default hidden behavior on the sphinx rendered scikit-learn.org. See: https://github.com/scikit-learn/scikit-learn/issues/21755 */display: inline-block !important;position: relative;}#sk-container-id-7 div.sk-text-repr-fallback {display: none;}</style><div id=\"sk-container-id-7\" class=\"sk-top-container\"><div class=\"sk-text-repr-fallback\"><pre>PCA(n_components=2)</pre><b>In a Jupyter environment, please rerun this cell to show the HTML representation or trust the notebook. <br />On GitHub, the HTML representation is unable to render, please try loading this page with nbviewer.org.</b></div><div class=\"sk-container\" hidden><div class=\"sk-item\"><div class=\"sk-estimator sk-toggleable\"><input class=\"sk-toggleable__control sk-hidden--visually\" id=\"sk-estimator-id-7\" type=\"checkbox\" checked><label for=\"sk-estimator-id-7\" class=\"sk-toggleable__label sk-toggleable__label-arrow\">PCA</label><div class=\"sk-toggleable__content\"><pre>PCA(n_components=2)</pre></div></div></div></div></div>"
            ]
          },
          "metadata": {},
          "execution_count": 94
        }
      ]
    },
    {
      "cell_type": "code",
      "source": [
        "X_reduced = pca.transform(df_scaled)\n",
        "X_reduced"
      ],
      "metadata": {
        "id": "9L9QY1NRoKEb",
        "outputId": "29c712e0-2e59-49c6-9181-ba0fa6c6de11",
        "colab": {
          "base_uri": "https://localhost:8080/"
        }
      },
      "execution_count": null,
      "outputs": [
        {
          "output_type": "execute_result",
          "data": {
            "text/plain": [
              "array([[11.536731  , -4.4937553 ],\n",
              "       [10.823525  , -4.3910446 ],\n",
              "       [11.393025  , -3.8252816 ],\n",
              "       ...,\n",
              "       [-0.3270474 , -0.13287006],\n",
              "       [-0.14470665, -3.0900407 ],\n",
              "       [-0.5771954 , -3.3223352 ]], dtype=float32)"
            ]
          },
          "metadata": {},
          "execution_count": 95
        }
      ]
    },
    {
      "cell_type": "code",
      "source": [
        "plt.scatter(X_reduced[:,0], X_reduced[:,1])\n",
        "plt.show()"
      ],
      "metadata": {
        "id": "QbUtvkE7oMwr",
        "colab": {
          "base_uri": "https://localhost:8080/",
          "height": 522
        },
        "outputId": "33a83ef7-464f-4de1-e8d0-f9ad1cc314bd"
      },
      "execution_count": null,
      "outputs": [
        {
          "output_type": "display_data",
          "data": {
            "text/plain": [
              "<Figure size 1200x600 with 1 Axes>"
            ],
            "image/png": "[encoded data removed]"
          },
          "metadata": {}
        }
      ]
    },
    {
      "cell_type": "markdown",
      "source": [
        "# Selecting number of principal components"
      ],
      "metadata": {
        "id": "U3TIGe2PvpS4"
      }
    },
    {
      "cell_type": "markdown",
      "source": [
        "Choosing the correct number of PC is vital to successfully reducing the dimensionality of your data. If the number of principle components is set to low not all of the variance in the data is accounted for, while too many principle components can be redundant. In order to evaluate how many PCs to choose the explained variance ratio for each principle component can be calculated and visualized. In the following section, PCA is performed for 5 PCs and visualized.\n",
        "\n",
        "- Mentions sensible threshold for explained variance"
      ],
      "metadata": {
        "id": "oG0uuteyor9S"
      }
    },
    {
      "cell_type": "code",
      "source": [
        "plt.rcParams['figure.figsize'] = [12, 6]\n",
        "plt.subplot(1, 2, 1)\n",
        "pca_scaled = PCA(n_components=8)\n",
        "pca_scaled.fit(df_scaled)\n",
        "X_new_scaled = pca_scaled.transform(df_scaled)\n",
        "pcs_scaled = np.arange(len(pca_scaled.explained_variance_ratio_))+1\n",
        "print (pca_scaled.explained_variance_ratio_)\n",
        "s = 0\n",
        "cumsum = [(s:=s+i) for i in pca_scaled.explained_variance_ratio_]\n",
        "plt.bar(pcs_scaled, pca_scaled.explained_variance_ratio_,label=\"explained variance\")\n",
        "plt.bar(pcs_scaled+0.1, cumsum, color=\"gray\", alpha = 0.3,label=\"accumulative explained variance\")\n",
        "plt.title(\"PCA of CM scaled\")\n",
        "plt.xlabel(\"PC\")\n",
        "plt.ylabel(\"Explained variance ratio\")\n",
        "plt.ylim(0,1)\n",
        "plt.axhline(y = 0.9, color = 'r', linestyle = ':',label=\"Threshold\")\n",
        "plt.legend(loc=\"center left\")\n",
        "\n",
        "plt.subplot(1, 2, 2)\n",
        "pca = PCA(n_components=8)\n",
        "pca.fit(df_qm7_cm)\n",
        "X_new = pca.transform(df_qm7_cm)\n",
        "pcs = np.arange(len(pca.explained_variance_ratio_))+1\n",
        "s = 0\n",
        "cumsum = [(s:=s+i) for i in pca.explained_variance_ratio_]\n",
        "plt.bar(pcs, pca.explained_variance_ratio_,label=\"explained variance\")\n",
        "plt.bar(pcs+0.1, cumsum, color=\"gray\", alpha = 0.3,label=\"accumulative explained variance\")\n",
        "plt.title(\"PCA of CM unscaled\")\n",
        "plt.xlabel(\"PC\")\n",
        "plt.ylabel(\"Explained variance ratio\")\n",
        "plt.ylim(0,1)\n",
        "#plt.legend(loc=\"center left\")\n",
        "plt.axhline(y = 0.9, color = 'r', linestyle = ':')\n",
        "\n",
        "\n",
        "plt.tight_layout()\n"
      ],
      "metadata": {
        "colab": {
          "base_uri": "https://localhost:8080/",
          "height": 644
        },
        "id": "JSAT3nW4pz3c",
        "outputId": "81788596-6d2d-46ca-c966-5cbd6e62dc8f"
      },
      "execution_count": null,
      "outputs": [
        {
          "output_type": "stream",
          "name": "stdout",
          "text": [
            "[0.06134313 0.04071221 0.03209468 0.03092541 0.02384255 0.02285947\n",
            " 0.02065166 0.01955219]\n"
          ]
        },
        {
          "output_type": "display_data",
          "data": {
            "text/plain": [
              "<Figure size 1200x600 with 2 Axes>"
            ],
            "image/png": "[encoded data removed]"
          },
          "metadata": {}
        }
      ]
    },
    {
      "cell_type": "markdown",
      "source": [
        "# Comparison of scaled vs. unscaled Coulomb matrix for PCA\n",
        "As can be seen above the explained variance for the 8 first principle components is lower for the scaled Coulomb matrix than for the unscaled one. Althogh on the first glance the results from the PCA of the unscaled Coulomb matrix look more promising i.e. more variance explained with fewer principle components. Sadly this is missleading in the example.\n",
        "    -> Take a closer look at the coulomb matrix and think about why normalization might be needed an why an unormalized Coulomb matrix leads to a seemingly \"better PCA\".\n"
      ],
      "metadata": {
        "id": "n-ByUgZoZQJH"
      }
    },
    {
      "cell_type": "code",
      "source": [],
      "metadata": {
        "id": "qHeyD2g4ZOkz"
      },
      "execution_count": null,
      "outputs": []
    },
    {
      "cell_type": "markdown",
      "source": [
        "# Interpreting principal components"
      ],
      "metadata": {
        "id": "WyNQf0zobznk"
      }
    },
    {
      "cell_type": "code",
      "source": [
        "pca = PCA(n_components=2)\n",
        "pca.fit(df_scaled)\n",
        "X_reduced = pca.transform(df_scaled)"
      ],
      "metadata": {
        "id": "GvfyAymjb5Zv"
      },
      "execution_count": null,
      "outputs": []
    },
    {
      "cell_type": "code",
      "source": [
        "df_importance = pd.DataFrame(pca.components_)\n",
        "df_importance = df_importance.apply(np.abs)\n",
        "df_importance = df_importance.transpose()\n",
        "df_importance.columns = [\"PC1\", \"PC2\"]\n",
        "df_importance.head(5)"
      ],
      "metadata": {
        "colab": {
          "base_uri": "https://localhost:8080/",
          "height": 206
        },
        "id": "RhyQQxKhcbRW",
        "outputId": "031155b2-aeaa-402b-f1d2-b3bcd71f5e96"
      },
      "execution_count": null,
      "outputs": [
        {
          "output_type": "execute_result",
          "data": {
            "text/plain": [
              "        PC1       PC2\n",
              "0  0.983097  0.067181\n",
              "1  0.062082  0.062623\n",
              "2  0.062182  0.047096\n",
              "3  0.055173  0.029547\n",
              "4  0.033363  0.038193"
            ],
            "text/html": [
              "\n",
              "  <div id=\"df-0304113e-2acd-49de-8ef6-67a4dc0add64\">\n",
              "    <div class=\"colab-df-container\">\n",
              "      <div>\n",
              "<style scoped>\n",
              "    .dataframe tbody tr th:only-of-type {\n",
              "        vertical-align: middle;\n",
              "    }\n",
              "\n",
              "    .dataframe tbody tr th {\n",
              "        vertical-align: top;\n",
              "    }\n",
              "\n",
              "    .dataframe thead th {\n",
              "        text-align: right;\n",
              "    }\n",
              "</style>\n",
              "<table border=\"1\" class=\"dataframe\">\n",
              "  <thead>\n",
              "    <tr style=\"text-align: right;\">\n",
              "      <th></th>\n",
              "      <th>PC1</th>\n",
              "      <th>PC2</th>\n",
              "    </tr>\n",
              "  </thead>\n",
              "  <tbody>\n",
              "    <tr>\n",
              "      <th>0</th>\n",
              "      <td>0.983097</td>\n",
              "      <td>0.067181</td>\n",
              "    </tr>\n",
              "    <tr>\n",
              "      <th>1</th>\n",
              "      <td>0.062082</td>\n",
              "      <td>0.062623</td>\n",
              "    </tr>\n",
              "    <tr>\n",
              "      <th>2</th>\n",
              "      <td>0.062182</td>\n",
              "      <td>0.047096</td>\n",
              "    </tr>\n",
              "    <tr>\n",
              "      <th>3</th>\n",
              "      <td>0.055173</td>\n",
              "      <td>0.029547</td>\n",
              "    </tr>\n",
              "    <tr>\n",
              "      <th>4</th>\n",
              "      <td>0.033363</td>\n",
              "      <td>0.038193</td>\n",
              "    </tr>\n",
              "  </tbody>\n",
              "</table>\n",
              "</div>\n",
              "      <button class=\"colab-df-convert\" onclick=\"convertToInteractive('df-0304113e-2acd-49de-8ef6-67a4dc0add64')\"\n",
              "              title=\"Convert this dataframe to an interactive table.\"\n",
              "              style=\"display:none;\">\n",
              "        \n",
              "  <svg xmlns=\"http://www.w3.org/2000/svg\" height=\"24px\"viewBox=\"0 0 24 24\"\n",
              "       width=\"24px\">\n",
              "    <path d=\"M0 0h24v24H0V0z\" fill=\"none\"/>\n",
              "    <path d=\"M18.56 5.44l.94 2.06.94-2.06 2.06-.94-2.06-.94-.94-2.06-.94 2.06-2.06.94zm-11 1L8.5 8.5l.94-2.06 2.06-.94-2.06-.94L8.5 2.5l-.94 2.06-2.06.94zm10 10l.94 2.06.94-2.06 2.06-.94-2.06-.94-.94-2.06-.94 2.06-2.06.94z\"/><path d=\"M17.41 7.96l-1.37-1.37c-.4-.4-.92-.59-1.43-.59-.52 0-1.04.2-1.43.59L10.3 9.45l-7.72 7.72c-.78.78-.78 2.05 0 2.83L4 21.41c.39.39.9.59 1.41.59.51 0 1.02-.2 1.41-.59l7.78-7.78 2.81-2.81c.8-.78.8-2.07 0-2.86zM5.41 20L4 18.59l7.72-7.72 1.47 1.35L5.41 20z\"/>\n",
              "  </svg>\n",
              "      </button>\n",
              "      \n",
              "  <style>\n",
              "    .colab-df-container {\n",
              "      display:flex;\n",
              "      flex-wrap:wrap;\n",
              "      gap: 12px;\n",
              "    }\n",
              "\n",
              "    .colab-df-convert {\n",
              "      background-color: #E8F0FE;\n",
              "      border: none;\n",
              "      border-radius: 50%;\n",
              "      cursor: pointer;\n",
              "      display: none;\n",
              "      fill: #1967D2;\n",
              "      height: 32px;\n",
              "      padding: 0 0 0 0;\n",
              "      width: 32px;\n",
              "    }\n",
              "\n",
              "    .colab-df-convert:hover {\n",
              "      background-color: #E2EBFA;\n",
              "      box-shadow: 0px 1px 2px rgba(60, 64, 67, 0.3), 0px 1px 3px 1px rgba(60, 64, 67, 0.15);\n",
              "      fill: #174EA6;\n",
              "    }\n",
              "\n",
              "    [theme=dark] .colab-df-convert {\n",
              "      background-color: #3B4455;\n",
              "      fill: #D2E3FC;\n",
              "    }\n",
              "\n",
              "    [theme=dark] .colab-df-convert:hover {\n",
              "      background-color: #434B5C;\n",
              "      box-shadow: 0px 1px 3px 1px rgba(0, 0, 0, 0.15);\n",
              "      filter: drop-shadow(0px 1px 2px rgba(0, 0, 0, 0.3));\n",
              "      fill: #FFFFFF;\n",
              "    }\n",
              "  </style>\n",
              "\n",
              "      <script>\n",
              "        const buttonEl =\n",
              "          document.querySelector('#df-0304113e-2acd-49de-8ef6-67a4dc0add64 button.colab-df-convert');\n",
              "        buttonEl.style.display =\n",
              "          google.colab.kernel.accessAllowed ? 'block' : 'none';\n",
              "\n",
              "        async function convertToInteractive(key) {\n",
              "          const element = document.querySelector('#df-0304113e-2acd-49de-8ef6-67a4dc0add64');\n",
              "          const dataTable =\n",
              "            await google.colab.kernel.invokeFunction('convertToInteractive',\n",
              "                                                     [key], {});\n",
              "          if (!dataTable) return;\n",
              "\n",
              "          const docLinkHtml = 'Like what you see? Visit the ' +\n",
              "            '<a target=\"_blank\" href=https://colab.research.google.com/notebooks/data_table.ipynb>data table notebook</a>'\n",
              "            + ' to learn more about interactive tables.';\n",
              "          element.innerHTML = '';\n",
              "          dataTable['output_type'] = 'display_data';\n",
              "          await google.colab.output.renderOutput(dataTable, element);\n",
              "          const docLink = document.createElement('div');\n",
              "          docLink.innerHTML = docLinkHtml;\n",
              "          element.appendChild(docLink);\n",
              "        }\n",
              "      </script>\n",
              "    </div>\n",
              "  </div>\n",
              "  "
            ]
          },
          "metadata": {},
          "execution_count": 114
        }
      ]
    },
    {
      "cell_type": "code",
      "source": [
        "df_importance[\"PC1\"].sort_values(ascending=False)"
      ],
      "metadata": {
        "colab": {
          "base_uri": "https://localhost:8080/"
        },
        "id": "KH6V5v5_czkJ",
        "outputId": "6880392c-04ed-440a-95e8-6dd0151b15c4"
      },
      "execution_count": null,
      "outputs": [
        {
          "output_type": "execute_result",
          "data": {
            "text/plain": [
              "0      0.983097\n",
              "32     0.063255\n",
              "30     0.062182\n",
              "2      0.062182\n",
              "15     0.062082\n",
              "         ...   \n",
              "176    0.000000\n",
              "160    0.000000\n",
              "144    0.000000\n",
              "128    0.000000\n",
              "224    0.000000\n",
              "Name: PC1, Length: 225, dtype: float32"
            ]
          },
          "metadata": {},
          "execution_count": 115
        }
      ]
    },
    {
      "cell_type": "code",
      "source": [
        "X_new[:,0].max()\n",
        "df_X_new = pd.DataFrame(X_new)\n",
        "df_X_new_filtered = df_X_new.loc[df_X_new[0] > 250]\n",
        "\n",
        "test = pd.DataFrame(qm7_data['Z'][list(df_X_new_filtered.index.values)])\n",
        "print(test)\n",
        "# SUM of heavy atoms exluding hydrogens\n",
        "#plt.hist(test)"
      ],
      "metadata": {
        "id": "u5cI5OhVu1Rx",
        "colab": {
          "base_uri": "https://localhost:8080/"
        },
        "outputId": "d11d69e3-ebae-4b31-a466-af4935b2033f"
      },
      "execution_count": null,
      "outputs": [
        {
          "output_type": "stream",
          "name": "stdout",
          "text": [
            "      0     1     2     3     4     5     6    7    8    9    10   11   12  \\\n",
            "0    6.0   6.0   6.0   6.0   6.0   6.0  16.0  1.0  1.0  1.0  1.0  1.0  1.0   \n",
            "1    6.0   6.0   6.0   6.0  16.0   8.0   8.0  1.0  1.0  1.0  1.0  1.0  1.0   \n",
            "2    6.0   6.0   6.0   6.0   6.0   6.0  16.0  1.0  1.0  1.0  1.0  1.0  1.0   \n",
            "3    6.0   6.0   6.0   7.0   6.0   7.0  16.0  1.0  1.0  1.0  1.0  1.0  1.0   \n",
            "4    6.0   6.0   6.0   7.0   6.0  16.0   7.0  1.0  1.0  1.0  1.0  1.0  1.0   \n",
            "5    6.0   6.0   6.0  16.0   6.0   6.0   6.0  1.0  1.0  1.0  1.0  1.0  1.0   \n",
            "6    6.0   6.0   6.0   6.0   6.0   6.0  16.0  1.0  1.0  1.0  1.0  1.0  1.0   \n",
            "7    6.0   6.0   6.0  16.0   8.0   8.0   6.0  1.0  1.0  1.0  1.0  1.0  1.0   \n",
            "8    6.0   6.0   6.0   6.0   6.0   6.0  16.0  1.0  1.0  1.0  1.0  1.0  1.0   \n",
            "9    6.0   6.0   6.0   6.0  16.0   6.0   6.0  1.0  1.0  1.0  1.0  1.0  1.0   \n",
            "10   6.0   6.0   6.0   7.0   6.0   7.0  16.0  1.0  1.0  1.0  1.0  1.0  1.0   \n",
            "11   6.0   6.0   6.0   7.0   6.0   7.0  16.0  1.0  1.0  1.0  1.0  1.0  1.0   \n",
            "12   6.0   6.0   6.0  16.0   6.0   8.0   8.0  1.0  1.0  1.0  1.0  1.0  1.0   \n",
            "13   6.0   6.0   6.0  16.0   6.0   8.0   8.0  1.0  1.0  1.0  1.0  1.0  1.0   \n",
            "14   6.0   6.0   6.0  16.0   8.0   8.0   8.0  1.0  1.0  1.0  1.0  1.0  1.0   \n",
            "15   6.0   6.0   6.0  16.0   8.0   8.0   8.0  1.0  1.0  1.0  1.0  1.0  1.0   \n",
            "16   6.0   6.0   8.0  16.0   6.0   8.0   8.0  1.0  1.0  1.0  1.0  1.0  1.0   \n",
            "17   6.0   6.0   8.0  16.0   6.0   8.0   8.0  1.0  1.0  1.0  1.0  1.0  1.0   \n",
            "18   6.0   6.0  16.0   8.0   8.0   6.0   6.0  1.0  1.0  1.0  1.0  1.0  1.0   \n",
            "19   6.0   6.0  16.0   8.0   8.0   6.0   8.0  1.0  1.0  1.0  1.0  1.0  1.0   \n",
            "20   6.0   6.0  16.0   8.0   8.0   8.0   6.0  1.0  1.0  1.0  1.0  1.0  1.0   \n",
            "21   6.0   7.0   6.0   6.0   7.0   6.0  16.0  1.0  1.0  1.0  1.0  1.0  1.0   \n",
            "22   6.0   7.0   6.0   6.0   6.0   7.0  16.0  1.0  1.0  1.0  1.0  1.0  1.0   \n",
            "23   6.0   7.0   6.0  16.0   7.0   6.0   6.0  1.0  1.0  1.0  1.0  1.0  1.0   \n",
            "24   6.0   7.0   6.0  16.0   7.0   6.0   6.0  1.0  1.0  1.0  1.0  1.0  1.0   \n",
            "25   6.0   8.0   6.0  16.0   6.0   8.0   8.0  1.0  1.0  1.0  1.0  1.0  1.0   \n",
            "26   6.0  16.0   8.0   8.0   6.0   6.0   6.0  1.0  1.0  1.0  1.0  1.0  1.0   \n",
            "27   6.0  16.0   8.0   8.0   6.0   6.0   6.0  1.0  1.0  1.0  1.0  1.0  1.0   \n",
            "28   6.0  16.0   8.0   8.0   6.0   6.0   8.0  1.0  1.0  1.0  1.0  1.0  1.0   \n",
            "29   7.0   6.0  16.0   7.0   6.0   6.0   6.0  1.0  1.0  1.0  1.0  1.0  1.0   \n",
            "30   7.0   6.0  16.0   7.0   6.0   6.0   6.0  1.0  1.0  1.0  1.0  1.0  1.0   \n",
            "31   7.0   6.0  16.0   7.0   6.0   6.0   6.0  1.0  1.0  1.0  1.0  1.0  1.0   \n",
            "32   8.0  16.0   8.0   6.0   6.0   6.0   6.0  1.0  1.0  1.0  1.0  1.0  1.0   \n",
            "33  16.0   6.0   7.0   6.0   6.0   6.0   7.0  1.0  1.0  1.0  1.0  1.0  1.0   \n",
            "\n",
            "     13   14  \n",
            "0   1.0  1.0  \n",
            "1   1.0  1.0  \n",
            "2   1.0  1.0  \n",
            "3   1.0  1.0  \n",
            "4   1.0  1.0  \n",
            "5   1.0  1.0  \n",
            "6   1.0  1.0  \n",
            "7   1.0  1.0  \n",
            "8   1.0  1.0  \n",
            "9   1.0  1.0  \n",
            "10  1.0  1.0  \n",
            "11  1.0  1.0  \n",
            "12  1.0  1.0  \n",
            "13  1.0  1.0  \n",
            "14  1.0  1.0  \n",
            "15  1.0  1.0  \n",
            "16  1.0  1.0  \n",
            "17  1.0  1.0  \n",
            "18  1.0  1.0  \n",
            "19  1.0  1.0  \n",
            "20  1.0  1.0  \n",
            "21  1.0  1.0  \n",
            "22  1.0  1.0  \n",
            "23  1.0  1.0  \n",
            "24  1.0  1.0  \n",
            "25  1.0  1.0  \n",
            "26  1.0  1.0  \n",
            "27  1.0  1.0  \n",
            "28  1.0  1.0  \n",
            "29  1.0  1.0  \n",
            "30  1.0  1.0  \n",
            "31  1.0  1.0  \n",
            "32  1.0  1.0  \n",
            "33  1.0  1.0  \n"
          ]
        }
      ]
    },
    {
      "cell_type": "markdown",
      "source": [
        "## Visualizing the molecular structures"
      ],
      "metadata": {
        "id": "M63pQvDOQfVQ"
      }
    },
    {
      "cell_type": "code",
      "source": [
        "df_pca_cm = pd.DataFrame(X_reduced)\n",
        "idx_largest_pc1 = df_pca_cm[df_pca_cm[0] > 250].index.tolist()\n",
        "idx_smallest_pc1 = df_pca_cm[df_pca_cm[0] < 50].index.tolist()"
      ],
      "metadata": {
        "id": "pPL87Cs6Vfj3"
      },
      "execution_count": null,
      "outputs": []
    },
    {
      "cell_type": "code",
      "source": [
        "s = {'stick': {'radius': .15}, 'sphere': {'scale': 0.20}}\n",
        "mol = view_molecule(qm7_data, idx_largest_pc1[5], s)\n",
        "mol"
      ],
      "metadata": {
        "id": "a3RX-srDaZ-X"
      },
      "execution_count": null,
      "outputs": []
    },
    {
      "cell_type": "code",
      "source": [
        "mol = view_molecule(qm7_data, idx_smallest_pc1[20], s)\n",
        "mol"
      ],
      "metadata": {
        "id": "QwK_nFtFagp6"
      },
      "execution_count": null,
      "outputs": []
    }
  ]
}