{
 "cells": [
  {
   "attachments": {},
   "cell_type": "markdown",
   "metadata": {},
   "source": [
    "# Outline: Representation and Selection of Descriptors\n",
    "1. Description of typical descriptors and libraries for handling biomolecules\n",
    "\ta. Molecular fingerprints (e.g., ECFP, MACCS keys) \n",
    "\tb. Learned representations (e.g., learned embeddings from molecular strings {SMILES, SELFIES, SMARTS patterns for structural fragments}, 2D graphs).\n",
    "\tc. Atomic-centered descriptors\n",
    "\t\ti. SOAP\n",
    "\td. Coulomb matrices (where to put, exactly?)\n",
    "\te. Physicochemical properties (e.g., molecular weight, logP, perhaps just go over the ones in QM7)\n",
    "\n",
    "2. Typical data preprocessing steps\n",
    "\ta. Handling data on different scales (normalization and scaling techniques, standardization {e.g., z-score normalization}, min-max scaling, robust scaling \n",
    "\n",
    "3. Feature selection\n",
    "\ta.Illustrate with 2D representation, 3D representation, and MD trajectories (3 examples of increasing complexity)."
   ]
  },
  {
   "attachments": {},
   "cell_type": "markdown",
   "metadata": {},
   "source": [
    "# Description of typical descriptors and libraries for handling biomolecules \n",
    "Molecules are complex and can be represented by strings (e.g., SMILES), 2D graphs, and conformers. There are a few libraries for working with molecule \"objects\" in Python, one of the most popular being [RDKit](https://www.rdkit.org/), which we will also use in this notebook. For a nice tutorial on using RDKit, we encourage you to check out Pat Walter's [A Whirlwind Introduction to RDKit](https://colab.research.google.com/github/PatWalters/practical_cheminformatics_tutorials/blob/main/fundamentals/A_Whirlwind_Introduction_To_The_RDKit.ipynb#scrollTo=hYYXfRSHLdTA).\n",
    "\n",
    "To import the necessary libraries for this tutorial, run the following cell:"
   ]
  },
  {
   "cell_type": "code",
   "execution_count": 1,
   "metadata": {},
   "outputs": [],
   "source": [
    "from rdkit import Chem       # description\n",
    "from rdkit.Chem import Draw  # used for drawing molecules\n",
    "import numpy as np\n",
    "import scipy.io\n",
    "import xyz2mol as xyz2mol"
   ]
  },
  {
   "attachments": {},
   "cell_type": "markdown",
   "metadata": {},
   "source": [
    "We can begin analyzing molecules by looking at the molecules in QM7. The QM7 dataset is a subset of GDB-13 (a database of nearly 1 billion stable and synthetically accessible organic molecules) composed of all molecules of up to 23 atoms (including 7 heavy atoms C, N, O, and S), totalling 7165 molecules. It contains the Coulomb matrix representation of these molecules and their atomization energies computed similarly to the FHI-AIMS implementation of the Perdew-Burke-Ernzerhof hybrid functional (PBE0). This dataset features a large variety of molecular structures such as double and triple bonds, cycles, carboxy, cyanide, amide, alcohol and epoxy.\n",
    "\n",
    "To download and load the QM7 dataset as a Python dictionary, run:"
   ]
  },
  {
   "cell_type": "code",
   "execution_count": 2,
   "metadata": {},
   "outputs": [
    {
     "name": "stdout",
     "output_type": "stream",
     "text": [
      "--2023-07-06 16:24:35--  http://quantum-machine.org/data/qm7.mat\n",
      "Resolving quantum-machine.org (quantum-machine.org)... 130.149.80.145\n",
      "Connecting to quantum-machine.org (quantum-machine.org)|130.149.80.145|:80... connected.\n",
      "HTTP request sent, awaiting response... 200 OK\n",
      "Length: 17884280 (17M)\n",
      "Saving to: ‘qm7.mat’\n",
      "\n",
      "qm7.mat             100%[===================>]  17,06M  16,7MB/s    in 1,0s    \n",
      "\n",
      "2023-07-06 16:24:37 (16,7 MB/s) - ‘qm7.mat’ saved [17884280/17884280]\n",
      "\n"
     ]
    }
   ],
   "source": [
    "!wget http://quantum-machine.org/data/qm7.mat\n",
    "!mv qm7.mat ../data/.\n",
    "\n",
    "raw_qm7 = scipy.io.loadmat(\"../data/qm7.mat\") # the qm7 dataset will be loaded as a Python dictionary"
   ]
  },
  {
   "attachments": {},
   "cell_type": "markdown",
   "metadata": {},
   "source": [
    "The dataset is composed of five multidimensional arrays:\n",
    "- X (7165 x 23 x 23) - Coulomb matrices\n",
    "- T (7165) - atomization energies (the labels)\n",
    "- P (5 x 1433) - cross-validation splits\n",
    "- Z (7165) - atomic charge of each atom in the molecules\n",
    "- R (7165 x 3) - Cartesian coordinates of each atom in the molecules"
   ]
  },
  {
   "cell_type": "code",
   "execution_count": 4,
   "metadata": {},
   "outputs": [],
   "source": [
    "X = raw_qm7[\"X\"] # Coulomb matrices\n",
    "T = raw_qm7[\"T\"] # atomization energies\n",
    "P = raw_qm7[\"P\"] # cross-validation splits\n",
    "Z = raw_qm7[\"Z\"] # atomic numbers\n",
    "R = raw_qm7[\"R\"] # coordinates"
   ]
  },
  {
   "attachments": {},
   "cell_type": "markdown",
   "metadata": {},
   "source": [
    "To make it a bit easier to work with the molecules, let's convert them into RDKit ´Mol´ objects, and respectively into the corresponding SMILES:"
   ]
  },
  {
   "cell_type": "code",
   "execution_count": 126,
   "metadata": {},
   "outputs": [
    {
     "name": "stderr",
     "output_type": "stream",
     "text": [
      "[11:04:17] Explicit valence for atom # 3 N, 4, is greater than permitted\n",
      "[11:04:17] Explicit valence for atom # 2 N, 4, is greater than permitted\n",
      "[11:04:17] Explicit valence for atom # 3 N, 4, is greater than permitted\n",
      "[11:04:17] Explicit valence for atom # 3 N, 4, is greater than permitted\n",
      "[11:04:17] Explicit valence for atom # 1 N, 4, is greater than permitted\n",
      "[11:04:17] Explicit valence for atom # 2 N, 4, is greater than permitted\n",
      "[11:04:17] Explicit valence for atom # 3 N, 4, is greater than permitted\n",
      "[11:04:17] Explicit valence for atom # 2 N, 4, is greater than permitted\n",
      "[11:04:17] Explicit valence for atom # 4 N, 4, is greater than permitted\n",
      "[11:04:17] Explicit valence for atom # 4 N, 4, is greater than permitted\n",
      "[11:04:17] Explicit valence for atom # 4 N, 4, is greater than permitted\n",
      "[11:04:17] Explicit valence for atom # 4 N, 4, is greater than permitted\n",
      "[11:04:17] Explicit valence for atom # 4 N, 4, is greater than permitted\n",
      "[11:04:17] Explicit valence for atom # 3 N, 4, is greater than permitted\n",
      "[11:04:17] Explicit valence for atom # 2 N, 4, is greater than permitted\n",
      "[11:04:17] Explicit valence for atom # 3 N, 4, is greater than permitted\n",
      "[11:04:17] Explicit valence for atom # 4 N, 4, is greater than permitted\n",
      "[11:04:17] Explicit valence for atom # 1 N, 4, is greater than permitted\n",
      "[11:04:17] Explicit valence for atom # 3 N, 4, is greater than permitted\n",
      "[11:04:17] Explicit valence for atom # 2 N, 4, is greater than permitted\n",
      "[11:04:17] Explicit valence for atom # 0 N, 4, is greater than permitted\n",
      "[11:04:17] Explicit valence for atom # 3 N, 4, is greater than permitted\n",
      "[11:04:17] Explicit valence for atom # 2 N, 4, is greater than permitted\n",
      "[11:04:17] Explicit valence for atom # 2 N, 4, is greater than permitted\n",
      "[11:04:17] Explicit valence for atom # 3 N, 4, is greater than permitted\n",
      "[11:04:17] Explicit valence for atom # 2 N, 4, is greater than permitted\n",
      "[11:04:17] Explicit valence for atom # 3 N, 4, is greater than permitted\n",
      "[11:04:17] Explicit valence for atom # 1 N, 4, is greater than permitted\n",
      "[11:04:17] Explicit valence for atom # 1 C, 5, is greater than permitted\n",
      "[11:04:17] Explicit valence for atom # 4 N, 4, is greater than permitted\n",
      "[11:04:17] Explicit valence for atom # 3 N, 4, is greater than permitted\n",
      "[11:04:17] Explicit valence for atom # 2 N, 4, is greater than permitted\n",
      "[11:04:17] Explicit valence for atom # 2 N, 4, is greater than permitted\n",
      "[11:04:17] Explicit valence for atom # 5 N, 4, is greater than permitted\n",
      "[11:04:17] Explicit valence for atom # 5 N, 4, is greater than permitted\n",
      "[11:04:17] Explicit valence for atom # 5 N, 4, is greater than permitted\n",
      "[11:04:17] Explicit valence for atom # 5 N, 4, is greater than permitted\n",
      "[11:04:17] Explicit valence for atom # 4 N, 4, is greater than permitted\n",
      "[11:04:17] Explicit valence for atom # 5 N, 4, is greater than permitted\n",
      "[11:04:17] Explicit valence for atom # 5 N, 4, is greater than permitted\n",
      "[11:04:17] Explicit valence for atom # 5 N, 4, is greater than permitted\n",
      "[11:04:17] Explicit valence for atom # 5 N, 4, is greater than permitted\n",
      "[11:04:17] Explicit valence for atom # 5 N, 4, is greater than permitted\n",
      "[11:04:17] Explicit valence for atom # 5 N, 4, is greater than permitted\n",
      "[11:04:17] Explicit valence for atom # 5 N, 4, is greater than permitted\n",
      "[11:04:17] Explicit valence for atom # 5 N, 4, is greater than permitted\n",
      "[11:04:17] Explicit valence for atom # 5 N, 4, is greater than permitted\n",
      "[11:04:17] Explicit valence for atom # 4 N, 4, is greater than permitted\n",
      "[11:04:17] Explicit valence for atom # 3 N, 4, is greater than permitted\n",
      "[11:04:17] Explicit valence for atom # 3 N, 4, is greater than permitted\n",
      "[11:04:17] Explicit valence for atom # 4 N, 4, is greater than permitted\n",
      "[11:04:17] Explicit valence for atom # 4 N, 4, is greater than permitted\n",
      "[11:04:17] Explicit valence for atom # 3 N, 4, is greater than permitted\n",
      "[11:04:17] Explicit valence for atom # 3 N, 4, is greater than permitted\n",
      "[11:04:17] Explicit valence for atom # 2 N, 4, is greater than permitted\n",
      "[11:04:17] Explicit valence for atom # 3 N, 4, is greater than permitted\n",
      "[11:04:17] Explicit valence for atom # 5 N, 4, is greater than permitted\n",
      "[11:04:17] Explicit valence for atom # 5 N, 4, is greater than permitted\n",
      "[11:04:17] Explicit valence for atom # 4 N, 4, is greater than permitted\n",
      "[11:04:17] Explicit valence for atom # 5 N, 4, is greater than permitted\n",
      "[11:04:17] Explicit valence for atom # 5 N, 4, is greater than permitted\n",
      "[11:04:17] Explicit valence for atom # 2 N, 4, is greater than permitted\n",
      "[11:04:17] Explicit valence for atom # 2 N, 4, is greater than permitted\n",
      "[11:04:17] Explicit valence for atom # 2 N, 4, is greater than permitted\n",
      "[11:04:17] Explicit valence for atom # 2 N, 4, is greater than permitted\n",
      "[11:04:17] Explicit valence for atom # 4 N, 4, is greater than permitted\n",
      "[11:04:17] Explicit valence for atom # 2 N, 4, is greater than permitted\n",
      "[11:04:17] Explicit valence for atom # 2 N, 4, is greater than permitted\n",
      "[11:04:17] Explicit valence for atom # 3 N, 4, is greater than permitted\n",
      "[11:04:17] Explicit valence for atom # 1 N, 4, is greater than permitted\n",
      "[11:04:17] Explicit valence for atom # 1 N, 4, is greater than permitted\n",
      "[11:04:17] Explicit valence for atom # 4 N, 4, is greater than permitted\n",
      "[11:04:17] Explicit valence for atom # 3 N, 4, is greater than permitted\n",
      "[11:04:17] Explicit valence for atom # 3 N, 4, is greater than permitted\n",
      "[11:04:17] Explicit valence for atom # 2 N, 4, is greater than permitted\n",
      "[11:04:17] Explicit valence for atom # 5 N, 4, is greater than permitted\n",
      "[11:04:17] Explicit valence for atom # 4 N, 4, is greater than permitted\n",
      "[11:04:17] Explicit valence for atom # 3 N, 4, is greater than permitted\n",
      "[11:04:17] Explicit valence for atom # 3 N, 4, is greater than permitted\n",
      "[11:04:17] Explicit valence for atom # 0 N, 4, is greater than permitted\n",
      "[11:04:17] Explicit valence for atom # 0 N, 4, is greater than permitted\n",
      "[11:04:17] Explicit valence for atom # 2 N, 4, is greater than permitted\n",
      "[11:04:17] Explicit valence for atom # 0 N, 4, is greater than permitted\n",
      "[11:04:17] Explicit valence for atom # 0 N, 4, is greater than permitted\n",
      "[11:04:17] Explicit valence for atom # 0 N, 4, is greater than permitted\n",
      "[11:04:17] Explicit valence for atom # 0 N, 4, is greater than permitted\n",
      "[11:04:17] Explicit valence for atom # 0 N, 4, is greater than permitted\n",
      "[11:04:17] Explicit valence for atom # 2 N, 4, is greater than permitted\n",
      "[11:04:17] Explicit valence for atom # 0 N, 4, is greater than permitted\n",
      "[11:04:17] Explicit valence for atom # 0 N, 4, is greater than permitted\n",
      "[11:04:17] Explicit valence for atom # 0 N, 4, is greater than permitted\n",
      "[11:04:17] Explicit valence for atom # 4 N, 4, is greater than permitted\n",
      "[11:04:17] Explicit valence for atom # 2 N, 4, is greater than permitted\n",
      "[11:04:17] Explicit valence for atom # 3 C, 5, is greater than permitted\n",
      "[11:04:17] Explicit valence for atom # 3 N, 4, is greater than permitted\n",
      "[11:04:17] Explicit valence for atom # 3 N, 4, is greater than permitted\n",
      "[11:04:17] Explicit valence for atom # 3 N, 4, is greater than permitted\n",
      "[11:04:17] Explicit valence for atom # 3 N, 4, is greater than permitted\n",
      "[11:04:17] Explicit valence for atom # 2 N, 4, is greater than permitted\n",
      "[11:04:17] Explicit valence for atom # 2 N, 4, is greater than permitted\n",
      "[11:04:17] Explicit valence for atom # 2 N, 4, is greater than permitted\n",
      "[11:04:17] Explicit valence for atom # 2 N, 4, is greater than permitted\n",
      "[11:04:17] Explicit valence for atom # 2 N, 4, is greater than permitted\n",
      "[11:04:17] Explicit valence for atom # 2 N, 4, is greater than permitted\n",
      "[11:04:17] Explicit valence for atom # 2 N, 4, is greater than permitted\n",
      "[11:04:17] Explicit valence for atom # 2 N, 4, is greater than permitted\n",
      "[11:04:17] Explicit valence for atom # 2 N, 4, is greater than permitted\n",
      "[11:04:17] Explicit valence for atom # 2 N, 4, is greater than permitted\n",
      "[11:04:17] Explicit valence for atom # 2 N, 4, is greater than permitted\n",
      "[11:04:17] Explicit valence for atom # 3 N, 4, is greater than permitted\n",
      "[11:04:17] Explicit valence for atom # 2 N, 4, is greater than permitted\n",
      "[11:04:17] Explicit valence for atom # 2 N, 4, is greater than permitted\n",
      "[11:04:17] Explicit valence for atom # 2 N, 4, is greater than permitted\n",
      "[11:04:17] Explicit valence for atom # 1 C, 5, is greater than permitted\n",
      "[11:04:17] Explicit valence for atom # 2 N, 4, is greater than permitted\n",
      "[11:04:17] Explicit valence for atom # 2 N, 4, is greater than permitted\n",
      "[11:04:17] Explicit valence for atom # 3 C, 5, is greater than permitted\n",
      "[11:04:17] Explicit valence for atom # 2 N, 4, is greater than permitted\n",
      "[11:04:17] Explicit valence for atom # 3 N, 4, is greater than permitted\n",
      "[11:04:17] Explicit valence for atom # 2 N, 4, is greater than permitted\n",
      "[11:04:17] Explicit valence for atom # 3 N, 4, is greater than permitted\n",
      "[11:04:17] Explicit valence for atom # 4 N, 4, is greater than permitted\n",
      "[11:04:17] Explicit valence for atom # 3 N, 4, is greater than permitted\n",
      "[11:04:17] Explicit valence for atom # 4 N, 4, is greater than permitted\n",
      "[11:04:17] Explicit valence for atom # 4 N, 4, is greater than permitted\n",
      "[11:04:17] Explicit valence for atom # 4 N, 4, is greater than permitted\n",
      "[11:04:17] Explicit valence for atom # 4 N, 4, is greater than permitted\n",
      "[11:04:17] Explicit valence for atom # 3 N, 4, is greater than permitted\n",
      "[11:04:17] Explicit valence for atom # 3 N, 4, is greater than permitted\n",
      "[11:04:17] Explicit valence for atom # 3 N, 4, is greater than permitted\n",
      "[11:04:17] Explicit valence for atom # 3 N, 4, is greater than permitted\n",
      "[11:04:17] Explicit valence for atom # 3 N, 4, is greater than permitted\n",
      "[11:04:17] Explicit valence for atom # 3 N, 4, is greater than permitted\n",
      "[11:04:17] Explicit valence for atom # 3 N, 4, is greater than permitted\n",
      "[11:04:17] Explicit valence for atom # 3 N, 4, is greater than permitted\n",
      "[11:04:17] Explicit valence for atom # 3 N, 4, is greater than permitted\n",
      "[11:04:17] Explicit valence for atom # 2 C, 5, is greater than permitted\n",
      "[11:04:17] Explicit valence for atom # 2 C, 5, is greater than permitted\n",
      "[11:04:17] Explicit valence for atom # 2 C, 5, is greater than permitted\n",
      "[11:04:17] Explicit valence for atom # 4 N, 4, is greater than permitted\n",
      "[11:04:17] Explicit valence for atom # 3 N, 4, is greater than permitted\n",
      "[11:04:17] Explicit valence for atom # 3 N, 4, is greater than permitted\n",
      "[11:04:17] Explicit valence for atom # 4 N, 4, is greater than permitted\n",
      "[11:04:17] Explicit valence for atom # 4 N, 4, is greater than permitted\n",
      "[11:04:17] Explicit valence for atom # 3 N, 4, is greater than permitted\n",
      "[11:04:17] Explicit valence for atom # 3 N, 4, is greater than permitted\n",
      "[11:04:17] Explicit valence for atom # 2 N, 4, is greater than permitted\n",
      "[11:04:17] Explicit valence for atom # 3 N, 4, is greater than permitted\n",
      "[11:04:17] Explicit valence for atom # 2 N, 4, is greater than permitted\n",
      "[11:04:17] Explicit valence for atom # 4 N, 4, is greater than permitted\n",
      "[11:04:17] Explicit valence for atom # 5 N, 4, is greater than permitted\n",
      "[11:04:17] Explicit valence for atom # 5 N, 4, is greater than permitted\n",
      "[11:04:17] Explicit valence for atom # 5 N, 4, is greater than permitted\n",
      "[11:04:17] Explicit valence for atom # 5 N, 4, is greater than permitted\n",
      "[11:04:17] Explicit valence for atom # 5 N, 4, is greater than permitted\n",
      "[11:04:17] Explicit valence for atom # 5 N, 4, is greater than permitted\n",
      "[11:04:17] Explicit valence for atom # 5 N, 4, is greater than permitted\n",
      "[11:04:17] Explicit valence for atom # 4 N, 4, is greater than permitted\n",
      "[11:04:17] Explicit valence for atom # 6 N, 4, is greater than permitted\n",
      "[11:04:17] Explicit valence for atom # 2 N, 4, is greater than permitted\n",
      "[11:04:17] Explicit valence for atom # 2 N, 4, is greater than permitted\n",
      "[11:04:17] Explicit valence for atom # 2 N, 4, is greater than permitted\n",
      "[11:04:17] Explicit valence for atom # 2 N, 4, is greater than permitted\n",
      "[11:04:17] Explicit valence for atom # 2 N, 4, is greater than permitted\n",
      "[11:04:17] Explicit valence for atom # 2 N, 4, is greater than permitted\n",
      "[11:04:17] Explicit valence for atom # 2 N, 4, is greater than permitted\n",
      "[11:04:17] Explicit valence for atom # 2 N, 4, is greater than permitted\n",
      "[11:04:17] Explicit valence for atom # 4 N, 4, is greater than permitted\n",
      "[11:04:17] Explicit valence for atom # 2 N, 4, is greater than permitted\n",
      "[11:04:17] Explicit valence for atom # 2 N, 4, is greater than permitted\n",
      "[11:04:17] Explicit valence for atom # 5 N, 4, is greater than permitted\n",
      "[11:04:17] Explicit valence for atom # 5 N, 4, is greater than permitted\n",
      "[11:04:17] Explicit valence for atom # 5 N, 4, is greater than permitted\n",
      "[11:04:17] Explicit valence for atom # 5 N, 4, is greater than permitted\n",
      "[11:04:17] Explicit valence for atom # 6 N, 4, is greater than permitted\n",
      "[11:04:17] Explicit valence for atom # 3 C, 5, is greater than permitted\n",
      "[11:04:17] Explicit valence for atom # 3 N, 4, is greater than permitted\n",
      "[11:04:17] Explicit valence for atom # 3 N, 4, is greater than permitted\n",
      "[11:04:17] Explicit valence for atom # 4 N, 4, is greater than permitted\n",
      "[11:04:17] Explicit valence for atom # 3 N, 4, is greater than permitted\n",
      "[11:04:17] Explicit valence for atom # 3 N, 4, is greater than permitted\n",
      "[11:04:17] Explicit valence for atom # 1 N, 4, is greater than permitted\n",
      "[11:04:17] Explicit valence for atom # 1 N, 4, is greater than permitted\n",
      "[11:04:17] Explicit valence for atom # 1 N, 4, is greater than permitted\n",
      "[11:04:17] Explicit valence for atom # 1 N, 4, is greater than permitted\n",
      "[11:04:17] Explicit valence for atom # 1 N, 4, is greater than permitted\n",
      "[11:04:17] Explicit valence for atom # 3 N, 4, is greater than permitted\n",
      "[11:04:17] Explicit valence for atom # 4 N, 4, is greater than permitted\n",
      "[11:04:17] Explicit valence for atom # 4 N, 4, is greater than permitted\n",
      "[11:04:17] Explicit valence for atom # 3 N, 4, is greater than permitted\n",
      "[11:04:17] Explicit valence for atom # 3 N, 4, is greater than permitted\n",
      "[11:04:17] Explicit valence for atom # 3 N, 4, is greater than permitted\n",
      "[11:04:17] Explicit valence for atom # 3 N, 4, is greater than permitted\n",
      "[11:04:17] Explicit valence for atom # 5 N, 4, is greater than permitted\n",
      "[11:04:17] Explicit valence for atom # 5 N, 4, is greater than permitted\n",
      "[11:04:17] Explicit valence for atom # 4 N, 4, is greater than permitted\n",
      "[11:04:17] Explicit valence for atom # 4 N, 4, is greater than permitted\n",
      "[11:04:17] Explicit valence for atom # 4 N, 4, is greater than permitted\n",
      "[11:04:17] Explicit valence for atom # 4 N, 4, is greater than permitted\n",
      "[11:04:17] Explicit valence for atom # 5 N, 4, is greater than permitted\n",
      "[11:04:17] Explicit valence for atom # 5 N, 4, is greater than permitted\n",
      "[11:04:17] Explicit valence for atom # 4 N, 4, is greater than permitted\n",
      "[11:04:17] Explicit valence for atom # 2 N, 4, is greater than permitted\n",
      "[11:04:17] Explicit valence for atom # 2 N, 4, is greater than permitted\n",
      "[11:04:17] Explicit valence for atom # 3 C, 5, is greater than permitted\n",
      "[11:04:17] Explicit valence for atom # 2 N, 4, is greater than permitted\n",
      "[11:04:17] Explicit valence for atom # 4 N, 4, is greater than permitted\n",
      "[11:04:17] Explicit valence for atom # 4 N, 4, is greater than permitted\n",
      "[11:04:17] Explicit valence for atom # 3 N, 4, is greater than permitted\n",
      "[11:04:17] Explicit valence for atom # 3 N, 4, is greater than permitted\n",
      "[11:04:17] Explicit valence for atom # 3 N, 4, is greater than permitted\n",
      "[11:04:17] Explicit valence for atom # 3 N, 4, is greater than permitted\n",
      "[11:04:17] Explicit valence for atom # 4 N, 4, is greater than permitted\n",
      "[11:04:17] Explicit valence for atom # 3 N, 4, is greater than permitted\n",
      "[11:04:17] Explicit valence for atom # 4 N, 4, is greater than permitted\n",
      "[11:04:17] Explicit valence for atom # 0 N, 4, is greater than permitted\n",
      "[11:04:17] Explicit valence for atom # 0 N, 4, is greater than permitted\n",
      "[11:04:17] Explicit valence for atom # 2 N, 4, is greater than permitted\n",
      "[11:04:17] Explicit valence for atom # 0 N, 4, is greater than permitted\n",
      "[11:04:17] Explicit valence for atom # 0 N, 4, is greater than permitted\n",
      "[11:04:17] Explicit valence for atom # 0 N, 4, is greater than permitted\n",
      "[11:04:17] Explicit valence for atom # 2 N, 4, is greater than permitted\n",
      "[11:04:17] Explicit valence for atom # 2 N, 4, is greater than permitted\n",
      "[11:04:17] Explicit valence for atom # 2 N, 4, is greater than permitted\n",
      "[11:04:17] Explicit valence for atom # 5 N, 4, is greater than permitted\n",
      "[11:04:17] Explicit valence for atom # 4 N, 4, is greater than permitted\n",
      "[11:04:17] Explicit valence for atom # 2 N, 4, is greater than permitted\n",
      "[11:04:17] Explicit valence for atom # 4 N, 4, is greater than permitted\n",
      "[11:04:17] Explicit valence for atom # 1 C, 5, is greater than permitted\n",
      "[11:04:17] Explicit valence for atom # 2 N, 4, is greater than permitted\n",
      "[11:04:17] Explicit valence for atom # 5 N, 4, is greater than permitted\n",
      "[11:04:17] Explicit valence for atom # 3 N, 4, is greater than permitted\n",
      "[11:04:17] Explicit valence for atom # 5 N, 4, is greater than permitted\n",
      "[11:04:17] Explicit valence for atom # 1 C, 5, is greater than permitted\n",
      "[11:04:17] Explicit valence for atom # 1 C, 5, is greater than permitted\n",
      "[11:04:17] Explicit valence for atom # 1 C, 5, is greater than permitted\n",
      "[11:04:17] Explicit valence for atom # 3 N, 4, is greater than permitted\n",
      "[11:04:17] Explicit valence for atom # 5 N, 4, is greater than permitted\n",
      "[11:04:17] Explicit valence for atom # 3 N, 4, is greater than permitted\n",
      "[11:04:17] Explicit valence for atom # 4 N, 4, is greater than permitted\n",
      "[11:04:17] Explicit valence for atom # 4 N, 4, is greater than permitted\n",
      "[11:04:17] Explicit valence for atom # 4 N, 4, is greater than permitted\n",
      "[11:04:17] Explicit valence for atom # 3 N, 4, is greater than permitted\n",
      "[11:04:17] Explicit valence for atom # 3 N, 4, is greater than permitted\n",
      "[11:04:17] Explicit valence for atom # 3 N, 4, is greater than permitted\n",
      "[11:04:17] Explicit valence for atom # 3 N, 4, is greater than permitted\n",
      "[11:04:17] Explicit valence for atom # 3 N, 4, is greater than permitted\n",
      "[11:04:17] Explicit valence for atom # 3 N, 4, is greater than permitted\n",
      "[11:04:17] Explicit valence for atom # 4 N, 4, is greater than permitted\n",
      "[11:04:17] Explicit valence for atom # 3 N, 4, is greater than permitted\n",
      "[11:04:17] Explicit valence for atom # 4 N, 4, is greater than permitted\n",
      "[11:04:17] Explicit valence for atom # 3 N, 4, is greater than permitted\n",
      "[11:04:17] Explicit valence for atom # 4 N, 4, is greater than permitted\n",
      "[11:04:17] Explicit valence for atom # 4 N, 4, is greater than permitted\n",
      "[11:04:17] Explicit valence for atom # 5 N, 4, is greater than permitted\n",
      "[11:04:17] Explicit valence for atom # 2 N, 4, is greater than permitted\n",
      "[11:04:17] Explicit valence for atom # 2 N, 4, is greater than permitted\n",
      "[11:04:17] Explicit valence for atom # 2 N, 4, is greater than permitted\n",
      "[11:04:17] Explicit valence for atom # 3 N, 4, is greater than permitted\n",
      "[11:04:17] Explicit valence for atom # 3 N, 4, is greater than permitted\n",
      "[11:04:17] Explicit valence for atom # 2 N, 4, is greater than permitted\n",
      "[11:04:17] Explicit valence for atom # 2 N, 4, is greater than permitted\n",
      "[11:04:17] Explicit valence for atom # 2 N, 4, is greater than permitted\n",
      "[11:04:17] Explicit valence for atom # 2 N, 4, is greater than permitted\n",
      "[11:04:17] Explicit valence for atom # 2 N, 4, is greater than permitted\n",
      "[11:04:17] Explicit valence for atom # 2 N, 4, is greater than permitted\n",
      "[11:04:17] Explicit valence for atom # 3 N, 4, is greater than permitted\n",
      "[11:04:17] Explicit valence for atom # 2 N, 4, is greater than permitted\n",
      "[11:04:17] Explicit valence for atom # 2 N, 4, is greater than permitted\n",
      "[11:04:17] Explicit valence for atom # 4 N, 4, is greater than permitted\n",
      "[11:04:17] Explicit valence for atom # 2 N, 4, is greater than permitted\n",
      "[11:04:17] Explicit valence for atom # 3 N, 4, is greater than permitted\n",
      "[11:04:17] Explicit valence for atom # 3 N, 4, is greater than permitted\n",
      "[11:04:17] Explicit valence for atom # 4 N, 4, is greater than permitted\n",
      "[11:04:17] Explicit valence for atom # 4 N, 4, is greater than permitted\n",
      "[11:04:17] Explicit valence for atom # 4 N, 4, is greater than permitted\n",
      "[11:04:17] Explicit valence for atom # 3 N, 4, is greater than permitted\n",
      "[11:04:17] Explicit valence for atom # 3 N, 4, is greater than permitted\n",
      "[11:04:17] Explicit valence for atom # 3 N, 4, is greater than permitted\n",
      "[11:04:17] Explicit valence for atom # 3 N, 4, is greater than permitted\n",
      "[11:04:17] Explicit valence for atom # 3 N, 4, is greater than permitted\n",
      "[11:04:17] Explicit valence for atom # 3 N, 4, is greater than permitted\n",
      "[11:04:17] Explicit valence for atom # 3 N, 4, is greater than permitted\n",
      "[11:04:17] Explicit valence for atom # 3 N, 4, is greater than permitted\n",
      "[11:04:17] Explicit valence for atom # 3 N, 4, is greater than permitted\n",
      "[11:04:17] Explicit valence for atom # 2 C, 5, is greater than permitted\n",
      "[11:04:17] Explicit valence for atom # 2 C, 5, is greater than permitted\n",
      "[11:04:17] Explicit valence for atom # 2 C, 5, is greater than permitted\n",
      "[11:04:17] Explicit valence for atom # 3 N, 4, is greater than permitted\n",
      "[11:04:17] Explicit valence for atom # 4 N, 4, is greater than permitted\n",
      "[11:04:17] Explicit valence for atom # 2 N, 4, is greater than permitted\n",
      "[11:04:17] Explicit valence for atom # 4 N, 4, is greater than permitted\n",
      "[11:04:17] Explicit valence for atom # 3 N, 4, is greater than permitted\n",
      "[11:04:17] Explicit valence for atom # 3 N, 4, is greater than permitted\n",
      "[11:04:17] Explicit valence for atom # 4 N, 4, is greater than permitted\n",
      "[11:04:17] Explicit valence for atom # 4 N, 4, is greater than permitted\n",
      "[11:04:17] Explicit valence for atom # 3 N, 4, is greater than permitted\n",
      "[11:04:17] Explicit valence for atom # 3 N, 4, is greater than permitted\n",
      "[11:04:17] Explicit valence for atom # 2 N, 4, is greater than permitted\n",
      "[11:04:17] Explicit valence for atom # 4 N, 4, is greater than permitted\n",
      "[11:04:17] Explicit valence for atom # 4 N, 4, is greater than permitted\n",
      "[11:04:17] Explicit valence for atom # 3 N, 4, is greater than permitted\n",
      "[11:04:17] Explicit valence for atom # 3 N, 4, is greater than permitted\n",
      "[11:04:17] Explicit valence for atom # 3 N, 4, is greater than permitted\n",
      "[11:04:17] Explicit valence for atom # 3 N, 4, is greater than permitted\n",
      "[11:04:17] Explicit valence for atom # 4 N, 4, is greater than permitted\n",
      "[11:04:17] Explicit valence for atom # 4 N, 4, is greater than permitted\n",
      "[11:04:17] Explicit valence for atom # 3 N, 4, is greater than permitted\n",
      "[11:04:17] Explicit valence for atom # 3 N, 4, is greater than permitted\n",
      "[11:04:17] Explicit valence for atom # 3 N, 4, is greater than permitted\n",
      "[11:04:17] Explicit valence for atom # 3 N, 4, is greater than permitted\n",
      "[11:04:17] Explicit valence for atom # 5 N, 4, is greater than permitted\n",
      "[11:04:17] Explicit valence for atom # 4 N, 4, is greater than permitted\n",
      "[11:04:17] Explicit valence for atom # 2 N, 4, is greater than permitted\n",
      "[11:04:17] Explicit valence for atom # 3 N, 4, is greater than permitted\n",
      "[11:04:17] Explicit valence for atom # 3 N, 4, is greater than permitted\n",
      "[11:04:17] Explicit valence for atom # 3 N, 4, is greater than permitted\n",
      "[11:04:17] Explicit valence for atom # 3 N, 4, is greater than permitted\n",
      "[11:04:17] Explicit valence for atom # 3 N, 4, is greater than permitted\n",
      "[11:04:17] Explicit valence for atom # 1 C, 5, is greater than permitted\n",
      "[11:04:17] Explicit valence for atom # 2 N, 4, is greater than permitted\n",
      "[11:04:17] Explicit valence for atom # 2 N, 4, is greater than permitted\n",
      "[11:04:17] Explicit valence for atom # 4 N, 4, is greater than permitted\n",
      "[11:04:17] Explicit valence for atom # 2 N, 4, is greater than permitted\n",
      "[11:04:17] Explicit valence for atom # 3 N, 4, is greater than permitted\n",
      "[11:04:17] Explicit valence for atom # 4 N, 4, is greater than permitted\n",
      "[11:04:17] Explicit valence for atom # 3 N, 4, is greater than permitted\n",
      "[11:04:17] Explicit valence for atom # 3 N, 4, is greater than permitted\n",
      "[11:04:17] Explicit valence for atom # 3 N, 4, is greater than permitted\n",
      "[11:04:17] Explicit valence for atom # 3 N, 4, is greater than permitted\n",
      "[11:04:17] Explicit valence for atom # 3 N, 4, is greater than permitted\n"
     ]
    }
   ],
   "source": [
    "# # Get the molobjs\n",
    "# atoms       = Z\n",
    "# coordinates = R\n",
    "#\n",
    "# mols   = []\n",
    "# smiles = []\n",
    "# for idx, atom in enumerate(atoms):\n",
    "#     mol = xyz2mol.xyz2mol(atom, coordinates[idx], allow_charged_fragments=False)\n",
    "#     mols.append(mol)\n",
    "#     smiles.append(Chem.MolToSmiles(mol))\n",
    "\n",
    "smiles = open(\"../4-Autoencoders/smiles.txt\").read().split()\n",
    "mols   = [Chem.MolFromSmiles(smi) for smi in smiles]"
   ]
  },
  {
   "attachments": {},
   "cell_type": "markdown",
   "metadata": {},
   "source": [
    "Let's look at some of the SMILES from QM7:"
   ]
  },
  {
   "cell_type": "code",
   "execution_count": 137,
   "metadata": {},
   "outputs": [
    {
     "name": "stdout",
     "output_type": "stream",
     "text": [
      "methane: C\n"
     ]
    },
    {
     "data": {
      "image/png": "[encoded data removed]",
      "text/plain": [
       "<PIL.PngImagePlugin.PngImageFile image mode=RGB size=300x300>"
      ]
     },
     "metadata": {},
     "output_type": "display_data"
    },
    {
     "name": "stdout",
     "output_type": "stream",
     "text": [
      "2-aminoacetaldehyde: CNCC=O\n"
     ]
    },
    {
     "data": {
      "image/png": "[encoded data removed]",
      "text/plain": [
       "<PIL.PngImagePlugin.PngImageFile image mode=RGB size=300x300>"
      ]
     },
     "metadata": {},
     "output_type": "display_data"
    },
    {
     "name": "stdout",
     "output_type": "stream",
     "text": [
      "1-methylcyclopropan-1-ol: CC1(O)CC1\n"
     ]
    },
    {
     "data": {
      "image/png": "[encoded data removed]",
      "text/plain": [
       "<PIL.PngImagePlugin.PngImageFile image mode=RGB size=300x300>"
      ]
     },
     "metadata": {},
     "output_type": "display_data"
    }
   ],
   "source": [
    "from IPython.display import display\n",
    "\n",
    "print(\"methane:\", smiles[0])\n",
    "methane_img       = Draw.MolToImage(mols[0])\n",
    "display(methane_img)\n",
    "\n",
    "print(\"2-aminoacetaldehyde:\", smiles[100])\n",
    "aminoacetaldehyde_img = Draw.MolToImage(mols[100])\n",
    "display(aminoacetaldehyde_img)\n",
    "\n",
    "print(\"1-methylcyclopropan-1-ol:\", smiles[200])\n",
    "methylcyclopropanol_img       = Draw.MolToImage(mols[200])\n",
    "display(methylcyclopropanol_img)"
   ]
  },
  {
   "attachments": {},
   "cell_type": "markdown",
   "metadata": {},
   "source": [
    "## Molecular Fingerprints\n",
    "### Morgan Fingerprints\n",
    "Now that we have our list of molecules, we can represent them using one of the most common representations used in cheminformatics: [Morgan fingerprints](https://www.rdkit.org/UGM/2012/Landrum_RDKit_UGM.Fingerprints.Final.pptx.pdf). Fingerprints can have different, user-defined lengths. Here, we will generate radius 2 Morgan fingerprints for the above three molecules using bit lengths of 256, 512, and 1048:"
   ]
  },
  {
   "cell_type": "code",
   "execution_count": 163,
   "metadata": {},
   "outputs": [],
   "source": [
    "# 256-bit\n",
    "methane_bitInfo_256fp             = {}\n",
    "aminoacetaldehyde_bitInfo_256fp   = {}\n",
    "methylcyclopropanol_bitInfo_256fp = {}\n",
    "methane_256fp             = Chem.AllChem.GetMorganFingerprintAsBitVect(mols[0], useChirality=True, radius=2, nBits=256, bitInfo=methane_bitInfo_256fp)\n",
    "aminoacetaldehyde_256fp   = Chem.AllChem.GetMorganFingerprintAsBitVect(mols[100], useChirality=True, radius=2, nBits=256, bitInfo=aminoacetaldehyde_bitInfo_256fp)\n",
    "methylcyclopropanol_256fp = Chem.AllChem.GetMorganFingerprintAsBitVect(mols[200], useChirality=True, radius=2, nBits=256, bitInfo=methylcyclopropanol_bitInfo_256fp)\n",
    "\n",
    "# 512-bit\n",
    "methane_512fp             = Chem.AllChem.GetMorganFingerprintAsBitVect(mols[0], useChirality=True, radius=2, nBits=512)\n",
    "aminoacetaldehyde_512fp   = Chem.AllChem.GetMorganFingerprintAsBitVect(mols[100], useChirality=True, radius=2, nBits=512)\n",
    "methylcyclopropanol_512fp = Chem.AllChem.GetMorganFingerprintAsBitVect(mols[200], useChirality=True, radius=2, nBits=512)\n",
    "\n",
    "# 1048-bit\n",
    "methane_1048fp             = Chem.AllChem.GetMorganFingerprintAsBitVect(mols[0], useChirality=True, radius=2, nBits=1048)\n",
    "aminoacetaldehyde_1048fp   = Chem.AllChem.GetMorganFingerprintAsBitVect(mols[100], useChirality=True, radius=2, nBits=1048)\n",
    "methylcyclopropanol_1048fp = Chem.AllChem.GetMorganFingerprintAsBitVect(mols[200], useChirality=True, radius=2, nBits=1048)"
   ]
  },
  {
   "cell_type": "code",
   "execution_count": null,
   "metadata": {},
   "outputs": [],
   "source": []
  },
  {
   "cell_type": "code",
   "execution_count": null,
   "metadata": {},
   "outputs": [],
   "source": []
  },
  {
   "cell_type": "code",
   "execution_count": null,
   "metadata": {},
   "outputs": [],
   "source": []
  },
  {
   "attachments": {},
   "cell_type": "markdown",
   "metadata": {},
   "source": [
    "Let's visualize the different fingerprints using black squares to indicate nonzero bits and gray squares to indicate zero bits:"
   ]
  },
  {
   "cell_type": "code",
   "execution_count": 140,
   "metadata": {},
   "outputs": [
    {
     "data": {
      "image/png": "[encoded data removed]",
      "text/plain": [
       "<Figure size 640x480 with 1 Axes>"
      ]
     },
     "metadata": {},
     "output_type": "display_data"
    }
   ],
   "source": [
    "\n",
    "import matplotlib.pyplot as plt\n",
    "\n",
    "def plot_fingerprint(fp, label, offset=0, factor=0.1):\n",
    "    fp = np.array(fp)\n",
    "    active_bits = np.where(fp == 0.0)[0]\n",
    "    x = active_bits\n",
    "    y = fp[active_bits] * 0 + factor * offset\n",
    "    plt.scatter(x, y, color=\"lightgray\", s=25, marker=\"s\")\n",
    "    active_bits = np.where(fp == 1.0)[0]\n",
    "    x = active_bits\n",
    "    y = fp[active_bits] * 0 + factor * offset\n",
    "    plt.scatter(x, y, color=\"black\", s=25, marker=\"s\")\n",
    "    plt.text(len(fp)+25, factor * offset, label)\n",
    "\n",
    "\n",
    "# 256-bit\n",
    "plot_fingerprint(fp=methane_256fp, label=\"methane 256-bit\", offset=0)\n",
    "plot_fingerprint(fp=aminoacetaldehyde_256fp, label=\"aminoacetaldehyde 256-bit\", offset=1)\n",
    "plot_fingerprint(fp=methylcyclopropanol_256fp, label=\"methylcyclopropanol 256-bit\", offset=2)\n",
    "\n",
    "# 512-bit\n",
    "plot_fingerprint(fp=methane_512fp, label=\"methane 512-bit\", offset=3)\n",
    "plot_fingerprint(fp=aminoacetaldehyde_512fp, label=\"aminoacetaldehyde 512-bit\", offset=4)\n",
    "plot_fingerprint(fp=methylcyclopropanol_512fp, label=\"methylcyclopropanol 512-bit\", offset=5)\n",
    "\n",
    "# 1048-bit\n",
    "plot_fingerprint(fp=methane_1048fp, label=\"methane 1048-bit\", offset=6)\n",
    "plot_fingerprint(fp=aminoacetaldehyde_1048fp, label=\"aminoacetaldehyde 1048-bit\", offset=7)\n",
    "plot_fingerprint(fp=methylcyclopropanol_1048fp, label=\"methylcyclopropanol 1048-bit\", offset=8)\n",
    "\n",
    "plt.xlim([0, 1048])\n",
    "plt.ylim([-.1, 0.9])\n",
    "plt.axis(\"off\")\n",
    "\n",
    "plt.show()"
   ]
  },
  {
   "attachments": {},
   "cell_type": "markdown",
   "metadata": {},
   "source": [
    "We can sketch out the parts of the structure contributing to the nonzero elemenbts of the fingerprints:"
   ]
  },
  {
   "cell_type": "code",
   "execution_count": 165,
   "metadata": {},
   "outputs": [
    {
     "data": {
      "image/png": "[encoded data removed]",
      "text/plain": [
       "<PIL.PngImagePlugin.PngImageFile image mode=RGB size=450x150>"
      ]
     },
     "metadata": {},
     "output_type": "display_data"
    },
    {
     "ename": "IndexError",
     "evalue": "tuple index out of range",
     "output_type": "error",
     "traceback": [
      "\u001b[0;31m---------------------------------------------------------------------------\u001b[0m",
      "\u001b[0;31mIndexError\u001b[0m                                Traceback (most recent call last)",
      "\u001b[0;32m/var/folders/7m/5pvy604s39lfhtlg7sng4sm80000gp/T/ipykernel_28747/2683985964.py\u001b[0m in \u001b[0;36m<module>\u001b[0;34m\u001b[0m\n\u001b[1;32m     12\u001b[0m     \u001b[0;32mfor\u001b[0m \u001b[0mj\u001b[0m \u001b[0;32min\u001b[0m \u001b[0mrange\u001b[0m\u001b[0;34m(\u001b[0m\u001b[0mlen\u001b[0m\u001b[0;34m(\u001b[0m\u001b[0maminoacetaldehyde_bitInfo_256fp\u001b[0m\u001b[0;34m)\u001b[0m\u001b[0;34m)\u001b[0m\u001b[0;34m:\u001b[0m\u001b[0;34m\u001b[0m\u001b[0;34m\u001b[0m\u001b[0m\n\u001b[1;32m     13\u001b[0m         \u001b[0mbits_to_draw\u001b[0m\u001b[0;34m.\u001b[0m\u001b[0mappend\u001b[0m\u001b[0;34m(\u001b[0m\u001b[0;34m(\u001b[0m\u001b[0mmols\u001b[0m\u001b[0;34m[\u001b[0m\u001b[0;36m0\u001b[0m\u001b[0;34m]\u001b[0m\u001b[0;34m,\u001b[0m \u001b[0mi\u001b[0m\u001b[0;34m,\u001b[0m \u001b[0maminoacetaldehyde_bitInfo_256fp\u001b[0m\u001b[0;34m,\u001b[0m \u001b[0mj\u001b[0m\u001b[0;34m)\u001b[0m\u001b[0;34m)\u001b[0m\u001b[0;34m\u001b[0m\u001b[0;34m\u001b[0m\u001b[0m\n\u001b[0;32m---> 14\u001b[0;31m \u001b[0maminoacetaldehyde_draw_fp\u001b[0m \u001b[0;34m=\u001b[0m \u001b[0mDraw\u001b[0m\u001b[0;34m.\u001b[0m\u001b[0mDrawMorganBits\u001b[0m\u001b[0;34m(\u001b[0m\u001b[0mbits_to_draw\u001b[0m\u001b[0;34m)\u001b[0m\u001b[0;34m\u001b[0m\u001b[0;34m\u001b[0m\u001b[0m\n\u001b[0m\u001b[1;32m     15\u001b[0m \u001b[0mdisplay\u001b[0m\u001b[0;34m(\u001b[0m\u001b[0maminoacetaldehyde_draw_fp\u001b[0m\u001b[0;34m)\u001b[0m\u001b[0;34m\u001b[0m\u001b[0;34m\u001b[0m\u001b[0m\n\u001b[1;32m     16\u001b[0m \u001b[0;34m\u001b[0m\u001b[0m\n",
      "\u001b[0;32m~/opt/anaconda3/envs/CECAM_unsupervised_learning/lib/python3.7/site-packages/rdkit/Chem/Draw/IPythonConsole.py\u001b[0m in \u001b[0;36mDrawMorganBits\u001b[0;34m(drawOptions, *args, **kwargs)\u001b[0m\n\u001b[1;32m    324\u001b[0m   \u001b[0;32melse\u001b[0m\u001b[0;34m:\u001b[0m\u001b[0;34m\u001b[0m\u001b[0;34m\u001b[0m\u001b[0m\n\u001b[1;32m    325\u001b[0m     \u001b[0mfn\u001b[0m \u001b[0;34m=\u001b[0m \u001b[0mDraw\u001b[0m\u001b[0;34m.\u001b[0m\u001b[0mDrawMorganBits\u001b[0m\u001b[0;34m\u001b[0m\u001b[0;34m\u001b[0m\u001b[0m\n\u001b[0;32m--> 326\u001b[0;31m   \u001b[0;32mreturn\u001b[0m \u001b[0m_DrawBit\u001b[0m\u001b[0;34m(\u001b[0m\u001b[0mfn\u001b[0m\u001b[0;34m,\u001b[0m \u001b[0;34m*\u001b[0m\u001b[0margs\u001b[0m\u001b[0;34m,\u001b[0m \u001b[0mdrawOptions\u001b[0m\u001b[0;34m=\u001b[0m\u001b[0mdrawOptions\u001b[0m\u001b[0;34m,\u001b[0m \u001b[0;34m**\u001b[0m\u001b[0mkwargs\u001b[0m\u001b[0;34m)\u001b[0m\u001b[0;34m\u001b[0m\u001b[0;34m\u001b[0m\u001b[0m\n\u001b[0m\u001b[1;32m    327\u001b[0m \u001b[0;34m\u001b[0m\u001b[0m\n\u001b[1;32m    328\u001b[0m \u001b[0;34m\u001b[0m\u001b[0m\n",
      "\u001b[0;32m~/opt/anaconda3/envs/CECAM_unsupervised_learning/lib/python3.7/site-packages/rdkit/Chem/Draw/IPythonConsole.py\u001b[0m in \u001b[0;36m_DrawBit\u001b[0;34m(fn, *args, **kwargs)\u001b[0m\n\u001b[1;32m    283\u001b[0m     \u001b[0mkwargs\u001b[0m\u001b[0;34m[\u001b[0m\u001b[0;34m'useSVG'\u001b[0m\u001b[0;34m]\u001b[0m \u001b[0;34m=\u001b[0m \u001b[0mipython_useSVG\u001b[0m\u001b[0;34m\u001b[0m\u001b[0;34m\u001b[0m\u001b[0m\n\u001b[1;32m    284\u001b[0m \u001b[0;34m\u001b[0m\u001b[0m\n\u001b[0;32m--> 285\u001b[0;31m   \u001b[0mres\u001b[0m \u001b[0;34m=\u001b[0m \u001b[0mfn\u001b[0m\u001b[0;34m(\u001b[0m\u001b[0;34m*\u001b[0m\u001b[0margs\u001b[0m\u001b[0;34m,\u001b[0m \u001b[0;34m**\u001b[0m\u001b[0mkwargs\u001b[0m\u001b[0;34m)\u001b[0m\u001b[0;34m\u001b[0m\u001b[0;34m\u001b[0m\u001b[0m\n\u001b[0m\u001b[1;32m    286\u001b[0m   \u001b[0;32mif\u001b[0m \u001b[0mkwargs\u001b[0m\u001b[0;34m[\u001b[0m\u001b[0;34m'useSVG'\u001b[0m\u001b[0;34m]\u001b[0m\u001b[0;34m:\u001b[0m\u001b[0;34m\u001b[0m\u001b[0;34m\u001b[0m\u001b[0m\n\u001b[1;32m    287\u001b[0m     \u001b[0;32mreturn\u001b[0m \u001b[0mSVG\u001b[0m\u001b[0;34m(\u001b[0m\u001b[0mres\u001b[0m\u001b[0;34m)\u001b[0m\u001b[0;34m\u001b[0m\u001b[0;34m\u001b[0m\u001b[0m\n",
      "\u001b[0;32m~/opt/anaconda3/envs/CECAM_unsupervised_learning/lib/python3.7/site-packages/rdkit/Chem/Draw/__init__.py\u001b[0m in \u001b[0;36mDrawMorganBits\u001b[0;34m(tpls, **kwargs)\u001b[0m\n\u001b[1;32m    721\u001b[0m       \u001b[0mwhichExample\u001b[0m \u001b[0;34m=\u001b[0m \u001b[0;36m0\u001b[0m\u001b[0;34m\u001b[0m\u001b[0;34m\u001b[0m\u001b[0m\n\u001b[1;32m    722\u001b[0m \u001b[0;34m\u001b[0m\u001b[0m\n\u001b[0;32m--> 723\u001b[0;31m     \u001b[0matomId\u001b[0m\u001b[0;34m,\u001b[0m \u001b[0mradius\u001b[0m \u001b[0;34m=\u001b[0m \u001b[0mbitInfo\u001b[0m\u001b[0;34m[\u001b[0m\u001b[0mbitId\u001b[0m\u001b[0;34m]\u001b[0m\u001b[0;34m[\u001b[0m\u001b[0mwhichExample\u001b[0m\u001b[0;34m]\u001b[0m\u001b[0;34m\u001b[0m\u001b[0;34m\u001b[0m\u001b[0m\n\u001b[0m\u001b[1;32m    724\u001b[0m     \u001b[0menvs\u001b[0m\u001b[0;34m.\u001b[0m\u001b[0mappend\u001b[0m\u001b[0;34m(\u001b[0m\u001b[0;34m(\u001b[0m\u001b[0mmol\u001b[0m\u001b[0;34m,\u001b[0m \u001b[0matomId\u001b[0m\u001b[0;34m,\u001b[0m \u001b[0mradius\u001b[0m\u001b[0;34m)\u001b[0m\u001b[0;34m)\u001b[0m\u001b[0;34m\u001b[0m\u001b[0;34m\u001b[0m\u001b[0m\n\u001b[1;32m    725\u001b[0m   \u001b[0;32mreturn\u001b[0m \u001b[0mDrawMorganEnvs\u001b[0m\u001b[0;34m(\u001b[0m\u001b[0menvs\u001b[0m\u001b[0;34m,\u001b[0m \u001b[0;34m**\u001b[0m\u001b[0mkwargs\u001b[0m\u001b[0;34m)\u001b[0m\u001b[0;34m\u001b[0m\u001b[0;34m\u001b[0m\u001b[0m\n",
      "\u001b[0;31mIndexError\u001b[0m: tuple index out of range"
     ]
    }
   ],
   "source": [
    "methane_fp = np.array(methane_256fp)\n",
    "bits_to_draw = []\n",
    "for i in np.where(methane_fp == 1.0)[0]:\n",
    "    for j in range(len(methane_bitInfo_256fp)):\n",
    "        bits_to_draw.append((mols[0], i, methane_bitInfo_256fp, j))\n",
    "methane_draw_fp = Draw.DrawMorganBits(bits_to_draw)\n",
    "display(methane_draw_fp)\n",
    "\n",
    "aminoacetaldehyde_fp = np.array(aminoacetaldehyde_256fp)\n",
    "bits_to_draw = []\n",
    "for i in np.where(aminoacetaldehyde_fp == 1.0)[0]:\n",
    "    for j in range(len(aminoacetaldehyde_bitInfo_256fp)):\n",
    "        bits_to_draw.append((mols[0], i, aminoacetaldehyde_bitInfo_256fp, j))\n",
    "aminoacetaldehyde_draw_fp = Draw.DrawMorganBits(bits_to_draw)\n",
    "display(aminoacetaldehyde_draw_fp)\n",
    "\n",
    "methycyclopropanol_fp = np.array(methycyclopropanol_256fp)\n",
    "bits_to_draw = []\n",
    "for i in np.where(methycyclopropanol_fp == 1.0)[0]:\n",
    "    for j in range(len(methycyclopropanol_bitInfo_256fp)):\n",
    "        bits_to_draw.append((mols[0], i, methycyclopropanol_bitInfo_256fp, j))\n",
    "methycyclopropanol_draw_fp = Draw.DrawMorganBits(bits_to_draw)\n",
    "display(methycyclopropanol_draw_fp)"
   ]
  },
  {
   "cell_type": "code",
   "execution_count": null,
   "metadata": {},
   "outputs": [],
   "source": []
  },
  {
   "cell_type": "code",
   "execution_count": null,
   "metadata": {},
   "outputs": [],
   "source": []
  },
  {
   "cell_type": "code",
   "execution_count": null,
   "metadata": {},
   "outputs": [],
   "source": []
  },
  {
   "cell_type": "code",
   "execution_count": null,
   "metadata": {},
   "outputs": [],
   "source": []
  },
  {
   "cell_type": "code",
   "execution_count": null,
   "metadata": {},
   "outputs": [],
   "source": []
  },
  {
   "cell_type": "code",
   "execution_count": null,
   "metadata": {},
   "outputs": [],
   "source": []
  },
  {
   "cell_type": "code",
   "execution_count": null,
   "metadata": {},
   "outputs": [],
   "source": []
  },
  {
   "cell_type": "code",
   "execution_count": null,
   "metadata": {},
   "outputs": [],
   "source": []
  },
  {
   "cell_type": "code",
   "execution_count": null,
   "metadata": {},
   "outputs": [],
   "source": []
  },
  {
   "attachments": {},
   "cell_type": "markdown",
   "metadata": {},
   "source": [
    "As you can see, most of the fingerprint bits are zero, and the larger you make the fingerprint, the sparser it usually gets (for small molecules). Most of the fingerprints are quite different for the three molecules.\n",
    "\n",
    "[Move this somewhere else]: One of the challenges with this type of hash fingerprint is that you can get *bit collisions.* \n",
    "\n",
    "For comparison, let's look at the fingerprints of three similar molecules: methane, ethane, and ethene, and see how these fingerprints compare:"
   ]
  },
  {
   "cell_type": "code",
   "execution_count": 141,
   "metadata": {},
   "outputs": [
    {
     "name": "stdout",
     "output_type": "stream",
     "text": [
      "methane: C\n",
      "ethane: CC\n",
      "ethene: C=C\n"
     ]
    },
    {
     "data": {
      "image/png": "[encoded data removed]",
      "text/plain": [
       "<Figure size 640x480 with 1 Axes>"
      ]
     },
     "metadata": {},
     "output_type": "display_data"
    }
   ],
   "source": [
    "print(\"methane:\", smiles[0])\n",
    "print(\"ethane:\",  smiles[1])\n",
    "print(\"ethene:\",  smiles[2])\n",
    "\n",
    "# 256-bit\n",
    "ethane_256fp = Chem.AllChem.GetMorganFingerprintAsBitVect(mols[1], useChirality=True, radius=2, nBits=256)\n",
    "ethene_256fp = Chem.AllChem.GetMorganFingerprintAsBitVect(mols[2], useChirality=True, radius=2, nBits=256)\n",
    "\n",
    "# 512-bit\n",
    "ethane_512fp = Chem.AllChem.GetMorganFingerprintAsBitVect(mols[1], useChirality=True, radius=2, nBits=512)\n",
    "ethene_512fp = Chem.AllChem.GetMorganFingerprintAsBitVect(mols[2], useChirality=True, radius=2, nBits=512)\n",
    "\n",
    "# 1048-bit\n",
    "ethane_1048fp = Chem.AllChem.GetMorganFingerprintAsBitVect(mols[1], useChirality=True, radius=2, nBits=1048)\n",
    "ethene_1048fp = Chem.AllChem.GetMorganFingerprintAsBitVect(mols[2], useChirality=True, radius=2, nBits=1048)\n",
    "\n",
    "# 256-bit\n",
    "plot_fingerprint(fp=methane_256fp, label=\"methane 256-bit\", offset=0)\n",
    "plot_fingerprint(fp=ethane_256fp, label=\"ethane 256-bit\", offset=1)\n",
    "plot_fingerprint(fp=ethene_256fp, label=\"ethene 256-bit\", offset=2)\n",
    "\n",
    "# 512-bit\n",
    "plot_fingerprint(fp=methane_512fp, label=\"methane 512-bit\", offset=3)\n",
    "plot_fingerprint(fp=ethane_512fp, label=\"ethane 512-bit\", offset=4)\n",
    "plot_fingerprint(fp=ethene_512fp, label=\"ethene 512-bit\", offset=5)\n",
    "\n",
    "# 1048-bit\n",
    "plot_fingerprint(fp=methane_1048fp, label=\"methane 1048-bit\", offset=6)\n",
    "plot_fingerprint(fp=ethane_1048fp, label=\"ethane 1048-bit\", offset=7)\n",
    "plot_fingerprint(fp=ethene_1048fp, label=\"ethene 1048-bit\", offset=8)\n",
    "\n",
    "plt.xlim([0, 1048])\n",
    "plt.ylim([-.1, 0.9])\n",
    "plt.axis(\"off\")\n",
    "\n",
    "plt.show()"
   ]
  },
  {
   "attachments": {},
   "cell_type": "markdown",
   "metadata": {},
   "source": [
    "### Structural Keys\n",
    "In structural keys, the structure of a molecule is encoded into a binary bit string (that is, a sequence of 0’s and 1’s), each bit of which corresponds to a “pre-defined” structural feature (e.g., substructure or fragment). If the molecule has a pre-defined feature, the bit position corresponding to this feature is set to 1. Otherwise, it is 0. It is important to understand that structural keys cannot encode structural features that are not pre-defined in the fragment library. In this example we will work with [MACCS keys](https://doi.org/10.1021/ci010132r). [PubChem Substructure Fingerprints](https://ftp.ncbi.nlm.nih.gov/pubchem/specifications/pubchem_fingerprints.pdf) are another example.\n",
    "\n",
    "The MACCS (Molecular ACCess System) keys are one of the most commonly used structural keys. While there are two sets of MACCS keys (one with 960 keys and the other containing a subset of 166 keys), only the shorter fragment definitions are available to the public. These 166 public keys are implemented in popular open-source cheminformatics software packages, including RDKit.\n",
    "\n",
    "Let's generate and visualize the MACCS keys using RDKit for the above molecules: methane, ethane, ethene, N-propylhydroxylamine, and butan-1-ol."
   ]
  },
  {
   "cell_type": "code",
   "execution_count": 142,
   "metadata": {},
   "outputs": [
    {
     "data": {
      "image/png": "[encoded data removed]",
      "text/plain": [
       "<Figure size 640x480 with 1 Axes>"
      ]
     },
     "metadata": {},
     "output_type": "display_data"
    }
   ],
   "source": [
    "from rdkit.Chem import MACCSkeys\n",
    "\n",
    "methane_maccs       = MACCSkeys.GenMACCSKeys(mols[0])\n",
    "ethane_maccs        = MACCSkeys.GenMACCSKeys(mols[1])\n",
    "ethene_maccs        = MACCSkeys.GenMACCSKeys(mols[2])\n",
    "aminoacetaldehyde_maccs = MACCSkeys.GenMACCSKeys(mols[100])\n",
    "methylcyclopropanol_maccs       = MACCSkeys.GenMACCSKeys(mols[200])\n",
    "\n",
    "# plot the MACCS fingerprints\n",
    "plot_fingerprint(fp=methane_maccs, label=\"methane MACCS\", offset=0)\n",
    "plot_fingerprint(fp=ethane_maccs, label=\"ethane MACCS\", offset=1)\n",
    "plot_fingerprint(fp=ethene_maccs, label=\"ethene MACCS\", offset=2)\n",
    "plot_fingerprint(fp=aminoacetaldehyde_maccs, label=\"aminoacetaldehyde MACCS\", offset=3)\n",
    "plot_fingerprint(fp=methylcyclopropanol_maccs, label=\"methylcyclopropanol MACCS\", offset=4)\n",
    "\n",
    "plt.xlim([0, 166])\n",
    "plt.ylim([-.1, 0.5])\n",
    "plt.axis(\"off\")\n",
    "\n",
    "plt.show()"
   ]
  },
  {
   "attachments": {},
   "cell_type": "markdown",
   "metadata": {},
   "source": [
    "### RDKit 2D Descriptor Fingerprints\n"
   ]
  },
  {
   "cell_type": "code",
   "execution_count": 9,
   "metadata": {},
   "outputs": [
    {
     "name": "stderr",
     "output_type": "stream",
     "text": [
      "[16:24:49] unsupported number of radical electrons 4\n"
     ]
    },
    {
     "data": {
      "image/png": "[encoded data removed]",
      "text/plain": [
       "<PIL.PngImagePlugin.PngImageFile image mode=RGB size=300x300>"
      ]
     },
     "execution_count": 9,
     "metadata": {},
     "output_type": "execute_result"
    }
   ],
   "source": [
    "img = Draw.MolToImage(mols[0])\n",
    "img\n"
   ]
  },
  {
   "attachments": {},
   "cell_type": "markdown",
   "metadata": {},
   "source": [
    "## Learned Representations\n",
    "\n",
    "## Coulomb Matrices\n",
    "Another way to represent molecular structures in cheminformatics is Coulomb matrices (CMs), where each element of the matrix captures the Coulombic interaction between pairs of atoms in a molecule, combining nuclear charge and interatomic distances. Below we show an example CM for water."
   ]
  },
  {
   "cell_type": "code",
   "execution_count": 1,
   "metadata": {},
   "outputs": [
    {
     "data": {
      "text/plain": [
       "array([[73.51669472,  8.33333333,  8.33333333],\n",
       "       [ 8.33333333,  0.5       ,  1.04166667],\n",
       "       [ 8.33333333,  1.04166667,  0.5       ]])"
      ]
     },
     "execution_count": 1,
     "metadata": {},
     "output_type": "execute_result"
    }
   ],
   "source": [
    "import numpy as np\n",
    "\n",
    "# atomic numbers\n",
    "Z_O = 8  # Oxygen\n",
    "Z_H = 1  # Hydrogen\n",
    "\n",
    "# distance between Oxygen and Hydrogen in Angstroms (approximate)\n",
    "R_OH = 0.96\n",
    "\n",
    "# Coulomb matrix for water (H2O)\n",
    "# initialize the matrix\n",
    "coulomb_matrix = np.zeros((3, 3))\n",
    "\n",
    "# diagonal elements: 0.5 * Z^2.4\n",
    "coulomb_matrix[0, 0] = 0.5 * Z_O ** 2.4  # Oxygen\n",
    "coulomb_matrix[1, 1] = 0.5 * Z_H ** 2.4  # Hydrogen 1\n",
    "coulomb_matrix[2, 2] = 0.5 * Z_H ** 2.4  # Hydrogen 2\n",
    "\n",
    "# off-diagonal elements: Z_i * Z_j / R_ij\n",
    "# assuming the distance between each hydrogen and the oxygen is the same\n",
    "coulomb_matrix[0, 1] = coulomb_matrix[1, 0] = Z_O * Z_H / R_OH  # oxygen-hydrogen 1\n",
    "coulomb_matrix[0, 2] = coulomb_matrix[2, 0] = Z_O * Z_H / R_OH  # oxygen-hydrogen 2\n",
    "coulomb_matrix[1, 2] = coulomb_matrix[2, 1] = Z_H * Z_H / R_OH  # hydrogen-hydrogen\n",
    "\n",
    "coulomb_matrix"
   ]
  },
  {
   "cell_type": "markdown",
   "metadata": {},
   "source": [
    "## Physicochemical Descriptors"
   ]
  },
  {
   "attachments": {},
   "cell_type": "markdown",
   "metadata": {},
   "source": []
  }
 ],
 "metadata": {
  "kernelspec": {
   "display_name": "data-sharing-perspective",
   "language": "python",
   "name": "python3"
  },
  "language_info": {
   "codemirror_mode": {
    "name": "ipython",
    "version": 3
   },
   "file_extension": ".py",
   "mimetype": "text/x-python",
   "name": "python",
   "nbconvert_exporter": "python",
   "pygments_lexer": "ipython3",
   "version": "3.7.12"
  },
  "orig_nbformat": 4
 },
 "nbformat": 4,
 "nbformat_minor": 2
}
