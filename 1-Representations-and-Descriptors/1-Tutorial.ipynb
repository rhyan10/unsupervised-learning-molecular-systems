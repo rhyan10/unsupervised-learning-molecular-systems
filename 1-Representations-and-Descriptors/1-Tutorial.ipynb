{
 "cells": [
  {
   "attachments": {},
   "cell_type": "markdown",
   "metadata": {},
   "source": [
    "# Outline: Representation and Selection of Descriptors\n",
    "1. Description of typical descriptors and libraries for handling biomolecules\n",
    "\ta. Molecular fingerprints (e.g., ECFP, MACCS keys) \n",
    "\tb. Learned representations (e.g., learned embeddings from molecular strings {SMILES, SELFIES, SMARTS patterns for structural fragments}, 2D graphs).\n",
    "\tc. Atomic-centered descriptors\n",
    "\t\ti. SOAP\n",
    "\td. Coulomb matrices (where to put, exactly?)\n",
    "\te. Physicochemical properties (e.g., molecular weight, logP, perhaps just go over the ones in QM7)\n",
    "\n",
    "2. Typical data preprocessing steps\n",
    "\ta. Handling data on different scales (normalization and scaling techniques, standardization {e.g., z-score normalization}, min-max scaling, robust scaling \n",
    "\n",
    "3. Feature selection\n",
    "\ta.Illustrate with 2D representation, 3D representation, and MD trajectories (3 examples of increasing complexity)."
   ]
  },
  {
   "attachments": {},
   "cell_type": "markdown",
   "metadata": {},
   "source": [
    "# Description of typical descriptors and libraries for handling biomolecules \n",
    "Molecules are complex and can be represented by strings (e.g., SMILES), 2D graphs, and conformers. There are a few libraries for working with molecule \"objects\" in Python, one of the most popular being [RDKit](https://www.rdkit.org/), which we will also use in this notebook.\n",
    "\n",
    "To import the necessary libraries for this tutorial, run the following cell:"
   ]
  },
  {
   "cell_type": "code",
   "execution_count": 1,
   "metadata": {},
   "outputs": [],
   "source": [
    "from rdkit import Chem       # description\n",
    "from rdkit.Chem import Draw  # used for drawing molecules\n",
    "import numpy as np\n",
    "import itertools\n",
    "import scipy.io\n",
    "import xyz2mol as xyz2mol\n",
    "import ase.io"
   ]
  },
  {
   "attachments": {},
   "cell_type": "markdown",
   "metadata": {},
   "source": [
    "We can begin analyzing molecules by looking at the molecules in QM7. The QM7 dataset is a subset of GDB-13 (a database of nearly 1 billion stable and synthetically accessible organic molecules) composed of all molecules of up to 23 atoms (including 7 heavy atoms C, N, O, and S), totalling 7165 molecules. It contains the Coulomb matrix representation of these molecules and their atomization energies computed similarly to the FHI-AIMS implementation of the Perdew-Burke-Ernzerhof hybrid functional (PBE0). This dataset features a large variety of molecular structures such as double and triple bonds, cycles, carboxy, cyanide, amide, alcohol and epoxy.\n",
    "\n",
    "To download and load the QM7 dataset as a Python dictionary, run:"
   ]
  },
  {
   "cell_type": "code",
   "execution_count": 2,
   "metadata": {},
   "outputs": [
    {
     "name": "stdout",
     "output_type": "stream",
     "text": [
      "--2023-07-06 16:24:35--  http://quantum-machine.org/data/qm7.mat\n",
      "Resolving quantum-machine.org (quantum-machine.org)... 130.149.80.145\n",
      "Connecting to quantum-machine.org (quantum-machine.org)|130.149.80.145|:80... connected.\n",
      "HTTP request sent, awaiting response... 200 OK\n",
      "Length: 17884280 (17M)\n",
      "Saving to: ‘qm7.mat’\n",
      "\n",
      "qm7.mat             100%[===================>]  17,06M  16,7MB/s    in 1,0s    \n",
      "\n",
      "2023-07-06 16:24:37 (16,7 MB/s) - ‘qm7.mat’ saved [17884280/17884280]\n",
      "\n"
     ]
    }
   ],
   "source": [
    "!wget http://quantum-machine.org/data/qm7.mat\n",
    "!mv qm7.mat ../data/.\n",
    "\n",
    "raw_qm7 = scipy.io.loadmat(\"../data/qm7.mat\") # the qm7 dataset will be loaded as a Python dictionary"
   ]
  },
  {
   "attachments": {},
   "cell_type": "markdown",
   "metadata": {},
   "source": [
    "The dataset is composed of five multidimensional arrays:\n",
    "- X (7165 x 23 x 23) - Coulomb matrices\n",
    "- T (7165) - atomization energies (the labels)\n",
    "- P (5 x 1433) - cross-validation splits\n",
    "- Z (7165) - atomic charge of each atom in the molecules\n",
    "- R (7165 x 3) - Cartesian coordinates of each atom in the molecules"
   ]
  },
  {
   "cell_type": "code",
   "execution_count": 4,
   "metadata": {},
   "outputs": [],
   "source": [
    "X = raw_qm7[\"X\"]\n",
    "T = raw_qm7[\"T\"]\n",
    "P = raw_qm7[\"P\"]\n",
    "Z = raw_qm7[\"Z\"]\n",
    "R = raw_qm7[\"R\"]"
   ]
  },
  {
   "attachments": {},
   "cell_type": "markdown",
   "metadata": {},
   "source": [
    "To make it a bit easier to work with the molecules, let's convert them into RDKit ´Mol´ objects, and respectively into the corresponding SMILES:"
   ]
  },
  {
   "cell_type": "code",
   "execution_count": 14,
   "metadata": {},
   "outputs": [],
   "source": [
    "# Get the molobjs\n",
    "atoms       = Z\n",
    "coordinates = R\n",
    "\n",
    "mols   = []\n",
    "smiles = []\n",
    "for idx, atom in enumerate(atoms):\n",
    "    mol = xyz2mol.xyz2mol(atom, coordinates[idx], allow_charged_fragments=False)\n",
    "    mols.append(mol)\n",
    "    smiles.append(Chem.MolToSmiles(mol))\n"
   ]
  },
  {
   "attachments": {},
   "cell_type": "markdown",
   "metadata": {},
   "source": [
    "Let's look at some of the SMILES. The first corresponds to methane, then ethane, then ethene:"
   ]
  },
  {
   "cell_type": "code",
   "execution_count": 22,
   "metadata": {},
   "outputs": [
    {
     "name": "stdout",
     "output_type": "stream",
     "text": [
      "methane: [C].[H].[H].[H].[H]\n",
      "ethane: [C].[C].[H].[H].[H].[H].[H].[H]\n",
      "ethene: [C].[C].[H].[H].[H].[H]\n"
     ]
    }
   ],
   "source": [
    "print(\"methane:\", smiles[0])  # assert that the SMILES match the correct one?\n",
    "print(\"ethane:\", smiles[1])\n",
    "print(\"ethene:\", smiles[2])"
   ]
  },
  {
   "attachments": {},
   "cell_type": "markdown",
   "metadata": {},
   "source": [
    "## Molecular Fingerprints\n",
    "Now that we have our list of molecules, we can represent them using one of the most common representations used in cheminformatics: [Morgan fingerprints](https://www.rdkit.org/UGM/2012/Landrum_RDKit_UGM.Fingerprints.Final.pptx.pdf). Fingerprints can have different, user-defined lengths. Here, we will generate radius 2 Morgan fingerprints for the above three molecules using bit lengths of 256, 512, and 1048:"
   ]
  },
  {
   "cell_type": "code",
   "execution_count": 32,
   "metadata": {},
   "outputs": [],
   "source": [
    "# 256-bit\n",
    "methane_256fp = Chem.AllChem.GetMorganFingerprintAsBitVect(mols[0], useChirality=True, radius=2, nBits=256)\n",
    "ethane_256fp  = Chem.AllChem.GetMorganFingerprintAsBitVect(mols[1], useChirality=True, radius=2, nBits=256)\n",
    "ethene_256fp  = Chem.AllChem.GetMorganFingerprintAsBitVect(mols[2], useChirality=True, radius=2, nBits=256)\n",
    " \n",
    "# 512-bit\n",
    "methane_512fp = Chem.AllChem.GetMorganFingerprintAsBitVect(mols[0], useChirality=True, radius=2, nBits=512)\n",
    "ethane_512fp  = Chem.AllChem.GetMorganFingerprintAsBitVect(mols[1], useChirality=True, radius=2, nBits=512)\n",
    "ethene_512fp  = Chem.AllChem.GetMorganFingerprintAsBitVect(mols[2], useChirality=True, radius=2, nBits=512)\n",
    "\n",
    "# 1048-bit\n",
    "methane_1048fp = Chem.AllChem.GetMorganFingerprintAsBitVect(mols[0], useChirality=True, radius=2, nBits=1048)\n",
    "ethane_1048fp  = Chem.AllChem.GetMorganFingerprintAsBitVect(mols[1], useChirality=True, radius=2, nBits=1048)\n",
    "ethene_1048fp  = Chem.AllChem.GetMorganFingerprintAsBitVect(mols[2], useChirality=True, radius=2, nBits=1048)"
   ]
  },
  {
   "attachments": {},
   "cell_type": "markdown",
   "metadata": {},
   "source": [
    "Let's visualize the different fingerprints as heat maps:"
   ]
  },
  {
   "cell_type": "code",
   "execution_count": 73,
   "metadata": {},
   "outputs": [
    {
     "data": {
      "image/png": "[encoded data removed]",
      "text/plain": [
       "<Figure size 640x480 with 1 Axes>"
      ]
     },
     "metadata": {},
     "output_type": "display_data"
    }
   ],
   "source": [
    "methane = np.array(methane_256fp)\n",
    "ethane  = np.array(ethane_256fp)\n",
    "ethene  = np.array(ethene_256fp)\n",
    "\n",
    "import matplotlib.pyplot as plt\n",
    "\n",
    "def plot_fingerprint():\n",
    "    \n",
    "\n",
    "\n",
    "## methane\n",
    "# let's plot the zero bits in green \n",
    "methane_256_zero_bits = np.where(methane == 0.0)[0]\n",
    "methane_256_x = methane_256_zero_bits #methane_256fp[methane_256_zero_bits]\n",
    "methane_256_y = methane[methane_256_zero_bits] * 0 + 0 \n",
    "plt.scatter(methane_256_x, methane_256_y, color=\"#88c999\", s=50, marker=\"s\")\n",
    "\n",
    "# let's plot the non-zero bits in hot pink\n",
    "methane_256_nonzero_bits = np.where(methane != 0.0)[0]\n",
    "methane_256_x = methane_256_nonzero_bits #methane_256fp[methane_256_zero_bits]\n",
    "methane_256_y = methane[methane_256_nonzero_bits] * 0 + 0\n",
    "plt.scatter(methane_256_x, methane_256_y, color=\"hotpink\", s=50, marker=\"s\")\n",
    "\n",
    "## ethane\n",
    "# let's plot the zero bits in green \n",
    "ethane_256_zero_bits = np.where(ethane == 0.0)[0]\n",
    "ethane_256_x = ethane_256_zero_bits #ethane_256fp[ethane_256_zero_bits]\n",
    "ethane_256_y = ethane[ethane_256_zero_bits] * 0 + 1 \n",
    "plt.scatter(ethane_256_x, ethane_256_y, color=\"#88c999\", s=50, marker=\"s\")\n",
    "\n",
    "# let's plot the non-zero bits in hot pink\n",
    "ethane_256_nonzero_bits = np.where(ethane != 0.0)[0]\n",
    "ethane_256_x = ethane_256_nonzero_bits #ethane_256fp[ethane_256_zero_bits]\n",
    "ethane_256_y = ethane[ethane_256_nonzero_bits] * 0 + 1\n",
    "plt.scatter(ethane_256_x, ethane_256_y, color=\"hotpink\", s=50, marker=\"s\")\n",
    "\n",
    "## ethene\n",
    "# let's plot the zero bits in green \n",
    "ethene_256_zero_bits = np.where(ethene == 0.0)[0]\n",
    "ethene_256_x = ethene_256_zero_bits #ethene_256fp[ethene_256_zero_bits]\n",
    "ethene_256_y = ethene[ethene_256_zero_bits] * 0 + 2 \n",
    "plt.scatter(ethene_256_x, ethene_256_y, color=\"#88c999\", s=50, marker=\"s\")\n",
    "\n",
    "# let's plot the non-zero bits in hot pink\n",
    "ethene_256_nonzero_bits = np.where(ethene != 0.0)[0]\n",
    "ethene_256_x = ethene_256_nonzero_bits #ethene_256fp[ethene_256_zero_bits]\n",
    "ethene_256_y = ethene[ethene_256_nonzero_bits] * 0 + 2\n",
    "plt.scatter(ethene_256_x, ethene_256_y, color=\"hotpink\", s=50, marker=\"s\")\n",
    "\n",
    "# add a label\n",
    "plt.text(256 + 10, 0, \"methane 256\")\n",
    "plt.text(256 + 10, 1, \"ethane 256\")\n",
    "plt.text(256 + 10, 2, \"ethene 256\")\n",
    "\n",
    "plt.xlim([0, 256])\n",
    "plt.ylim([-1, 10])\n",
    "plt.axis(\"off\")\n",
    "\n",
    "plt.show()"
   ]
  },
  {
   "cell_type": "code",
   "execution_count": null,
   "metadata": {},
   "outputs": [],
   "source": []
  },
  {
   "cell_type": "code",
   "execution_count": null,
   "metadata": {},
   "outputs": [],
   "source": []
  },
  {
   "cell_type": "code",
   "execution_count": null,
   "metadata": {},
   "outputs": [],
   "source": []
  },
  {
   "cell_type": "code",
   "execution_count": null,
   "metadata": {},
   "outputs": [],
   "source": []
  },
  {
   "cell_type": "code",
   "execution_count": null,
   "metadata": {},
   "outputs": [],
   "source": []
  },
  {
   "cell_type": "code",
   "execution_count": null,
   "metadata": {},
   "outputs": [],
   "source": []
  },
  {
   "cell_type": "code",
   "execution_count": null,
   "metadata": {},
   "outputs": [],
   "source": []
  },
  {
   "cell_type": "code",
   "execution_count": null,
   "metadata": {},
   "outputs": [],
   "source": []
  },
  {
   "cell_type": "code",
   "execution_count": null,
   "metadata": {},
   "outputs": [],
   "source": []
  },
  {
   "cell_type": "code",
   "execution_count": null,
   "metadata": {},
   "outputs": [],
   "source": []
  },
  {
   "cell_type": "code",
   "execution_count": null,
   "metadata": {},
   "outputs": [],
   "source": []
  },
  {
   "cell_type": "code",
   "execution_count": null,
   "metadata": {},
   "outputs": [],
   "source": []
  },
  {
   "cell_type": "code",
   "execution_count": null,
   "metadata": {},
   "outputs": [],
   "source": []
  },
  {
   "cell_type": "code",
   "execution_count": null,
   "metadata": {},
   "outputs": [],
   "source": []
  },
  {
   "cell_type": "code",
   "execution_count": null,
   "metadata": {},
   "outputs": [],
   "source": []
  },
  {
   "cell_type": "code",
   "execution_count": null,
   "metadata": {},
   "outputs": [],
   "source": []
  },
  {
   "cell_type": "code",
   "execution_count": null,
   "metadata": {},
   "outputs": [],
   "source": []
  },
  {
   "cell_type": "code",
   "execution_count": null,
   "metadata": {},
   "outputs": [],
   "source": []
  },
  {
   "cell_type": "code",
   "execution_count": null,
   "metadata": {},
   "outputs": [],
   "source": []
  },
  {
   "cell_type": "code",
   "execution_count": null,
   "metadata": {},
   "outputs": [],
   "source": []
  },
  {
   "cell_type": "code",
   "execution_count": null,
   "metadata": {},
   "outputs": [],
   "source": []
  },
  {
   "cell_type": "code",
   "execution_count": null,
   "metadata": {},
   "outputs": [],
   "source": []
  },
  {
   "cell_type": "code",
   "execution_count": null,
   "metadata": {},
   "outputs": [],
   "source": []
  },
  {
   "cell_type": "code",
   "execution_count": null,
   "metadata": {},
   "outputs": [],
   "source": []
  },
  {
   "cell_type": "code",
   "execution_count": null,
   "metadata": {},
   "outputs": [],
   "source": []
  },
  {
   "cell_type": "code",
   "execution_count": null,
   "metadata": {},
   "outputs": [],
   "source": []
  },
  {
   "cell_type": "code",
   "execution_count": null,
   "metadata": {},
   "outputs": [],
   "source": []
  },
  {
   "cell_type": "code",
   "execution_count": null,
   "metadata": {},
   "outputs": [],
   "source": []
  },
  {
   "cell_type": "code",
   "execution_count": null,
   "metadata": {},
   "outputs": [],
   "source": []
  },
  {
   "cell_type": "code",
   "execution_count": null,
   "metadata": {},
   "outputs": [],
   "source": []
  },
  {
   "cell_type": "code",
   "execution_count": null,
   "metadata": {},
   "outputs": [],
   "source": []
  },
  {
   "cell_type": "code",
   "execution_count": null,
   "metadata": {},
   "outputs": [],
   "source": []
  },
  {
   "cell_type": "code",
   "execution_count": null,
   "metadata": {},
   "outputs": [],
   "source": []
  },
  {
   "cell_type": "code",
   "execution_count": null,
   "metadata": {},
   "outputs": [],
   "source": []
  },
  {
   "cell_type": "code",
   "execution_count": null,
   "metadata": {},
   "outputs": [],
   "source": []
  },
  {
   "cell_type": "code",
   "execution_count": null,
   "metadata": {},
   "outputs": [],
   "source": []
  },
  {
   "cell_type": "code",
   "execution_count": null,
   "metadata": {},
   "outputs": [],
   "source": []
  },
  {
   "cell_type": "code",
   "execution_count": null,
   "metadata": {},
   "outputs": [],
   "source": []
  },
  {
   "cell_type": "code",
   "execution_count": null,
   "metadata": {},
   "outputs": [],
   "source": []
  },
  {
   "cell_type": "code",
   "execution_count": null,
   "metadata": {},
   "outputs": [],
   "source": []
  },
  {
   "cell_type": "code",
   "execution_count": null,
   "metadata": {},
   "outputs": [],
   "source": []
  },
  {
   "cell_type": "code",
   "execution_count": null,
   "metadata": {},
   "outputs": [],
   "source": []
  },
  {
   "cell_type": "code",
   "execution_count": null,
   "metadata": {},
   "outputs": [],
   "source": []
  },
  {
   "cell_type": "code",
   "execution_count": null,
   "metadata": {},
   "outputs": [],
   "source": []
  },
  {
   "cell_type": "code",
   "execution_count": null,
   "metadata": {},
   "outputs": [],
   "source": []
  },
  {
   "cell_type": "code",
   "execution_count": null,
   "metadata": {},
   "outputs": [],
   "source": []
  },
  {
   "cell_type": "code",
   "execution_count": null,
   "metadata": {},
   "outputs": [],
   "source": []
  },
  {
   "cell_type": "code",
   "execution_count": null,
   "metadata": {},
   "outputs": [],
   "source": []
  },
  {
   "cell_type": "code",
   "execution_count": null,
   "metadata": {},
   "outputs": [],
   "source": []
  },
  {
   "cell_type": "code",
   "execution_count": null,
   "metadata": {},
   "outputs": [],
   "source": []
  },
  {
   "cell_type": "code",
   "execution_count": null,
   "metadata": {},
   "outputs": [],
   "source": []
  },
  {
   "cell_type": "code",
   "execution_count": null,
   "metadata": {},
   "outputs": [],
   "source": []
  },
  {
   "cell_type": "code",
   "execution_count": null,
   "metadata": {},
   "outputs": [],
   "source": []
  },
  {
   "cell_type": "code",
   "execution_count": null,
   "metadata": {},
   "outputs": [],
   "source": []
  },
  {
   "cell_type": "code",
   "execution_count": null,
   "metadata": {},
   "outputs": [],
   "source": []
  },
  {
   "cell_type": "code",
   "execution_count": null,
   "metadata": {},
   "outputs": [],
   "source": []
  },
  {
   "cell_type": "code",
   "execution_count": null,
   "metadata": {},
   "outputs": [],
   "source": []
  },
  {
   "cell_type": "code",
   "execution_count": null,
   "metadata": {},
   "outputs": [],
   "source": []
  },
  {
   "cell_type": "code",
   "execution_count": null,
   "metadata": {},
   "outputs": [],
   "source": []
  },
  {
   "cell_type": "code",
   "execution_count": null,
   "metadata": {},
   "outputs": [],
   "source": []
  },
  {
   "cell_type": "code",
   "execution_count": null,
   "metadata": {},
   "outputs": [],
   "source": []
  },
  {
   "cell_type": "code",
   "execution_count": null,
   "metadata": {},
   "outputs": [],
   "source": []
  },
  {
   "cell_type": "code",
   "execution_count": null,
   "metadata": {},
   "outputs": [],
   "source": []
  },
  {
   "cell_type": "code",
   "execution_count": 7,
   "metadata": {},
   "outputs": [],
   "source": [
    "smiles = Chem.MolToSmiles(mol=mols[0])"
   ]
  },
  {
   "cell_type": "code",
   "execution_count": 8,
   "metadata": {},
   "outputs": [
    {
     "data": {
      "text/plain": [
       "'[C].[H].[H].[H].[H]'"
      ]
     },
     "execution_count": 8,
     "metadata": {},
     "output_type": "execute_result"
    }
   ],
   "source": [
    "smiles"
   ]
  },
  {
   "cell_type": "code",
   "execution_count": 9,
   "metadata": {},
   "outputs": [
    {
     "name": "stderr",
     "output_type": "stream",
     "text": [
      "[16:24:49] unsupported number of radical electrons 4\n"
     ]
    },
    {
     "data": {
      "image/png": "[encoded data removed]",
      "text/plain": [
       "<PIL.PngImagePlugin.PngImageFile image mode=RGB size=300x300>"
      ]
     },
     "execution_count": 9,
     "metadata": {},
     "output_type": "execute_result"
    }
   ],
   "source": [
    "img = Draw.MolToImage(mols[0])\n",
    "img\n",
    "\n",
    "\n"
   ]
  },
  {
   "cell_type": "code",
   "execution_count": null,
   "metadata": {},
   "outputs": [],
   "source": []
  },
  {
   "cell_type": "code",
   "execution_count": null,
   "metadata": {},
   "outputs": [],
   "source": []
  },
  {
   "cell_type": "code",
   "execution_count": null,
   "metadata": {},
   "outputs": [],
   "source": []
  },
  {
   "cell_type": "code",
   "execution_count": null,
   "metadata": {},
   "outputs": [],
   "source": []
  },
  {
   "cell_type": "code",
   "execution_count": null,
   "metadata": {},
   "outputs": [],
   "source": []
  },
  {
   "cell_type": "code",
   "execution_count": 10,
   "metadata": {},
   "outputs": [
    {
     "ename": "NameError",
     "evalue": "name 'mol_0' is not defined",
     "output_type": "error",
     "traceback": [
      "\u001b[0;31m---------------------------------------------------------------------------\u001b[0m",
      "\u001b[0;31mNameError\u001b[0m                                 Traceback (most recent call last)",
      "\u001b[0;32m/var/folders/7m/5pvy604s39lfhtlg7sng4sm80000gp/T/ipykernel_28747/394749551.py\u001b[0m in \u001b[0;36m<module>\u001b[0;34m\u001b[0m\n\u001b[0;32m----> 1\u001b[0;31m \u001b[0mprint\u001b[0m\u001b[0;34m(\u001b[0m\u001b[0mmol_0\u001b[0m\u001b[0;34m)\u001b[0m\u001b[0;34m\u001b[0m\u001b[0;34m\u001b[0m\u001b[0m\n\u001b[0m\u001b[1;32m      2\u001b[0m \u001b[0mChem\u001b[0m\u001b[0;34m.\u001b[0m\u001b[0mrdmolfiles\u001b[0m\u001b[0;34m.\u001b[0m\u001b[0mMolToSmiles\u001b[0m\u001b[0;34m(\u001b[0m\u001b[0mmol_0\u001b[0m\u001b[0;34m)\u001b[0m\u001b[0;34m\u001b[0m\u001b[0;34m\u001b[0m\u001b[0m\n",
      "\u001b[0;31mNameError\u001b[0m: name 'mol_0' is not defined"
     ]
    }
   ],
   "source": [
    "print(mol_0)\n",
    "Chem.rdmolfiles.MolToSmiles(mol_0)\n"
   ]
  },
  {
   "attachments": {},
   "cell_type": "markdown",
   "metadata": {},
   "source": [
    "## Molecular fingerprints"
   ]
  }
 ],
 "metadata": {
  "kernelspec": {
   "display_name": "data-sharing-perspective",
   "language": "python",
   "name": "python3"
  },
  "language_info": {
   "codemirror_mode": {
    "name": "ipython",
    "version": 3
   },
   "file_extension": ".py",
   "mimetype": "text/x-python",
   "name": "python",
   "nbconvert_exporter": "python",
   "pygments_lexer": "ipython3",
   "version": "3.7.12"
  },
  "orig_nbformat": 4
 },
 "nbformat": 4,
 "nbformat_minor": 2
}
