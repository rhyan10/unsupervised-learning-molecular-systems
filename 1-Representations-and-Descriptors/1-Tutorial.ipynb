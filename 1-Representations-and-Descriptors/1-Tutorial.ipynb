{
 "cells": [
  {
   "attachments": {},
   "cell_type": "markdown",
   "metadata": {},
   "source": [
    "# Outline: Representation and Selection of Descriptors\n",
    "1. Description of typical descriptors and libraries for handling biomolecules\n",
    "\ta. Molecular fingerprints (e.g., ECFP, MACCS keys) \n",
    "\tb. Learned representations (e.g., learned embeddings from molecular strings {SMILES, SELFIES, SMARTS patterns for structural fragments}, 2D graphs).\n",
    "\tc. Atomic-centered descriptors\n",
    "\t\ti. SOAP\n",
    "\td. Coulomb matrices (where to put, exactly?)\n",
    "\te. Physicochemical properties (e.g., molecular weight, logP, perhaps just go over the ones in QM7)\n",
    "\n",
    "2. Typical data preprocessing steps\n",
    "\ta. Handling data on different scales (normalization and scaling techniques, standardization {e.g., z-score normalization}, min-max scaling, robust scaling \n",
    "\n",
    "3. Feature selection\n",
    "\ta.Illustrate with 2D representation, 3D representation, and MD trajectories (3 examples of increasing complexity)."
   ]
  },
  {
   "attachments": {},
   "cell_type": "markdown",
   "metadata": {},
   "source": [
    "# Description of typical descriptors and libraries for handling biomolecules \n",
    "Molecules are complex and can be represented by strings (e.g., SMILES), 2D graphs, and conformers. There are a few libraries for working with molecule \"objects\" in Python, such as [RDKit](), [OpenEye](), and [](). In this notebook we will use RDKit.\n",
    "\n",
    "To import the necessary libraries for this tutorial, run the following cell:"
   ]
  },
  {
   "cell_type": "code",
   "execution_count": 1,
   "metadata": {},
   "outputs": [
    {
     "ename": "ModuleNotFoundError",
     "evalue": "No module named 'rdkit'",
     "output_type": "error",
     "traceback": [
      "\u001b[0;31m---------------------------------------------------------------------------\u001b[0m",
      "\u001b[0;31mModuleNotFoundError\u001b[0m                       Traceback (most recent call last)",
      "Cell \u001b[0;32mIn[1], line 1\u001b[0m\n\u001b[0;32m----> 1\u001b[0m \u001b[39mfrom\u001b[39;00m \u001b[39mrdkit\u001b[39;00m \u001b[39mimport\u001b[39;00m Chem       \u001b[39m# description\u001b[39;00m\n\u001b[1;32m      2\u001b[0m \u001b[39mfrom\u001b[39;00m \u001b[39mrdkit\u001b[39;00m\u001b[39m.\u001b[39;00m\u001b[39mChem\u001b[39;00m \u001b[39mimport\u001b[39;00m Draw  \u001b[39m# used for drawing molecules\u001b[39;00m\n",
      "\u001b[0;31mModuleNotFoundError\u001b[0m: No module named 'rdkit'"
     ]
    }
   ],
   "source": [
    "from rdkit import Chem       # description\n",
    "from rdkit.Chem import Draw  # used for drawing molecules"
   ]
  },
  {
   "attachments": {},
   "cell_type": "markdown",
   "metadata": {},
   "source": [
    "## Molecular fingerprints"
   ]
  }
 ],
 "metadata": {
  "kernelspec": {
   "display_name": "data-sharing-perspective",
   "language": "python",
   "name": "python3"
  },
  "language_info": {
   "codemirror_mode": {
    "name": "ipython",
    "version": 3
   },
   "file_extension": ".py",
   "mimetype": "text/x-python",
   "name": "python",
   "nbconvert_exporter": "python",
   "pygments_lexer": "ipython3",
   "version": "3.10.12"
  },
  "orig_nbformat": 4
 },
 "nbformat": 4,
 "nbformat_minor": 2
}
