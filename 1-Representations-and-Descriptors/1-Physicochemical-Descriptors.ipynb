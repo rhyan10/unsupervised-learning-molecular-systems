{
 "cells": [
  {
   "cell_type": "markdown",
   "metadata": {},
   "source": [
    "# Physicochemical descriptors\n",
    "In this notebook, we explore various physicochemical descriptors that can be used to represent molecules.\n",
    "\n",
    "We will follow the same kernel as the [Fingerprints and SMILES](./1-Fingerprints-and-SMILES.ipynb) notebook."
   ]
  },
  {
   "cell_type": "markdown",
   "metadata": {},
   "source": [
    "## Loading the data"
   ]
  },
  {
   "cell_type": "code",
   "execution_count": null,
   "metadata": {},
   "outputs": [],
   "source": [
    "import pandas as pd\n",
    "\n",
    "# Load the CSV file\n",
    "file_path = './data/zinc-250k-sample.csv'\n",
    "df = pd.read_csv(file_path)\n",
    "\n",
    "# Extract each property into a different variable\n",
    "smiles = df['smiles'].tolist()\n",
    "logP = df['logP'].tolist()\n",
    "qed = df['qed'].tolist()\n",
    "SAS = df['SAS'].tolist()\n",
    "\n",
    "# Print the extracted variables\n",
    "print(\"SMILES:\", smiles)\n",
    "print(\"logP:\", logP)\n",
    "print(\"qed:\", qed)\n",
    "print(\"SAS:\", SAS)"
   ]
  },
  {
   "cell_type": "markdown",
   "metadata": {},
   "source": [
    "### RDKit 2D Descriptor Fingerprints"
   ]
  }
 ],
 "metadata": {
  "language_info": {
   "name": "python"
  }
 },
 "nbformat": 4,
 "nbformat_minor": 2
}
