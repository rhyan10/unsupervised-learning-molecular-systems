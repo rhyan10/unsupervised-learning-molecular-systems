{
 "cells": [
  {
   "cell_type": "code",
   "execution_count": null,
   "metadata": {},
   "outputs": [],
   "source": []
  },
  {
   "cell_type": "markdown",
   "metadata": {},
   "source": [
    "We can begin analyzing molecules by looking at the molecules in QM7. The QM7 dataset is a subset of GDB-13 (a database of nearly 1 billion stable and synthetically accessible organic molecules) composed of all molecules of up to 23 atoms (including 7 heavy atoms C, N, O, and S), totalling 7165 molecules. It contains the Coulomb matrix representation of these molecules and their atomization energies computed similarly to the FHI-AIMS implementation of the Perdew-Burke-Ernzerhof hybrid functional (PBE0). This dataset features a large variety of molecular structures such as double and triple bonds, cycles, carboxy, cyanide, amide, alcohol and epoxy.\n",
    "\n",
    "To download and load the QM7 dataset as a Python dictionary, run:"
   ]
  },
  {
   "cell_type": "code",
   "execution_count": null,
   "metadata": {},
   "outputs": [],
   "source": [
    "!wget http://quantum-machine.org/data/qm7.mat\n",
    "!mv qm7.mat ../data/.\n",
    "\n",
    "raw_qm7 = scipy.io.loadmat(\"../data/qm7.mat\") # the qm7 dataset will be loaded as a Python dictionary"
   ]
  },
  {
   "cell_type": "markdown",
   "metadata": {},
   "source": [
    "The dataset is composed of five multidimensional arrays:\n",
    "- X (7165 x 23 x 23) - Coulomb matrices\n",
    "- T (7165) - atomization energies (the labels)\n",
    "- P (5 x 1433) - cross-validation splits\n",
    "- Z (7165) - atomic charge of each atom in the molecules\n",
    "- R (7165 x 3) - Cartesian coordinates of each atom in the molecules"
   ]
  },
  {
   "cell_type": "code",
   "execution_count": null,
   "metadata": {},
   "outputs": [],
   "source": [
    "X = raw_qm7[\"X\"] # Coulomb matrices\n",
    "T = raw_qm7[\"T\"] # atomization energies\n",
    "P = raw_qm7[\"P\"] # cross-validation splits\n",
    "Z = raw_qm7[\"Z\"] # atomic numbers\n",
    "R = raw_qm7[\"R\"] # coordinates"
   ]
  },
  {
   "cell_type": "markdown",
   "metadata": {},
   "source": [
    "To make it a bit easier to work with the molecules, let's convert them into RDKit ´Mol´ objects, and respectively into the corresponding SMILES:"
   ]
  },
  {
   "cell_type": "code",
   "execution_count": null,
   "metadata": {},
   "outputs": [],
   "source": [
    "# # Get the molobjs\n",
    "# atoms       = Z\n",
    "# coordinates = R\n",
    "#\n",
    "# mols   = []\n",
    "# smiles = []\n",
    "# for idx, atom in enumerate(atoms):\n",
    "#     mol = xyz2mol.xyz2mol(atom, coordinates[idx], allow_charged_fragments=False)\n",
    "#     mols.append(mol)\n",
    "#     smiles.append(Chem.MolToSmiles(mol))\n",
    "\n",
    "smiles = open(\"../4-Autoencoders/smiles.txt\").read().split()\n",
    "mols   = [Chem.MolFromSmiles(smi) for smi in smiles]"
   ]
  },
  {
   "cell_type": "markdown",
   "metadata": {},
   "source": [
    "Let's look at some of the SMILES from QM7:"
   ]
  },
  {
   "cell_type": "code",
   "execution_count": null,
   "metadata": {},
   "outputs": [],
   "source": [
    "from IPython.display import display\n",
    "\n",
    "print(\"methane:\", smiles[0])\n",
    "methane_img       = Draw.MolToImage(mols[0])\n",
    "display(methane_img)\n",
    "\n",
    "print(\"2-aminoacetaldehyde:\", smiles[100])\n",
    "aminoacetaldehyde_img = Draw.MolToImage(mols[100])\n",
    "display(aminoacetaldehyde_img)\n",
    "\n",
    "print(\"1-methylcyclopropan-1-ol:\", smiles[200])\n",
    "methylcyclopropanol_img       = Draw.MolToImage(mols[200])\n",
    "display(methylcyclopropanol_img)"
   ]
  },
  {
   "cell_type": "markdown",
   "metadata": {},
   "source": [
    "\n",
    "\n",
    "## Coulomb Matrices\n",
    "Another way to represent molecular structures in cheminformatics is Coulomb matrices (CMs), where each element of the matrix captures the Coulombic interaction between pairs of atoms in a molecule, combining nuclear charge and interatomic distances. Below we show an example CM for water."
   ]
  },
  {
   "cell_type": "code",
   "execution_count": null,
   "metadata": {},
   "outputs": [],
   "source": [
    "import numpy as np\n",
    "\n",
    "# atomic numbers\n",
    "Z_O = 8  # Oxygen\n",
    "Z_H = 1  # Hydrogen\n",
    "\n",
    "# distance between Oxygen and Hydrogen in Angstroms (approximate)\n",
    "R_OH = 0.96\n",
    "\n",
    "# Coulomb matrix for water (H2O)\n",
    "# initialize the matrix\n",
    "coulomb_matrix = np.zeros((3, 3))\n",
    "\n",
    "# diagonal elements: 0.5 * Z^2.4\n",
    "coulomb_matrix[0, 0] = 0.5 * Z_O ** 2.4  # Oxygen\n",
    "coulomb_matrix[1, 1] = 0.5 * Z_H ** 2.4  # Hydrogen 1\n",
    "coulomb_matrix[2, 2] = 0.5 * Z_H ** 2.4  # Hydrogen 2\n",
    "\n",
    "# off-diagonal elements: Z_i * Z_j / R_ij\n",
    "# assuming the distance between each hydrogen and the oxygen is the same\n",
    "coulomb_matrix[0, 1] = coulomb_matrix[1, 0] = Z_O * Z_H / R_OH  # oxygen-hydrogen 1\n",
    "coulomb_matrix[0, 2] = coulomb_matrix[2, 0] = Z_O * Z_H / R_OH  # oxygen-hydrogen 2\n",
    "coulomb_matrix[1, 2] = coulomb_matrix[2, 1] = Z_H * Z_H / R_OH  # hydrogen-hydrogen\n",
    "\n",
    "coulomb_matrix"
   ]
  }
 ],
 "metadata": {
  "language_info": {
   "name": "python"
  }
 },
 "nbformat": 4,
 "nbformat_minor": 2
}
