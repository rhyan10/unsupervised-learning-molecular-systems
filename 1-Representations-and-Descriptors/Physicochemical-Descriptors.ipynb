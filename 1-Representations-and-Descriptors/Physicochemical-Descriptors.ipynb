{
 "cells": [
  {
   "cell_type": "markdown",
   "metadata": {},
   "source": [
    "# Physicochemical Descriptors\n",
    "In this notebook, we explore various physicochemical descriptors that can be used to represent molecules."
   ]
  },
  {
   "cell_type": "markdown",
   "metadata": {},
   "source": [
    "## Setting up the environment\n",
    "Below we install additional Python libraries you will need to run this notebook:"
   ]
  },
  {
   "cell_type": "code",
   "execution_count": null,
   "metadata": {},
   "outputs": [],
   "source": [
    "! pip install scipy ipywidgets"
   ]
  },
  {
   "cell_type": "markdown",
   "metadata": {},
   "source": [
    "## Loading the data"
   ]
  },
  {
   "cell_type": "code",
   "execution_count": 1,
   "metadata": {},
   "outputs": [
    {
     "name": "stdout",
     "output_type": "stream",
     "text": [
      "SMILES: ['CC(C)(C)c1ccc2occ(CC(=O)Nc3ccccc3F)c2c1', 'C[C@@H]1CC(Nc2cncc(-c3nncn3C)c2)C[C@@H](C)C1', 'N#Cc1ccc(-c2ccc(O[C@@H](C(=O)N3CCCC3)c3ccccc3)cc2)cc1', 'CCOC(=O)[C@@H]1CCCN(C(=O)c2nc(-c3ccc(C)cc3)n3c2CCCCC3)C1', 'N#CC1=C(SCC(=O)Nc2cccc(Cl)c2)N=C([O-])[C@H](C#N)C12CCCCC2', 'CC[NH+](CC)[C@](C)(CC)[C@H](O)c1cscc1Br', 'COc1ccc(C(=O)N(C)[C@@H](C)C/C(N)=N/O)cc1O', 'O=C(Nc1nc[nH]n1)c1cccnc1Nc1cccc(F)c1', 'Cc1c(/C=N/c2cc(Br)ccn2)c(O)n2c(nc3ccccc32)c1C#N', 'C[C@@H]1CN(C(=O)c2cc(Br)cn2C)CC[C@H]1[NH3+]']\n",
      "logP: [5.0506, 3.1137, 4.96778, 4.00022, 3.60956, 2.6374, 0.9978, 2.3347, 4.2813, 0.8801]\n",
      "qed: [0.702012232801, 0.928975488089, 0.599681738168, 0.690944353014, 0.7890271545540001, 0.824368801371, 0.327296942917, 0.6876120611859999, 0.483078613889, 0.8350242768889999]\n",
      "SAS: [2.0840945720726807, 3.4320038192747795, 2.4706326078252, 2.8227533111709646, 4.035182138302743, 5.091437549913934, 2.8523163989668188, 2.627857491802141, 3.073935310669482, 3.947933469646377]\n"
     ]
    }
   ],
   "source": [
    "import pandas as pd\n",
    "\n",
    "# Load the CSV file\n",
    "file_path = '../data/zinc-250k-sample.csv'\n",
    "df = pd.read_csv(file_path)\n",
    "\n",
    "# Extract each property into a different variable\n",
    "smiles = df['smiles'].tolist()\n",
    "logP = df['logP'].tolist()\n",
    "qed = df['qed'].tolist()\n",
    "SAS = df['SAS'].tolist()\n",
    "\n",
    "# Print the extracted variables\n",
    "print(\"SMILES:\", smiles[:10])\n",
    "print(\"logP:\", logP[:10])\n",
    "print(\"qed:\", qed[:10])\n",
    "print(\"SAS:\", SAS[:10])"
   ]
  },
  {
   "cell_type": "markdown",
   "metadata": {},
   "source": [
    "## Computing descriptors with RDKit\n",
    "Below are some of the many physicochemical descriptors that can be computed for molecules using RDKit:"
   ]
  },
  {
   "cell_type": "code",
   "execution_count": 3,
   "metadata": {},
   "outputs": [
    {
     "name": "stdout",
     "output_type": "stream",
     "text": [
      "                                         SMILES       MW    LogP   TPSA  HBD  \\\n",
      "0       CC(C)(C)c1ccc2occ(CC(=O)Nc3ccccc3F)c2c1  325.383  5.0506  42.24    1   \n",
      "1  C[C@@H]1CC(Nc2cncc(-c3nncn3C)c2)C[C@@H](C)C1  285.395  3.1137  55.63    1   \n",
      "\n",
      "   HBA  RotatableBonds  AromaticRings  AliphaticRings  HeavyAtoms  \\\n",
      "0    2               3              3               0          24   \n",
      "1    5               3              2               1          21   \n",
      "\n",
      "   FractionCSP3  NumAliphaticCarbocycles  NumAliphaticHeterocycles  \\\n",
      "0        0.2500                        0                         0   \n",
      "1        0.5625                        1                         0   \n",
      "\n",
      "   NumAromaticCarbocycles  NumAromaticHeterocycles  \n",
      "0                       2                        1  \n",
      "1                       0                        2  \n"
     ]
    }
   ],
   "source": [
    "from rdkit import Chem\n",
    "from rdkit.Chem import Descriptors\n",
    "\n",
    "# Function to compute descriptors\n",
    "def compute_descriptors(smiles_list):\n",
    "    descriptors = []\n",
    "    for smile in smiles_list:\n",
    "        mol = Chem.MolFromSmiles(smile)\n",
    "        desc = {\n",
    "            'SMILES': smile,\n",
    "            'MW': Descriptors.MolWt(mol),\n",
    "            'LogP': Descriptors.MolLogP(mol),\n",
    "            'TPSA': Descriptors.TPSA(mol),\n",
    "            'HBD': Descriptors.NumHDonors(mol),\n",
    "            'HBA': Descriptors.NumHAcceptors(mol),\n",
    "            'RotatableBonds': Descriptors.NumRotatableBonds(mol),\n",
    "            'AromaticRings': Descriptors.NumAromaticRings(mol),\n",
    "            'AliphaticRings': Descriptors.NumAliphaticRings(mol),\n",
    "            'HeavyAtoms': Descriptors.HeavyAtomCount(mol),\n",
    "            'FractionCSP3': Descriptors.FractionCSP3(mol),\n",
    "            'NumAliphaticCarbocycles': Descriptors.NumAliphaticCarbocycles(mol),\n",
    "            'NumAliphaticHeterocycles': Descriptors.NumAliphaticHeterocycles(mol),\n",
    "            'NumAromaticCarbocycles': Descriptors.NumAromaticCarbocycles(mol),\n",
    "            'NumAromaticHeterocycles': Descriptors.NumAromaticHeterocycles(mol),\n",
    "        }\n",
    "        descriptors.append(desc)\n",
    "    return pd.DataFrame(descriptors)\n",
    "\n",
    "# Compute descriptors for the first five molecules\n",
    "df_descriptors = compute_descriptors(smiles[:2])\n",
    "\n",
    "# Display the DataFrame\n",
    "print(df_descriptors)"
   ]
  },
  {
   "cell_type": "markdown",
   "metadata": {},
   "source": [
    "We can verify that the partition coefficient in the ZINC-250k data set has been computed using RDKit:"
   ]
  },
  {
   "cell_type": "code",
   "execution_count": 4,
   "metadata": {},
   "outputs": [
    {
     "name": "stdout",
     "output_type": "stream",
     "text": [
      "logPs from the ZINC-150k dataset: [5.0506, 3.1137, 4.96778, 4.00022, 3.60956]\n",
      "logPs we just computed using RDKit: [5.0506, 3.1137]\n"
     ]
    }
   ],
   "source": [
    "print(f'logPs from the ZINC-150k data set: {logP[:5]}')\n",
    "just_computed_logP = [float(f'{i:.5f}') for i in df_descriptors['LogP']]  # Remove significant figures\n",
    "print(f'logPs we just computed using RDKit: {just_computed_logP}')"
   ]
  },
  {
   "cell_type": "markdown",
   "metadata": {},
   "source": [
    "## RDKit 2D Descriptor Fingerprints\n",
    "RDKit 2D descriptor fingerprints are bit-vector representations for molecules based on their 2D structure, capturing various molecular descriptors. 2D descriptor fingerprints encode structural information and can be generated from molecular descriptors calculated using RDKit.\n",
    "\n",
    "Although we have seen how to compute these decriptors ourselves in the cell above, we will show here how to generate a 2D descriptor fingerprint with the help of the `MolecularDescriptorCalculator` function:"
   ]
  },
  {
   "cell_type": "code",
   "execution_count": 5,
   "metadata": {},
   "outputs": [
    {
     "name": "stdout",
     "output_type": "stream",
     "text": [
      "     MolWt  MolLogP    TPSA  NumHDonors  NumHAcceptors  NumRotatableBonds  \\\n",
      "0  325.383  5.05060   42.24           1              2                  3   \n",
      "1  285.395  3.11370   55.63           1              5                  3   \n",
      "2  382.463  4.96778   53.33           0              3                  5   \n",
      "3  409.530  4.00022   64.43           0              5                  4   \n",
      "4  413.910  3.60956  112.10           1              6                  4   \n",
      "\n",
      "   NumAromaticRings  NumAliphaticRings  HeavyAtomCount  FractionCSP3  \n",
      "0                 3                  0              24      0.250000  \n",
      "1                 2                  1              21      0.562500  \n",
      "2                 3                  1              29      0.200000  \n",
      "3                 2                  2              30      0.541667  \n",
      "4                 1                  2              28      0.400000  \n"
     ]
    }
   ],
   "source": [
    "from rdkit.ML.Descriptors.MoleculeDescriptors import MolecularDescriptorCalculator\n",
    "\n",
    "# Define the descriptors to be calculated\n",
    "descriptor_names = [\n",
    "    'MolWt', 'MolLogP', 'TPSA', 'NumHDonors', 'NumHAcceptors',\n",
    "    'NumRotatableBonds', 'NumAromaticRings', 'NumAliphaticRings',\n",
    "    'HeavyAtomCount', 'FractionCSP3'\n",
    "]\n",
    "\n",
    "# Create a MolecularDescriptorCalculator instance\n",
    "calculator = MolecularDescriptorCalculator(descriptor_names)\n",
    "\n",
    "# Function to compute descriptor fingerprints\n",
    "def compute_descriptor_fingerprints(smiles):\n",
    "    fingerprints = []\n",
    "    for smi in smiles:\n",
    "        mol = Chem.MolFromSmiles(smi)\n",
    "        if mol is not None:\n",
    "            descriptors = calculator.CalcDescriptors(mol)\n",
    "            fingerprints.append(descriptors)\n",
    "    return pd.DataFrame(fingerprints, columns=descriptor_names)\n",
    "\n",
    "# Compute descriptor fingerprints for the first five SMILES in our data set\n",
    "df_fps = compute_descriptor_fingerprints(smiles[:5])\n",
    "\n",
    "# Display the DataFrame\n",
    "print(df_fps)"
   ]
  },
  {
   "cell_type": "markdown",
   "metadata": {},
   "source": [
    "While these descriptors could in theory be used \"as-is,\" that is not the recommended practice in data-driven molecular applications. Read on below for some recommended best practices on how to process this data before using it in a machine learning model."
   ]
  },
  {
   "cell_type": "markdown",
   "metadata": {},
   "source": [
    "## Tips💡\n",
    "\n",
    "### Know what each descriptor represents\n",
    "It is very easy to compute various descriptors with the help of RDKit, without knowing anything about how that descriptor was calculated under the hood. Nevertheless, we recommend that vefore using any descriptor, you understand what it measures and how it relates to the molecular property or task you are working with.\n",
    "\n",
    "### Choose descriptors wisely\n",
    "\n",
    "You can, for instance, use a random forest to compute feature importance and get insights into which descriptors are contributing most to your predictive accuracy. You can also perform an ablation study, where you progressively shuffle or remove different descriptors to understand how much information they are contributing to the system.\n",
    "\n",
    "### Normalize your descriptors\n",
    "If your descriptors differ greatly in magnitude, you are unintentionally (or perhaps intentionally) telling your model that the descriptor with the larger value range is more important. This is generally something to avoid. To ensure descriptors are on comparable scales, you can normalize or scale them using methods such as min-max scaling or z-score normalization. Additionally, transforming descriptors, e.g., through log transformations, can improve their distribution and enhance model performance. These points are important to consider when designing your own 2D descriptor fingerprints."
   ]
  }
 ],
 "metadata": {
  "kernelspec": {
   "display_name": "nb1-env",
   "language": "python",
   "name": "python3"
  },
  "language_info": {
   "codemirror_mode": {
    "name": "ipython",
    "version": 3
   },
   "file_extension": ".py",
   "mimetype": "text/x-python",
   "name": "python",
   "nbconvert_exporter": "python",
   "pygments_lexer": "ipython3",
   "version": "3.9.19"
  }
 },
 "nbformat": 4,
 "nbformat_minor": 2
}
