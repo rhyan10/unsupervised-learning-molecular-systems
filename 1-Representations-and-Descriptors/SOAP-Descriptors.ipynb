{
 "cells": [
  {
   "cell_type": "markdown",
   "id": "d6af903c",
   "metadata": {},
   "source": [
    "# Smooth Overlap of Atomic Positions (SOAP) Descriptors\n",
    "Prominant 3D representations for molecules include the [Coulomb matrix](./Coulomb-Matrices.ipynb), Smooth Overlap of Atomic Positions (SOAP), Atom-Centered Symmetry Functions (ACSF), the atomic cluster expansion (ACE), atomic features built by the hierarchically interacting particle neural network (HIP-NN), and the N-body iterative contraction of equivariants (NICE).\n",
    "\n",
    "Here, we demonstrate how to generate SOAP descriptors for molecules.\n",
    "\n",
    "We will use the same kernel as in the [Fingerprints and SMILES](./1-Fingerprints-and-SMILES.ipynb) notebook, and the QM7 dataset."
   ]
  },
  {
   "cell_type": "markdown",
   "id": "fb40ac0a",
   "metadata": {},
   "source": [
    "## Loading the data\n",
    "This particular notebook uses `asaplib`, a library containing \"Automatic Selection And Prediction\" tools for materials and molecules. It provides tools for analyzing and visualizing atomic simulation data."
   ]
  },
  {
   "cell_type": "code",
   "execution_count": 1,
   "id": "a0dfd70c",
   "metadata": {},
   "outputs": [
    {
     "name": "stdout",
     "output_type": "stream",
     "text": [
      "load xyz file:  ../data/qm7.xyz , a total of  7165 frames , a total of  110650 atoms , with elements:  [1, 6, 7, 8, 16] .\n"
     ]
    }
   ],
   "source": [
    "from asaplib.data import ASAPXYZ\n",
    "\n",
    "# Import QM7 coordinates using `asaplib`\n",
    "asapxyz = ASAPXYZ('../data/qm7.xyz', periodic=False)"
   ]
  },
  {
   "cell_type": "code",
   "execution_count": 2,
   "id": "235dea55",
   "metadata": {},
   "outputs": [
    {
     "name": "stdout",
     "output_type": "stream",
     "text": [
      "List of elements (atomic numbers) found in dataset: [1, 6, 7, 8, 16]\n",
      "Minimal SOAP parameters:\n",
      "{'soap1': {'type': 'SOAP', 'species': [1, 6, 7, 8, 16], 'cutoff': 2.5, 'n': 4, 'l': 3, 'atom_gaussian_width': 0.32}}\n",
      "Updated SOAP parameters:\n",
      "{'soap1': {'type': 'SOAP', 'species': [1, 6, 7, 8, 16], 'cutoff': 2.5, 'n': 4, 'l': 3, 'atom_gaussian_width': 0.32, 'rbf': 'gto', 'crossover': False}}\n"
     ]
    }
   ],
   "source": [
    "import torch\n",
    "import numpy as np\n",
    "import matplotlib.pyplot as plt\n",
    "from asaplib.hypers import universal_soap_hyper\n",
    "\n",
    "# Get the list of elements (atomic numbers) contained in all frames in the data\n",
    "global_species = asapxyz.get_global_species()\n",
    "print(f'List of elements (atomic numbers) found in dataset: {global_species}')\n",
    "\n",
    "# Automatically generate the hyperparameters of SOAP descriptors for the aforementioned\n",
    "# list of elements using the 'minimal' settings and output them (dump=True)\n",
    "universal_soap = 'minimal'\n",
    "print('Minimal SOAP parameters:')\n",
    "soap_spec = universal_soap_hyper(global_species, universal_soap, dump=True)\n",
    "\n",
    "# Modify the hyperparameters as needed\n",
    "for k in soap_spec.keys():\n",
    "    soap_spec[k]['rbf'] = 'gto'        # Radial basis function : Gaussian Type Orbitals\n",
    "    soap_spec[k]['crossover'] = False  # Whether or not to include crossover terms between species\n",
    "\n",
    "print('Updated SOAP parameters:')\n",
    "print(soap_spec)"
   ]
  },
  {
   "cell_type": "code",
   "execution_count": 3,
   "id": "8caa42cc",
   "metadata": {},
   "outputs": [],
   "source": [
    "# Specify more parameters\n",
    "reducer_spec = {'reducer1': {\n",
    "                          'reducer_type': 'average',  # Options: average, sum, moment_average, moment_sum\n",
    "                          'element_wise': False}\n",
    "               }\n",
    "\n",
    "desc_spec = {'avgsoap': {\n",
    "                  'atomic_descriptor': soap_spec,\n",
    "                  'reducer_function': reducer_spec}\n",
    "            }"
   ]
  },
  {
   "cell_type": "code",
   "execution_count": 4,
   "id": "c0a77a88",
   "metadata": {},
   "outputs": [
    {
     "name": "stdout",
     "output_type": "stream",
     "text": [
      "Using SOAP Descriptors ...\n",
      "Using Atomic_2_Global_Average reducer ...\n"
     ]
    },
    {
     "name": "stderr",
     "output_type": "stream",
     "text": [
      "[Parallel(n_jobs=4)]: Using backend LokyBackend with 4 concurrent workers.\n",
      "[Parallel(n_jobs=4)]: Done  88 tasks      | elapsed:    1.1s\n",
      "[Parallel(n_jobs=4)]: Done 7165 out of 7165 | elapsed:    2.5s finished\n"
     ]
    }
   ],
   "source": [
    "# Compute descriptors for the whole structures\n",
    "asapxyz.compute_global_descriptors(desc_spec_dict=desc_spec,\n",
    "                                    sbs=[],\n",
    "                                    keep_atomic=False,  # Set to True to keep the atomic descriptors\n",
    "                                    tag='qm7',\n",
    "                                    n_process=4)"
   ]
  },
  {
   "cell_type": "markdown",
   "id": "d4a2381d",
   "metadata": {},
   "source": [
    "## Property prediction using SOAP descriptors\n",
    "Below we will build and train a model for predicting atomization energy from SOAP descriptors using a multi-layer perceptron (MLP)."
   ]
  },
  {
   "cell_type": "code",
   "execution_count": 26,
   "id": "5539c1dd",
   "metadata": {},
   "outputs": [
    {
     "name": "stdout",
     "output_type": "stream",
     "text": [
      "(7165, 200)\n",
      "(7165,)\n"
     ]
    }
   ],
   "source": [
    "# Retrieve the average SOAP descriptors, and set them aside for training\n",
    "X_train = asapxyz.fetch_computed_descriptors(['avgsoap'])\n",
    "print(np.shape(X_train))\n",
    "\n",
    "# Retrieve the target properties\n",
    "fy = 'atomization_energy'\n",
    "y_train = asapxyz.get_property(fy)\n",
    "print(np.shape(y_train))"
   ]
  },
  {
   "cell_type": "code",
   "execution_count": 27,
   "id": "8270ff11",
   "metadata": {},
   "outputs": [],
   "source": [
    "from torch.utils.data import TensorDataset\n",
    "from torch.utils.data import DataLoader\n",
    "from torch.utils.data import random_split\n",
    "\n",
    "X_train = torch.from_numpy(X_train).float()\n",
    "\n",
    "# On some computers the explicit cast to .float() is necessary\n",
    "y_train = torch.from_numpy(y_train).float()\n",
    "\n",
    "# Define the dataset object using the SOAP descriptors and target value array\n",
    "dataset = TensorDataset(X_train, y_train)\n",
    "\n",
    "# Perform a random split\n",
    "train_ds, val_ds = random_split(dataset, [0.9, 0.1])"
   ]
  },
  {
   "cell_type": "code",
   "execution_count": 92,
   "id": "1ecfd9a1",
   "metadata": {},
   "outputs": [],
   "source": [
    "import torch.nn as nn\n",
    "\n",
    "# Define the MLP model architecture, two linear layers with a sigmoid activation after the first\n",
    "class NNModel(nn.Module):\n",
    "    def __init__(self, input_size, hidden_size, output_size):\n",
    "        super().__init__()\n",
    "        self.layer1 = nn.Linear(input_size, hidden_size)\n",
    "        self.layer2 = nn.Linear(hidden_size, output_size)\n",
    "\n",
    "    def forward(self, x):\n",
    "        x = self.layer1(x)\n",
    "        x = nn.Sigmoid()(x)\n",
    "        x = self.layer2(x)\n",
    "        return x"
   ]
  },
  {
   "cell_type": "markdown",
   "id": "1fff4374",
   "metadata": {},
   "source": [
    "Below we will train the MLP for 100 epochs. This can take a couple minutes, depending on your machine."
   ]
  },
  {
   "cell_type": "code",
   "execution_count": 93,
   "id": "eb68040e",
   "metadata": {},
   "outputs": [
    {
     "name": "stdout",
     "output_type": "stream",
     "text": [
      "Epoch 0  Loss 2.3159e+06\n",
      "Epoch 1  Loss 2.1413e+06\n",
      "Epoch 2  Loss 1.9804e+06\n",
      "Epoch 3  Loss 1.8284e+06\n",
      "Epoch 4  Loss 1.6842e+06\n",
      "Epoch 5  Loss 1.5472e+06\n",
      "Epoch 6  Loss 1.4170e+06\n",
      "Epoch 7  Loss 1.2935e+06\n",
      "Epoch 8  Loss 1.1763e+06\n",
      "Epoch 9  Loss 1.0655e+06\n",
      "Epoch 10  Loss 9.6089e+05\n",
      "Epoch 11  Loss 8.6245e+05\n",
      "Epoch 12  Loss 7.7012e+05\n",
      "Epoch 13  Loss 6.8384e+05\n",
      "Epoch 14  Loss 6.0356e+05\n",
      "Epoch 15  Loss 5.2927e+05\n",
      "Epoch 16  Loss 4.6090e+05\n",
      "Epoch 17  Loss 3.9831e+05\n",
      "Epoch 18  Loss 3.4154e+05\n",
      "Epoch 19  Loss 2.9046e+05\n",
      "Epoch 20  Loss 2.4494e+05\n",
      "Epoch 21  Loss 2.0487e+05\n",
      "Epoch 22  Loss 1.7007e+05\n",
      "Epoch 23  Loss 1.4045e+05\n",
      "Epoch 24  Loss 1.1579e+05\n",
      "Epoch 25  Loss 9.5844e+04\n",
      "Epoch 26  Loss 8.0268e+04\n",
      "Epoch 27  Loss 6.4418e+04\n",
      "Epoch 28  Loss 5.1896e+04\n",
      "Epoch 29  Loss 4.2769e+04\n",
      "Epoch 30  Loss 3.5849e+04\n",
      "Epoch 31  Loss 3.0623e+04\n",
      "Epoch 32  Loss 2.6776e+04\n",
      "Epoch 33  Loss 2.3908e+04\n",
      "Epoch 34  Loss 2.1853e+04\n",
      "Epoch 35  Loss 2.0328e+04\n",
      "Epoch 36  Loss 1.9280e+04\n",
      "Epoch 37  Loss 1.8517e+04\n",
      "Epoch 38  Loss 1.8001e+04\n",
      "Epoch 39  Loss 1.7622e+04\n",
      "Epoch 40  Loss 1.7360e+04\n",
      "Epoch 41  Loss 1.7166e+04\n",
      "Epoch 42  Loss 1.7043e+04\n",
      "Epoch 43  Loss 1.6930e+04\n",
      "Epoch 44  Loss 1.6868e+04\n",
      "Epoch 45  Loss 1.6809e+04\n",
      "Epoch 46  Loss 1.6761e+04\n",
      "Epoch 47  Loss 1.6737e+04\n",
      "Epoch 48  Loss 1.6662e+04\n",
      "Epoch 49  Loss 1.6640e+04\n",
      "Epoch 50  Loss 1.6618e+04\n",
      "Epoch 51  Loss 1.6594e+04\n",
      "Epoch 52  Loss 1.6593e+04\n",
      "Epoch 53  Loss 1.6569e+04\n",
      "Epoch 54  Loss 1.6543e+04\n",
      "Epoch 55  Loss 1.6512e+04\n",
      "Epoch 56  Loss 1.6518e+04\n",
      "Epoch 57  Loss 1.6481e+04\n",
      "Epoch 58  Loss 1.6497e+04\n",
      "Epoch 59  Loss 1.6493e+04\n",
      "Epoch 60  Loss 1.6455e+04\n",
      "Epoch 61  Loss 1.6436e+04\n",
      "Epoch 62  Loss 1.6429e+04\n",
      "Epoch 63  Loss 1.6431e+04\n",
      "Epoch 64  Loss 1.6396e+04\n",
      "Epoch 65  Loss 1.6397e+04\n",
      "Epoch 66  Loss 1.6369e+04\n",
      "Epoch 67  Loss 1.6367e+04\n",
      "Epoch 68  Loss 1.6355e+04\n",
      "Epoch 69  Loss 1.6351e+04\n",
      "Epoch 70  Loss 1.6349e+04\n",
      "Epoch 71  Loss 1.6345e+04\n",
      "Epoch 72  Loss 1.6316e+04\n",
      "Epoch 73  Loss 1.6326e+04\n",
      "Epoch 74  Loss 1.6314e+04\n",
      "Epoch 75  Loss 1.6280e+04\n",
      "Epoch 76  Loss 1.6302e+04\n",
      "Epoch 77  Loss 1.6280e+04\n",
      "Epoch 78  Loss 1.6311e+04\n",
      "Epoch 79  Loss 1.6275e+04\n",
      "Epoch 80  Loss 1.6294e+04\n",
      "Epoch 81  Loss 1.6242e+04\n",
      "Epoch 82  Loss 1.6235e+04\n",
      "Epoch 83  Loss 1.6238e+04\n",
      "Epoch 84  Loss 1.6222e+04\n",
      "Epoch 85  Loss 1.6204e+04\n",
      "Epoch 86  Loss 1.6235e+04\n",
      "Epoch 87  Loss 1.6190e+04\n",
      "Epoch 88  Loss 1.6179e+04\n",
      "Epoch 89  Loss 1.6152e+04\n",
      "Epoch 90  Loss 1.6192e+04\n",
      "Epoch 91  Loss 1.6150e+04\n",
      "Epoch 92  Loss 1.6155e+04\n",
      "Epoch 93  Loss 1.6142e+04\n",
      "Epoch 94  Loss 1.6138e+04\n",
      "Epoch 95  Loss 1.6099e+04\n",
      "Epoch 96  Loss 1.6070e+04\n",
      "Epoch 97  Loss 1.6089e+04\n",
      "Epoch 98  Loss 1.6079e+04\n",
      "Epoch 99  Loss 1.6073e+04\n"
     ]
    }
   ],
   "source": [
    "# Define the input and output tensor size\n",
    "input_size = X_train.shape[1]\n",
    "output_size = 1\n",
    "\n",
    "# Define the training parameters\n",
    "learning_rate = 0.01\n",
    "batch_size = 10\n",
    "hidden_size = 8\n",
    "num_epochs = 100\n",
    "log_epochs = 1\n",
    "\n",
    "# Create an instance of the neural network using the above specifications\n",
    "nnmodel = NNModel(input_size, hidden_size, output_size)\n",
    "\n",
    "# Initialize the data loaders\n",
    "train_loader = DataLoader(train_ds, batch_size, shuffle=True)\n",
    "val_loader = DataLoader(val_ds, batch_size, shuffle=True)\n",
    "\n",
    "# Initialize the loss function\n",
    "loss_fn = nn.MSELoss(reduction='mean')\n",
    "\n",
    "# Initialize the optimizer\n",
    "optimizer = torch.optim.Adam(nnmodel.parameters(), lr=learning_rate)\n",
    "\n",
    "# List to keep track of the loss\n",
    "epoch_losses = []\n",
    "\n",
    "# Train the model for 100 epochs\n",
    "for epoch in range(num_epochs):\n",
    "    epoch_loss = 0\n",
    "    for x_batch, y_batch in train_loader:\n",
    "        # 1. Generate predictions\n",
    "        pred = nnmodel(x_batch)[:, 0]\n",
    "\n",
    "        # 2. Calculate loss\n",
    "        loss = loss_fn(pred, y_batch)\n",
    "\n",
    "        # 3. Compute gradients\n",
    "        loss.backward()\n",
    "\n",
    "        # 4. Update parameters using gradients\n",
    "        optimizer.step()\n",
    "\n",
    "        # 5. Reset the gradients to zero\n",
    "        optimizer.zero_grad()\n",
    "\n",
    "        # 6. Accumulate loss for the epoch using this batch's loss\n",
    "        epoch_loss += loss.item()\n",
    "\n",
    "    # Calculate average loss for the epoch\n",
    "    avg_epoch_loss = epoch_loss / len(train_loader)\n",
    "    epoch_losses.append(avg_epoch_loss)\n",
    "\n",
    "    if epoch % log_epochs==0:\n",
    "        print(f'Epoch {epoch}  Loss {avg_epoch_loss:.4e}')"
   ]
  },
  {
   "cell_type": "markdown",
   "id": "241f5bae",
   "metadata": {},
   "source": [
    "Let's visualize the loss curve:"
   ]
  },
  {
   "cell_type": "code",
   "execution_count": 95,
   "id": "9ff6fb8e",
   "metadata": {},
   "outputs": [
    {
     "data": {
      "image/png": "[encoded data removed]",
      "text/plain": [
       "<Figure size 500x300 with 1 Axes>"
      ]
     },
     "metadata": {},
     "output_type": "display_data"
    }
   ],
   "source": [
    "fig = plt.figure(figsize=(5, 3))\n",
    "\n",
    "ax = fig.add_subplot(1, 1, 1)\n",
    "\n",
    "# Plot the loss as a function of the number of training epochs\n",
    "ax.plot(epoch_losses, lw=2)\n",
    "ax.set_xlabel('Epoch', size=10)\n",
    "ax.set_title('Training Loss', size=10)\n",
    "ax.set_yscale('log')\n",
    "ax.tick_params(axis='both', which='major', labelsize=10)\n",
    "\n",
    "plt.tight_layout()\n",
    "\n",
    "plt.show()"
   ]
  },
  {
   "cell_type": "markdown",
   "id": "0d973846",
   "metadata": {},
   "source": [
    "The model should look pretty much converged after about 40 training epochs. \n",
    "\n",
    "Let's see how the model predictions compare to the true values for atomization energy after 100 epochs of training with the above set of parameters."
   ]
  },
  {
   "cell_type": "code",
   "execution_count": 98,
   "id": "63e75746",
   "metadata": {},
   "outputs": [
    {
     "data": {
      "image/png": "[encoded data removed]",
      "text/plain": [
       "<Figure size 500x300 with 1 Axes>"
      ]
     },
     "metadata": {},
     "output_type": "display_data"
    }
   ],
   "source": [
    "# Make predictions for the training set\n",
    "predictions = nnmodel(X_train)[:, 0]\n",
    "\n",
    "# Convert the torch tensors into a datatype that is easy to plot\n",
    "pred_y = predictions.detach().numpy()  # Detach from the computation graph and convert to np.array()\n",
    "true_y = y_train.numpy()  # Convert to np.array()\n",
    "\n",
    "fig = plt.figure(figsize=(5, 3))\n",
    "\n",
    "ax = fig.add_subplot(1, 1, 1)\n",
    "\n",
    "# Plot the predictions against the true (reference) values\n",
    "ax.scatter(true_y, pred_y, s=0.5)\n",
    "ax.plot()\n",
    "ax.set_title('Training Set Atomization Energy', size=10)\n",
    "ax.set_xlabel('True Values', size=10)\n",
    "ax.set_ylabel('Predicted Values', size=10)\n",
    "ax.tick_params(axis='both', which='major', labelsize=10)\n",
    "\n",
    "# Add an equality line in red for reference\n",
    "min_val = min(min(true_y), min(pred_y))\n",
    "max_val = max(max(true_y), max(pred_y))\n",
    "ax.plot([min_val, max_val], [min_val, max_val], 'r--', linewidth=1)\n",
    "\n",
    "plt.tight_layout()\n",
    "\n",
    "plt.show()"
   ]
  },
  {
   "cell_type": "markdown",
   "id": "b1506c28",
   "metadata": {},
   "source": [
    "The model predictions should look pretty good, with most of the predictions falling close to the equality line, and some points where the atomization energy is systematically over-estimated by the model. This generally happens for points with smaller (closer to zero) atomization energies, where we have fewer samples in the training set, but there are also points close to the equality line that are systematically over-estimated by the same amount, even in well-sampled regions. There are also a few points in the dataset with large (more negative) reference values for the atomization energy in the training set, and those values are systematically under-estimated by the model.\n",
    "\n",
    "If you want to explore more, you can go back and play with the model parameters to see how they impact the model performance."
   ]
  },
  {
   "cell_type": "markdown",
   "id": "f5890e22",
   "metadata": {},
   "source": [
    "## Tips💡\n",
    "\n",
    "### Selecting parameters\n",
    "As demonstrated in this notebook, SOAP descriptors can effectively represent atomic environments and have numerous applications in materials science and computational chemistry. However, when applying them to new systems, it is crucial to carefully select and tune the parameters, as well as validate the descriptors within those systems, to ensure they capture the necessary chemical information. SOAP descriptors often need recalibration for different molecular systems, and their generalizability should be assessed using a hold-out set. The effectiveness of SOAP descriptors heavily depends on the chosen parameters, such as the cutoff radius and the inclusion of crossover terms. Since there is no one-size-fits-all set of parameters, different settings will yield different SOAP descriptors, necessitating careful optimization for each specific application."
   ]
  }
 ],
 "metadata": {
  "kernelspec": {
   "display_name": "Python 3",
   "language": "python",
   "name": "python3"
  },
  "language_info": {
   "codemirror_mode": {
    "name": "ipython",
    "version": 3
   },
   "file_extension": ".py",
   "mimetype": "text/x-python",
   "name": "python",
   "nbconvert_exporter": "python",
   "pygments_lexer": "ipython3",
   "version": "3.9.19"
  }
 },
 "nbformat": 4,
 "nbformat_minor": 5
}
