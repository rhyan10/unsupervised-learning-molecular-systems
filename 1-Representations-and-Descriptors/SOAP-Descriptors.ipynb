{
 "cells": [
  {
   "cell_type": "markdown",
   "id": "d6af903c",
   "metadata": {},
   "source": [
    "# Smooth Overlap of Atomic Positions (SOAP) Descriptors\n",
    "Prominant 3D representations for molecules include the [Coulomb matrix](./Coulomb-Matrices.ipynb), Smooth Overlap of Atomic Positions (SOAP), Atom-Centered Symmetry Functions (ACSF), the atomic cluster expansion (ACE), atomic features built by the hierarchically interacting particle neural network (HIP-NN), and the N-body iterative contraction of equivariants (NICE).\n",
    "\n",
    "Here, we demonstrate how to generate SOAP descriptors for molecules using the QM7 dataset."
   ]
  },
  {
   "cell_type": "markdown",
   "id": "d51ce425",
   "metadata": {},
   "source": [
    "## Setting up the environment\n",
    "Below we install additional Python libraries you will need to run this notebook:"
   ]
  },
  {
   "cell_type": "code",
   "execution_count": null,
   "id": "de962746",
   "metadata": {},
   "outputs": [],
   "source": [
    "!pip install torch\n",
    "!git clone https://github.com/BingqingCheng/ASAP.git\n",
    "!cd ASAP/\n",
    "!pip install ."
   ]
  },
  {
   "cell_type": "markdown",
   "id": "fb40ac0a",
   "metadata": {},
   "source": [
    "## Loading the data\n",
    "This particular notebook uses `asaplib`, a library containing \"Automatic Selection And Prediction\" tools for materials and molecules. It provides tools for analyzing and visualizing atomic simulation data."
   ]
  },
  {
   "cell_type": "code",
   "execution_count": 2,
   "id": "a0dfd70c",
   "metadata": {},
   "outputs": [
    {
     "name": "stdout",
     "output_type": "stream",
     "text": [
      "load xyz file:  ../data/qm7.xyz , a total of  7165 frames , a total of  110650 atoms , with elements:  [1, 6, 7, 8, 16] .\n"
     ]
    }
   ],
   "source": [
    "from asaplib.data import ASAPXYZ\n",
    "\n",
    "# Import QM7 coordinates using `asaplib`\n",
    "asapxyz = ASAPXYZ('../data/qm7.xyz', periodic=False)"
   ]
  },
  {
   "cell_type": "code",
   "execution_count": 30,
   "id": "235dea55",
   "metadata": {},
   "outputs": [
    {
     "name": "stdout",
     "output_type": "stream",
     "text": [
      "List of elements (atomic numbers) found in dataset: [1, 6, 7, 8, 16]\n",
      "\n",
      "Minimal SOAP parameters:\n",
      "{'soap1': {'type': 'SOAP', 'species': [1, 6, 7, 8, 16], 'cutoff': 2.5, 'n': 4, 'l': 3, 'atom_gaussian_width': 0.32}}\n",
      " \n",
      "Updated SOAP parameters:\n",
      "{'soap1': {'type': 'SOAP', 'species': [1, 6, 7, 8, 16], 'cutoff': 2.5, 'n': 4, 'l': 3, 'atom_gaussian_width': 0.32, 'rbf': 'gto', 'crossover': False}}\n"
     ]
    }
   ],
   "source": [
    "import torch\n",
    "import numpy as np\n",
    "from asaplib.hypers import universal_soap_hyper\n",
    "\n",
    "# Get the list of elements (atomic numbers) contained in all frames in the data\n",
    "global_species = asapxyz.get_global_species()\n",
    "print(f'List of elements (atomic numbers) found in data set: {global_species}\\n')\n",
    "\n",
    "# Automatically generate the hyperparameters of SOAP descriptors for the aforementioned\n",
    "# list of elements using the 'minimal' settings and output them (dump=True)\n",
    "universal_soap = 'minimal'\n",
    "print('Minimal SOAP parameters:')\n",
    "soap_spec = universal_soap_hyper(global_species, universal_soap, dump=True)\n",
    "\n",
    "print(' ')\n",
    "\n",
    "# Modify the hyperparameters as needed\n",
    "for k in soap_spec.keys():\n",
    "    soap_spec[k]['rbf'] = 'gto'        # Radial basis function : Gaussian Type Orbitals\n",
    "    soap_spec[k]['crossover'] = False  # Whether or not to include crossover terms between species\n",
    "\n",
    "print('Updated SOAP parameters:')\n",
    "print(soap_spec)"
   ]
  },
  {
   "cell_type": "code",
   "execution_count": 4,
   "id": "8caa42cc",
   "metadata": {},
   "outputs": [],
   "source": [
    "# Specify more parameters\n",
    "reducer_spec = {'reducer1': {\n",
    "                          'reducer_type': 'average',  # Options: average, sum, moment_average, moment_sum\n",
    "                          'element_wise': False}\n",
    "               }\n",
    "\n",
    "desc_spec = {'avgsoap': {\n",
    "                  'atomic_descriptor': soap_spec,\n",
    "                  'reducer_function': reducer_spec}\n",
    "            }"
   ]
  },
  {
   "cell_type": "code",
   "execution_count": 5,
   "id": "c0a77a88",
   "metadata": {},
   "outputs": [
    {
     "name": "stdout",
     "output_type": "stream",
     "text": [
      "Using SOAP Descriptors ...\n",
      "Using Atomic_2_Global_Average reducer ...\n"
     ]
    },
    {
     "name": "stderr",
     "output_type": "stream",
     "text": [
      "[Parallel(n_jobs=4)]: Using backend LokyBackend with 4 concurrent workers.\n",
      "[Parallel(n_jobs=4)]: Done  88 tasks      | elapsed:    1.1s\n",
      "[Parallel(n_jobs=4)]: Done 7165 out of 7165 | elapsed:    2.4s finished\n"
     ]
    }
   ],
   "source": [
    "# Compute descriptors for all the structures in QM7\n",
    "asapxyz.compute_global_descriptors(\n",
    "\tdesc_spec_dict=desc_spec,\n",
    "    sbs=[],\n",
    "    keep_atomic=False,  # Set to True to keep the atomic descriptors\n",
    "    tag='qm7',\n",
    "    n_process=4\n",
    ")"
   ]
  },
  {
   "cell_type": "markdown",
   "id": "d4a2381d",
   "metadata": {},
   "source": [
    "## Property prediction using SOAP descriptors\n",
    "Below we will build and train a model for predicting atomization energy from SOAP descriptors using a multi-layer perceptron (MLP)."
   ]
  },
  {
   "cell_type": "code",
   "execution_count": 16,
   "id": "5539c1dd",
   "metadata": {},
   "outputs": [
    {
     "name": "stdout",
     "output_type": "stream",
     "text": [
      "(7165, 200)\n",
      "(7165,)\n"
     ]
    }
   ],
   "source": [
    "# Retrieve the average SOAP descriptors, and set them aside for training\n",
    "X_data = asapxyz.fetch_computed_descriptors(['avgsoap'])\n",
    "print(np.shape(X_data))\n",
    "\n",
    "# Retrieve the target properties\n",
    "fy = 'atomization_energy'\n",
    "y_data = asapxyz.get_property(fy)\n",
    "print(np.shape(y_data))"
   ]
  },
  {
   "cell_type": "code",
   "execution_count": 17,
   "id": "8270ff11",
   "metadata": {},
   "outputs": [],
   "source": [
    "from torch.utils.data import TensorDataset\n",
    "from torch.utils.data import DataLoader\n",
    "from torch.utils.data import random_split\n",
    "\n",
    "X_data = torch.from_numpy(X_data).float()\n",
    "\n",
    "# On some computers the explicit cast to .float() is necessary\n",
    "y_data = torch.from_numpy(y_data).float()\n",
    "\n",
    "# Define the data set object using the SOAP descriptors and target value array\n",
    "dataset = TensorDataset(X_data, y_data)\n",
    "\n",
    "# Perform a random split\n",
    "train_ds, val_ds = random_split(dataset, [0.9, 0.1])"
   ]
  },
  {
   "cell_type": "code",
   "execution_count": 18,
   "id": "1ecfd9a1",
   "metadata": {},
   "outputs": [],
   "source": [
    "import torch.nn as nn\n",
    "\n",
    "# Define the MLP model architecture, two linear layers with a sigmoid activation after the first\n",
    "class NNModel(nn.Module):\n",
    "    def __init__(self, input_size, hidden_size, output_size):\n",
    "        super().__init__()\n",
    "        self.layer1 = nn.Linear(input_size, hidden_size)\n",
    "        self.layer2 = nn.Linear(hidden_size, output_size)\n",
    "\n",
    "    def forward(self, x):\n",
    "        x = self.layer1(x)\n",
    "        x = nn.Sigmoid()(x)\n",
    "        x = self.layer2(x)\n",
    "        return x"
   ]
  },
  {
   "cell_type": "markdown",
   "id": "1fff4374",
   "metadata": {},
   "source": [
    "Below we will train the MLP for 100 epochs. This can take a couple minutes, depending on your machine."
   ]
  },
  {
   "cell_type": "code",
   "execution_count": 19,
   "id": "eb68040e",
   "metadata": {},
   "outputs": [
    {
     "name": "stdout",
     "output_type": "stream",
     "text": [
      "Epoch 0  Loss 2.3209e+06\n",
      "Epoch 1  Loss 2.1459e+06\n",
      "Epoch 2  Loss 1.9848e+06\n",
      "Epoch 3  Loss 1.8326e+06\n",
      "Epoch 4  Loss 1.6882e+06\n",
      "Epoch 5  Loss 1.5510e+06\n",
      "Epoch 6  Loss 1.4207e+06\n",
      "Epoch 7  Loss 1.2969e+06\n",
      "Epoch 8  Loss 1.1797e+06\n",
      "Epoch 9  Loss 1.0686e+06\n",
      "Epoch 10  Loss 9.6388e+05\n",
      "Epoch 11  Loss 8.6532e+05\n",
      "Epoch 12  Loss 7.7266e+05\n",
      "Epoch 13  Loss 6.8626e+05\n",
      "Epoch 14  Loss 6.0587e+05\n",
      "Epoch 15  Loss 5.3140e+05\n",
      "Epoch 16  Loss 4.6284e+05\n",
      "Epoch 17  Loss 4.0012e+05\n",
      "Epoch 18  Loss 3.4315e+05\n",
      "Epoch 19  Loss 2.9181e+05\n",
      "Epoch 20  Loss 2.4615e+05\n",
      "Epoch 21  Loss 2.0593e+05\n",
      "Epoch 22  Loss 1.7104e+05\n",
      "Epoch 23  Loss 1.4128e+05\n",
      "Epoch 24  Loss 1.1649e+05\n",
      "Epoch 25  Loss 9.6367e+04\n",
      "Epoch 26  Loss 8.0697e+04\n",
      "Epoch 27  Loss 6.5647e+04\n",
      "Epoch 28  Loss 5.2495e+04\n",
      "Epoch 29  Loss 4.3320e+04\n",
      "Epoch 30  Loss 3.6171e+04\n",
      "Epoch 31  Loss 3.0810e+04\n",
      "Epoch 32  Loss 2.6768e+04\n",
      "Epoch 33  Loss 2.3799e+04\n",
      "Epoch 34  Loss 2.1646e+04\n",
      "Epoch 35  Loss 2.0054e+04\n",
      "Epoch 36  Loss 1.8915e+04\n",
      "Epoch 37  Loss 1.8115e+04\n",
      "Epoch 38  Loss 1.7575e+04\n",
      "Epoch 39  Loss 1.7149e+04\n",
      "Epoch 40  Loss 1.6914e+04\n",
      "Epoch 41  Loss 1.6674e+04\n",
      "Epoch 42  Loss 1.6511e+04\n",
      "Epoch 43  Loss 1.6410e+04\n",
      "Epoch 44  Loss 1.6288e+04\n",
      "Epoch 45  Loss 1.6217e+04\n",
      "Epoch 46  Loss 1.6150e+04\n",
      "Epoch 47  Loss 1.6092e+04\n",
      "Epoch 48  Loss 1.6035e+04\n",
      "Epoch 49  Loss 1.5992e+04\n",
      "Epoch 50  Loss 1.5964e+04\n",
      "Epoch 51  Loss 1.5926e+04\n",
      "Epoch 52  Loss 1.5924e+04\n",
      "Epoch 53  Loss 1.5921e+04\n",
      "Epoch 54  Loss 1.5869e+04\n",
      "Epoch 55  Loss 1.5893e+04\n",
      "Epoch 56  Loss 1.5846e+04\n",
      "Epoch 57  Loss 1.5845e+04\n",
      "Epoch 58  Loss 1.5833e+04\n",
      "Epoch 59  Loss 1.5817e+04\n",
      "Epoch 60  Loss 1.5821e+04\n",
      "Epoch 61  Loss 1.5783e+04\n",
      "Epoch 62  Loss 1.5796e+04\n",
      "Epoch 63  Loss 1.5773e+04\n",
      "Epoch 64  Loss 1.5780e+04\n",
      "Epoch 65  Loss 1.5788e+04\n",
      "Epoch 66  Loss 1.5776e+04\n",
      "Epoch 67  Loss 1.5730e+04\n",
      "Epoch 68  Loss 1.5756e+04\n",
      "Epoch 69  Loss 1.5736e+04\n",
      "Epoch 70  Loss 1.5749e+04\n",
      "Epoch 71  Loss 1.5726e+04\n",
      "Epoch 72  Loss 1.5718e+04\n",
      "Epoch 73  Loss 1.5694e+04\n",
      "Epoch 74  Loss 1.5698e+04\n",
      "Epoch 75  Loss 1.5690e+04\n",
      "Epoch 76  Loss 1.5700e+04\n",
      "Epoch 77  Loss 1.5646e+04\n",
      "Epoch 78  Loss 1.5714e+04\n",
      "Epoch 79  Loss 1.5663e+04\n",
      "Epoch 80  Loss 1.5659e+04\n",
      "Epoch 81  Loss 1.5682e+04\n",
      "Epoch 82  Loss 1.5626e+04\n",
      "Epoch 83  Loss 1.5677e+04\n",
      "Epoch 84  Loss 1.5615e+04\n",
      "Epoch 85  Loss 1.5645e+04\n",
      "Epoch 86  Loss 1.5618e+04\n",
      "Epoch 87  Loss 1.5604e+04\n",
      "Epoch 88  Loss 1.5601e+04\n",
      "Epoch 89  Loss 1.5588e+04\n",
      "Epoch 90  Loss 1.5641e+04\n",
      "Epoch 91  Loss 1.5615e+04\n",
      "Epoch 92  Loss 1.5581e+04\n",
      "Epoch 93  Loss 1.5594e+04\n",
      "Epoch 94  Loss 1.5543e+04\n",
      "Epoch 95  Loss 1.5555e+04\n",
      "Epoch 96  Loss 1.5539e+04\n",
      "Epoch 97  Loss 1.5525e+04\n",
      "Epoch 98  Loss 1.5543e+04\n",
      "Epoch 99  Loss 1.5531e+04\n"
     ]
    }
   ],
   "source": [
    "# Define the input and output tensor size\n",
    "input_size = X_data.shape[1]\n",
    "output_size = 1\n",
    "\n",
    "# Define the training parameters\n",
    "learning_rate = 0.01\n",
    "batch_size = 10\n",
    "hidden_size = 8\n",
    "num_epochs = 100\n",
    "log_epochs = 1\n",
    "\n",
    "# Create an instance of the neural network using the above specifications\n",
    "nnmodel = NNModel(input_size, hidden_size, output_size)\n",
    "\n",
    "# Initialize the data loaders\n",
    "train_loader = DataLoader(train_ds, batch_size, shuffle=True)\n",
    "val_loader = DataLoader(val_ds, batch_size, shuffle=True)\n",
    "\n",
    "# Initialize the loss function\n",
    "loss_fn = nn.MSELoss(reduction='mean')\n",
    "\n",
    "# Initialize the optimizer\n",
    "optimizer = torch.optim.Adam(nnmodel.parameters(), lr=learning_rate)\n",
    "\n",
    "# List to keep track of the loss\n",
    "epoch_losses = []\n",
    "\n",
    "# Train the model for 100 epochs\n",
    "for epoch in range(num_epochs):\n",
    "    epoch_loss = 0\n",
    "    for x_batch, y_batch in train_loader:\n",
    "        # 1. Generate predictions\n",
    "        pred = nnmodel(x_batch)[:, 0]\n",
    "\n",
    "        # 2. Calculate loss\n",
    "        loss = loss_fn(pred, y_batch)\n",
    "\n",
    "        # 3. Compute gradients\n",
    "        loss.backward()\n",
    "\n",
    "        # 4. Update parameters using gradients\n",
    "        optimizer.step()\n",
    "\n",
    "        # 5. Reset the gradients to zero\n",
    "        optimizer.zero_grad()\n",
    "\n",
    "        # 6. Accumulate loss for the epoch using this batch's loss\n",
    "        epoch_loss += loss.item()\n",
    "\n",
    "    # Calculate average loss for the epoch\n",
    "    avg_epoch_loss = epoch_loss / len(train_loader)\n",
    "    epoch_losses.append(avg_epoch_loss)\n",
    "\n",
    "    if epoch % log_epochs==0:\n",
    "        print(f'Epoch {epoch}  Loss {avg_epoch_loss:.4e}')"
   ]
  },
  {
   "cell_type": "markdown",
   "id": "241f5bae",
   "metadata": {},
   "source": [
    "Let's visualize the loss curve:"
   ]
  },
  {
   "cell_type": "code",
   "execution_count": 28,
   "id": "9ff6fb8e",
   "metadata": {},
   "outputs": [
    {
     "data": {
      "image/png": "[encoded data removed]",
      "text/plain": [
       "<Figure size 400x300 with 1 Axes>"
      ]
     },
     "metadata": {},
     "output_type": "display_data"
    }
   ],
   "source": [
    "import matplotlib.pyplot as plt\n",
    "\n",
    "fig = plt.figure(figsize=(4, 3))\n",
    "\n",
    "ax = fig.add_subplot(1, 1, 1)\n",
    "\n",
    "# Plot the loss as a function of the number of training epochs\n",
    "ax.plot(epoch_losses, lw=2)\n",
    "ax.set_xlabel('Epoch', size=10)\n",
    "ax.set_ylabel('Training Loss', size=10)\n",
    "ax.set_yscale('log')\n",
    "ax.tick_params(axis='both', which='major', labelsize=10)\n",
    "\n",
    "plt.tight_layout()\n",
    "\n",
    "plt.show()"
   ]
  },
  {
   "cell_type": "markdown",
   "id": "0d973846",
   "metadata": {},
   "source": [
    "The model should look pretty much converged after about 40 training epochs. \n",
    "\n",
    "Let's see how the model predictions for both the training and validation set compare to the true values for atomization energy after 100 epochs of training with the above set of parameters."
   ]
  },
  {
   "cell_type": "code",
   "execution_count": 31,
   "id": "63e75746",
   "metadata": {},
   "outputs": [
    {
     "data": {
      "image/png": "[encoded data removed]",
      "text/plain": [
       "<Figure size 400x300 with 1 Axes>"
      ]
     },
     "metadata": {},
     "output_type": "display_data"
    }
   ],
   "source": [
    "# Make predictions for the full data set (training and validation)\n",
    "predictions = nnmodel(X_data)[:, 0]\n",
    "\n",
    "# Convert the torch tensors into a datatype that is easy to plot\n",
    "pred_y = predictions.detach().numpy()  # Detach from the computation graph and convert to np.array()\n",
    "true_y = y_data.numpy()  # Convert to np.array()\n",
    "\n",
    "fig = plt.figure(figsize=(4, 3))\n",
    "\n",
    "ax = fig.add_subplot(1, 1, 1)\n",
    "\n",
    "# Plot the predictions against the true (reference) values\n",
    "ax.scatter(true_y, pred_y, s=0.5)\n",
    "ax.plot()\n",
    "ax.set_xlabel('True atom. energy [kcal/mol]', size=10)\n",
    "ax.set_ylabel('Pred. atom. energy [kcal/mol]', size=10)\n",
    "ax.tick_params(axis='both', which='major', labelsize=10)\n",
    "\n",
    "# Add an equality line in red for reference\n",
    "min_val = min(min(true_y), min(pred_y))\n",
    "max_val = max(max(true_y), max(pred_y))\n",
    "ax.plot([min_val, max_val], [min_val, max_val], 'r--', linewidth=1)\n",
    "\n",
    "plt.tight_layout()\n",
    "\n",
    "plt.show()"
   ]
  },
  {
   "cell_type": "markdown",
   "id": "b1506c28",
   "metadata": {},
   "source": [
    "The model predictions should look pretty good, with most of the predictions falling close to the equality line, and some points where the atomization energy is systematically over-estimated by the model. This generally happens for points with smaller (closer to zero) atomization energies, where we have fewer samples in the training set, but there are also points close to the equality line that are systematically over-estimated by the same amount, even in well-sampled regions. There are also a few points in the data set with large (more negative) reference values for the atomization energy, and those values are systematically under-estimated by the model.\n",
    "\n",
    "If you want to explore more, you can go back and play with the model parameters to see how they impact the model performance."
   ]
  },
  {
   "cell_type": "markdown",
   "id": "f5890e22",
   "metadata": {},
   "source": [
    "## Tips💡\n",
    "\n",
    "### Selecting parameters\n",
    "While SOAP descriptors can effectively represent atomic environments for many applications, when applying them to new systems, it is crucial to carefully select parameters and validate the resulting descriptors for each application. This will better ensure that the descriptors capture the necessary chemical information, as the effectiveness of SOAP descriptors heavily depends on the chosen parameters (e.g., cutoff radius, inclusion of crossover terms, etc). There is no one-size-fits-all set of parameters.\n",
    "\n",
    "As in any other machine learning task, the generalizability of SOAP descriptors to new molecular systems can be assessed using a hold-out test set."
   ]
  }
 ],
 "metadata": {
  "kernelspec": {
   "display_name": "Python 3",
   "language": "python",
   "name": "python3"
  },
  "language_info": {
   "codemirror_mode": {
    "name": "ipython",
    "version": 3
   },
   "file_extension": ".py",
   "mimetype": "text/x-python",
   "name": "python",
   "nbconvert_exporter": "python",
   "pygments_lexer": "ipython3",
   "version": "3.9.19"
  }
 },
 "nbformat": 4,
 "nbformat_minor": 5
}
